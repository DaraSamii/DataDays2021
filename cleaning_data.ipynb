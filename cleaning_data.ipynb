{
  "nbformat": 4,
  "nbformat_minor": 0,
  "metadata": {
    "accelerator": "GPU",
    "colab": {
      "name": "cleaning_data.ipynb",
      "provenance": [],
      "collapsed_sections": [],
      "toc_visible": true,
      "include_colab_link": true
    },
    "kernelspec": {
      "display_name": "Python 3",
      "name": "python3"
    },
    "language_info": {
      "name": "python"
    }
  },
  "cells": [
    {
      "cell_type": "markdown",
      "metadata": {
        "id": "view-in-github",
        "colab_type": "text"
      },
      "source": [
        "<a href=\"https://colab.research.google.com/github/DaraSamii/DataDays2021/blob/main/cleaning_data.ipynb\" target=\"_parent\"><img src=\"https://colab.research.google.com/assets/colab-badge.svg\" alt=\"Open In Colab\"/></a>"
      ]
    },
    {
      "cell_type": "markdown",
      "metadata": {
        "id": "IBtCTdfuiqWj"
      },
      "source": [
        "# Dara Samii Login"
      ]
    },
    {
      "cell_type": "code",
      "metadata": {
        "colab": {
          "base_uri": "https://localhost:8080/"
        },
        "id": "zlw58b0sGuNV",
        "outputId": "fb2c7755-bfeb-42dc-ed07-08505807dada"
      },
      "source": [
        "from google.colab import drive\n",
        "\n",
        "drive.mount(\"/content/dirve\")\n",
        "\n",
        "%cd /content/dirve/MyDrive/programming/DataDays2021/\n",
        "\n",
        "pwd = %pwd"
      ],
      "execution_count": null,
      "outputs": [
        {
          "output_type": "stream",
          "text": [
            "Mounted at /content/dirve\n",
            "/content/dirve/MyDrive/programming/DataDays2021\n"
          ],
          "name": "stdout"
        }
      ]
    },
    {
      "cell_type": "markdown",
      "metadata": {
        "id": "S1a-v6PkizDZ"
      },
      "source": [
        "# Dara R Samii Login"
      ]
    },
    {
      "cell_type": "code",
      "metadata": {
        "colab": {
          "base_uri": "https://localhost:8080/",
          "height": 70
        },
        "id": "-ZbG6s4HYpUM",
        "outputId": "59e6962e-0bbd-426a-88f8-196af513dc97"
      },
      "source": [
        "from google.colab import drive\n",
        "\n",
        "drive.mount(\"/content/drive\")\n",
        "\n",
        "%cd /content/drive/MyDrive/DataDays2021/\n",
        "\n",
        "pwd = %pwd\n",
        "pwd"
      ],
      "execution_count": null,
      "outputs": [
        {
          "output_type": "stream",
          "text": [
            "Drive already mounted at /content/drive; to attempt to forcibly remount, call drive.mount(\"/content/drive\", force_remount=True).\n",
            "/content/drive/.shortcut-targets-by-id/1NeV9kUSNckaPIHjzLPWZyNOQzMHsaQFt/DataDays2021\n"
          ],
          "name": "stdout"
        },
        {
          "output_type": "execute_result",
          "data": {
            "application/vnd.google.colaboratory.intrinsic+json": {
              "type": "string"
            },
            "text/plain": [
              "'/content/drive/.shortcut-targets-by-id/1NeV9kUSNckaPIHjzLPWZyNOQzMHsaQFt/DataDays2021'"
            ]
          },
          "metadata": {
            "tags": []
          },
          "execution_count": 1
        }
      ]
    },
    {
      "cell_type": "markdown",
      "metadata": {
        "id": "x9cPFRsa9Pk5"
      },
      "source": [
        "# install packages"
      ]
    },
    {
      "cell_type": "code",
      "metadata": {
        "id": "YgfGXzjrHD5X"
      },
      "source": [
        "!pip install parsivar\n",
        "!pip install git+https://github.com/RoboEpics/roboepics-client.git\n",
        "!pip install \"dask[complete]\"\n",
        "!pip install \"featuretools[complete]\""
      ],
      "execution_count": null,
      "outputs": []
    },
    {
      "cell_type": "code",
      "metadata": {
        "id": "BzYw6fVMN27h",
        "colab": {
          "base_uri": "https://localhost:8080/"
        },
        "outputId": "d1746f77-930e-4fa5-8bfa-e57cbecdcaab"
      },
      "source": [
        "import os\n",
        "import pandas as pd\n",
        "import numpy as np\n",
        "from scipy.stats import skew\n",
        "from tqdm import tqdm, trange\n",
        "import json\n",
        "from datetime import datetime\n",
        "\n",
        "import sys\n",
        "sys.path.insert(0,os.path.join(pwd,'helper'))\n",
        "\n",
        "import utils as ut\n",
        "\n",
        "import dask.dataframe as dd\n",
        "\n",
        "import featuretools as ft\n",
        "import featuretools.variable_types as vr\n",
        "\n",
        "from dask.diagnostics import ProgressBar"
      ],
      "execution_count": null,
      "outputs": [
        {
          "output_type": "stream",
          "text": [
            "WARNING:root:'PYARROW_IGNORE_TIMEZONE' environment variable was not set. It is required to set this environment variable to '1' in both driver and executor sides if you use pyarrow>=2.0.0. Koalas will set it for you but it does not work if there is a Spark context already launched.\n",
            "/usr/local/lib/python3.7/dist-packages/statsmodels/tools/_testing.py:19: FutureWarning: pandas.util.testing is deprecated. Use the functions in the public API at pandas.testing instead.\n",
            "  import pandas.util.testing as tm\n"
          ],
          "name": "stderr"
        }
      ]
    },
    {
      "cell_type": "markdown",
      "metadata": {
        "id": "rRiXNl1TRw-1"
      },
      "source": [
        "# Helper Module functions\n",
        "\n",
        "\n",
        "*   `read_json(path, n_lines_to_read=None)`\n",
        "    >read json file line by line iteratively (generator function).<br>\n",
        "    use this function to read json files when you have memory limitations.\n",
        "\n",
        "*  `normalize_texts(X, use_tqdm=False)`\n",
        "    >normalize list of sentences\n",
        "\n",
        "* `make_base_product_names(products_path: str, products_normalized_path: str)`\n",
        "    >assign each base product a name.<br>\n",
        "    it is extracted from sellers of that product.\n",
        "\n",
        "* `aggregate_clicks(search_path, click_path, tag, valid_base_ids)`\n",
        "    >aggregate clicks on each search record and injects it into the search    \n",
        "    record\n",
        "\n",
        "* `aggregate_searches(tag)`\n",
        "    >aggregates searches based on raw query.\n",
        "\n",
        "* `normalize_test_queries(queries_test_path, queries_test_normalized_path)`\n",
        "    >normalize test queries\n"
      ]
    },
    {
      "cell_type": "markdown",
      "metadata": {
        "id": "WwIwl26kr6RB"
      },
      "source": [
        "# setting data paths"
      ]
    },
    {
      "cell_type": "code",
      "metadata": {
        "id": "-Dl0Gr2POJet"
      },
      "source": [
        "data_folder = os.path.join(pwd,\"data\")\n",
        "\n",
        "base_product_path = os.path.join(data_folder,\"base_products.json\")\n",
        "\n",
        "products_normalized_path = os.path.join(data_folder, \"base_products_normalized.json\")\n",
        "\n",
        "queries_test_offline_path = os.path.join(data_folder, \"queries_test_offline.json\")\n",
        "\n",
        "queries_test_offline_normalized_path = os.path.join(data_folder, \"queries_test_offline_normalized.json\")\n",
        "\n",
        "products_cleaned_path = os.path.join(data_folder, \"products_cleaned_path.json\")\n",
        "\n",
        "search_log_train_path = os.path.join(data_folder, \"search_log_train.json\")\n",
        "\n",
        "click_log_train_path = os.path.join(data_folder, \"click_log_train.json\")"
      ],
      "execution_count": null,
      "outputs": []
    },
    {
      "cell_type": "markdown",
      "metadata": {
        "id": "ztmWaoU6r_mZ"
      },
      "source": [
        "# Normalizing test queris with helper function"
      ]
    },
    {
      "cell_type": "code",
      "metadata": {
        "colab": {
          "base_uri": "https://localhost:8080/"
        },
        "id": "7dbI1LjnC4u5",
        "outputId": "a7a6e740-3363-4262-e981-6e3da894f550"
      },
      "source": [
        "utils.normalize_test_queries(queries_test_offline_path, queries_test_offline_normalized_path)"
      ],
      "execution_count": null,
      "outputs": [
        {
          "output_type": "stream",
          "text": [
            "38724it [00:15, 2487.51it/s]\n"
          ],
          "name": "stderr"
        }
      ]
    },
    {
      "cell_type": "markdown",
      "metadata": {
        "id": "AsipGqETXpGp"
      },
      "source": [
        "# Modifing train datasets"
      ]
    },
    {
      "cell_type": "markdown",
      "metadata": {
        "id": "Wm90LxB7sNfG"
      },
      "source": [
        "## cleaning products dataset"
      ]
    },
    {
      "cell_type": "code",
      "metadata": {
        "id": "SYJEFym6Tv9z"
      },
      "source": [
        "def normalize_product(product):\n",
        "    record = {}\n",
        "    pr_name = \"\"\n",
        "    for seller in product[\"sellers\"]:\n",
        "        pr_name += \" \" + seller[\"name1\"] + \" \" + seller[\"name2\"]\n",
        "    words = [w.strip() for w in pr_name.split()]\n",
        "    words = set([w for w in words if w != \"\"])\n",
        "    pr_name = (\" \".join(words)).strip()\n",
        "\n",
        "    record[\"_id\"] = product[\"_id\"]\n",
        "    record[\"category_name\"] = product[\"category_name\"]\n",
        "    record[\"product_name_normalized\"] = utils._normalize_text(pr_name)\n",
        "\n",
        "    record[\"sellers\"] = product[\"sellers\"]\n",
        "    sellers_list = product[\"sellers\"]\n",
        "    sellers_count = len(sellers_list)\n",
        "\n",
        "    all_prices = []\n",
        "    avaliable_prices = []\n",
        "    added_dates = []\n",
        "    count_available = 0\n",
        "    for i in range(sellers_count):\n",
        "        all_prices.append(sellers_list[i][\"price\"])\n",
        "        added_dates.append(sellers_list[i][\"date_added\"])\n",
        "\n",
        "        if sellers_list[i][\"availability\"] == True:\n",
        "            count_available += 1\n",
        "            avaliable_prices.append(sellers_list[i][\"price\"])\n",
        "\n",
        "    record[\"sellers_count\"] = sellers_count\n",
        "\n",
        "    if sellers_count != 0:\n",
        "        record[\"availabilty_ratio\"] = count_available/sellers_count\n",
        "        record[\"mean_all_price\"] = float(np.mean(all_prices))\n",
        "        record[\"max_all_price\"] = float(np.max(all_prices))\n",
        "        record[\"min_all_price\"] = float(np.min(all_prices))\n",
        "        record[\"std_all_price\"] = float(np.std(all_prices))\n",
        "        record[\"skew_all_price\"] = float(skew(all_prices))\n",
        "\n",
        "        added_dates = list(map(lambda x: datetime.fromisoformat(x),added_dates))\n",
        "        record[\"first_added_date\"] = min(added_dates).isoformat()\n",
        "        record[\"last_added_date\"] = max(added_dates).isoformat()\n",
        "\n",
        "\n",
        "    if count_available != 0:\n",
        "        record[\"mean_available_price\"] = float(np.mean(avaliable_prices))\n",
        "        record[\"max_available_price\"] = float(np.max(avaliable_prices))\n",
        "        record[\"min_available_price\"] = float(np.min(avaliable_prices))\n",
        "        record[\"std_available_price\"] = float(np.std(avaliable_prices))\n",
        "        record[\"skew_available_price\"] = float(skew(avaliable_prices))\n",
        "\n",
        "\n",
        "    return record"
      ],
      "execution_count": null,
      "outputs": []
    },
    {
      "cell_type": "code",
      "metadata": {
        "id": "sF-cmoXtmu38"
      },
      "source": [
        "def product_normalizer(products_path: str, products_normalized_path: str):\n",
        "    \"\"\"\n",
        "    assign each base product a name.\n",
        "    it is extracted from sellers of that product.\n",
        "    \"\"\"\n",
        "\n",
        "    with utils.JSONListWriter(products_normalized_path) as file:\n",
        "        for product in tqdm(utils.read_json(products_path)):\n",
        "            normalized_product = normalize_product(product)\n",
        "\n",
        "            file.write_item(normalized_product)"
      ],
      "execution_count": null,
      "outputs": []
    },
    {
      "cell_type": "code",
      "metadata": {
        "id": "PuncnwFqoa3V"
      },
      "source": [
        "product_normalizer(base_product_path,products_cleaned_path)"
      ],
      "execution_count": null,
      "outputs": []
    },
    {
      "cell_type": "markdown",
      "metadata": {
        "id": "yYHNOdBHLid2"
      },
      "source": [
        "## reading cleaned product data"
      ]
    },
    {
      "cell_type": "code",
      "metadata": {
        "id": "HtSuwUsI_jnJ"
      },
      "source": [
        "ddd = dd.read_json(products_cleaned_path,blocksize=2**24)"
      ],
      "execution_count": null,
      "outputs": []
    },
    {
      "cell_type": "code",
      "metadata": {
        "colab": {
          "base_uri": "https://localhost:8080/",
          "height": 307
        },
        "id": "TtSSSosKt9Mq",
        "outputId": "3632dc8f-1660-40fd-cad2-29cf06799e39"
      },
      "source": [
        "products_df = ddd.drop('sellers',axis=1)\n",
        "products_df.head()"
      ],
      "execution_count": null,
      "outputs": [
        {
          "output_type": "execute_result",
          "data": {
            "text/html": [
              "<div>\n",
              "<style scoped>\n",
              "    .dataframe tbody tr th:only-of-type {\n",
              "        vertical-align: middle;\n",
              "    }\n",
              "\n",
              "    .dataframe tbody tr th {\n",
              "        vertical-align: top;\n",
              "    }\n",
              "\n",
              "    .dataframe thead th {\n",
              "        text-align: right;\n",
              "    }\n",
              "</style>\n",
              "<table border=\"1\" class=\"dataframe\">\n",
              "  <thead>\n",
              "    <tr style=\"text-align: right;\">\n",
              "      <th></th>\n",
              "      <th>_id</th>\n",
              "      <th>category_name</th>\n",
              "      <th>product_name_normalized</th>\n",
              "      <th>sellers_count</th>\n",
              "      <th>availabilty_ratio</th>\n",
              "      <th>mean_all_price</th>\n",
              "      <th>max_all_price</th>\n",
              "      <th>min_all_price</th>\n",
              "      <th>std_all_price</th>\n",
              "      <th>skew_all_price</th>\n",
              "      <th>first_added_date</th>\n",
              "      <th>last_added_date</th>\n",
              "      <th>mean_available_price</th>\n",
              "      <th>max_available_price</th>\n",
              "      <th>min_available_price</th>\n",
              "      <th>std_available_price</th>\n",
              "      <th>skew_available_price</th>\n",
              "    </tr>\n",
              "  </thead>\n",
              "  <tbody>\n",
              "    <tr>\n",
              "      <th>0</th>\n",
              "      <td>yxwrs</td>\n",
              "      <td>ویدیو پروژکتور اپتما</td>\n",
              "      <td>optoma دیتا خانگی 1920 x 1080 3 d صفحه پروژکتو...</td>\n",
              "      <td>6</td>\n",
              "      <td>0.166667</td>\n",
              "      <td>1.625193e+07</td>\n",
              "      <td>31852600.0</td>\n",
              "      <td>11500000.0</td>\n",
              "      <td>7.104350e+06</td>\n",
              "      <td>1.655126</td>\n",
              "      <td>2017-09-12T07:02:11.544133+00:00</td>\n",
              "      <td>2020-01-25T20:08:23.497684+00:00</td>\n",
              "      <td>3.185260e+07</td>\n",
              "      <td>31852600.0</td>\n",
              "      <td>31852600.0</td>\n",
              "      <td>0.000000</td>\n",
              "      <td>0.000000</td>\n",
              "    </tr>\n",
              "    <tr>\n",
              "      <th>1</th>\n",
              "      <td>mbeby</td>\n",
              "      <td>تقویت کننده مژه و ابرو</td>\n",
              "      <td>کننده mascara ژل gel and essence mascara essen...</td>\n",
              "      <td>33</td>\n",
              "      <td>0.696970</td>\n",
              "      <td>6.681758e+04</td>\n",
              "      <td>125000.0</td>\n",
              "      <td>2430.0</td>\n",
              "      <td>2.521815e+04</td>\n",
              "      <td>-0.605363</td>\n",
              "      <td>2019-02-27T20:21:32.020047+00:00</td>\n",
              "      <td>2021-03-10T12:18:51.632557+00:00</td>\n",
              "      <td>7.282826e+04</td>\n",
              "      <td>125000.0</td>\n",
              "      <td>21500.0</td>\n",
              "      <td>20905.381178</td>\n",
              "      <td>-0.133438</td>\n",
              "    </tr>\n",
              "    <tr>\n",
              "      <th>2</th>\n",
              "      <td>yovgc</td>\n",
              "      <td>مام و اسپری</td>\n",
              "      <td>tuning v 8 stick ایت وزن دیودرانت استیک تعریق ...</td>\n",
              "      <td>5</td>\n",
              "      <td>0.000000</td>\n",
              "      <td>3.120000e+04</td>\n",
              "      <td>60000.0</td>\n",
              "      <td>0.0</td>\n",
              "      <td>1.907249e+04</td>\n",
              "      <td>-0.185370</td>\n",
              "      <td>2019-04-30T19:05:27.777683+00:00</td>\n",
              "      <td>2020-05-14T15:16:17.862829+00:00</td>\n",
              "      <td>NaN</td>\n",
              "      <td>NaN</td>\n",
              "      <td>NaN</td>\n",
              "      <td>NaN</td>\n",
              "      <td>NaN</td>\n",
              "    </tr>\n",
              "    <tr>\n",
              "      <th>3</th>\n",
              "      <td>yokff</td>\n",
              "      <td>مام و اسپری</td>\n",
              "      <td>women رول stick 40 ml 48 h وزن دیودرانت algodo...</td>\n",
              "      <td>16</td>\n",
              "      <td>0.750000</td>\n",
              "      <td>5.606750e+04</td>\n",
              "      <td>99500.0</td>\n",
              "      <td>40000.0</td>\n",
              "      <td>1.464371e+04</td>\n",
              "      <td>1.745850</td>\n",
              "      <td>2019-01-16T13:52:02.755639+00:00</td>\n",
              "      <td>2021-02-03T23:39:02.823359+00:00</td>\n",
              "      <td>5.916500e+04</td>\n",
              "      <td>99500.0</td>\n",
              "      <td>45000.0</td>\n",
              "      <td>15565.639777</td>\n",
              "      <td>1.448900</td>\n",
              "    </tr>\n",
              "    <tr>\n",
              "      <th>4</th>\n",
              "      <td>uduyq</td>\n",
              "      <td>گوشی هوآوی</td>\n",
              "      <td>ascend huawei موبایل 550 مدل گوشی 4 g وای y 55...</td>\n",
              "      <td>5</td>\n",
              "      <td>0.000000</td>\n",
              "      <td>7.100000e+04</td>\n",
              "      <td>355000.0</td>\n",
              "      <td>0.0</td>\n",
              "      <td>1.420000e+05</td>\n",
              "      <td>1.500000</td>\n",
              "      <td>2017-04-24T19:33:29.044830+00:00</td>\n",
              "      <td>2018-03-12T10:26:23.683039+00:00</td>\n",
              "      <td>NaN</td>\n",
              "      <td>NaN</td>\n",
              "      <td>NaN</td>\n",
              "      <td>NaN</td>\n",
              "      <td>NaN</td>\n",
              "    </tr>\n",
              "  </tbody>\n",
              "</table>\n",
              "</div>"
            ],
            "text/plain": [
              "     _id           category_name  ... std_available_price  skew_available_price\n",
              "0  yxwrs    ویدیو پروژکتور اپتما  ...            0.000000              0.000000\n",
              "1  mbeby  تقویت کننده مژه و ابرو  ...        20905.381178             -0.133438\n",
              "2  yovgc             مام و اسپری  ...                 NaN                   NaN\n",
              "3  yokff             مام و اسپری  ...        15565.639777              1.448900\n",
              "4  uduyq              گوشی هوآوی  ...                 NaN                   NaN\n",
              "\n",
              "[5 rows x 17 columns]"
            ]
          },
          "metadata": {
            "tags": []
          },
          "execution_count": 15
        }
      ]
    },
    {
      "cell_type": "markdown",
      "metadata": {
        "id": "AjWvmZ2juIIZ"
      },
      "source": [
        "## reading search dataset"
      ]
    },
    {
      "cell_type": "code",
      "metadata": {
        "colab": {
          "base_uri": "https://localhost:8080/",
          "height": 203
        },
        "id": "2dMfBuyHyFG5",
        "outputId": "6327a92c-bdb4-4b66-c76c-bf696447132e"
      },
      "source": [
        "search_df = dd.read_json(search_log_train_path,blocksize=2**24)\n",
        "search_df.head()"
      ],
      "execution_count": null,
      "outputs": [
        {
          "output_type": "execute_result",
          "data": {
            "text/html": [
              "<div>\n",
              "<style scoped>\n",
              "    .dataframe tbody tr th:only-of-type {\n",
              "        vertical-align: middle;\n",
              "    }\n",
              "\n",
              "    .dataframe tbody tr th {\n",
              "        vertical-align: top;\n",
              "    }\n",
              "\n",
              "    .dataframe thead th {\n",
              "        text-align: right;\n",
              "    }\n",
              "</style>\n",
              "<table border=\"1\" class=\"dataframe\">\n",
              "  <thead>\n",
              "    <tr style=\"text-align: right;\">\n",
              "      <th></th>\n",
              "      <th>_id</th>\n",
              "      <th>raw_query</th>\n",
              "      <th>page</th>\n",
              "      <th>result</th>\n",
              "      <th>datetime</th>\n",
              "    </tr>\n",
              "  </thead>\n",
              "  <tbody>\n",
              "    <tr>\n",
              "      <th>0</th>\n",
              "      <td>609d7e3a6c2e88f6b241b089</td>\n",
              "      <td>گوشی موبایل</td>\n",
              "      <td>3</td>\n",
              "      <td>[mmmmm, mmmmy, mmmmu, mmmmk, mmmmb, mmmma, mmm...</td>\n",
              "      <td>2021-05-13 19:30:02.664</td>\n",
              "    </tr>\n",
              "    <tr>\n",
              "      <th>1</th>\n",
              "      <td>609d7e4802589dff17211ce4</td>\n",
              "      <td>گوشی</td>\n",
              "      <td>38</td>\n",
              "      <td>[mmmmn, mmmmi, mmmmo, mmmmx, mmmms, mmmmw, mmm...</td>\n",
              "      <td>2021-05-13 19:30:16.244</td>\n",
              "    </tr>\n",
              "    <tr>\n",
              "      <th>2</th>\n",
              "      <td>609d7e4aa0194216c0994b29</td>\n",
              "      <td>گوشی سامسونگ</td>\n",
              "      <td>0</td>\n",
              "      <td>[mmmmq, mmmmv, mmmml, mmmmp, mmmmj, mmmmh, mmm...</td>\n",
              "      <td>2021-05-13 19:30:18.246</td>\n",
              "    </tr>\n",
              "    <tr>\n",
              "      <th>3</th>\n",
              "      <td>609d7e58efd179e80a6fcd99</td>\n",
              "      <td>گوشی</td>\n",
              "      <td>39</td>\n",
              "      <td>[mmmka, mmmkz, mmmkf, mmmkg, mmmkx]</td>\n",
              "      <td>2021-05-13 19:30:32.254</td>\n",
              "    </tr>\n",
              "    <tr>\n",
              "      <th>4</th>\n",
              "      <td>609d7e5b8c23961847786454</td>\n",
              "      <td>گوشی</td>\n",
              "      <td>7</td>\n",
              "      <td>[mmmks, mmmkw, mmmke, mmmkr, mmmkc, mmmkq, mmm...</td>\n",
              "      <td>2021-05-13 19:30:35.460</td>\n",
              "    </tr>\n",
              "  </tbody>\n",
              "</table>\n",
              "</div>"
            ],
            "text/plain": [
              "                        _id  ...                datetime\n",
              "0  609d7e3a6c2e88f6b241b089  ... 2021-05-13 19:30:02.664\n",
              "1  609d7e4802589dff17211ce4  ... 2021-05-13 19:30:16.244\n",
              "2  609d7e4aa0194216c0994b29  ... 2021-05-13 19:30:18.246\n",
              "3  609d7e58efd179e80a6fcd99  ... 2021-05-13 19:30:32.254\n",
              "4  609d7e5b8c23961847786454  ... 2021-05-13 19:30:35.460\n",
              "\n",
              "[5 rows x 5 columns]"
            ]
          },
          "metadata": {
            "tags": []
          },
          "execution_count": 16
        }
      ]
    },
    {
      "cell_type": "markdown",
      "metadata": {
        "id": "d6V9qXgCesSZ"
      },
      "source": [
        "## reading click dataset"
      ]
    },
    {
      "cell_type": "code",
      "metadata": {
        "colab": {
          "base_uri": "https://localhost:8080/",
          "height": 203
        },
        "id": "8ptAMx4szBkN",
        "outputId": "8d7ed2c3-2bd6-4916-87a1-f6c98203e1f5"
      },
      "source": [
        "click_df = dd.read_json(click_log_train_path,blocksize=2**23)\n",
        "click_df.head()"
      ],
      "execution_count": null,
      "outputs": [
        {
          "output_type": "execute_result",
          "data": {
            "text/html": [
              "<div>\n",
              "<style scoped>\n",
              "    .dataframe tbody tr th:only-of-type {\n",
              "        vertical-align: middle;\n",
              "    }\n",
              "\n",
              "    .dataframe tbody tr th {\n",
              "        vertical-align: top;\n",
              "    }\n",
              "\n",
              "    .dataframe thead th {\n",
              "        text-align: right;\n",
              "    }\n",
              "</style>\n",
              "<table border=\"1\" class=\"dataframe\">\n",
              "  <thead>\n",
              "    <tr style=\"text-align: right;\">\n",
              "      <th></th>\n",
              "      <th>datetime</th>\n",
              "      <th>search_log_id</th>\n",
              "      <th>rank</th>\n",
              "      <th>base_product_id</th>\n",
              "    </tr>\n",
              "  </thead>\n",
              "  <tbody>\n",
              "    <tr>\n",
              "      <th>0</th>\n",
              "      <td>2021-05-13 19:30:47.249</td>\n",
              "      <td>609d7e4802589dff17211ce4</td>\n",
              "      <td>386</td>\n",
              "      <td>mmmmw</td>\n",
              "    </tr>\n",
              "    <tr>\n",
              "      <th>1</th>\n",
              "      <td>2021-05-13 19:31:14.383</td>\n",
              "      <td>609d7e58efd179e80a6fcd99</td>\n",
              "      <td>394</td>\n",
              "      <td>mmmkf</td>\n",
              "    </tr>\n",
              "    <tr>\n",
              "      <th>2</th>\n",
              "      <td>2021-05-13 19:31:56.974</td>\n",
              "      <td>609d7e3a6c2e88f6b241b089</td>\n",
              "      <td>34</td>\n",
              "      <td>mmmmb</td>\n",
              "    </tr>\n",
              "    <tr>\n",
              "      <th>3</th>\n",
              "      <td>2021-05-13 19:32:13.437</td>\n",
              "      <td>609d7eac2bf9491ab8fa0275</td>\n",
              "      <td>444</td>\n",
              "      <td>mmmtq</td>\n",
              "    </tr>\n",
              "    <tr>\n",
              "      <th>4</th>\n",
              "      <td>2021-05-13 19:32:14.086</td>\n",
              "      <td>609d7ea747bd1ff6b3eac1ba</td>\n",
              "      <td>4</td>\n",
              "      <td>mmmmq</td>\n",
              "    </tr>\n",
              "  </tbody>\n",
              "</table>\n",
              "</div>"
            ],
            "text/plain": [
              "                 datetime             search_log_id  rank base_product_id\n",
              "0 2021-05-13 19:30:47.249  609d7e4802589dff17211ce4   386           mmmmw\n",
              "1 2021-05-13 19:31:14.383  609d7e58efd179e80a6fcd99   394           mmmkf\n",
              "2 2021-05-13 19:31:56.974  609d7e3a6c2e88f6b241b089    34           mmmmb\n",
              "3 2021-05-13 19:32:13.437  609d7eac2bf9491ab8fa0275   444           mmmtq\n",
              "4 2021-05-13 19:32:14.086  609d7ea747bd1ff6b3eac1ba     4           mmmmq"
            ]
          },
          "metadata": {
            "tags": []
          },
          "execution_count": 17
        }
      ]
    },
    {
      "cell_type": "markdown",
      "metadata": {
        "id": "9m9r7x75JBW9"
      },
      "source": [
        "# Merging clicked and search datasets"
      ]
    },
    {
      "cell_type": "code",
      "metadata": {
        "id": "aAp-JIVwKJrV"
      },
      "source": [
        "es = ft.EntitySet(id='merged_click_search') "
      ],
      "execution_count": null,
      "outputs": []
    },
    {
      "cell_type": "markdown",
      "metadata": {
        "id": "4zXsnhnEfHha"
      },
      "source": [
        "## adding entities"
      ]
    },
    {
      "cell_type": "code",
      "metadata": {
        "colab": {
          "base_uri": "https://localhost:8080/"
        },
        "id": "MRN92ObqSTQl",
        "outputId": "3d12a3d8-f5c7-4621-c112-43dce05ef07a"
      },
      "source": [
        "es.entity_from_dataframe(entity_id=\"searches\",dataframe=search_df,index=\"_id\",\n",
        "                         variable_types = {\"raw_query\":vr.NaturalLanguage,\n",
        "                                           \"page\":vr.Ordinal,\n",
        "                                           \"result\": vr.Unknown,\n",
        "                                           \"datetime\":vr.Datetime,\n",
        "                                           })"
      ],
      "execution_count": null,
      "outputs": [
        {
          "output_type": "execute_result",
          "data": {
            "text/plain": [
              "Entityset: merged_click_search\n",
              "  Entities:\n",
              "    searches [Rows: Delayed('int-a7737471-2282-4be6-bbfd-5eaf5340afc2'), Columns: 5]\n",
              "  Relationships:\n",
              "    No relationships"
            ]
          },
          "metadata": {
            "tags": []
          },
          "execution_count": 23
        }
      ]
    },
    {
      "cell_type": "code",
      "metadata": {
        "colab": {
          "base_uri": "https://localhost:8080/"
        },
        "id": "EYvDEPQgSmZd",
        "outputId": "29b877ef-8ee8-4e47-afac-0dd91e6d0556"
      },
      "source": [
        "es.entity_from_dataframe(entity_id=\"clicks\",dataframe=click_df,index=\"_id\",\n",
        "                         variable_types = {\"search_log_id\":vr.Id,\n",
        "                                           \"base_product_id\":vr.Id,\n",
        "                                           \"rank\":vr.Ordinal,\n",
        "                                           \"datetime\":vr.Datetime\n",
        "                                           })"
      ],
      "execution_count": null,
      "outputs": [
        {
          "output_type": "stream",
          "text": [
            "/usr/local/lib/python3.7/dist-packages/featuretools/entityset/entity.py:463: UserWarning: index _id not found in dataframe, creating new integer column\n",
            "  \"integer column\".format(index))\n"
          ],
          "name": "stderr"
        },
        {
          "output_type": "execute_result",
          "data": {
            "text/plain": [
              "Entityset: merged_click_search\n",
              "  Entities:\n",
              "    searches [Rows: Delayed('int-0d0c86a7-7a71-4e67-bfd2-c84e119f2204'), Columns: 5]\n",
              "    clicks [Rows: Delayed('int-c0349eb5-9747-446b-ade3-96b220a24560'), Columns: 5]\n",
              "  Relationships:\n",
              "    No relationships"
            ]
          },
          "metadata": {
            "tags": []
          },
          "execution_count": 24
        }
      ]
    },
    {
      "cell_type": "code",
      "metadata": {
        "colab": {
          "base_uri": "https://localhost:8080/",
          "height": 174
        },
        "id": "kfHxcLdoXRbV",
        "outputId": "8820c39f-4f6b-4200-a6f6-1a3c2e0688c2"
      },
      "source": [
        "es.plot()"
      ],
      "execution_count": null,
      "outputs": [
        {
          "output_type": "execute_result",
          "data": {
            "text/plain": [
              "<graphviz.dot.Digraph at 0x7f47c436f190>"
            ],
            "image/svg+xml": "<?xml version=\"1.0\" encoding=\"UTF-8\" standalone=\"no\"?>\n<!DOCTYPE svg PUBLIC \"-//W3C//DTD SVG 1.1//EN\"\n \"http://www.w3.org/Graphics/SVG/1.1/DTD/svg11.dtd\">\n<!-- Generated by graphviz version 2.40.1 (20161225.0304)\n -->\n<!-- Title: merged_click_search Pages: 1 -->\n<svg width=\"348pt\" height=\"115pt\"\n viewBox=\"0.00 0.00 348.00 115.00\" xmlns=\"http://www.w3.org/2000/svg\" xmlns:xlink=\"http://www.w3.org/1999/xlink\">\n<g id=\"graph0\" class=\"graph\" transform=\"scale(1 1) rotate(0) translate(4 111)\">\n<title>merged_click_search</title>\n<polygon fill=\"#ffffff\" stroke=\"transparent\" points=\"-4,4 -4,-111 344,-111 344,4 -4,4\"/>\n<!-- searches -->\n<g id=\"node1\" class=\"node\">\n<title>searches</title>\n<polygon fill=\"none\" stroke=\"#000000\" points=\"0,-.5 0,-106.5 188,-106.5 188,-.5 0,-.5\"/>\n<text text-anchor=\"middle\" x=\"94\" y=\"-91.3\" font-family=\"Times,serif\" font-size=\"14.00\" fill=\"#000000\">searches</text>\n<polyline fill=\"none\" stroke=\"#000000\" points=\"0,-83.5 188,-83.5 \"/>\n<text text-anchor=\"start\" x=\"8\" y=\"-68.3\" font-family=\"Times,serif\" font-size=\"14.00\" fill=\"#000000\">_id : index</text>\n<text text-anchor=\"start\" x=\"8\" y=\"-53.3\" font-family=\"Times,serif\" font-size=\"14.00\" fill=\"#000000\">raw_query : natural_language</text>\n<text text-anchor=\"start\" x=\"8\" y=\"-38.3\" font-family=\"Times,serif\" font-size=\"14.00\" fill=\"#000000\">page : ordinal</text>\n<text text-anchor=\"start\" x=\"8\" y=\"-23.3\" font-family=\"Times,serif\" font-size=\"14.00\" fill=\"#000000\">result : unknown</text>\n<text text-anchor=\"start\" x=\"8\" y=\"-8.3\" font-family=\"Times,serif\" font-size=\"14.00\" fill=\"#000000\">datetime : datetime</text>\n</g>\n<!-- clicks -->\n<g id=\"node2\" class=\"node\">\n<title>clicks</title>\n<polygon fill=\"none\" stroke=\"#000000\" points=\"206,-.5 206,-106.5 340,-106.5 340,-.5 206,-.5\"/>\n<text text-anchor=\"middle\" x=\"273\" y=\"-91.3\" font-family=\"Times,serif\" font-size=\"14.00\" fill=\"#000000\">clicks</text>\n<polyline fill=\"none\" stroke=\"#000000\" points=\"206,-83.5 340,-83.5 \"/>\n<text text-anchor=\"start\" x=\"214\" y=\"-68.3\" font-family=\"Times,serif\" font-size=\"14.00\" fill=\"#000000\">_id : index</text>\n<text text-anchor=\"start\" x=\"214\" y=\"-53.3\" font-family=\"Times,serif\" font-size=\"14.00\" fill=\"#000000\">search_log_id : id</text>\n<text text-anchor=\"start\" x=\"214\" y=\"-38.3\" font-family=\"Times,serif\" font-size=\"14.00\" fill=\"#000000\">base_product_id : id</text>\n<text text-anchor=\"start\" x=\"214\" y=\"-23.3\" font-family=\"Times,serif\" font-size=\"14.00\" fill=\"#000000\">rank : ordinal</text>\n<text text-anchor=\"start\" x=\"214\" y=\"-8.3\" font-family=\"Times,serif\" font-size=\"14.00\" fill=\"#000000\">datetime : datetime</text>\n</g>\n</g>\n</svg>\n"
          },
          "metadata": {
            "tags": []
          },
          "execution_count": 25
        }
      ]
    },
    {
      "cell_type": "markdown",
      "metadata": {
        "id": "vyeT40WHexO6"
      },
      "source": [
        "## adding Relationships"
      ]
    },
    {
      "cell_type": "code",
      "metadata": {
        "colab": {
          "base_uri": "https://localhost:8080/"
        },
        "id": "kUDSOd6sXx9I",
        "outputId": "0d1b208e-3b5d-4890-b86b-2610591ed9b7"
      },
      "source": [
        "rel = ft.Relationship(es[\"searches\"][\"_id\"],es[\"clicks\"][\"search_log_id\"])\n",
        "es.add_relationship(rel)"
      ],
      "execution_count": null,
      "outputs": [
        {
          "output_type": "execute_result",
          "data": {
            "text/plain": [
              "Entityset: merged_click_search\n",
              "  Entities:\n",
              "    searches [Rows: Delayed('int-07eebe0d-25bc-45aa-a2ee-29552a2ff426'), Columns: 5]\n",
              "    clicks [Rows: Delayed('int-5fde64d6-90c2-411d-ab7b-75f5c0e50293'), Columns: 5]\n",
              "  Relationships:\n",
              "    clicks.search_log_id -> searches._id"
            ]
          },
          "metadata": {
            "tags": []
          },
          "execution_count": 26
        }
      ]
    },
    {
      "cell_type": "code",
      "metadata": {
        "colab": {
          "base_uri": "https://localhost:8080/",
          "height": 364
        },
        "id": "VrIEw51iYPe5",
        "outputId": "e0b6100d-ffd3-4996-e942-b9343547aad4"
      },
      "source": [
        "es.plot()"
      ],
      "execution_count": null,
      "outputs": [
        {
          "output_type": "execute_result",
          "data": {
            "text/plain": [
              "<graphviz.dot.Digraph at 0x7f47c290ded0>"
            ],
            "image/svg+xml": "<?xml version=\"1.0\" encoding=\"UTF-8\" standalone=\"no\"?>\n<!DOCTYPE svg PUBLIC \"-//W3C//DTD SVG 1.1//EN\"\n \"http://www.w3.org/Graphics/SVG/1.1/DTD/svg11.dtd\">\n<!-- Generated by graphviz version 2.40.1 (20161225.0304)\n -->\n<!-- Title: merged_click_search Pages: 1 -->\n<svg width=\"222pt\" height=\"258pt\"\n viewBox=\"0.00 0.00 222.00 258.00\" xmlns=\"http://www.w3.org/2000/svg\" xmlns:xlink=\"http://www.w3.org/1999/xlink\">\n<g id=\"graph0\" class=\"graph\" transform=\"scale(1 1) rotate(0) translate(4 254)\">\n<title>merged_click_search</title>\n<polygon fill=\"#ffffff\" stroke=\"transparent\" points=\"-4,4 -4,-254 218,-254 218,4 -4,4\"/>\n<!-- searches -->\n<g id=\"node1\" class=\"node\">\n<title>searches</title>\n<polygon fill=\"none\" stroke=\"#000000\" points=\"26,-.5 26,-106.5 214,-106.5 214,-.5 26,-.5\"/>\n<text text-anchor=\"middle\" x=\"120\" y=\"-91.3\" font-family=\"Times,serif\" font-size=\"14.00\" fill=\"#000000\">searches</text>\n<polyline fill=\"none\" stroke=\"#000000\" points=\"26,-83.5 214,-83.5 \"/>\n<text text-anchor=\"start\" x=\"34\" y=\"-68.3\" font-family=\"Times,serif\" font-size=\"14.00\" fill=\"#000000\">_id : index</text>\n<text text-anchor=\"start\" x=\"34\" y=\"-53.3\" font-family=\"Times,serif\" font-size=\"14.00\" fill=\"#000000\">raw_query : natural_language</text>\n<text text-anchor=\"start\" x=\"34\" y=\"-38.3\" font-family=\"Times,serif\" font-size=\"14.00\" fill=\"#000000\">page : ordinal</text>\n<text text-anchor=\"start\" x=\"34\" y=\"-23.3\" font-family=\"Times,serif\" font-size=\"14.00\" fill=\"#000000\">result : unknown</text>\n<text text-anchor=\"start\" x=\"34\" y=\"-8.3\" font-family=\"Times,serif\" font-size=\"14.00\" fill=\"#000000\">datetime : datetime</text>\n</g>\n<!-- clicks -->\n<g id=\"node2\" class=\"node\">\n<title>clicks</title>\n<polygon fill=\"none\" stroke=\"#000000\" points=\"53,-143.5 53,-249.5 187,-249.5 187,-143.5 53,-143.5\"/>\n<text text-anchor=\"middle\" x=\"120\" y=\"-234.3\" font-family=\"Times,serif\" font-size=\"14.00\" fill=\"#000000\">clicks</text>\n<polyline fill=\"none\" stroke=\"#000000\" points=\"53,-226.5 187,-226.5 \"/>\n<text text-anchor=\"start\" x=\"61\" y=\"-211.3\" font-family=\"Times,serif\" font-size=\"14.00\" fill=\"#000000\">_id : index</text>\n<text text-anchor=\"start\" x=\"61\" y=\"-196.3\" font-family=\"Times,serif\" font-size=\"14.00\" fill=\"#000000\">search_log_id : id</text>\n<text text-anchor=\"start\" x=\"61\" y=\"-181.3\" font-family=\"Times,serif\" font-size=\"14.00\" fill=\"#000000\">base_product_id : id</text>\n<text text-anchor=\"start\" x=\"61\" y=\"-166.3\" font-family=\"Times,serif\" font-size=\"14.00\" fill=\"#000000\">rank : ordinal</text>\n<text text-anchor=\"start\" x=\"61\" y=\"-151.3\" font-family=\"Times,serif\" font-size=\"14.00\" fill=\"#000000\">datetime : datetime</text>\n</g>\n<!-- clicks&#45;&gt;searches -->\n<g id=\"edge1\" class=\"edge\">\n<title>clicks&#45;&gt;searches</title>\n<path fill=\"none\" stroke=\"#000000\" d=\"M120,-143.2521C120,-143.2521 120,-116.7924 120,-116.7924\"/>\n<polygon fill=\"#000000\" stroke=\"#000000\" points=\"123.5001,-116.7924 120,-106.7924 116.5001,-116.7924 123.5001,-116.7924\"/>\n<text text-anchor=\"middle\" x=\"60\" y=\"-118.8222\" font-family=\"Times,serif\" font-size=\"14.00\" fill=\"#000000\">_id &#45;&gt; search_log_id</text>\n</g>\n</g>\n</svg>\n"
          },
          "metadata": {
            "tags": []
          },
          "execution_count": 27
        }
      ]
    },
    {
      "cell_type": "markdown",
      "metadata": {
        "id": "jPTQDZbYfMM1"
      },
      "source": [
        "## deep feature synthesis"
      ]
    },
    {
      "cell_type": "code",
      "metadata": {
        "colab": {
          "base_uri": "https://localhost:8080/"
        },
        "id": "cPytxqm4YEn4",
        "outputId": "b036ca42-f09b-455a-afdc-e1e7b5fe3b32"
      },
      "source": [
        "feature_matrix, feature_defs = ft.dfs(entityset=es,\n",
        "                                      target_entity=\"clicks\",\n",
        "                                      agg_primitives = [],\n",
        "                                      trans_primitives= [], \n",
        "                                      return_variable_types =[vr.Numeric,vr.Categorical,vr.Boolean,\n",
        "                                                              vr.Unknown,vr.NaturalLanguage,\n",
        "                                                              vr.Datetime,vr.Ordinal],\n",
        "                                      max_depth = 5,verbose=2,\n",
        "                                      )"
      ],
      "execution_count": null,
      "outputs": [
        {
          "output_type": "stream",
          "text": [
            "Built 8 features\n",
            "Elapsed: 00:00 | Progress: 100%|██████████\n"
          ],
          "name": "stdout"
        }
      ]
    },
    {
      "cell_type": "code",
      "metadata": {
        "colab": {
          "base_uri": "https://localhost:8080/"
        },
        "id": "66LUe4BdYxRX",
        "outputId": "a9e27a5a-6e93-4b6d-a45e-63c49c7f5bcf"
      },
      "source": [
        "feature_defs"
      ],
      "execution_count": null,
      "outputs": [
        {
          "output_type": "execute_result",
          "data": {
            "text/plain": [
              "[<Feature: search_log_id>,\n",
              " <Feature: base_product_id>,\n",
              " <Feature: rank>,\n",
              " <Feature: datetime>,\n",
              " <Feature: searches.raw_query>,\n",
              " <Feature: searches.page>,\n",
              " <Feature: searches.result>,\n",
              " <Feature: searches.datetime>]"
            ]
          },
          "metadata": {
            "tags": []
          },
          "execution_count": 29
        }
      ]
    },
    {
      "cell_type": "code",
      "metadata": {
        "colab": {
          "base_uri": "https://localhost:8080/",
          "height": 267
        },
        "id": "4xXB3sDAVXXg",
        "outputId": "eb87fae9-3886-41c8-9122-d1063ef029bd"
      },
      "source": [
        "feature_matrix"
      ],
      "execution_count": null,
      "outputs": [
        {
          "output_type": "execute_result",
          "data": {
            "text/html": [
              "<div><strong>Dask DataFrame Structure:</strong></div>\n",
              "<div>\n",
              "<style scoped>\n",
              "    .dataframe tbody tr th:only-of-type {\n",
              "        vertical-align: middle;\n",
              "    }\n",
              "\n",
              "    .dataframe tbody tr th {\n",
              "        vertical-align: top;\n",
              "    }\n",
              "\n",
              "    .dataframe thead th {\n",
              "        text-align: right;\n",
              "    }\n",
              "</style>\n",
              "<table border=\"1\" class=\"dataframe\">\n",
              "  <thead>\n",
              "    <tr style=\"text-align: right;\">\n",
              "      <th></th>\n",
              "      <th>search_log_id</th>\n",
              "      <th>base_product_id</th>\n",
              "      <th>rank</th>\n",
              "      <th>datetime</th>\n",
              "      <th>searches.raw_query</th>\n",
              "      <th>searches.page</th>\n",
              "      <th>searches.result</th>\n",
              "      <th>searches.datetime</th>\n",
              "      <th>_id</th>\n",
              "    </tr>\n",
              "    <tr>\n",
              "      <th>npartitions=97</th>\n",
              "      <th></th>\n",
              "      <th></th>\n",
              "      <th></th>\n",
              "      <th></th>\n",
              "      <th></th>\n",
              "      <th></th>\n",
              "      <th></th>\n",
              "      <th></th>\n",
              "      <th></th>\n",
              "    </tr>\n",
              "  </thead>\n",
              "  <tbody>\n",
              "    <tr>\n",
              "      <th></th>\n",
              "      <td>object</td>\n",
              "      <td>object</td>\n",
              "      <td>int64</td>\n",
              "      <td>datetime64[ns]</td>\n",
              "      <td>object</td>\n",
              "      <td>int64</td>\n",
              "      <td>object</td>\n",
              "      <td>datetime64[ns]</td>\n",
              "      <td>int64</td>\n",
              "    </tr>\n",
              "    <tr>\n",
              "      <th></th>\n",
              "      <td>...</td>\n",
              "      <td>...</td>\n",
              "      <td>...</td>\n",
              "      <td>...</td>\n",
              "      <td>...</td>\n",
              "      <td>...</td>\n",
              "      <td>...</td>\n",
              "      <td>...</td>\n",
              "      <td>...</td>\n",
              "    </tr>\n",
              "    <tr>\n",
              "      <th>...</th>\n",
              "      <td>...</td>\n",
              "      <td>...</td>\n",
              "      <td>...</td>\n",
              "      <td>...</td>\n",
              "      <td>...</td>\n",
              "      <td>...</td>\n",
              "      <td>...</td>\n",
              "      <td>...</td>\n",
              "      <td>...</td>\n",
              "    </tr>\n",
              "    <tr>\n",
              "      <th></th>\n",
              "      <td>...</td>\n",
              "      <td>...</td>\n",
              "      <td>...</td>\n",
              "      <td>...</td>\n",
              "      <td>...</td>\n",
              "      <td>...</td>\n",
              "      <td>...</td>\n",
              "      <td>...</td>\n",
              "      <td>...</td>\n",
              "    </tr>\n",
              "    <tr>\n",
              "      <th></th>\n",
              "      <td>...</td>\n",
              "      <td>...</td>\n",
              "      <td>...</td>\n",
              "      <td>...</td>\n",
              "      <td>...</td>\n",
              "      <td>...</td>\n",
              "      <td>...</td>\n",
              "      <td>...</td>\n",
              "      <td>...</td>\n",
              "    </tr>\n",
              "  </tbody>\n",
              "</table>\n",
              "</div>\n",
              "<div>Dask Name: getitem, 3616 tasks</div>"
            ],
            "text/plain": [
              "Dask DataFrame Structure:\n",
              "               search_log_id base_product_id   rank        datetime searches.raw_query searches.page searches.result searches.datetime    _id\n",
              "npartitions=97                                                                                                                               \n",
              "                      object          object  int64  datetime64[ns]             object         int64          object    datetime64[ns]  int64\n",
              "                         ...             ...    ...             ...                ...           ...             ...               ...    ...\n",
              "...                      ...             ...    ...             ...                ...           ...             ...               ...    ...\n",
              "                         ...             ...    ...             ...                ...           ...             ...               ...    ...\n",
              "                         ...             ...    ...             ...                ...           ...             ...               ...    ...\n",
              "Dask Name: getitem, 3616 tasks"
            ]
          },
          "metadata": {
            "tags": []
          },
          "execution_count": 30
        }
      ]
    },
    {
      "cell_type": "code",
      "metadata": {
        "colab": {
          "base_uri": "https://localhost:8080/"
        },
        "id": "OQWlFzLRZ2Mv",
        "outputId": "093b373a-354c-4e25-f117-e3423556278d"
      },
      "source": [
        "with ProgressBar():\n",
        "    click_search_merged = feature_matrix.persist(optimize_graph=True)"
      ],
      "execution_count": null,
      "outputs": [
        {
          "output_type": "stream",
          "text": [
            "[########################################] | 100% Completed |  6min  5.9s\n"
          ],
          "name": "stdout"
        }
      ]
    },
    {
      "cell_type": "code",
      "metadata": {
        "colab": {
          "base_uri": "https://localhost:8080/",
          "height": 422
        },
        "id": "wmMPlIs4z-wX",
        "outputId": "0aac3e67-db08-4f2b-b943-2d030d73a6b2"
      },
      "source": [
        "click_search_merged.head()"
      ],
      "execution_count": null,
      "outputs": [
        {
          "output_type": "execute_result",
          "data": {
            "text/html": [
              "<div>\n",
              "<style scoped>\n",
              "    .dataframe tbody tr th:only-of-type {\n",
              "        vertical-align: middle;\n",
              "    }\n",
              "\n",
              "    .dataframe tbody tr th {\n",
              "        vertical-align: top;\n",
              "    }\n",
              "\n",
              "    .dataframe thead th {\n",
              "        text-align: right;\n",
              "    }\n",
              "</style>\n",
              "<table border=\"1\" class=\"dataframe\">\n",
              "  <thead>\n",
              "    <tr style=\"text-align: right;\">\n",
              "      <th></th>\n",
              "      <th>search_log_id</th>\n",
              "      <th>base_product_id</th>\n",
              "      <th>rank</th>\n",
              "      <th>datetime</th>\n",
              "      <th>searches.raw_query</th>\n",
              "      <th>searches.page</th>\n",
              "      <th>searches.result</th>\n",
              "      <th>searches.datetime</th>\n",
              "      <th>_id</th>\n",
              "    </tr>\n",
              "  </thead>\n",
              "  <tbody>\n",
              "    <tr>\n",
              "      <th>0</th>\n",
              "      <td>60763a12a7a6f06f7c6ef4f7</td>\n",
              "      <td>mnvzc</td>\n",
              "      <td>172</td>\n",
              "      <td>2021-04-14 00:41:05.035</td>\n",
              "      <td>پاور بانک سیلیکون پاور</td>\n",
              "      <td>17</td>\n",
              "      <td>[mywzb, mfveo, mnvzc, mozvc, bbfhh, mmmsw, mxx...</td>\n",
              "      <td>2021-04-14 00:40:50.620</td>\n",
              "      <td>6312026</td>\n",
              "    </tr>\n",
              "    <tr>\n",
              "      <th>1</th>\n",
              "      <td>6076aceb01d68ef900f55c18</td>\n",
              "      <td>mflrp</td>\n",
              "      <td>5</td>\n",
              "      <td>2021-04-14 08:51:33.059</td>\n",
              "      <td>یخچال فریزر الجی</td>\n",
              "      <td>0</td>\n",
              "      <td>[muvux, mmjii, mmjfs, mmhml, muvkq, mflrp, myk...</td>\n",
              "      <td>2021-04-14 08:50:51.477</td>\n",
              "      <td>6312123</td>\n",
              "    </tr>\n",
              "    <tr>\n",
              "      <th>2</th>\n",
              "      <td>6076ef43629a5bb74738c42e</td>\n",
              "      <td>uimha</td>\n",
              "      <td>10</td>\n",
              "      <td>2021-04-14 16:48:08.525</td>\n",
              "      <td>تاپ شلوارک زنانه</td>\n",
              "      <td>1</td>\n",
              "      <td>[uimha, mstkm, mxsqf, uprel, msvfv, ujelk, uje...</td>\n",
              "      <td>2021-04-14 13:33:55.154</td>\n",
              "      <td>6312368</td>\n",
              "    </tr>\n",
              "    <tr>\n",
              "      <th>3</th>\n",
              "      <td>60772e3bc609270e36522d07</td>\n",
              "      <td>msztn</td>\n",
              "      <td>43</td>\n",
              "      <td>2021-04-14 18:02:51.489</td>\n",
              "      <td>لباس دخترونه پرسپولیسی</td>\n",
              "      <td>4</td>\n",
              "      <td>[moadq, bojii, bojio, msztn, upqnk, koyhq, kfh...</td>\n",
              "      <td>2021-04-14 18:02:35.654</td>\n",
              "      <td>6312422</td>\n",
              "    </tr>\n",
              "    <tr>\n",
              "      <th>4</th>\n",
              "      <td>6075fbf7c977e36561aac9ae</td>\n",
              "      <td>kemjh</td>\n",
              "      <td>138</td>\n",
              "      <td>2021-04-13 20:16:05.349</td>\n",
              "      <td>ساعت مچی عقربه ای مردانه</td>\n",
              "      <td>13</td>\n",
              "      <td>[yucxn, yuprn, mimrt, upzlm, yhywp, mmhry, mya...</td>\n",
              "      <td>2021-04-13 20:15:51.072</td>\n",
              "      <td>6312486</td>\n",
              "    </tr>\n",
              "  </tbody>\n",
              "</table>\n",
              "</div>"
            ],
            "text/plain": [
              "              search_log_id base_product_id  ...       searches.datetime      _id\n",
              "0  60763a12a7a6f06f7c6ef4f7           mnvzc  ... 2021-04-14 00:40:50.620  6312026\n",
              "1  6076aceb01d68ef900f55c18           mflrp  ... 2021-04-14 08:50:51.477  6312123\n",
              "2  6076ef43629a5bb74738c42e           uimha  ... 2021-04-14 13:33:55.154  6312368\n",
              "3  60772e3bc609270e36522d07           msztn  ... 2021-04-14 18:02:35.654  6312422\n",
              "4  6075fbf7c977e36561aac9ae           kemjh  ... 2021-04-13 20:15:51.072  6312486\n",
              "\n",
              "[5 rows x 9 columns]"
            ]
          },
          "metadata": {
            "tags": []
          },
          "execution_count": 32
        }
      ]
    },
    {
      "cell_type": "markdown",
      "metadata": {
        "id": "a5lFi8hR0uul"
      },
      "source": [
        "## saving files"
      ]
    },
    {
      "cell_type": "code",
      "metadata": {
        "colab": {
          "base_uri": "https://localhost:8080/"
        },
        "id": "Rftv059X0Duu",
        "outputId": "fec20c34-8407-42d7-88c3-78363a776e2c"
      },
      "source": [
        "paths = []\n",
        "for i in range(5):\n",
        "    paths.append(os.path.join(data_folder, \"search_clicks_merged{}.csv\".format(i)))\n",
        "paths"
      ],
      "execution_count": null,
      "outputs": [
        {
          "output_type": "execute_result",
          "data": {
            "text/plain": [
              "['/content/dirve/MyDrive/programming/DataDays2021/data/search_clicks_merged0.csv',\n",
              " '/content/dirve/MyDrive/programming/DataDays2021/data/search_clicks_merged1.csv',\n",
              " '/content/dirve/MyDrive/programming/DataDays2021/data/search_clicks_merged2.csv',\n",
              " '/content/dirve/MyDrive/programming/DataDays2021/data/search_clicks_merged3.csv',\n",
              " '/content/dirve/MyDrive/programming/DataDays2021/data/search_clicks_merged4.csv']"
            ]
          },
          "metadata": {
            "tags": []
          },
          "execution_count": 33
        }
      ]
    },
    {
      "cell_type": "code",
      "metadata": {
        "colab": {
          "base_uri": "https://localhost:8080/"
        },
        "id": "-1sUjRPWiIPc",
        "outputId": "df2a2d4c-038f-455f-fba5-ae8d078a822c"
      },
      "source": [
        "with ProgressBar():\n",
        "    click_search_merged.to_csv(paths)"
      ],
      "execution_count": null,
      "outputs": [
        {
          "output_type": "stream",
          "text": [
            "[########################################] | 100% Completed |  3.9s\n"
          ],
          "name": "stdout"
        }
      ]
    },
    {
      "cell_type": "markdown",
      "metadata": {
        "id": "NttlESJU0xRX"
      },
      "source": [
        "## breaking result list and some cleaning"
      ]
    },
    {
      "cell_type": "code",
      "metadata": {
        "colab": {
          "base_uri": "https://localhost:8080/"
        },
        "id": "WopJdtu0NaHW",
        "outputId": "898c1446-7966-469e-d9e4-4848106280f9"
      },
      "source": [
        "for path in paths:\n",
        "    print(\"start\")\n",
        "    df = pd.read_csv(path)\n",
        "    df = df.assign(product_showed=df[\"searches.result\"].str.split(\",\")).explode('product_showed')\n",
        "    df[\"product_showed\"] = df[\"product_showed\"].apply(lambda x:x.replace(\"[\",\"\").replace(\"]\",\"\").replace(\"\\'\",\"\").strip())\n",
        "    df[\"is_clicked\"] = df.apply(lambda x: True if x[\"product_showed\"] == x[\"base_product_id\"] else False,axis=1)\n",
        "\n",
        "    df.drop([\"searches.result\",\"datetime\",\"base_product_id\"],axis=1,inplace=True)\n",
        "    df.to_csv(path,)\n",
        "    print(path)\n"
      ],
      "execution_count": null,
      "outputs": [
        {
          "output_type": "stream",
          "text": [
            "start\n",
            "/content/dirve/MyDrive/programming/DataDays2021/data/search_clicks_merged0.csv\n",
            "start\n",
            "/content/dirve/MyDrive/programming/DataDays2021/data/search_clicks_merged1.csv\n",
            "start\n",
            "/content/dirve/MyDrive/programming/DataDays2021/data/search_clicks_merged2.csv\n",
            "start\n",
            "/content/dirve/MyDrive/programming/DataDays2021/data/search_clicks_merged3.csv\n",
            "start\n",
            "/content/dirve/MyDrive/programming/DataDays2021/data/search_clicks_merged4.csv\n"
          ],
          "name": "stdout"
        }
      ]
    },
    {
      "cell_type": "markdown",
      "metadata": {
        "id": "VAIxsE1502y8"
      },
      "source": [
        "# Merging product dataset"
      ]
    },
    {
      "cell_type": "code",
      "metadata": {
        "id": "AnHg5GyBPEcQ"
      },
      "source": [
        "merged_clicks = dd.read_csv(paths).drop([\"Unnamed: 0\",\"Unnamed: 0.1\",\"search_log_id\"],axis=1)\n",
        "merged_clicks = merged_clicks.rename(columns={\"searches.raw_query\": \"raw_query\", \"searches.page\": \"page\",\"searches.datetime\":\"datetime\"})"
      ],
      "execution_count": null,
      "outputs": []
    },
    {
      "cell_type": "code",
      "metadata": {
        "colab": {
          "base_uri": "https://localhost:8080/",
          "height": 357
        },
        "id": "664WXdkrUUPd",
        "outputId": "0716637c-854d-4712-bd20-6324f78648b9"
      },
      "source": [
        "merged_clicks.head(10)"
      ],
      "execution_count": null,
      "outputs": [
        {
          "output_type": "execute_result",
          "data": {
            "text/html": [
              "<div>\n",
              "<style scoped>\n",
              "    .dataframe tbody tr th:only-of-type {\n",
              "        vertical-align: middle;\n",
              "    }\n",
              "\n",
              "    .dataframe tbody tr th {\n",
              "        vertical-align: top;\n",
              "    }\n",
              "\n",
              "    .dataframe thead th {\n",
              "        text-align: right;\n",
              "    }\n",
              "</style>\n",
              "<table border=\"1\" class=\"dataframe\">\n",
              "  <thead>\n",
              "    <tr style=\"text-align: right;\">\n",
              "      <th></th>\n",
              "      <th>rank</th>\n",
              "      <th>raw_query</th>\n",
              "      <th>page</th>\n",
              "      <th>datetime</th>\n",
              "      <th>_id</th>\n",
              "      <th>product_showed</th>\n",
              "      <th>is_clicked</th>\n",
              "    </tr>\n",
              "  </thead>\n",
              "  <tbody>\n",
              "    <tr>\n",
              "      <th>0</th>\n",
              "      <td>172</td>\n",
              "      <td>پاور بانک سیلیکون پاور</td>\n",
              "      <td>17</td>\n",
              "      <td>2021-04-14 00:40:50.620</td>\n",
              "      <td>6312026</td>\n",
              "      <td>mywzb</td>\n",
              "      <td>False</td>\n",
              "    </tr>\n",
              "    <tr>\n",
              "      <th>1</th>\n",
              "      <td>172</td>\n",
              "      <td>پاور بانک سیلیکون پاور</td>\n",
              "      <td>17</td>\n",
              "      <td>2021-04-14 00:40:50.620</td>\n",
              "      <td>6312026</td>\n",
              "      <td>mfveo</td>\n",
              "      <td>False</td>\n",
              "    </tr>\n",
              "    <tr>\n",
              "      <th>2</th>\n",
              "      <td>172</td>\n",
              "      <td>پاور بانک سیلیکون پاور</td>\n",
              "      <td>17</td>\n",
              "      <td>2021-04-14 00:40:50.620</td>\n",
              "      <td>6312026</td>\n",
              "      <td>mnvzc</td>\n",
              "      <td>True</td>\n",
              "    </tr>\n",
              "    <tr>\n",
              "      <th>3</th>\n",
              "      <td>172</td>\n",
              "      <td>پاور بانک سیلیکون پاور</td>\n",
              "      <td>17</td>\n",
              "      <td>2021-04-14 00:40:50.620</td>\n",
              "      <td>6312026</td>\n",
              "      <td>mozvc</td>\n",
              "      <td>False</td>\n",
              "    </tr>\n",
              "    <tr>\n",
              "      <th>4</th>\n",
              "      <td>172</td>\n",
              "      <td>پاور بانک سیلیکون پاور</td>\n",
              "      <td>17</td>\n",
              "      <td>2021-04-14 00:40:50.620</td>\n",
              "      <td>6312026</td>\n",
              "      <td>bbfhh</td>\n",
              "      <td>False</td>\n",
              "    </tr>\n",
              "    <tr>\n",
              "      <th>5</th>\n",
              "      <td>172</td>\n",
              "      <td>پاور بانک سیلیکون پاور</td>\n",
              "      <td>17</td>\n",
              "      <td>2021-04-14 00:40:50.620</td>\n",
              "      <td>6312026</td>\n",
              "      <td>mmmsw</td>\n",
              "      <td>False</td>\n",
              "    </tr>\n",
              "    <tr>\n",
              "      <th>6</th>\n",
              "      <td>172</td>\n",
              "      <td>پاور بانک سیلیکون پاور</td>\n",
              "      <td>17</td>\n",
              "      <td>2021-04-14 00:40:50.620</td>\n",
              "      <td>6312026</td>\n",
              "      <td>mxxtl</td>\n",
              "      <td>False</td>\n",
              "    </tr>\n",
              "    <tr>\n",
              "      <th>7</th>\n",
              "      <td>172</td>\n",
              "      <td>پاور بانک سیلیکون پاور</td>\n",
              "      <td>17</td>\n",
              "      <td>2021-04-14 00:40:50.620</td>\n",
              "      <td>6312026</td>\n",
              "      <td>myzak</td>\n",
              "      <td>False</td>\n",
              "    </tr>\n",
              "    <tr>\n",
              "      <th>8</th>\n",
              "      <td>5</td>\n",
              "      <td>یخچال فریزر الجی</td>\n",
              "      <td>0</td>\n",
              "      <td>2021-04-14 08:50:51.477</td>\n",
              "      <td>6312123</td>\n",
              "      <td>muvux</td>\n",
              "      <td>False</td>\n",
              "    </tr>\n",
              "    <tr>\n",
              "      <th>9</th>\n",
              "      <td>5</td>\n",
              "      <td>یخچال فریزر الجی</td>\n",
              "      <td>0</td>\n",
              "      <td>2021-04-14 08:50:51.477</td>\n",
              "      <td>6312123</td>\n",
              "      <td>mmjii</td>\n",
              "      <td>False</td>\n",
              "    </tr>\n",
              "  </tbody>\n",
              "</table>\n",
              "</div>"
            ],
            "text/plain": [
              "   rank               raw_query  page  ...      _id  product_showed is_clicked\n",
              "0   172  پاور بانک سیلیکون پاور    17  ...  6312026           mywzb      False\n",
              "1   172  پاور بانک سیلیکون پاور    17  ...  6312026           mfveo      False\n",
              "2   172  پاور بانک سیلیکون پاور    17  ...  6312026           mnvzc       True\n",
              "3   172  پاور بانک سیلیکون پاور    17  ...  6312026           mozvc      False\n",
              "4   172  پاور بانک سیلیکون پاور    17  ...  6312026           bbfhh      False\n",
              "5   172  پاور بانک سیلیکون پاور    17  ...  6312026           mmmsw      False\n",
              "6   172  پاور بانک سیلیکون پاور    17  ...  6312026           mxxtl      False\n",
              "7   172  پاور بانک سیلیکون پاور    17  ...  6312026           myzak      False\n",
              "8     5        یخچال فریزر الجی     0  ...  6312123           muvux      False\n",
              "9     5        یخچال فریزر الجی     0  ...  6312123           mmjii      False\n",
              "\n",
              "[10 rows x 7 columns]"
            ]
          },
          "metadata": {
            "tags": []
          },
          "execution_count": 78
        }
      ]
    },
    {
      "cell_type": "markdown",
      "metadata": {
        "id": "FwFO9fGu07X_"
      },
      "source": [
        "## adding entities"
      ]
    },
    {
      "cell_type": "code",
      "metadata": {
        "id": "XCzJBoAPkR2e"
      },
      "source": [
        "es = ft.EntitySet(id=\"complete\")"
      ],
      "execution_count": null,
      "outputs": []
    },
    {
      "cell_type": "code",
      "metadata": {
        "colab": {
          "base_uri": "https://localhost:8080/"
        },
        "id": "7q6ERwdbWuP4",
        "outputId": "c7b91991-ee04-4e79-dbc4-358b882c085b"
      },
      "source": [
        "es.entity_from_dataframe(entity_id=\"products\",dataframe=products_df,index=\"_id\",\n",
        "                         variable_types = {\n",
        "                             \"category_name\":vr.Categorical,\n",
        "                             \"product_name_normalized\":vr.NaturalLanguage,\n",
        "                             \"first_added_date\":vr.Datetime,\n",
        "                             \"last_added_date\":vr.Datetime,\n",
        "                             \"sellers_count\":vr.Numeric,\n",
        "                             \"availabilty_ratio\":vr.Numeric,\n",
        "                             \"mean_all_price\":vr.Numeric,\n",
        "                             \"max_all_price\":vr.Numeric,\n",
        "                             \"min_all_price\":vr.Numeric,\n",
        "                             \"std_all_price\":vr.Numeric,\n",
        "                             \"skew_all_price\":vr.Numeric,\n",
        "                             \"mean_available_price\":vr.Numeric,\n",
        "                             \"max_available_price\":vr.Numeric,\n",
        "                             \"min_available_price\":vr.Numeric,\n",
        "                             \"std_available_price\":vr.Numeric,\n",
        "                             \"skew_available_price\":vr.Numeric,\n",
        "                         })"
      ],
      "execution_count": null,
      "outputs": [
        {
          "output_type": "execute_result",
          "data": {
            "text/plain": [
              "Entityset: complete\n",
              "  Entities:\n",
              "    products [Rows: Delayed('int-d550bd00-eb3d-4801-ba9f-881c44978614'), Columns: 17]\n",
              "  Relationships:\n",
              "    No relationships"
            ]
          },
          "metadata": {
            "tags": []
          },
          "execution_count": 80
        }
      ]
    },
    {
      "cell_type": "code",
      "metadata": {
        "colab": {
          "base_uri": "https://localhost:8080/"
        },
        "id": "IgSxcF2Wkk2C",
        "outputId": "500edde4-78b3-4f1c-c99f-cf37d6542425"
      },
      "source": [
        "es.entity_from_dataframe(entity_id=\"clicked_merged\",dataframe=merged_clicks,index=\"_id\",\n",
        "                         variable_types = {\"rank\":vr.Ordinal,\n",
        "                                           \"raw_query\": vr.NaturalLanguage,\n",
        "                                           \"page\":vr.Ordinal,\n",
        "                                           \"datetime\":vr.Datetime,\n",
        "                                           \"product_showed\":vr.Id,\n",
        "                                           \"is_clicked\":vr.Boolean,\n",
        "                                           \"_id\":vr.Index\n",
        "                         })"
      ],
      "execution_count": null,
      "outputs": [
        {
          "output_type": "execute_result",
          "data": {
            "text/plain": [
              "Entityset: complete\n",
              "  Entities:\n",
              "    products [Rows: Delayed('int-ef15d8b2-153c-4a22-a296-6604b93ec8c0'), Columns: 17]\n",
              "    clicked_merged [Rows: Delayed('int-50356818-08d3-4b48-8628-acbfb85c5be0'), Columns: 7]\n",
              "  Relationships:\n",
              "    No relationships"
            ]
          },
          "metadata": {
            "tags": []
          },
          "execution_count": 81
        }
      ]
    },
    {
      "cell_type": "markdown",
      "metadata": {
        "id": "mVLRrGEF0_pk"
      },
      "source": [
        "## adding realationships"
      ]
    },
    {
      "cell_type": "code",
      "metadata": {
        "colab": {
          "base_uri": "https://localhost:8080/"
        },
        "id": "EXMmtiMJWjyx",
        "outputId": "cfa8bc4b-ffe4-4a09-a41d-6095ae7bdac0"
      },
      "source": [
        " rel = ft.Relationship(es[\"products\"][\"_id\"],es[\"clicked_merged\"][\"product_showed\"])\n",
        "es.add_relationship(rel)"
      ],
      "execution_count": null,
      "outputs": [
        {
          "output_type": "execute_result",
          "data": {
            "text/plain": [
              "Entityset: complete\n",
              "  Entities:\n",
              "    products [Rows: Delayed('int-19c634bd-49f0-4c75-a830-c0624d4d653d'), Columns: 17]\n",
              "    clicked_merged [Rows: Delayed('int-58bb3933-f4ca-48b0-97f4-338a04655be9'), Columns: 7]\n",
              "  Relationships:\n",
              "    clicked_merged.product_showed -> products._id"
            ]
          },
          "metadata": {
            "tags": []
          },
          "execution_count": 82
        }
      ]
    },
    {
      "cell_type": "code",
      "metadata": {
        "colab": {
          "base_uri": "https://localhost:8080/",
          "height": 644
        },
        "id": "s6yTXkVXmZ5B",
        "outputId": "5659532c-f8ad-404c-e2b9-fea01423121e"
      },
      "source": [
        "es.plot()"
      ],
      "execution_count": null,
      "outputs": [
        {
          "output_type": "execute_result",
          "data": {
            "text/plain": [
              "<graphviz.dot.Digraph at 0x7f4786f21610>"
            ],
            "image/svg+xml": "<?xml version=\"1.0\" encoding=\"UTF-8\" standalone=\"no\"?>\n<!DOCTYPE svg PUBLIC \"-//W3C//DTD SVG 1.1//EN\"\n \"http://www.w3.org/Graphics/SVG/1.1/DTD/svg11.dtd\">\n<!-- Generated by graphviz version 2.40.1 (20161225.0304)\n -->\n<!-- Title: complete Pages: 1 -->\n<svg width=\"288pt\" height=\"468pt\"\n viewBox=\"0.00 0.00 288.00 468.00\" xmlns=\"http://www.w3.org/2000/svg\" xmlns:xlink=\"http://www.w3.org/1999/xlink\">\n<g id=\"graph0\" class=\"graph\" transform=\"scale(1 1) rotate(0) translate(4 464)\">\n<title>complete</title>\n<polygon fill=\"#ffffff\" stroke=\"transparent\" points=\"-4,4 -4,-464 284,-464 284,4 -4,4\"/>\n<!-- products -->\n<g id=\"node1\" class=\"node\">\n<title>products</title>\n<polygon fill=\"none\" stroke=\"#000000\" points=\"0,-.5 0,-286.5 280,-286.5 280,-.5 0,-.5\"/>\n<text text-anchor=\"middle\" x=\"140\" y=\"-271.3\" font-family=\"Times,serif\" font-size=\"14.00\" fill=\"#000000\">products</text>\n<polyline fill=\"none\" stroke=\"#000000\" points=\"0,-263.5 280,-263.5 \"/>\n<text text-anchor=\"start\" x=\"8\" y=\"-248.3\" font-family=\"Times,serif\" font-size=\"14.00\" fill=\"#000000\">_id : index</text>\n<text text-anchor=\"start\" x=\"8\" y=\"-233.3\" font-family=\"Times,serif\" font-size=\"14.00\" fill=\"#000000\">category_name : categorical</text>\n<text text-anchor=\"start\" x=\"8\" y=\"-218.3\" font-family=\"Times,serif\" font-size=\"14.00\" fill=\"#000000\">product_name_normalized : natural_language</text>\n<text text-anchor=\"start\" x=\"8\" y=\"-203.3\" font-family=\"Times,serif\" font-size=\"14.00\" fill=\"#000000\">first_added_date : datetime</text>\n<text text-anchor=\"start\" x=\"8\" y=\"-188.3\" font-family=\"Times,serif\" font-size=\"14.00\" fill=\"#000000\">last_added_date : datetime</text>\n<text text-anchor=\"start\" x=\"8\" y=\"-173.3\" font-family=\"Times,serif\" font-size=\"14.00\" fill=\"#000000\">sellers_count : numeric</text>\n<text text-anchor=\"start\" x=\"8\" y=\"-158.3\" font-family=\"Times,serif\" font-size=\"14.00\" fill=\"#000000\">availabilty_ratio : numeric</text>\n<text text-anchor=\"start\" x=\"8\" y=\"-143.3\" font-family=\"Times,serif\" font-size=\"14.00\" fill=\"#000000\">mean_all_price : numeric</text>\n<text text-anchor=\"start\" x=\"8\" y=\"-128.3\" font-family=\"Times,serif\" font-size=\"14.00\" fill=\"#000000\">max_all_price : numeric</text>\n<text text-anchor=\"start\" x=\"8\" y=\"-113.3\" font-family=\"Times,serif\" font-size=\"14.00\" fill=\"#000000\">min_all_price : numeric</text>\n<text text-anchor=\"start\" x=\"8\" y=\"-98.3\" font-family=\"Times,serif\" font-size=\"14.00\" fill=\"#000000\">std_all_price : numeric</text>\n<text text-anchor=\"start\" x=\"8\" y=\"-83.3\" font-family=\"Times,serif\" font-size=\"14.00\" fill=\"#000000\">skew_all_price : numeric</text>\n<text text-anchor=\"start\" x=\"8\" y=\"-68.3\" font-family=\"Times,serif\" font-size=\"14.00\" fill=\"#000000\">mean_available_price : numeric</text>\n<text text-anchor=\"start\" x=\"8\" y=\"-53.3\" font-family=\"Times,serif\" font-size=\"14.00\" fill=\"#000000\">max_available_price : numeric</text>\n<text text-anchor=\"start\" x=\"8\" y=\"-38.3\" font-family=\"Times,serif\" font-size=\"14.00\" fill=\"#000000\">min_available_price : numeric</text>\n<text text-anchor=\"start\" x=\"8\" y=\"-23.3\" font-family=\"Times,serif\" font-size=\"14.00\" fill=\"#000000\">std_available_price : numeric</text>\n<text text-anchor=\"start\" x=\"8\" y=\"-8.3\" font-family=\"Times,serif\" font-size=\"14.00\" fill=\"#000000\">skew_available_price : numeric</text>\n</g>\n<!-- clicked_merged -->\n<g id=\"node2\" class=\"node\">\n<title>clicked_merged</title>\n<polygon fill=\"none\" stroke=\"#000000\" points=\"46,-323.5 46,-459.5 234,-459.5 234,-323.5 46,-323.5\"/>\n<text text-anchor=\"middle\" x=\"140\" y=\"-444.3\" font-family=\"Times,serif\" font-size=\"14.00\" fill=\"#000000\">clicked_merged</text>\n<polyline fill=\"none\" stroke=\"#000000\" points=\"46,-436.5 234,-436.5 \"/>\n<text text-anchor=\"start\" x=\"54\" y=\"-421.3\" font-family=\"Times,serif\" font-size=\"14.00\" fill=\"#000000\">_id : index</text>\n<text text-anchor=\"start\" x=\"54\" y=\"-406.3\" font-family=\"Times,serif\" font-size=\"14.00\" fill=\"#000000\">rank : ordinal</text>\n<text text-anchor=\"start\" x=\"54\" y=\"-391.3\" font-family=\"Times,serif\" font-size=\"14.00\" fill=\"#000000\">raw_query : natural_language</text>\n<text text-anchor=\"start\" x=\"54\" y=\"-376.3\" font-family=\"Times,serif\" font-size=\"14.00\" fill=\"#000000\">page : ordinal</text>\n<text text-anchor=\"start\" x=\"54\" y=\"-361.3\" font-family=\"Times,serif\" font-size=\"14.00\" fill=\"#000000\">datetime : datetime</text>\n<text text-anchor=\"start\" x=\"54\" y=\"-346.3\" font-family=\"Times,serif\" font-size=\"14.00\" fill=\"#000000\">product_showed : id</text>\n<text text-anchor=\"start\" x=\"54\" y=\"-331.3\" font-family=\"Times,serif\" font-size=\"14.00\" fill=\"#000000\">is_clicked : boolean</text>\n</g>\n<!-- clicked_merged&#45;&gt;products -->\n<g id=\"edge1\" class=\"edge\">\n<title>clicked_merged&#45;&gt;products</title>\n<path fill=\"none\" stroke=\"#000000\" d=\"M140,-323.4049C140,-323.4049 140,-296.6297 140,-296.6297\"/>\n<polygon fill=\"#000000\" stroke=\"#000000\" points=\"143.5001,-296.6296 140,-286.6297 136.5001,-296.6297 143.5001,-296.6296\"/>\n<text text-anchor=\"middle\" x=\"72\" y=\"-298.8173\" font-family=\"Times,serif\" font-size=\"14.00\" fill=\"#000000\">_id &#45;&gt; product_showed</text>\n</g>\n</g>\n</svg>\n"
          },
          "metadata": {
            "tags": []
          },
          "execution_count": 83
        }
      ]
    },
    {
      "cell_type": "markdown",
      "metadata": {
        "id": "C52RtpY01Cv_"
      },
      "source": [
        "## deep feature synthesis clicks"
      ]
    },
    {
      "cell_type": "code",
      "metadata": {
        "id": "9ytH-J6snCYs"
      },
      "source": [
        "aggregation_primitives = [\"Std\",\"Max\",\"Min\",\"Count\",\"percent_true\",\"mean\",\"Sum\"]\n",
        "transform_primitives = [\"Year\",\"Month\",\"Weekday\",\"Day\",\"hour\",\"minute\",\"is_weekend\",\"Num_Words\"]"
      ],
      "execution_count": null,
      "outputs": []
    },
    {
      "cell_type": "code",
      "metadata": {
        "colab": {
          "base_uri": "https://localhost:8080/"
        },
        "id": "xRVavdqamexJ",
        "outputId": "377553c1-9772-4c80-f4ab-e11a1484884a"
      },
      "source": [
        "feature_matrix , defs = ft.dfs(entityset=es,target_entity=\"clicked_merged\",\n",
        "                               agg_primitives = aggregation_primitives, trans_primitives = transform_primitives,\n",
        "                               return_variable_types = [vr.NaturalLanguage,vr.Numeric,vr.Ordinal,vr.Categorical,vr.Boolean],\n",
        "                               verbose = True,max_depth=2)"
      ],
      "execution_count": null,
      "outputs": [
        {
          "output_type": "stream",
          "text": [
            "Built 44 features\n"
          ],
          "name": "stdout"
        },
        {
          "output_type": "stream",
          "text": [
            "/usr/local/lib/python3.7/dist-packages/featuretools/synthesis/dfs.py:307: UnusedPrimitiveWarning: Some specified primitives were not used during DFS:\n",
            "  trans_primitives: ['Day', 'Month', 'Num_Words', 'Weekday', 'Year']\n",
            "  agg_primitives: ['Count', 'Max', 'Min', 'Std', 'Sum', 'mean']\n",
            "This may be caused by a using a value of max_depth that is too small, not setting interesting values, or it may indicate no compatible variable types for the primitive were found in the data.\n",
            "  warnings.warn(warning_msg, UnusedPrimitiveWarning)\n"
          ],
          "name": "stderr"
        },
        {
          "output_type": "stream",
          "text": [
            "Elapsed: 00:00 | Progress: 100%|██████████\n"
          ],
          "name": "stdout"
        }
      ]
    },
    {
      "cell_type": "code",
      "metadata": {
        "colab": {
          "base_uri": "https://localhost:8080/"
        },
        "id": "r9i6TsTana_a",
        "outputId": "5bc8bff8-1130-4b95-910e-3e4951c4d701"
      },
      "source": [
        "defs"
      ],
      "execution_count": null,
      "outputs": [
        {
          "output_type": "execute_result",
          "data": {
            "text/plain": [
              "[<Feature: rank>,\n",
              " <Feature: raw_query>,\n",
              " <Feature: page>,\n",
              " <Feature: product_showed>,\n",
              " <Feature: is_clicked>,\n",
              " <Feature: DAY(datetime)>,\n",
              " <Feature: HOUR(datetime)>,\n",
              " <Feature: IS_WEEKEND(datetime)>,\n",
              " <Feature: MINUTE(datetime)>,\n",
              " <Feature: MONTH(datetime)>,\n",
              " <Feature: NUM_WORDS(raw_query)>,\n",
              " <Feature: WEEKDAY(datetime)>,\n",
              " <Feature: YEAR(datetime)>,\n",
              " <Feature: products.category_name>,\n",
              " <Feature: products.product_name_normalized>,\n",
              " <Feature: products.sellers_count>,\n",
              " <Feature: products.availabilty_ratio>,\n",
              " <Feature: products.mean_all_price>,\n",
              " <Feature: products.max_all_price>,\n",
              " <Feature: products.min_all_price>,\n",
              " <Feature: products.std_all_price>,\n",
              " <Feature: products.skew_all_price>,\n",
              " <Feature: products.mean_available_price>,\n",
              " <Feature: products.max_available_price>,\n",
              " <Feature: products.min_available_price>,\n",
              " <Feature: products.std_available_price>,\n",
              " <Feature: products.skew_available_price>,\n",
              " <Feature: products.COUNT(clicked_merged)>,\n",
              " <Feature: products.PERCENT_TRUE(clicked_merged.is_clicked)>,\n",
              " <Feature: products.DAY(first_added_date)>,\n",
              " <Feature: products.DAY(last_added_date)>,\n",
              " <Feature: products.HOUR(first_added_date)>,\n",
              " <Feature: products.HOUR(last_added_date)>,\n",
              " <Feature: products.IS_WEEKEND(first_added_date)>,\n",
              " <Feature: products.IS_WEEKEND(last_added_date)>,\n",
              " <Feature: products.MINUTE(first_added_date)>,\n",
              " <Feature: products.MINUTE(last_added_date)>,\n",
              " <Feature: products.MONTH(first_added_date)>,\n",
              " <Feature: products.MONTH(last_added_date)>,\n",
              " <Feature: products.NUM_WORDS(product_name_normalized)>,\n",
              " <Feature: products.WEEKDAY(first_added_date)>,\n",
              " <Feature: products.WEEKDAY(last_added_date)>,\n",
              " <Feature: products.YEAR(first_added_date)>,\n",
              " <Feature: products.YEAR(last_added_date)>]"
            ]
          },
          "metadata": {
            "tags": []
          },
          "execution_count": 93
        }
      ]
    },
    {
      "cell_type": "code",
      "metadata": {
        "colab": {
          "base_uri": "https://localhost:8080/",
          "height": 287
        },
        "id": "3c_qSZ6yq69t",
        "outputId": "910a9e3d-62d6-4b8b-8823-2accba1df555"
      },
      "source": [
        "feature_matrix"
      ],
      "execution_count": null,
      "outputs": [
        {
          "output_type": "execute_result",
          "data": {
            "text/html": [
              "<div><strong>Dask DataFrame Structure:</strong></div>\n",
              "<div>\n",
              "<style scoped>\n",
              "    .dataframe tbody tr th:only-of-type {\n",
              "        vertical-align: middle;\n",
              "    }\n",
              "\n",
              "    .dataframe tbody tr th {\n",
              "        vertical-align: top;\n",
              "    }\n",
              "\n",
              "    .dataframe thead th {\n",
              "        text-align: right;\n",
              "    }\n",
              "</style>\n",
              "<table border=\"1\" class=\"dataframe\">\n",
              "  <thead>\n",
              "    <tr style=\"text-align: right;\">\n",
              "      <th></th>\n",
              "      <th>rank</th>\n",
              "      <th>raw_query</th>\n",
              "      <th>page</th>\n",
              "      <th>product_showed</th>\n",
              "      <th>is_clicked</th>\n",
              "      <th>DAY(datetime)</th>\n",
              "      <th>HOUR(datetime)</th>\n",
              "      <th>IS_WEEKEND(datetime)</th>\n",
              "      <th>MINUTE(datetime)</th>\n",
              "      <th>MONTH(datetime)</th>\n",
              "      <th>NUM_WORDS(raw_query)</th>\n",
              "      <th>WEEKDAY(datetime)</th>\n",
              "      <th>YEAR(datetime)</th>\n",
              "      <th>products.category_name</th>\n",
              "      <th>products.product_name_normalized</th>\n",
              "      <th>products.sellers_count</th>\n",
              "      <th>products.availabilty_ratio</th>\n",
              "      <th>products.mean_all_price</th>\n",
              "      <th>products.max_all_price</th>\n",
              "      <th>products.min_all_price</th>\n",
              "      <th>products.std_all_price</th>\n",
              "      <th>products.skew_all_price</th>\n",
              "      <th>products.mean_available_price</th>\n",
              "      <th>products.max_available_price</th>\n",
              "      <th>products.min_available_price</th>\n",
              "      <th>products.std_available_price</th>\n",
              "      <th>products.skew_available_price</th>\n",
              "      <th>products.COUNT(clicked_merged)</th>\n",
              "      <th>products.PERCENT_TRUE(clicked_merged.is_clicked)</th>\n",
              "      <th>products.DAY(first_added_date)</th>\n",
              "      <th>products.DAY(last_added_date)</th>\n",
              "      <th>products.HOUR(first_added_date)</th>\n",
              "      <th>products.HOUR(last_added_date)</th>\n",
              "      <th>products.IS_WEEKEND(first_added_date)</th>\n",
              "      <th>products.IS_WEEKEND(last_added_date)</th>\n",
              "      <th>products.MINUTE(first_added_date)</th>\n",
              "      <th>products.MINUTE(last_added_date)</th>\n",
              "      <th>products.MONTH(first_added_date)</th>\n",
              "      <th>products.MONTH(last_added_date)</th>\n",
              "      <th>products.NUM_WORDS(product_name_normalized)</th>\n",
              "      <th>products.WEEKDAY(first_added_date)</th>\n",
              "      <th>products.WEEKDAY(last_added_date)</th>\n",
              "      <th>products.YEAR(first_added_date)</th>\n",
              "      <th>products.YEAR(last_added_date)</th>\n",
              "      <th>_id</th>\n",
              "    </tr>\n",
              "    <tr>\n",
              "      <th>npartitions=128</th>\n",
              "      <th></th>\n",
              "      <th></th>\n",
              "      <th></th>\n",
              "      <th></th>\n",
              "      <th></th>\n",
              "      <th></th>\n",
              "      <th></th>\n",
              "      <th></th>\n",
              "      <th></th>\n",
              "      <th></th>\n",
              "      <th></th>\n",
              "      <th></th>\n",
              "      <th></th>\n",
              "      <th></th>\n",
              "      <th></th>\n",
              "      <th></th>\n",
              "      <th></th>\n",
              "      <th></th>\n",
              "      <th></th>\n",
              "      <th></th>\n",
              "      <th></th>\n",
              "      <th></th>\n",
              "      <th></th>\n",
              "      <th></th>\n",
              "      <th></th>\n",
              "      <th></th>\n",
              "      <th></th>\n",
              "      <th></th>\n",
              "      <th></th>\n",
              "      <th></th>\n",
              "      <th></th>\n",
              "      <th></th>\n",
              "      <th></th>\n",
              "      <th></th>\n",
              "      <th></th>\n",
              "      <th></th>\n",
              "      <th></th>\n",
              "      <th></th>\n",
              "      <th></th>\n",
              "      <th></th>\n",
              "      <th></th>\n",
              "      <th></th>\n",
              "      <th></th>\n",
              "      <th></th>\n",
              "      <th></th>\n",
              "    </tr>\n",
              "  </thead>\n",
              "  <tbody>\n",
              "    <tr>\n",
              "      <th></th>\n",
              "      <td>int64</td>\n",
              "      <td>object</td>\n",
              "      <td>int64</td>\n",
              "      <td>object</td>\n",
              "      <td>bool</td>\n",
              "      <td>int64</td>\n",
              "      <td>int64</td>\n",
              "      <td>bool</td>\n",
              "      <td>int64</td>\n",
              "      <td>int64</td>\n",
              "      <td>int64</td>\n",
              "      <td>int64</td>\n",
              "      <td>int64</td>\n",
              "      <td>object</td>\n",
              "      <td>object</td>\n",
              "      <td>int64</td>\n",
              "      <td>float64</td>\n",
              "      <td>float64</td>\n",
              "      <td>float64</td>\n",
              "      <td>float64</td>\n",
              "      <td>float64</td>\n",
              "      <td>float64</td>\n",
              "      <td>float64</td>\n",
              "      <td>float64</td>\n",
              "      <td>float64</td>\n",
              "      <td>float64</td>\n",
              "      <td>float64</td>\n",
              "      <td>float64</td>\n",
              "      <td>float64</td>\n",
              "      <td>int64</td>\n",
              "      <td>int64</td>\n",
              "      <td>int64</td>\n",
              "      <td>int64</td>\n",
              "      <td>bool</td>\n",
              "      <td>bool</td>\n",
              "      <td>int64</td>\n",
              "      <td>int64</td>\n",
              "      <td>int64</td>\n",
              "      <td>int64</td>\n",
              "      <td>int64</td>\n",
              "      <td>int64</td>\n",
              "      <td>int64</td>\n",
              "      <td>int64</td>\n",
              "      <td>int64</td>\n",
              "      <td>int64</td>\n",
              "    </tr>\n",
              "    <tr>\n",
              "      <th></th>\n",
              "      <td>...</td>\n",
              "      <td>...</td>\n",
              "      <td>...</td>\n",
              "      <td>...</td>\n",
              "      <td>...</td>\n",
              "      <td>...</td>\n",
              "      <td>...</td>\n",
              "      <td>...</td>\n",
              "      <td>...</td>\n",
              "      <td>...</td>\n",
              "      <td>...</td>\n",
              "      <td>...</td>\n",
              "      <td>...</td>\n",
              "      <td>...</td>\n",
              "      <td>...</td>\n",
              "      <td>...</td>\n",
              "      <td>...</td>\n",
              "      <td>...</td>\n",
              "      <td>...</td>\n",
              "      <td>...</td>\n",
              "      <td>...</td>\n",
              "      <td>...</td>\n",
              "      <td>...</td>\n",
              "      <td>...</td>\n",
              "      <td>...</td>\n",
              "      <td>...</td>\n",
              "      <td>...</td>\n",
              "      <td>...</td>\n",
              "      <td>...</td>\n",
              "      <td>...</td>\n",
              "      <td>...</td>\n",
              "      <td>...</td>\n",
              "      <td>...</td>\n",
              "      <td>...</td>\n",
              "      <td>...</td>\n",
              "      <td>...</td>\n",
              "      <td>...</td>\n",
              "      <td>...</td>\n",
              "      <td>...</td>\n",
              "      <td>...</td>\n",
              "      <td>...</td>\n",
              "      <td>...</td>\n",
              "      <td>...</td>\n",
              "      <td>...</td>\n",
              "      <td>...</td>\n",
              "    </tr>\n",
              "    <tr>\n",
              "      <th>...</th>\n",
              "      <td>...</td>\n",
              "      <td>...</td>\n",
              "      <td>...</td>\n",
              "      <td>...</td>\n",
              "      <td>...</td>\n",
              "      <td>...</td>\n",
              "      <td>...</td>\n",
              "      <td>...</td>\n",
              "      <td>...</td>\n",
              "      <td>...</td>\n",
              "      <td>...</td>\n",
              "      <td>...</td>\n",
              "      <td>...</td>\n",
              "      <td>...</td>\n",
              "      <td>...</td>\n",
              "      <td>...</td>\n",
              "      <td>...</td>\n",
              "      <td>...</td>\n",
              "      <td>...</td>\n",
              "      <td>...</td>\n",
              "      <td>...</td>\n",
              "      <td>...</td>\n",
              "      <td>...</td>\n",
              "      <td>...</td>\n",
              "      <td>...</td>\n",
              "      <td>...</td>\n",
              "      <td>...</td>\n",
              "      <td>...</td>\n",
              "      <td>...</td>\n",
              "      <td>...</td>\n",
              "      <td>...</td>\n",
              "      <td>...</td>\n",
              "      <td>...</td>\n",
              "      <td>...</td>\n",
              "      <td>...</td>\n",
              "      <td>...</td>\n",
              "      <td>...</td>\n",
              "      <td>...</td>\n",
              "      <td>...</td>\n",
              "      <td>...</td>\n",
              "      <td>...</td>\n",
              "      <td>...</td>\n",
              "      <td>...</td>\n",
              "      <td>...</td>\n",
              "      <td>...</td>\n",
              "    </tr>\n",
              "    <tr>\n",
              "      <th></th>\n",
              "      <td>...</td>\n",
              "      <td>...</td>\n",
              "      <td>...</td>\n",
              "      <td>...</td>\n",
              "      <td>...</td>\n",
              "      <td>...</td>\n",
              "      <td>...</td>\n",
              "      <td>...</td>\n",
              "      <td>...</td>\n",
              "      <td>...</td>\n",
              "      <td>...</td>\n",
              "      <td>...</td>\n",
              "      <td>...</td>\n",
              "      <td>...</td>\n",
              "      <td>...</td>\n",
              "      <td>...</td>\n",
              "      <td>...</td>\n",
              "      <td>...</td>\n",
              "      <td>...</td>\n",
              "      <td>...</td>\n",
              "      <td>...</td>\n",
              "      <td>...</td>\n",
              "      <td>...</td>\n",
              "      <td>...</td>\n",
              "      <td>...</td>\n",
              "      <td>...</td>\n",
              "      <td>...</td>\n",
              "      <td>...</td>\n",
              "      <td>...</td>\n",
              "      <td>...</td>\n",
              "      <td>...</td>\n",
              "      <td>...</td>\n",
              "      <td>...</td>\n",
              "      <td>...</td>\n",
              "      <td>...</td>\n",
              "      <td>...</td>\n",
              "      <td>...</td>\n",
              "      <td>...</td>\n",
              "      <td>...</td>\n",
              "      <td>...</td>\n",
              "      <td>...</td>\n",
              "      <td>...</td>\n",
              "      <td>...</td>\n",
              "      <td>...</td>\n",
              "      <td>...</td>\n",
              "    </tr>\n",
              "    <tr>\n",
              "      <th></th>\n",
              "      <td>...</td>\n",
              "      <td>...</td>\n",
              "      <td>...</td>\n",
              "      <td>...</td>\n",
              "      <td>...</td>\n",
              "      <td>...</td>\n",
              "      <td>...</td>\n",
              "      <td>...</td>\n",
              "      <td>...</td>\n",
              "      <td>...</td>\n",
              "      <td>...</td>\n",
              "      <td>...</td>\n",
              "      <td>...</td>\n",
              "      <td>...</td>\n",
              "      <td>...</td>\n",
              "      <td>...</td>\n",
              "      <td>...</td>\n",
              "      <td>...</td>\n",
              "      <td>...</td>\n",
              "      <td>...</td>\n",
              "      <td>...</td>\n",
              "      <td>...</td>\n",
              "      <td>...</td>\n",
              "      <td>...</td>\n",
              "      <td>...</td>\n",
              "      <td>...</td>\n",
              "      <td>...</td>\n",
              "      <td>...</td>\n",
              "      <td>...</td>\n",
              "      <td>...</td>\n",
              "      <td>...</td>\n",
              "      <td>...</td>\n",
              "      <td>...</td>\n",
              "      <td>...</td>\n",
              "      <td>...</td>\n",
              "      <td>...</td>\n",
              "      <td>...</td>\n",
              "      <td>...</td>\n",
              "      <td>...</td>\n",
              "      <td>...</td>\n",
              "      <td>...</td>\n",
              "      <td>...</td>\n",
              "      <td>...</td>\n",
              "      <td>...</td>\n",
              "      <td>...</td>\n",
              "    </tr>\n",
              "  </tbody>\n",
              "</table>\n",
              "</div>\n",
              "<div>Dask Name: getitem, 7052 tasks</div>"
            ],
            "text/plain": [
              "Dask DataFrame Structure:\n",
              "                  rank raw_query   page product_showed is_clicked DAY(datetime) HOUR(datetime) IS_WEEKEND(datetime) MINUTE(datetime) MONTH(datetime) NUM_WORDS(raw_query) WEEKDAY(datetime) YEAR(datetime) products.category_name products.product_name_normalized products.sellers_count products.availabilty_ratio products.mean_all_price products.max_all_price products.min_all_price products.std_all_price products.skew_all_price products.mean_available_price products.max_available_price products.min_available_price products.std_available_price products.skew_available_price products.COUNT(clicked_merged) products.PERCENT_TRUE(clicked_merged.is_clicked) products.DAY(first_added_date) products.DAY(last_added_date) products.HOUR(first_added_date) products.HOUR(last_added_date) products.IS_WEEKEND(first_added_date) products.IS_WEEKEND(last_added_date) products.MINUTE(first_added_date) products.MINUTE(last_added_date) products.MONTH(first_added_date) products.MONTH(last_added_date) products.NUM_WORDS(product_name_normalized) products.WEEKDAY(first_added_date) products.WEEKDAY(last_added_date) products.YEAR(first_added_date) products.YEAR(last_added_date)    _id\n",
              "npartitions=128                                                                                                                                                                                                                                                                                                                                                                                                                                                                                                                                                                                                                                                                                                                                                                                                                                                                                                                                                                                                                                                                                                                                                                                               \n",
              "                 int64    object  int64         object       bool         int64          int64                 bool            int64           int64                int64             int64          int64                 object                           object                  int64                    float64                 float64                float64                float64                float64                 float64                       float64                      float64                      float64                      float64                       float64                        float64                                          float64                          int64                         int64                           int64                          int64                                  bool                                 bool                             int64                            int64                            int64                           int64                                       int64                              int64                             int64                           int64                          int64  int64\n",
              "                   ...       ...    ...            ...        ...           ...            ...                  ...              ...             ...                  ...               ...            ...                    ...                              ...                    ...                        ...                     ...                    ...                    ...                    ...                     ...                           ...                          ...                          ...                          ...                           ...                            ...                                              ...                            ...                           ...                             ...                            ...                                   ...                                  ...                               ...                              ...                              ...                             ...                                         ...                                ...                               ...                             ...                            ...    ...\n",
              "...                ...       ...    ...            ...        ...           ...            ...                  ...              ...             ...                  ...               ...            ...                    ...                              ...                    ...                        ...                     ...                    ...                    ...                    ...                     ...                           ...                          ...                          ...                          ...                           ...                            ...                                              ...                            ...                           ...                             ...                            ...                                   ...                                  ...                               ...                              ...                              ...                             ...                                         ...                                ...                               ...                             ...                            ...    ...\n",
              "                   ...       ...    ...            ...        ...           ...            ...                  ...              ...             ...                  ...               ...            ...                    ...                              ...                    ...                        ...                     ...                    ...                    ...                    ...                     ...                           ...                          ...                          ...                          ...                           ...                            ...                                              ...                            ...                           ...                             ...                            ...                                   ...                                  ...                               ...                              ...                              ...                             ...                                         ...                                ...                               ...                             ...                            ...    ...\n",
              "                   ...       ...    ...            ...        ...           ...            ...                  ...              ...             ...                  ...               ...            ...                    ...                              ...                    ...                        ...                     ...                    ...                    ...                    ...                     ...                           ...                          ...                          ...                          ...                           ...                            ...                                              ...                            ...                           ...                             ...                            ...                                   ...                                  ...                               ...                              ...                              ...                             ...                                         ...                                ...                               ...                             ...                            ...    ...\n",
              "Dask Name: getitem, 7052 tasks"
            ]
          },
          "metadata": {
            "tags": []
          },
          "execution_count": 94
        }
      ]
    },
    {
      "cell_type": "code",
      "metadata": {
        "colab": {
          "base_uri": "https://localhost:8080/"
        },
        "id": "gZNR5cniq-85",
        "outputId": "16edab5b-9628-410a-e2ab-4f56ee31b359"
      },
      "source": [
        "with ProgressBar():\n",
        "    computed_data = feature_matrix.compute(optimize_graph=True)"
      ],
      "execution_count": null,
      "outputs": [
        {
          "output_type": "stream",
          "text": [
            "[########################################] | 100% Completed |  7min 50.1s\n"
          ],
          "name": "stdout"
        }
      ]
    },
    {
      "cell_type": "code",
      "metadata": {
        "colab": {
          "base_uri": "https://localhost:8080/",
          "height": 240
        },
        "id": "YnCa57mxumbY",
        "outputId": "9a9e79d2-441d-4002-d810-9bb363dd9b01"
      },
      "source": [
        "computed_data.head()\n"
      ],
      "execution_count": null,
      "outputs": [
        {
          "output_type": "execute_result",
          "data": {
            "text/html": [
              "<div>\n",
              "<style scoped>\n",
              "    .dataframe tbody tr th:only-of-type {\n",
              "        vertical-align: middle;\n",
              "    }\n",
              "\n",
              "    .dataframe tbody tr th {\n",
              "        vertical-align: top;\n",
              "    }\n",
              "\n",
              "    .dataframe thead th {\n",
              "        text-align: right;\n",
              "    }\n",
              "</style>\n",
              "<table border=\"1\" class=\"dataframe\">\n",
              "  <thead>\n",
              "    <tr style=\"text-align: right;\">\n",
              "      <th></th>\n",
              "      <th>rank</th>\n",
              "      <th>raw_query</th>\n",
              "      <th>page</th>\n",
              "      <th>product_showed</th>\n",
              "      <th>is_clicked</th>\n",
              "      <th>DAY(datetime)</th>\n",
              "      <th>HOUR(datetime)</th>\n",
              "      <th>IS_WEEKEND(datetime)</th>\n",
              "      <th>MINUTE(datetime)</th>\n",
              "      <th>MONTH(datetime)</th>\n",
              "      <th>NUM_WORDS(raw_query)</th>\n",
              "      <th>WEEKDAY(datetime)</th>\n",
              "      <th>YEAR(datetime)</th>\n",
              "      <th>products.category_name</th>\n",
              "      <th>products.product_name_normalized</th>\n",
              "      <th>products.sellers_count</th>\n",
              "      <th>products.availabilty_ratio</th>\n",
              "      <th>products.mean_all_price</th>\n",
              "      <th>products.max_all_price</th>\n",
              "      <th>products.min_all_price</th>\n",
              "      <th>products.std_all_price</th>\n",
              "      <th>products.skew_all_price</th>\n",
              "      <th>products.mean_available_price</th>\n",
              "      <th>products.max_available_price</th>\n",
              "      <th>products.min_available_price</th>\n",
              "      <th>products.std_available_price</th>\n",
              "      <th>products.skew_available_price</th>\n",
              "      <th>products.COUNT(clicked_merged)</th>\n",
              "      <th>products.PERCENT_TRUE(clicked_merged.is_clicked)</th>\n",
              "      <th>products.DAY(first_added_date)</th>\n",
              "      <th>products.DAY(last_added_date)</th>\n",
              "      <th>products.HOUR(first_added_date)</th>\n",
              "      <th>products.HOUR(last_added_date)</th>\n",
              "      <th>products.IS_WEEKEND(first_added_date)</th>\n",
              "      <th>products.IS_WEEKEND(last_added_date)</th>\n",
              "      <th>products.MINUTE(first_added_date)</th>\n",
              "      <th>products.MINUTE(last_added_date)</th>\n",
              "      <th>products.MONTH(first_added_date)</th>\n",
              "      <th>products.MONTH(last_added_date)</th>\n",
              "      <th>products.NUM_WORDS(product_name_normalized)</th>\n",
              "      <th>products.WEEKDAY(first_added_date)</th>\n",
              "      <th>products.WEEKDAY(last_added_date)</th>\n",
              "      <th>products.YEAR(first_added_date)</th>\n",
              "      <th>products.YEAR(last_added_date)</th>\n",
              "      <th>_id</th>\n",
              "    </tr>\n",
              "  </thead>\n",
              "  <tbody>\n",
              "    <tr>\n",
              "      <th>0</th>\n",
              "      <td>0</td>\n",
              "      <td>ماشین پژو پارس</td>\n",
              "      <td>0</td>\n",
              "      <td>mnlmg</td>\n",
              "      <td>False</td>\n",
              "      <td>14</td>\n",
              "      <td>5</td>\n",
              "      <td>False</td>\n",
              "      <td>33</td>\n",
              "      <td>4</td>\n",
              "      <td>3</td>\n",
              "      <td>2</td>\n",
              "      <td>2021</td>\n",
              "      <td>سایر لوازم تزئینی خودرو</td>\n",
              "      <td>پارس جلو پهن پژو اکورد طرح نیون چراغ اسپرت بلوری</td>\n",
              "      <td>1</td>\n",
              "      <td>1.0</td>\n",
              "      <td>810000.0</td>\n",
              "      <td>810000.0</td>\n",
              "      <td>810000.0</td>\n",
              "      <td>0.0</td>\n",
              "      <td>0.0</td>\n",
              "      <td>810000.0</td>\n",
              "      <td>810000.0</td>\n",
              "      <td>810000.0</td>\n",
              "      <td>0.0</td>\n",
              "      <td>0.0</td>\n",
              "      <td>31</td>\n",
              "      <td>0.032258</td>\n",
              "      <td>20</td>\n",
              "      <td>20</td>\n",
              "      <td>3</td>\n",
              "      <td>3</td>\n",
              "      <td>False</td>\n",
              "      <td>False</td>\n",
              "      <td>57</td>\n",
              "      <td>57</td>\n",
              "      <td>11</td>\n",
              "      <td>11</td>\n",
              "      <td>10</td>\n",
              "      <td>2</td>\n",
              "      <td>2</td>\n",
              "      <td>2019</td>\n",
              "      <td>2019</td>\n",
              "      <td>6312613</td>\n",
              "    </tr>\n",
              "    <tr>\n",
              "      <th>1</th>\n",
              "      <td>49</td>\n",
              "      <td>دامن شلواری</td>\n",
              "      <td>2</td>\n",
              "      <td>ydpvn</td>\n",
              "      <td>False</td>\n",
              "      <td>14</td>\n",
              "      <td>14</td>\n",
              "      <td>False</td>\n",
              "      <td>5</td>\n",
              "      <td>4</td>\n",
              "      <td>2</td>\n",
              "      <td>2</td>\n",
              "      <td>2021</td>\n",
              "      <td>شلوار و دامن زنانه</td>\n",
              "      <td>شلواری دامن راحت</td>\n",
              "      <td>1</td>\n",
              "      <td>0.0</td>\n",
              "      <td>599000.0</td>\n",
              "      <td>599000.0</td>\n",
              "      <td>599000.0</td>\n",
              "      <td>0.0</td>\n",
              "      <td>0.0</td>\n",
              "      <td>NaN</td>\n",
              "      <td>NaN</td>\n",
              "      <td>NaN</td>\n",
              "      <td>NaN</td>\n",
              "      <td>NaN</td>\n",
              "      <td>1</td>\n",
              "      <td>0.000000</td>\n",
              "      <td>5</td>\n",
              "      <td>5</td>\n",
              "      <td>19</td>\n",
              "      <td>19</td>\n",
              "      <td>False</td>\n",
              "      <td>False</td>\n",
              "      <td>38</td>\n",
              "      <td>38</td>\n",
              "      <td>1</td>\n",
              "      <td>1</td>\n",
              "      <td>3</td>\n",
              "      <td>1</td>\n",
              "      <td>1</td>\n",
              "      <td>2021</td>\n",
              "      <td>2021</td>\n",
              "      <td>6313848</td>\n",
              "    </tr>\n",
              "    <tr>\n",
              "      <th>2</th>\n",
              "      <td>42</td>\n",
              "      <td>کفش چرم زنانه</td>\n",
              "      <td>1</td>\n",
              "      <td>micot</td>\n",
              "      <td>False</td>\n",
              "      <td>14</td>\n",
              "      <td>5</td>\n",
              "      <td>False</td>\n",
              "      <td>48</td>\n",
              "      <td>4</td>\n",
              "      <td>3</td>\n",
              "      <td>2</td>\n",
              "      <td>2021</td>\n",
              "      <td>کفش و صندل زنانه</td>\n",
              "      <td>کفش چرم طبی کد 428 معراج زنانه</td>\n",
              "      <td>1</td>\n",
              "      <td>1.0</td>\n",
              "      <td>470000.0</td>\n",
              "      <td>470000.0</td>\n",
              "      <td>470000.0</td>\n",
              "      <td>0.0</td>\n",
              "      <td>0.0</td>\n",
              "      <td>470000.0</td>\n",
              "      <td>470000.0</td>\n",
              "      <td>470000.0</td>\n",
              "      <td>0.0</td>\n",
              "      <td>0.0</td>\n",
              "      <td>4</td>\n",
              "      <td>0.000000</td>\n",
              "      <td>27</td>\n",
              "      <td>27</td>\n",
              "      <td>21</td>\n",
              "      <td>21</td>\n",
              "      <td>True</td>\n",
              "      <td>True</td>\n",
              "      <td>3</td>\n",
              "      <td>3</td>\n",
              "      <td>2</td>\n",
              "      <td>2</td>\n",
              "      <td>7</td>\n",
              "      <td>5</td>\n",
              "      <td>5</td>\n",
              "      <td>2021</td>\n",
              "      <td>2021</td>\n",
              "      <td>6314214</td>\n",
              "    </tr>\n",
              "    <tr>\n",
              "      <th>3</th>\n",
              "      <td>22</td>\n",
              "      <td>وافل ساز</td>\n",
              "      <td>2</td>\n",
              "      <td>mjtxs</td>\n",
              "      <td>False</td>\n",
              "      <td>13</td>\n",
              "      <td>21</td>\n",
              "      <td>False</td>\n",
              "      <td>23</td>\n",
              "      <td>4</td>\n",
              "      <td>2</td>\n",
              "      <td>1</td>\n",
              "      <td>2021</td>\n",
              "      <td>ساندویچ ساز و وافل ساز</td>\n",
              "      <td>صنعتی تخم ساز مرغی بست pfy 2 وافل</td>\n",
              "      <td>1</td>\n",
              "      <td>1.0</td>\n",
              "      <td>3500000.0</td>\n",
              "      <td>3500000.0</td>\n",
              "      <td>3500000.0</td>\n",
              "      <td>0.0</td>\n",
              "      <td>0.0</td>\n",
              "      <td>3500000.0</td>\n",
              "      <td>3500000.0</td>\n",
              "      <td>3500000.0</td>\n",
              "      <td>0.0</td>\n",
              "      <td>0.0</td>\n",
              "      <td>12</td>\n",
              "      <td>0.083333</td>\n",
              "      <td>2</td>\n",
              "      <td>2</td>\n",
              "      <td>10</td>\n",
              "      <td>10</td>\n",
              "      <td>True</td>\n",
              "      <td>True</td>\n",
              "      <td>26</td>\n",
              "      <td>26</td>\n",
              "      <td>1</td>\n",
              "      <td>1</td>\n",
              "      <td>8</td>\n",
              "      <td>5</td>\n",
              "      <td>5</td>\n",
              "      <td>2021</td>\n",
              "      <td>2021</td>\n",
              "      <td>6246255</td>\n",
              "    </tr>\n",
              "    <tr>\n",
              "      <th>4</th>\n",
              "      <td>22</td>\n",
              "      <td>وافل ساز</td>\n",
              "      <td>2</td>\n",
              "      <td>mjtxs</td>\n",
              "      <td>False</td>\n",
              "      <td>13</td>\n",
              "      <td>21</td>\n",
              "      <td>False</td>\n",
              "      <td>23</td>\n",
              "      <td>4</td>\n",
              "      <td>2</td>\n",
              "      <td>1</td>\n",
              "      <td>2021</td>\n",
              "      <td>ساندویچ ساز و وافل ساز</td>\n",
              "      <td>صنعتی تخم ساز مرغی بست pfy 2 وافل</td>\n",
              "      <td>1</td>\n",
              "      <td>1.0</td>\n",
              "      <td>3500000.0</td>\n",
              "      <td>3500000.0</td>\n",
              "      <td>3500000.0</td>\n",
              "      <td>0.0</td>\n",
              "      <td>0.0</td>\n",
              "      <td>3500000.0</td>\n",
              "      <td>3500000.0</td>\n",
              "      <td>3500000.0</td>\n",
              "      <td>0.0</td>\n",
              "      <td>0.0</td>\n",
              "      <td>12</td>\n",
              "      <td>0.083333</td>\n",
              "      <td>2</td>\n",
              "      <td>2</td>\n",
              "      <td>10</td>\n",
              "      <td>10</td>\n",
              "      <td>True</td>\n",
              "      <td>True</td>\n",
              "      <td>26</td>\n",
              "      <td>26</td>\n",
              "      <td>1</td>\n",
              "      <td>1</td>\n",
              "      <td>8</td>\n",
              "      <td>5</td>\n",
              "      <td>5</td>\n",
              "      <td>2021</td>\n",
              "      <td>2021</td>\n",
              "      <td>6246256</td>\n",
              "    </tr>\n",
              "  </tbody>\n",
              "</table>\n",
              "</div>"
            ],
            "text/plain": [
              "   rank       raw_query  ...  products.YEAR(last_added_date)      _id\n",
              "0     0  ماشین پژو پارس  ...                            2019  6312613\n",
              "1    49     دامن شلواری  ...                            2021  6313848\n",
              "2    42   کفش چرم زنانه  ...                            2021  6314214\n",
              "3    22        وافل ساز  ...                            2021  6246255\n",
              "4    22        وافل ساز  ...                            2021  6246256\n",
              "\n",
              "[5 rows x 45 columns]"
            ]
          },
          "metadata": {
            "tags": []
          },
          "execution_count": 96
        }
      ]
    },
    {
      "cell_type": "markdown",
      "metadata": {
        "id": "HR-3Epul1RXZ"
      },
      "source": [
        "### saving clicks"
      ]
    },
    {
      "cell_type": "code",
      "metadata": {
        "colab": {
          "base_uri": "https://localhost:8080/",
          "height": 35
        },
        "id": "dPfa2hd9urAQ",
        "outputId": "057739b0-854f-4daa-872c-7f0b2a9b2a95"
      },
      "source": [
        "final_clicked = os.path.join(data_folder,\"final\",\"final_clicked.csv\")\n",
        "final_clicked"
      ],
      "execution_count": null,
      "outputs": [
        {
          "output_type": "execute_result",
          "data": {
            "application/vnd.google.colaboratory.intrinsic+json": {
              "type": "string"
            },
            "text/plain": [
              "'/content/dirve/MyDrive/programming/DataDays2021/data/final/final_clicked.csv'"
            ]
          },
          "metadata": {
            "tags": []
          },
          "execution_count": 98
        }
      ]
    },
    {
      "cell_type": "code",
      "metadata": {
        "id": "p-MWiow50Oqx"
      },
      "source": [
        "with ProgressBar():\n",
        "  computed_data.to_csv(final_clicked)"
      ],
      "execution_count": null,
      "outputs": []
    },
    {
      "cell_type": "markdown",
      "metadata": {
        "id": "xhGgMZIk0Xht"
      },
      "source": [
        "## deep feature sysnthesis products"
      ]
    },
    {
      "cell_type": "code",
      "metadata": {
        "id": "pazhGzhk1Xvq"
      },
      "source": [
        "aggregation_primitives = [\"Count\",\"percent_true\"]\n",
        "transform_primitives = [\"Year\",\"Month\",\"Weekday\",\"Day\",\"hour\",\"minute\",\"is_weekend\",\"Num_Words\"]"
      ],
      "execution_count": null,
      "outputs": []
    },
    {
      "cell_type": "code",
      "metadata": {
        "id": "9WZlBLb51Z_k"
      },
      "source": [
        "feature_matrix , defs = ft.dfs(entityset=es,target_entity=\"products\",\n",
        "                               agg_primitives = aggregation_primitives, trans_primitives = transform_primitives,\n",
        "                               return_variable_types = [vr.NaturalLanguage,vr.Numeric,vr.Ordinal,vr.Categorical,vr.Boolean],\n",
        "                               verbose = True,max_depth=2)"
      ],
      "execution_count": null,
      "outputs": []
    },
    {
      "cell_type": "code",
      "metadata": {
        "colab": {
          "base_uri": "https://localhost:8080/"
        },
        "id": "XDN3obLL1c8d",
        "outputId": "54717b47-30b2-40cf-83ee-d6510d6031a2"
      },
      "source": [
        "defs"
      ],
      "execution_count": null,
      "outputs": [
        {
          "output_type": "execute_result",
          "data": {
            "text/plain": [
              "[<Feature: category_name>,\n",
              " <Feature: product_name_normalized>,\n",
              " <Feature: sellers_count>,\n",
              " <Feature: availabilty_ratio>,\n",
              " <Feature: mean_all_price>,\n",
              " <Feature: max_all_price>,\n",
              " <Feature: min_all_price>,\n",
              " <Feature: std_all_price>,\n",
              " <Feature: skew_all_price>,\n",
              " <Feature: mean_available_price>,\n",
              " <Feature: max_available_price>,\n",
              " <Feature: min_available_price>,\n",
              " <Feature: std_available_price>,\n",
              " <Feature: skew_available_price>,\n",
              " <Feature: COUNT(clicked_merged)>,\n",
              " <Feature: PERCENT_TRUE(clicked_merged.is_clicked)>,\n",
              " <Feature: DAY(first_added_date)>,\n",
              " <Feature: DAY(last_added_date)>,\n",
              " <Feature: HOUR(first_added_date)>,\n",
              " <Feature: HOUR(last_added_date)>,\n",
              " <Feature: IS_WEEKEND(first_added_date)>,\n",
              " <Feature: IS_WEEKEND(last_added_date)>,\n",
              " <Feature: MINUTE(first_added_date)>,\n",
              " <Feature: MINUTE(last_added_date)>,\n",
              " <Feature: MONTH(first_added_date)>,\n",
              " <Feature: MONTH(last_added_date)>,\n",
              " <Feature: NUM_WORDS(product_name_normalized)>,\n",
              " <Feature: WEEKDAY(first_added_date)>,\n",
              " <Feature: WEEKDAY(last_added_date)>,\n",
              " <Feature: YEAR(first_added_date)>,\n",
              " <Feature: YEAR(last_added_date)>,\n",
              " <Feature: PERCENT_TRUE(clicked_merged.IS_WEEKEND(datetime))>]"
            ]
          },
          "metadata": {
            "tags": []
          },
          "execution_count": 106
        }
      ]
    },
    {
      "cell_type": "code",
      "metadata": {
        "colab": {
          "base_uri": "https://localhost:8080/"
        },
        "id": "2oeM8Niy1e6Q",
        "outputId": "01415221-cf5a-4d65-dc54-6ccbc9f1a0c7"
      },
      "source": [
        "with ProgressBar():\n",
        "  computed = feature_matrix.compute(optimize_graph = True)"
      ],
      "execution_count": null,
      "outputs": [
        {
          "output_type": "stream",
          "text": [
            "[########################################] | 100% Completed | 13min 45.6s\n"
          ],
          "name": "stdout"
        }
      ]
    },
    {
      "cell_type": "code",
      "metadata": {
        "colab": {
          "base_uri": "https://localhost:8080/",
          "height": 307
        },
        "id": "yKAtdSaQ687r",
        "outputId": "21d293be-8c4a-44de-8d86-356b2f98cdb2"
      },
      "source": [
        "computed.head()"
      ],
      "execution_count": null,
      "outputs": [
        {
          "output_type": "execute_result",
          "data": {
            "text/html": [
              "<div>\n",
              "<style scoped>\n",
              "    .dataframe tbody tr th:only-of-type {\n",
              "        vertical-align: middle;\n",
              "    }\n",
              "\n",
              "    .dataframe tbody tr th {\n",
              "        vertical-align: top;\n",
              "    }\n",
              "\n",
              "    .dataframe thead th {\n",
              "        text-align: right;\n",
              "    }\n",
              "</style>\n",
              "<table border=\"1\" class=\"dataframe\">\n",
              "  <thead>\n",
              "    <tr style=\"text-align: right;\">\n",
              "      <th></th>\n",
              "      <th>category_name</th>\n",
              "      <th>product_name_normalized</th>\n",
              "      <th>sellers_count</th>\n",
              "      <th>availabilty_ratio</th>\n",
              "      <th>mean_all_price</th>\n",
              "      <th>max_all_price</th>\n",
              "      <th>min_all_price</th>\n",
              "      <th>std_all_price</th>\n",
              "      <th>skew_all_price</th>\n",
              "      <th>mean_available_price</th>\n",
              "      <th>max_available_price</th>\n",
              "      <th>min_available_price</th>\n",
              "      <th>std_available_price</th>\n",
              "      <th>skew_available_price</th>\n",
              "      <th>COUNT(clicked_merged)</th>\n",
              "      <th>PERCENT_TRUE(clicked_merged.is_clicked)</th>\n",
              "      <th>DAY(first_added_date)</th>\n",
              "      <th>DAY(last_added_date)</th>\n",
              "      <th>HOUR(first_added_date)</th>\n",
              "      <th>HOUR(last_added_date)</th>\n",
              "      <th>IS_WEEKEND(first_added_date)</th>\n",
              "      <th>IS_WEEKEND(last_added_date)</th>\n",
              "      <th>MINUTE(first_added_date)</th>\n",
              "      <th>MINUTE(last_added_date)</th>\n",
              "      <th>MONTH(first_added_date)</th>\n",
              "      <th>MONTH(last_added_date)</th>\n",
              "      <th>NUM_WORDS(product_name_normalized)</th>\n",
              "      <th>WEEKDAY(first_added_date)</th>\n",
              "      <th>WEEKDAY(last_added_date)</th>\n",
              "      <th>YEAR(first_added_date)</th>\n",
              "      <th>YEAR(last_added_date)</th>\n",
              "      <th>PERCENT_TRUE(clicked_merged.IS_WEEKEND(datetime))</th>\n",
              "      <th>_id</th>\n",
              "    </tr>\n",
              "  </thead>\n",
              "  <tbody>\n",
              "    <tr>\n",
              "      <th>0</th>\n",
              "      <td>ویدیو پروژکتور اپتما</td>\n",
              "      <td>optoma دیتا خانگی 1920 x 1080 3 d صفحه پروژکتو...</td>\n",
              "      <td>6</td>\n",
              "      <td>0.166667</td>\n",
              "      <td>1.625193e+07</td>\n",
              "      <td>31852600.0</td>\n",
              "      <td>11500000.0</td>\n",
              "      <td>7.104350e+06</td>\n",
              "      <td>1.655126</td>\n",
              "      <td>3.185260e+07</td>\n",
              "      <td>31852600.0</td>\n",
              "      <td>31852600.0</td>\n",
              "      <td>0.000000</td>\n",
              "      <td>0.000000</td>\n",
              "      <td>0.0</td>\n",
              "      <td>0.000000</td>\n",
              "      <td>12.0</td>\n",
              "      <td>25.0</td>\n",
              "      <td>7.0</td>\n",
              "      <td>20.0</td>\n",
              "      <td>False</td>\n",
              "      <td>True</td>\n",
              "      <td>2.0</td>\n",
              "      <td>8.0</td>\n",
              "      <td>9.0</td>\n",
              "      <td>1.0</td>\n",
              "      <td>38</td>\n",
              "      <td>1.0</td>\n",
              "      <td>5.0</td>\n",
              "      <td>2017.0</td>\n",
              "      <td>2020.0</td>\n",
              "      <td>0.000000</td>\n",
              "      <td>yxwrs</td>\n",
              "    </tr>\n",
              "    <tr>\n",
              "      <th>1</th>\n",
              "      <td>تقویت کننده مژه و ابرو</td>\n",
              "      <td>کننده mascara ژل gel and essence mascara essen...</td>\n",
              "      <td>33</td>\n",
              "      <td>0.696970</td>\n",
              "      <td>6.681758e+04</td>\n",
              "      <td>125000.0</td>\n",
              "      <td>2430.0</td>\n",
              "      <td>2.521815e+04</td>\n",
              "      <td>-0.605363</td>\n",
              "      <td>7.282826e+04</td>\n",
              "      <td>125000.0</td>\n",
              "      <td>21500.0</td>\n",
              "      <td>20905.381178</td>\n",
              "      <td>-0.133438</td>\n",
              "      <td>12.0</td>\n",
              "      <td>0.166667</td>\n",
              "      <td>27.0</td>\n",
              "      <td>10.0</td>\n",
              "      <td>20.0</td>\n",
              "      <td>12.0</td>\n",
              "      <td>False</td>\n",
              "      <td>False</td>\n",
              "      <td>21.0</td>\n",
              "      <td>18.0</td>\n",
              "      <td>2.0</td>\n",
              "      <td>3.0</td>\n",
              "      <td>40</td>\n",
              "      <td>2.0</td>\n",
              "      <td>2.0</td>\n",
              "      <td>2019.0</td>\n",
              "      <td>2021.0</td>\n",
              "      <td>0.333333</td>\n",
              "      <td>mbeby</td>\n",
              "    </tr>\n",
              "    <tr>\n",
              "      <th>2</th>\n",
              "      <td>مام و اسپری</td>\n",
              "      <td>tuning v 8 stick ایت وزن دیودرانت استیک تعریق ...</td>\n",
              "      <td>5</td>\n",
              "      <td>0.000000</td>\n",
              "      <td>3.120000e+04</td>\n",
              "      <td>60000.0</td>\n",
              "      <td>0.0</td>\n",
              "      <td>1.907249e+04</td>\n",
              "      <td>-0.185370</td>\n",
              "      <td>NaN</td>\n",
              "      <td>NaN</td>\n",
              "      <td>NaN</td>\n",
              "      <td>NaN</td>\n",
              "      <td>NaN</td>\n",
              "      <td>0.0</td>\n",
              "      <td>0.000000</td>\n",
              "      <td>30.0</td>\n",
              "      <td>14.0</td>\n",
              "      <td>19.0</td>\n",
              "      <td>15.0</td>\n",
              "      <td>False</td>\n",
              "      <td>False</td>\n",
              "      <td>5.0</td>\n",
              "      <td>16.0</td>\n",
              "      <td>4.0</td>\n",
              "      <td>5.0</td>\n",
              "      <td>22</td>\n",
              "      <td>1.0</td>\n",
              "      <td>3.0</td>\n",
              "      <td>2019.0</td>\n",
              "      <td>2020.0</td>\n",
              "      <td>0.000000</td>\n",
              "      <td>yovgc</td>\n",
              "    </tr>\n",
              "    <tr>\n",
              "      <th>3</th>\n",
              "      <td>مام و اسپری</td>\n",
              "      <td>women رول stick 40 ml 48 h وزن دیودرانت algodo...</td>\n",
              "      <td>16</td>\n",
              "      <td>0.750000</td>\n",
              "      <td>5.606750e+04</td>\n",
              "      <td>99500.0</td>\n",
              "      <td>40000.0</td>\n",
              "      <td>1.464371e+04</td>\n",
              "      <td>1.745850</td>\n",
              "      <td>5.916500e+04</td>\n",
              "      <td>99500.0</td>\n",
              "      <td>45000.0</td>\n",
              "      <td>15565.639777</td>\n",
              "      <td>1.448900</td>\n",
              "      <td>0.0</td>\n",
              "      <td>0.000000</td>\n",
              "      <td>16.0</td>\n",
              "      <td>3.0</td>\n",
              "      <td>13.0</td>\n",
              "      <td>23.0</td>\n",
              "      <td>False</td>\n",
              "      <td>False</td>\n",
              "      <td>52.0</td>\n",
              "      <td>39.0</td>\n",
              "      <td>1.0</td>\n",
              "      <td>2.0</td>\n",
              "      <td>46</td>\n",
              "      <td>2.0</td>\n",
              "      <td>2.0</td>\n",
              "      <td>2019.0</td>\n",
              "      <td>2021.0</td>\n",
              "      <td>0.000000</td>\n",
              "      <td>yokff</td>\n",
              "    </tr>\n",
              "    <tr>\n",
              "      <th>4</th>\n",
              "      <td>گوشی هوآوی</td>\n",
              "      <td>ascend huawei موبایل 550 مدل گوشی 4 g وای y 55...</td>\n",
              "      <td>5</td>\n",
              "      <td>0.000000</td>\n",
              "      <td>7.100000e+04</td>\n",
              "      <td>355000.0</td>\n",
              "      <td>0.0</td>\n",
              "      <td>1.420000e+05</td>\n",
              "      <td>1.500000</td>\n",
              "      <td>NaN</td>\n",
              "      <td>NaN</td>\n",
              "      <td>NaN</td>\n",
              "      <td>NaN</td>\n",
              "      <td>NaN</td>\n",
              "      <td>0.0</td>\n",
              "      <td>0.000000</td>\n",
              "      <td>24.0</td>\n",
              "      <td>12.0</td>\n",
              "      <td>19.0</td>\n",
              "      <td>10.0</td>\n",
              "      <td>False</td>\n",
              "      <td>False</td>\n",
              "      <td>33.0</td>\n",
              "      <td>26.0</td>\n",
              "      <td>4.0</td>\n",
              "      <td>3.0</td>\n",
              "      <td>16</td>\n",
              "      <td>0.0</td>\n",
              "      <td>0.0</td>\n",
              "      <td>2017.0</td>\n",
              "      <td>2018.0</td>\n",
              "      <td>0.000000</td>\n",
              "      <td>uduyq</td>\n",
              "    </tr>\n",
              "  </tbody>\n",
              "</table>\n",
              "</div>"
            ],
            "text/plain": [
              "            category_name  ...    _id\n",
              "0    ویدیو پروژکتور اپتما  ...  yxwrs\n",
              "1  تقویت کننده مژه و ابرو  ...  mbeby\n",
              "2             مام و اسپری  ...  yovgc\n",
              "3             مام و اسپری  ...  yokff\n",
              "4              گوشی هوآوی  ...  uduyq\n",
              "\n",
              "[5 rows x 33 columns]"
            ]
          },
          "metadata": {
            "tags": []
          },
          "execution_count": 109
        }
      ]
    },
    {
      "cell_type": "code",
      "metadata": {
        "colab": {
          "base_uri": "https://localhost:8080/",
          "height": 35
        },
        "id": "kyO7uz0r23Ap",
        "outputId": "187cea64-6597-41bd-f17c-8ed4d4605afc"
      },
      "source": [
        "final_products = os.path.join(data_folder,\"final\",\"final_products.csv\")\n",
        "final_products"
      ],
      "execution_count": null,
      "outputs": [
        {
          "output_type": "execute_result",
          "data": {
            "application/vnd.google.colaboratory.intrinsic+json": {
              "type": "string"
            },
            "text/plain": [
              "'/content/dirve/MyDrive/programming/DataDays2021/data/final/final_products.csv'"
            ]
          },
          "metadata": {
            "tags": []
          },
          "execution_count": 110
        }
      ]
    },
    {
      "cell_type": "code",
      "metadata": {
        "id": "RjRJ0L7E7K8g"
      },
      "source": [
        "with ProgressBar():\n",
        "  computed.to_csv(final_products)"
      ],
      "execution_count": null,
      "outputs": []
    },
    {
      "cell_type": "markdown",
      "metadata": {
        "id": "spkYSQYc7QBy"
      },
      "source": [
        "# reading test queries"
      ]
    },
    {
      "cell_type": "code",
      "metadata": {
        "id": "ororZ41987BH"
      },
      "source": [
        "import pandas as pd\n",
        "from tqdm import tqdm\n",
        "import json"
      ],
      "execution_count": null,
      "outputs": []
    },
    {
      "cell_type": "code",
      "metadata": {
        "colab": {
          "base_uri": "https://localhost:8080/",
          "height": 35
        },
        "id": "rJC1AVJ788Y7",
        "outputId": "a76e3816-bf7f-4f69-d045-241d75a22882"
      },
      "source": [
        "queries_test_offline_normalized_path"
      ],
      "execution_count": null,
      "outputs": [
        {
          "output_type": "execute_result",
          "data": {
            "application/vnd.google.colaboratory.intrinsic+json": {
              "type": "string"
            },
            "text/plain": [
              "'/content/dirve/MyDrive/programming/DataDays2021/data/queries_test_offline_normalized.json'"
            ]
          },
          "metadata": {
            "tags": []
          },
          "execution_count": 7
        }
      ]
    },
    {
      "cell_type": "code",
      "metadata": {
        "id": "Se-7Hl2V9L0L"
      },
      "source": [
        "def read_json(path, n_lines_to_read=None):\n",
        "    \"\"\"\n",
        "    read json file line by line iteratively (generator function).\n",
        "    use this function to read json files when you have memory limitations.\n",
        "    \"\"\"\n",
        "\n",
        "    with open(path) as f:\n",
        "        for i, line in enumerate(tqdm(f)):\n",
        "            if n_lines_to_read == i:\n",
        "                break\n",
        "            yield json.loads(line)"
      ],
      "execution_count": null,
      "outputs": []
    },
    {
      "cell_type": "code",
      "metadata": {
        "id": "txYDsDt09ZW6"
      },
      "source": [
        "g = read_json(queries_test_offline_normalized_path,10)"
      ],
      "execution_count": null,
      "outputs": []
    },
    {
      "cell_type": "code",
      "metadata": {
        "colab": {
          "base_uri": "https://localhost:8080/"
        },
        "id": "r5E25Xya9cyw",
        "outputId": "8d75a161-1afa-4894-9bb6-792a6ab412a3"
      },
      "source": [
        "for i,p in enumerate(g):\n",
        "  print(p)\n"
      ],
      "execution_count": null,
      "outputs": [
        {
          "output_type": "stream",
          "text": [
            "\r1it [00:29, 29.28s/it]"
          ],
          "name": "stderr"
        },
        {
          "output_type": "stream",
          "text": [
            "قهوه ساز delongi\n",
            "بند فلزی mi band 5\n",
            "قالی زمردمشهد\n",
            "پوکو x 3 pro\n",
            "xiaomi redmi note 9 s\n",
            "40 d\n",
            "لباس انا\n",
            "سنگ چشم ببر\n",
            "گلگیر جلو پژو 405 شرکتی\n"
          ],
          "name": "stdout"
        }
      ]
    },
    {
      "cell_type": "code",
      "metadata": {
        "id": "NJxOFo5l9feE"
      },
      "source": [
        ""
      ],
      "execution_count": null,
      "outputs": []
    }
  ]
}