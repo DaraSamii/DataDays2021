{
  "nbformat": 4,
  "nbformat_minor": 0,
  "metadata": {
    "colab": {
      "name": "train_mix_model.ipynb",
      "provenance": [],
      "collapsed_sections": [],
      "include_colab_link": true
    },
    "kernelspec": {
      "name": "python3",
      "display_name": "Python 3"
    },
    "language_info": {
      "name": "python"
    },
    "accelerator": "GPU"
  },
  "cells": [
    {
      "cell_type": "markdown",
      "metadata": {
        "id": "view-in-github",
        "colab_type": "text"
      },
      "source": [
        "<a href=\"https://colab.research.google.com/github/DaraSamii/DataDays2021/blob/main/train_mix_model.ipynb\" target=\"_parent\"><img src=\"https://colab.research.google.com/assets/colab-badge.svg\" alt=\"Open In Colab\"/></a>"
      ]
    },
    {
      "cell_type": "markdown",
      "metadata": {
        "id": "9S7eK40F9E0C"
      },
      "source": [
        "# Dara R Samii Login"
      ]
    },
    {
      "cell_type": "code",
      "metadata": {
        "colab": {
          "base_uri": "https://localhost:8080/",
          "height": 70
        },
        "id": "v4uBB3-j9Gl6",
        "outputId": "be4b91a4-e3a4-43d2-fbb8-9cc252efb3fa"
      },
      "source": [
        "from google.colab import drive\n",
        "\n",
        "drive.mount(\"/content/drive\",force_remount=True)\n",
        "\n",
        "%cd /content/drive/MyDrive/DataDays2021/\n",
        "\n",
        "pwd = %pwd\n",
        "pwd"
      ],
      "execution_count": null,
      "outputs": [
        {
          "output_type": "stream",
          "text": [
            "Mounted at /content/drive\n",
            "/content/drive/MyDrive/DataDays2021\n"
          ],
          "name": "stdout"
        },
        {
          "output_type": "execute_result",
          "data": {
            "application/vnd.google.colaboratory.intrinsic+json": {
              "type": "string"
            },
            "text/plain": [
              "'/content/drive/MyDrive/DataDays2021'"
            ]
          },
          "metadata": {},
          "execution_count": 1
        }
      ]
    },
    {
      "cell_type": "markdown",
      "metadata": {
        "id": "PYP0iG51ExBB"
      },
      "source": [
        "**-------------------------------------------------------------------------------------------------------------------------------**"
      ]
    },
    {
      "cell_type": "markdown",
      "metadata": {
        "id": "NXN09xGe9LdN"
      },
      "source": [
        "# installing packages"
      ]
    },
    {
      "cell_type": "code",
      "metadata": {
        "id": "7UBpZkHH9JKE",
        "colab": {
          "base_uri": "https://localhost:8080/"
        },
        "outputId": "ec69ccc9-a424-4948-9858-ea41fb2e148e"
      },
      "source": [
        "!pip install \"dask[complete]\"\n",
        "!pip install -Uqq fastai\n",
        "!pip install parsivar"
      ],
      "execution_count": null,
      "outputs": [
        {
          "output_type": "stream",
          "text": [
            "Requirement already satisfied: dask[complete] in /usr/local/lib/python3.7/dist-packages (2.12.0)\n",
            "Collecting partd>=0.3.10\n",
            "  Downloading partd-1.2.0-py3-none-any.whl (19 kB)\n",
            "Requirement already satisfied: bokeh>=1.0.0 in /usr/local/lib/python3.7/dist-packages (from dask[complete]) (2.3.3)\n",
            "Collecting distributed>=2.0\n",
            "  Downloading distributed-2021.8.0-py3-none-any.whl (776 kB)\n",
            "\u001b[K     |████████████████████████████████| 776 kB 7.5 MB/s \n",
            "\u001b[?25hRequirement already satisfied: toolz>=0.7.3 in /usr/local/lib/python3.7/dist-packages (from dask[complete]) (0.11.1)\n",
            "Requirement already satisfied: PyYaml in /usr/local/lib/python3.7/dist-packages (from dask[complete]) (3.13)\n",
            "Requirement already satisfied: numpy>=1.13.0 in /usr/local/lib/python3.7/dist-packages (from dask[complete]) (1.19.5)\n",
            "Collecting fsspec>=0.6.0\n",
            "  Downloading fsspec-2021.7.0-py3-none-any.whl (118 kB)\n",
            "\u001b[K     |████████████████████████████████| 118 kB 68.3 MB/s \n",
            "\u001b[?25hRequirement already satisfied: pandas>=0.23.0 in /usr/local/lib/python3.7/dist-packages (from dask[complete]) (1.1.5)\n",
            "Requirement already satisfied: cloudpickle>=0.2.1 in /usr/local/lib/python3.7/dist-packages (from dask[complete]) (1.3.0)\n",
            "Requirement already satisfied: python-dateutil>=2.1 in /usr/local/lib/python3.7/dist-packages (from bokeh>=1.0.0->dask[complete]) (2.8.2)\n",
            "Requirement already satisfied: typing-extensions>=3.7.4 in /usr/local/lib/python3.7/dist-packages (from bokeh>=1.0.0->dask[complete]) (3.7.4.3)\n",
            "Requirement already satisfied: Jinja2>=2.9 in /usr/local/lib/python3.7/dist-packages (from bokeh>=1.0.0->dask[complete]) (2.11.3)\n",
            "Requirement already satisfied: tornado>=5.1 in /usr/local/lib/python3.7/dist-packages (from bokeh>=1.0.0->dask[complete]) (5.1.1)\n",
            "Requirement already satisfied: pillow>=7.1.0 in /usr/local/lib/python3.7/dist-packages (from bokeh>=1.0.0->dask[complete]) (7.1.2)\n",
            "Requirement already satisfied: packaging>=16.8 in /usr/local/lib/python3.7/dist-packages (from bokeh>=1.0.0->dask[complete]) (21.0)\n",
            "Requirement already satisfied: msgpack>=0.6.0 in /usr/local/lib/python3.7/dist-packages (from distributed>=2.0->dask[complete]) (1.0.2)\n",
            "Requirement already satisfied: click>=6.6 in /usr/local/lib/python3.7/dist-packages (from distributed>=2.0->dask[complete]) (7.1.2)\n",
            "Requirement already satisfied: tblib>=1.6.0 in /usr/local/lib/python3.7/dist-packages (from distributed>=2.0->dask[complete]) (1.7.0)\n",
            "Requirement already satisfied: zict>=0.1.3 in /usr/local/lib/python3.7/dist-packages (from distributed>=2.0->dask[complete]) (2.0.0)\n",
            "Collecting cloudpickle>=0.2.1\n",
            "  Downloading cloudpickle-1.6.0-py3-none-any.whl (23 kB)\n",
            "Requirement already satisfied: setuptools in /usr/local/lib/python3.7/dist-packages (from distributed>=2.0->dask[complete]) (57.4.0)\n",
            "Requirement already satisfied: psutil>=5.0 in /usr/local/lib/python3.7/dist-packages (from distributed>=2.0->dask[complete]) (5.4.8)\n",
            "Collecting distributed>=2.0\n",
            "  Downloading distributed-2021.7.2-py3-none-any.whl (769 kB)\n",
            "\u001b[K     |████████████████████████████████| 769 kB 44.5 MB/s \n",
            "\u001b[?25h  Downloading distributed-2021.7.1-py3-none-any.whl (766 kB)\n",
            "\u001b[K     |████████████████████████████████| 766 kB 80.2 MB/s \n",
            "\u001b[?25h  Downloading distributed-2021.7.0-py3-none-any.whl (1.0 MB)\n",
            "\u001b[K     |████████████████████████████████| 1.0 MB 60.5 MB/s \n",
            "\u001b[?25h  Downloading distributed-2021.6.2-py3-none-any.whl (722 kB)\n",
            "\u001b[K     |████████████████████████████████| 722 kB 60.1 MB/s \n",
            "\u001b[?25h  Downloading distributed-2021.6.1-py3-none-any.whl (722 kB)\n",
            "\u001b[K     |████████████████████████████████| 722 kB 65.4 MB/s \n",
            "\u001b[?25h  Downloading distributed-2021.6.0-py3-none-any.whl (715 kB)\n",
            "\u001b[K     |████████████████████████████████| 715 kB 74.4 MB/s \n",
            "\u001b[?25h  Downloading distributed-2021.5.1-py3-none-any.whl (705 kB)\n",
            "\u001b[K     |████████████████████████████████| 705 kB 78.5 MB/s \n",
            "\u001b[?25hRequirement already satisfied: sortedcontainers!=2.0.0,!=2.0.1 in /usr/local/lib/python3.7/dist-packages (from distributed>=2.0->dask[complete]) (2.4.0)\n",
            "  Downloading distributed-2021.5.0-py3-none-any.whl (699 kB)\n",
            "\u001b[K     |████████████████████████████████| 699 kB 79.7 MB/s \n",
            "\u001b[?25h  Downloading distributed-2021.4.1-py3-none-any.whl (696 kB)\n",
            "\u001b[K     |████████████████████████████████| 696 kB 78.6 MB/s \n",
            "\u001b[?25h  Downloading distributed-2021.4.0-py3-none-any.whl (684 kB)\n",
            "\u001b[K     |████████████████████████████████| 684 kB 26.4 MB/s \n",
            "\u001b[?25h  Downloading distributed-2021.3.1-py3-none-any.whl (679 kB)\n",
            "\u001b[K     |████████████████████████████████| 679 kB 65.7 MB/s \n",
            "\u001b[?25h  Downloading distributed-2021.3.0-py3-none-any.whl (675 kB)\n",
            "\u001b[K     |████████████████████████████████| 675 kB 63.8 MB/s \n",
            "\u001b[?25h  Downloading distributed-2021.2.0-py3-none-any.whl (675 kB)\n",
            "\u001b[K     |████████████████████████████████| 675 kB 71.1 MB/s \n",
            "\u001b[?25h  Downloading distributed-2021.1.1-py3-none-any.whl (672 kB)\n",
            "\u001b[K     |████████████████████████████████| 672 kB 67.6 MB/s \n",
            "\u001b[?25h  Downloading distributed-2021.1.0-py3-none-any.whl (671 kB)\n",
            "\u001b[K     |████████████████████████████████| 671 kB 75.5 MB/s \n",
            "\u001b[?25h  Downloading distributed-2020.12.0-py3-none-any.whl (669 kB)\n",
            "\u001b[K     |████████████████████████████████| 669 kB 79.6 MB/s \n",
            "\u001b[?25h  Downloading distributed-2.30.1-py3-none-any.whl (656 kB)\n",
            "\u001b[K     |████████████████████████████████| 656 kB 81.2 MB/s \n",
            "\u001b[?25hRequirement already satisfied: MarkupSafe>=0.23 in /usr/local/lib/python3.7/dist-packages (from Jinja2>=2.9->bokeh>=1.0.0->dask[complete]) (2.0.1)\n",
            "Requirement already satisfied: pyparsing>=2.0.2 in /usr/local/lib/python3.7/dist-packages (from packaging>=16.8->bokeh>=1.0.0->dask[complete]) (2.4.7)\n",
            "Requirement already satisfied: pytz>=2017.2 in /usr/local/lib/python3.7/dist-packages (from pandas>=0.23.0->dask[complete]) (2018.9)\n",
            "Collecting locket\n",
            "  Downloading locket-0.2.1-py2.py3-none-any.whl (4.1 kB)\n",
            "Requirement already satisfied: six>=1.5 in /usr/local/lib/python3.7/dist-packages (from python-dateutil>=2.1->bokeh>=1.0.0->dask[complete]) (1.15.0)\n",
            "Requirement already satisfied: heapdict in /usr/local/lib/python3.7/dist-packages (from zict>=0.1.3->distributed>=2.0->dask[complete]) (1.0.1)\n",
            "Installing collected packages: locket, cloudpickle, partd, fsspec, distributed\n",
            "  Attempting uninstall: cloudpickle\n",
            "    Found existing installation: cloudpickle 1.3.0\n",
            "    Uninstalling cloudpickle-1.3.0:\n",
            "      Successfully uninstalled cloudpickle-1.3.0\n",
            "  Attempting uninstall: distributed\n",
            "    Found existing installation: distributed 1.25.3\n",
            "    Uninstalling distributed-1.25.3:\n",
            "      Successfully uninstalled distributed-1.25.3\n",
            "Successfully installed cloudpickle-1.6.0 distributed-2.30.1 fsspec-2021.7.0 locket-0.2.1 partd-1.2.0\n",
            "\u001b[K     |████████████████████████████████| 188 kB 7.1 MB/s \n",
            "\u001b[K     |████████████████████████████████| 56 kB 5.6 MB/s \n",
            "\u001b[?25hCollecting parsivar\n",
            "  Downloading parsivar-0.2.3.tar.gz (36.2 MB)\n",
            "\u001b[K     |████████████████████████████████| 36.2 MB 62 kB/s \n",
            "\u001b[?25hCollecting nltk==3.4.5\n",
            "  Downloading nltk-3.4.5.zip (1.5 MB)\n",
            "\u001b[K     |████████████████████████████████| 1.5 MB 43.5 MB/s \n",
            "\u001b[?25hRequirement already satisfied: six in /usr/local/lib/python3.7/dist-packages (from nltk==3.4.5->parsivar) (1.15.0)\n",
            "Building wheels for collected packages: parsivar, nltk\n",
            "  Building wheel for parsivar (setup.py) ... \u001b[?25l\u001b[?25hdone\n",
            "  Created wheel for parsivar: filename=parsivar-0.2.3-py3-none-any.whl size=36492971 sha256=c4300874ac1edf6da2dd3558a0314f22e6ee3193e80dafd1fbaeb46e9bf8c430\n",
            "  Stored in directory: /root/.cache/pip/wheels/ae/67/7a/49cbf08f64d3f76a26eceaf0e481a40e233f05d4356875cbed\n",
            "  Building wheel for nltk (setup.py) ... \u001b[?25l\u001b[?25hdone\n",
            "  Created wheel for nltk: filename=nltk-3.4.5-py3-none-any.whl size=1449922 sha256=40aca204334d8dbbea69e9af0cae4be1ecfe4ab71943c53aa4f71341ba8c54de\n",
            "  Stored in directory: /root/.cache/pip/wheels/48/8b/7f/473521e0c731c6566d631b281f323842bbda9bd819eb9a3ead\n",
            "Successfully built parsivar nltk\n",
            "Installing collected packages: nltk, parsivar\n",
            "  Attempting uninstall: nltk\n",
            "    Found existing installation: nltk 3.2.5\n",
            "    Uninstalling nltk-3.2.5:\n",
            "      Successfully uninstalled nltk-3.2.5\n",
            "Successfully installed nltk-3.4.5 parsivar-0.2.3\n"
          ],
          "name": "stdout"
        }
      ]
    },
    {
      "cell_type": "markdown",
      "metadata": {
        "id": "yfUFqARF9WG2"
      },
      "source": [
        "# Imports"
      ]
    },
    {
      "cell_type": "code",
      "metadata": {
        "id": "6EyCqafL9Xkk"
      },
      "source": [
        "import dask.dataframe as dd\n",
        "import pandas as pd\n",
        "import os\n",
        "from fastai.text.all import *\n",
        "from fastai.tabular.all import *\n",
        "import pickle\n",
        "\n",
        "from torch.utils.data import Dataset\n",
        "from tqdm import tqdm\n",
        "import torch as T\n",
        "from fastai.data.core import DataLoaders\n",
        "import torch.nn as nn\n",
        "from torch.utils.data.dataloader import DataLoader\n",
        "\n",
        "from helper import utils"
      ],
      "execution_count": null,
      "outputs": []
    },
    {
      "cell_type": "markdown",
      "metadata": {
        "id": "gAC4ehm4JqBe"
      },
      "source": [
        "# declaring paths"
      ]
    },
    {
      "cell_type": "code",
      "metadata": {
        "id": "p6e_OvH39YSo"
      },
      "source": [
        "data_folder = os.path.join(pwd,\"data\")\n",
        "final_clicked = os.path.join(data_folder,\"final\",\"final_clicked.csv\")\n",
        "final_products = os.path.join(data_folder,\"final\",\"final_products.csv\")\n",
        "mix_model_path = os.path.join(data_folder,\"models\",\"mix_model\")\n",
        "category_classifier_path = os.path.join(data_folder,\"models\",\"category_classifier\")"
      ],
      "execution_count": null,
      "outputs": []
    },
    {
      "cell_type": "code",
      "metadata": {
        "colab": {
          "base_uri": "https://localhost:8080/",
          "height": 257
        },
        "id": "ehLtYb_k96Ns",
        "outputId": "e06015d9-abf6-43f6-c3ff-7ec61216d014"
      },
      "source": [
        "cdf = dd.read_csv(final_clicked)\n",
        "cdf.head()"
      ],
      "execution_count": null,
      "outputs": [
        {
          "output_type": "execute_result",
          "data": {
            "text/html": [
              "<div>\n",
              "<style scoped>\n",
              "    .dataframe tbody tr th:only-of-type {\n",
              "        vertical-align: middle;\n",
              "    }\n",
              "\n",
              "    .dataframe tbody tr th {\n",
              "        vertical-align: top;\n",
              "    }\n",
              "\n",
              "    .dataframe thead th {\n",
              "        text-align: right;\n",
              "    }\n",
              "</style>\n",
              "<table border=\"1\" class=\"dataframe\">\n",
              "  <thead>\n",
              "    <tr style=\"text-align: right;\">\n",
              "      <th></th>\n",
              "      <th>Unnamed: 0</th>\n",
              "      <th>rank</th>\n",
              "      <th>raw_query</th>\n",
              "      <th>page</th>\n",
              "      <th>product_showed</th>\n",
              "      <th>is_clicked</th>\n",
              "      <th>DAY(datetime)</th>\n",
              "      <th>HOUR(datetime)</th>\n",
              "      <th>IS_WEEKEND(datetime)</th>\n",
              "      <th>MINUTE(datetime)</th>\n",
              "      <th>MONTH(datetime)</th>\n",
              "      <th>NUM_WORDS(raw_query)</th>\n",
              "      <th>WEEKDAY(datetime)</th>\n",
              "      <th>YEAR(datetime)</th>\n",
              "      <th>products.category_name</th>\n",
              "      <th>products.product_name_normalized</th>\n",
              "      <th>products.sellers_count</th>\n",
              "      <th>products.availabilty_ratio</th>\n",
              "      <th>products.mean_all_price</th>\n",
              "      <th>products.max_all_price</th>\n",
              "      <th>products.min_all_price</th>\n",
              "      <th>products.std_all_price</th>\n",
              "      <th>products.skew_all_price</th>\n",
              "      <th>products.mean_available_price</th>\n",
              "      <th>products.max_available_price</th>\n",
              "      <th>products.min_available_price</th>\n",
              "      <th>products.std_available_price</th>\n",
              "      <th>products.skew_available_price</th>\n",
              "      <th>products.COUNT(clicked_merged)</th>\n",
              "      <th>products.PERCENT_TRUE(clicked_merged.is_clicked)</th>\n",
              "      <th>products.DAY(first_added_date)</th>\n",
              "      <th>products.DAY(last_added_date)</th>\n",
              "      <th>products.HOUR(first_added_date)</th>\n",
              "      <th>products.HOUR(last_added_date)</th>\n",
              "      <th>products.IS_WEEKEND(first_added_date)</th>\n",
              "      <th>products.IS_WEEKEND(last_added_date)</th>\n",
              "      <th>products.MINUTE(first_added_date)</th>\n",
              "      <th>products.MINUTE(last_added_date)</th>\n",
              "      <th>products.MONTH(first_added_date)</th>\n",
              "      <th>products.MONTH(last_added_date)</th>\n",
              "      <th>products.NUM_WORDS(product_name_normalized)</th>\n",
              "      <th>products.WEEKDAY(first_added_date)</th>\n",
              "      <th>products.WEEKDAY(last_added_date)</th>\n",
              "      <th>products.YEAR(first_added_date)</th>\n",
              "      <th>products.YEAR(last_added_date)</th>\n",
              "      <th>_id</th>\n",
              "    </tr>\n",
              "  </thead>\n",
              "  <tbody>\n",
              "    <tr>\n",
              "      <th>0</th>\n",
              "      <td>0</td>\n",
              "      <td>0</td>\n",
              "      <td>ماشین پژو پارس</td>\n",
              "      <td>0</td>\n",
              "      <td>mnlmg</td>\n",
              "      <td>False</td>\n",
              "      <td>14</td>\n",
              "      <td>5</td>\n",
              "      <td>False</td>\n",
              "      <td>33</td>\n",
              "      <td>4</td>\n",
              "      <td>3</td>\n",
              "      <td>2</td>\n",
              "      <td>2021</td>\n",
              "      <td>سایر لوازم تزئینی خودرو</td>\n",
              "      <td>پارس جلو پهن پژو اکورد طرح نیون چراغ اسپرت بلوری</td>\n",
              "      <td>1</td>\n",
              "      <td>1.0</td>\n",
              "      <td>810000.0</td>\n",
              "      <td>810000.0</td>\n",
              "      <td>810000.0</td>\n",
              "      <td>0.0</td>\n",
              "      <td>0.0</td>\n",
              "      <td>810000.0</td>\n",
              "      <td>810000.0</td>\n",
              "      <td>810000.0</td>\n",
              "      <td>0.0</td>\n",
              "      <td>0.0</td>\n",
              "      <td>31</td>\n",
              "      <td>0.032258</td>\n",
              "      <td>20</td>\n",
              "      <td>20</td>\n",
              "      <td>3</td>\n",
              "      <td>3</td>\n",
              "      <td>False</td>\n",
              "      <td>False</td>\n",
              "      <td>57</td>\n",
              "      <td>57</td>\n",
              "      <td>11</td>\n",
              "      <td>11</td>\n",
              "      <td>10</td>\n",
              "      <td>2</td>\n",
              "      <td>2</td>\n",
              "      <td>2019</td>\n",
              "      <td>2019</td>\n",
              "      <td>6312613</td>\n",
              "    </tr>\n",
              "    <tr>\n",
              "      <th>1</th>\n",
              "      <td>1</td>\n",
              "      <td>49</td>\n",
              "      <td>دامن شلواری</td>\n",
              "      <td>2</td>\n",
              "      <td>ydpvn</td>\n",
              "      <td>False</td>\n",
              "      <td>14</td>\n",
              "      <td>14</td>\n",
              "      <td>False</td>\n",
              "      <td>5</td>\n",
              "      <td>4</td>\n",
              "      <td>2</td>\n",
              "      <td>2</td>\n",
              "      <td>2021</td>\n",
              "      <td>شلوار و دامن زنانه</td>\n",
              "      <td>شلواری دامن راحت</td>\n",
              "      <td>1</td>\n",
              "      <td>0.0</td>\n",
              "      <td>599000.0</td>\n",
              "      <td>599000.0</td>\n",
              "      <td>599000.0</td>\n",
              "      <td>0.0</td>\n",
              "      <td>0.0</td>\n",
              "      <td>NaN</td>\n",
              "      <td>NaN</td>\n",
              "      <td>NaN</td>\n",
              "      <td>NaN</td>\n",
              "      <td>NaN</td>\n",
              "      <td>1</td>\n",
              "      <td>0.000000</td>\n",
              "      <td>5</td>\n",
              "      <td>5</td>\n",
              "      <td>19</td>\n",
              "      <td>19</td>\n",
              "      <td>False</td>\n",
              "      <td>False</td>\n",
              "      <td>38</td>\n",
              "      <td>38</td>\n",
              "      <td>1</td>\n",
              "      <td>1</td>\n",
              "      <td>3</td>\n",
              "      <td>1</td>\n",
              "      <td>1</td>\n",
              "      <td>2021</td>\n",
              "      <td>2021</td>\n",
              "      <td>6313848</td>\n",
              "    </tr>\n",
              "    <tr>\n",
              "      <th>2</th>\n",
              "      <td>2</td>\n",
              "      <td>42</td>\n",
              "      <td>کفش چرم زنانه</td>\n",
              "      <td>1</td>\n",
              "      <td>micot</td>\n",
              "      <td>False</td>\n",
              "      <td>14</td>\n",
              "      <td>5</td>\n",
              "      <td>False</td>\n",
              "      <td>48</td>\n",
              "      <td>4</td>\n",
              "      <td>3</td>\n",
              "      <td>2</td>\n",
              "      <td>2021</td>\n",
              "      <td>کفش و صندل زنانه</td>\n",
              "      <td>کفش چرم طبی کد 428 معراج زنانه</td>\n",
              "      <td>1</td>\n",
              "      <td>1.0</td>\n",
              "      <td>470000.0</td>\n",
              "      <td>470000.0</td>\n",
              "      <td>470000.0</td>\n",
              "      <td>0.0</td>\n",
              "      <td>0.0</td>\n",
              "      <td>470000.0</td>\n",
              "      <td>470000.0</td>\n",
              "      <td>470000.0</td>\n",
              "      <td>0.0</td>\n",
              "      <td>0.0</td>\n",
              "      <td>4</td>\n",
              "      <td>0.000000</td>\n",
              "      <td>27</td>\n",
              "      <td>27</td>\n",
              "      <td>21</td>\n",
              "      <td>21</td>\n",
              "      <td>True</td>\n",
              "      <td>True</td>\n",
              "      <td>3</td>\n",
              "      <td>3</td>\n",
              "      <td>2</td>\n",
              "      <td>2</td>\n",
              "      <td>7</td>\n",
              "      <td>5</td>\n",
              "      <td>5</td>\n",
              "      <td>2021</td>\n",
              "      <td>2021</td>\n",
              "      <td>6314214</td>\n",
              "    </tr>\n",
              "    <tr>\n",
              "      <th>3</th>\n",
              "      <td>3</td>\n",
              "      <td>22</td>\n",
              "      <td>وافل ساز</td>\n",
              "      <td>2</td>\n",
              "      <td>mjtxs</td>\n",
              "      <td>False</td>\n",
              "      <td>13</td>\n",
              "      <td>21</td>\n",
              "      <td>False</td>\n",
              "      <td>23</td>\n",
              "      <td>4</td>\n",
              "      <td>2</td>\n",
              "      <td>1</td>\n",
              "      <td>2021</td>\n",
              "      <td>ساندویچ ساز و وافل ساز</td>\n",
              "      <td>صنعتی تخم ساز مرغی بست pfy 2 وافل</td>\n",
              "      <td>1</td>\n",
              "      <td>1.0</td>\n",
              "      <td>3500000.0</td>\n",
              "      <td>3500000.0</td>\n",
              "      <td>3500000.0</td>\n",
              "      <td>0.0</td>\n",
              "      <td>0.0</td>\n",
              "      <td>3500000.0</td>\n",
              "      <td>3500000.0</td>\n",
              "      <td>3500000.0</td>\n",
              "      <td>0.0</td>\n",
              "      <td>0.0</td>\n",
              "      <td>12</td>\n",
              "      <td>0.083333</td>\n",
              "      <td>2</td>\n",
              "      <td>2</td>\n",
              "      <td>10</td>\n",
              "      <td>10</td>\n",
              "      <td>True</td>\n",
              "      <td>True</td>\n",
              "      <td>26</td>\n",
              "      <td>26</td>\n",
              "      <td>1</td>\n",
              "      <td>1</td>\n",
              "      <td>8</td>\n",
              "      <td>5</td>\n",
              "      <td>5</td>\n",
              "      <td>2021</td>\n",
              "      <td>2021</td>\n",
              "      <td>6246255</td>\n",
              "    </tr>\n",
              "    <tr>\n",
              "      <th>4</th>\n",
              "      <td>4</td>\n",
              "      <td>22</td>\n",
              "      <td>وافل ساز</td>\n",
              "      <td>2</td>\n",
              "      <td>mjtxs</td>\n",
              "      <td>False</td>\n",
              "      <td>13</td>\n",
              "      <td>21</td>\n",
              "      <td>False</td>\n",
              "      <td>23</td>\n",
              "      <td>4</td>\n",
              "      <td>2</td>\n",
              "      <td>1</td>\n",
              "      <td>2021</td>\n",
              "      <td>ساندویچ ساز و وافل ساز</td>\n",
              "      <td>صنعتی تخم ساز مرغی بست pfy 2 وافل</td>\n",
              "      <td>1</td>\n",
              "      <td>1.0</td>\n",
              "      <td>3500000.0</td>\n",
              "      <td>3500000.0</td>\n",
              "      <td>3500000.0</td>\n",
              "      <td>0.0</td>\n",
              "      <td>0.0</td>\n",
              "      <td>3500000.0</td>\n",
              "      <td>3500000.0</td>\n",
              "      <td>3500000.0</td>\n",
              "      <td>0.0</td>\n",
              "      <td>0.0</td>\n",
              "      <td>12</td>\n",
              "      <td>0.083333</td>\n",
              "      <td>2</td>\n",
              "      <td>2</td>\n",
              "      <td>10</td>\n",
              "      <td>10</td>\n",
              "      <td>True</td>\n",
              "      <td>True</td>\n",
              "      <td>26</td>\n",
              "      <td>26</td>\n",
              "      <td>1</td>\n",
              "      <td>1</td>\n",
              "      <td>8</td>\n",
              "      <td>5</td>\n",
              "      <td>5</td>\n",
              "      <td>2021</td>\n",
              "      <td>2021</td>\n",
              "      <td>6246256</td>\n",
              "    </tr>\n",
              "  </tbody>\n",
              "</table>\n",
              "</div>"
            ],
            "text/plain": [
              "   Unnamed: 0  rank  ... products.YEAR(last_added_date)      _id\n",
              "0           0     0  ...                           2019  6312613\n",
              "1           1    49  ...                           2021  6313848\n",
              "2           2    42  ...                           2021  6314214\n",
              "3           3    22  ...                           2021  6246255\n",
              "4           4    22  ...                           2021  6246256\n",
              "\n",
              "[5 rows x 46 columns]"
            ]
          },
          "metadata": {},
          "execution_count": 5
        }
      ]
    },
    {
      "cell_type": "markdown",
      "metadata": {
        "id": "Y7VpX7h1jBVF"
      },
      "source": [
        "## loading vocab"
      ]
    },
    {
      "cell_type": "code",
      "metadata": {
        "colab": {
          "base_uri": "https://localhost:8080/"
        },
        "id": "H6_2oLsnjR-v",
        "outputId": "f0288a9b-cdd3-4ed1-b469-a8639e46530f"
      },
      "source": [
        "#if vocab exits:\n",
        "vocab = pickle.load(open(os.path.join(category_classifier_path,\"vocab\"),'rb'))\n",
        "vocab"
      ],
      "execution_count": null,
      "outputs": [
        {
          "output_type": "execute_result",
          "data": {
            "text/plain": [
              "(#2) [['xxunk', 'xxpad', 'xxbos', 'xxeos', 'xxfld', 'xxrep', 'xxwrep', 'xxup', 'xxmaj', '<', '>', '2', '1', 'startquery', 'endquery', 'startcategory', 'endcategory', 'و', 'گوشی', 'سایر', 'لوازم', '،', 'سامسونگ', 'بازی', 'جانبی', 'شیائومی', 'خودرو', 'ساعت', 'ماشین', 'مردانه', 'کیف', 'برقی', 'زنانه', 'کفش', 'لپ\\u200cتاپ', 'تبلت', 'ابزار', 'برندهای', 'لباس', 'بادی', 'ساز', 'هدفون', 'کامپیوتر', 'اسباب', 'تجهیزات', 'کاور', 'تلویزیون', 'تفنگ', 'اپل', 'هوشمند', 'هدست', 'کنسول', 'یخچال', 'خواب', 'شارژی', 'کولر', 'هندزفری', 'کودک', 'ای', 'دستگاه', 'صندل', 'مودم', 'موبایل', 'هارد', 'سونی', 'آیفون', 'قاب', 'باتری', 'اسپیکر', 'ماسک', 'فریزر', 'بند', 'ایسوس', 'کیبورد', 'پی', 'چراغ', 'ساید', 'صندلی', 'ماوس', 'دوربین', 'ps4', 'دوچرخه', 'موتور', 'دخترانه', 'آشپزخانه', 'ظروف', 'ال', 'کارت', 'گازی', 'فلش', 'میز', 'poco', 'تاپ', '10', 'سرویس', 'روغن', 'پز', 'pro', 'جی', 'نوت', 'گل', 'کشتی', 'ورزشی', 'قطار', 'اسلایم', 'تخت', 'شارژر', 'اصلاح', 'note', 'اسکوتر', 'اسکیت', 'انواع', 'ایکس', 'آرایش', 'مچ', 'قطعات', 'پخت', 'کن', 'های', 'عروسک', 'دستی', 'برند', 'پاور', 'لپ', 'نوکیا', 'پاوربانک', 'محافظ', 'پرینتر', 'اکسترنال', 'کابل', 'شلوار', 'کننده', 'تلفن', 'مموری', 'تراش', 'mi', 'ست', 'کیس', 'دیواری', 'اس', 'x3', 'هوآوی', 'مانتو', 'قهوه', 'a52', 'یدکی', 'دوچرخه٬', 'پلی', 'مو', 'redmi', 'بلندگو', 'میکروفون', 'پذیرایی', 'ماکت', 'باکس', 'ربات', 'سیم', 'لنوو', 'صفحه', 'xbox', 'رومیزی', 'پزشکی', 'تناسب', 'اندام', 'زیبایی', 'ظرفشویی', 'استیشن', 'درب', 'خانگی', 'گیمینگ', 'سرو', 'گلدان', 'اسپرسو', 'آب', 'گیری', 'انگشتر', 'بای', 'پروژکتور', '9', 'ایفون', 'مایکروسافت', 'برق', 'اچ', 'چای', 'چرخ', 'تی', 'ردمی', 'پوشاک', 'مچی', 'لگو', 'مصنوعی', 'پایه', 'مراقبت', 'نوزاد', 'گاز', 'دسته', 'چشم', 'شیایومی', 'آویز', 'فرش', 'سفر', 'ویدیو', 'نمایشگر', 'دی', 'سی', '8', 'عینک', 'کارگاهی', 'شیر', 'شیرآلات', 'کوله', 'توپ', 'مبل', 'g', 'پمپ', 'مینی', 'پیراهن', 'شال', 'آموزشی', 'لب', 'سه', 'پرو', 'dsl', '5', 'لباسشویی', 'a32', 'ریش\\u200c', 'کتری', 'اتو', 'تسکو', 'پرورش', 'روکش', 'دریل', 'دیجیتالی', 'باربی', 'نوجوان', 'فندک', 'کرم', 'زیر', 'داخلی', 'میوه', 'لامپ', 'راحتی', 'تزیینی', 'سرگرمی', 'حمام', 'فرز', 'بی', 'تبدیل', 'تابلو', 'تیشرت', '11', 'جعبه', 'پخش', 'شکاری', 'رم', 'پراید', 'بوش', 'حیوانات', 'کاغذ', 'صنعتی', 'رینگ', 't', 'قابلمه', 'پازل', 'فن', 'سینک', 'عقربه\\u200c', 'لینک', 'a72', 'شومیز', 'کوچک', '4', 'فوتبال', 'بلوتوثی', 'اسنوا', 'آبمیوه', 'پول', 'فر', 'اجاق', 'خردسال', 'جوش', 'آبی', '12', 'گرافیک', 'اداری', 'آینه', 'بلوتوث', 'چادر', 'کنترلی', 'سیکلت', 'مانیتور', 'دستبند', 'شیامی', 'مجلسی', 'بهداشت', 'سفری', 'اسباب\\u200cبازی', 'فکری٬', '3', 'ریش', 'a21s', 'گردشگری', 'بسته', 'ناخن', 'دستکش', 'مدار', 'پد', 'شبکه', 'کیک', ')', '(', 'گردنبند', 'جلو', 'صورت', 'm3', 'واچ', 'کتاب', 'تاب', 'پاناسونیک', 'اسپرت', 'ضد', 'دیسک', 'پلاس', 'فیلیپس', 'زن', 'ابرو', 'ام', 'هواوی', 'نوری', 'پارس', 'بی\\u200cسیم', 'iphone', 'سگ', 'موس', 'وسایل', 'نگهداری', 'شوکر', 'a71', 'بانک', 'مکمل', 'پسرانه', 'لباس\\u200c\\u200cشویی', 'پنکه', 'دل', 'کلاه', 'ساچمه', 'اکسسوری', 'رنگ', 'دو', 'a10s', 'کوهنوردی', 'قوری', 'طلا', 'خیاطی', 'دستمال', 'خنک\\u200cکننده', 'بدن', 'پوکو', 'هودی', 'کمد', 'لاستیک', 'همزن', 'همه\\u200cکاره', 'ریزر', 'a12', 'کتونی', 'ماینر', 's20', 'سنگ', 'اره', 'بدنسازی', 'استیکر', 'تزئینی', 'شمع', 'هوا', 'اب', 'قفل', 'فروشگاهی', 'پرده', 'کلت', 'فلاسک', 'کیسه', 'توشیبا', 'روتختی', 'کلید', '/', 'ساچمه\\u200cای', 'جوراب', 'باغبانی', 'ادکلن', 'حافظه', 'حوله', 'تصویری', 'ترازو', 'فیلتر', 'ترازوی', 'ultra', 'a10', 'تصفیه', 'مبلمان', 'شورت', 'ایسر', 'آبیاری', 'خشک', '۱۰', 'موسیقی', 'اسکنر', 'ضبط\\u200cکننده', 'قفسه', 'امنیتی', 'کاپشن', 'lite', 'نقاشی', 'a02', 'دار', 'لیزر', 'سماور', 'نگهدارنده', 'هود', 'فلزی', 'وسترن', 'دوو', 'فیگور', 'اسپری', 'برای', 'ایرپاد', 'لایت', 's', 'دسکتاپ', 'جا', '6', 'توستر', 'جای', 'بذر', 'دیجیتال', 'پژو', 'ماساژور', 'تلوزیون', 'گوشواره', 'تغذیه', 'خوراکی', 'چسب', 'وی', 'توالت', 'لاک', 'اینترنال', 'دلار', 'دیواری٬', 'پابند', 'روشویی', 'عطر', 'روسری', 'نور', 'باند', 'ساده', 'صوتی', 'ریسه', 'ساختمان', 'ژل', 'ویژن', 'دهنده', 'جاکفشی', 'زناشویی', 'مژه', '۹', 'دوقلو', 'جوهر', 'استیل', 'جاروبرقی', 'خمیر', 'التحریر', 'پارچه', 'طبیعی', 'طبی', 'قوه', 'مسافرتی', 'ویدیویی', 'قاشق', 'خورشیدی', 'پشتی', ',', 's21', 'پکیج', 'چوبی', 'کارواش', 'گوشت', 'نظارتی', 'fe', 'مدل', 'دستشویی', 'برس', 'شکلات', 'بعدی', 'نفره', 'رطوبت', 'وبکم', 'افزار', 'دامن', 'آسیاب', 'مبلی', 'دیتا', 'وان', 'خوری', 'گرین', 'دستگاه\\u200cهای', 'رسمی', 'سازهای', 'قدیمی', 'کنترل', 'دمبل', 'y8p', 'دارو\\u200cهای', 'چینی', 'سنج', 'دندان', 'رونیکس', 'بهداشتی', 'سکه', 'آرایشی', 'بکس', 'ساختمانی', 'هدیه', 'لاجیتک', 'مجسمه', 'بچه', 'پودر', 'روشنایی', 'دانگل', 'نینتندو', 'بر', 'قیمت', 'انکر', 'همراه', 'چرخه', 'لپتاپ', 'جارو', 'x', 'لیبل', '۱۲', 'شیاومی', 'اینورتر', 'رایانه', 'نوا', 'پوستر', 'وریتی', 'گارد', 'بوفه', 'ورزش\\u200cهای', 'خردکن', 'رپو', 'کف', 'بالاپایین', 'اکسیژن', 'پتو', 'لنز', 'برنج', 'طراحی', 'قلم', 'نظم', 'مایع', 'ماساژ', 'کامپیوتری', 'نقره', 'لوله', 'لحاف', 'گیر', 'بیسیم', 'جک', 'غذای', 'ساک', 'آی', 'قمقمه', 'اشیاء', 'کلکسیونی', 'مکمل\\u200cهای', 'دارویی', 'مواد', 'آکواریوم', 'پردازنده', 'مجلات', 'خدمات', 'اپسون', 'پوشک', 'ps5', '۸', 'حمل', 'افشان', 'جامد', 'سوهان', 'کت', 'مصرف', 'تشک٬', 'دزدگیر', 'گردن', 'زیرانداز', 'استند', 'برچسب', 'چنگال', 'غذا', 'کمپرسور', 'ژنراتور', 'سطل', 'اندازه', 'منبع', 'طرح', 'پک', 'دقیق', 'ساب', 'ssd', 'چاقو', 'ps3', 'درمان', 'توانبخشی', 'a51', 'آیپد', 'وظروف', 'پالتو', 'سوتین', 'خوان', 'دفتر', 'ابزارآلات', 'نمایش', 'نیم', 'آباژور', 'خزر', 'samsung', 'صابون', 'ساندویچ', 'شامپو', 'ژله', 'تشک', 'لیوان', 'رادیاتور', 'شوینده', 'band', 'مایکروویو', 'ایمنی', 'سرخ', 'الکترونیکی', 'مادربورد', 'بخور', 'کش', 'لوسیون', 'مطالعه', 'سیستم\\u200cهای', 'اوازم', 'فعالیت', 'تحرک', 'چهار', 'سویشرت', 'کلاسور', 'تولد', 'واشر', 'بوکس', 'بارانی', 'فرمان', 'زودپز', 'باد', 'ماهی', 'نوشت\\u200c', 'galaxy', 'نظافت', 'هویه', 'چادر٬', 'تیبا', 'اون', 'قیچی', 'اقلام', 'ها', '360', 'پلاستیکی', 'آنتن', 'قند', 'a20', 'اینچ', 'آرایشگاهی', 'پوش', 'ظرف\\u200c\\u200cشویی', 'ماگ', 'تاشو', 'تک', 'سنجش', 'مداربسته', 'جیبی', 'هیتر', 'plus', 'کالسکه', 'm62', 'دمپایی', 'صبحانه', 'کانن', 'می', 'فورتک', 'موتورولا', 'صندوق', 'ماشین\\u200cآلات', 'اکشن', 'دور', 'صدا', 'قالب', 'رخت', 'چوب', 'ترمز', 'پرس', 'دوخت', 'چمن', '۲۰۶', 'شوی', 'سی\\u200c\\u200cدی', 'بتن', 'حساب', 'راکت', 'بستنی', 'تعویض', 'کتاب\\u200cخوان', 'الکاتل', 'پن', 'پنل', 'آنر', 'کار', 'اچار', 'حرارتی', 'لیزری', 'فور', 'بادام', 'usb', 'معمولی', 'مولتی', 'سیلیکون', 'تاچ', 'لوستر', 'ایرانی', 'جالباسی', 'کاغذی', 'آبسرد', 'شلنگ', 'تحریر', 'انداز', 'سر', 'برادر', 'بسته\\u200cبندی', 'اشپزخانه', 'کاسیو', 'لبتاب', '206', 'ادوات', 'کره', 'مخفی', '۲', 'تونر', 'فایر', 'شارژ', 'خاک', 'دختر', 'a', 'بلک', 'پوست', 'مسواک', '۴', 'کوب', 'ریمل', 'جشن', 'شلوارک', 'پاش', 'اچ\\u200c', 'قلمی', 'a20s', 'نوار', 'گیم', 'کشی', 'ظرف', 'رباتیک', 'غذاخوری', 'تراز', 'ایستاده', 'پلوپز', 'کاسه', 'watch', 'مخصوص', 'hdmi', 'بخارشوی', 'a01', 'پاک', 'کولرگازی', 'فکری', 'اتاق', 'سلطنتی', 'xiaomi', 'a11', 'گوشت\\u200cکوب', 'نردبان', 'پاپ', 'تتو', 'مرد', 'آلات', 'خط', 'الات', 'حشره\\u200cکش', 'عکس', 'گیرنده', 'رادیو', 'سایه', 'گلس', 'سن', 'بازکن', 'مداد', 'تن', 'عسلی', 'زنگ', 'نوشیدنی', 'رزمی', 'بزرگ', 'سمپاش', 'تهویه٬', 'سرمایش', 'گرمایش', 'کابینت', 'ابمیوه', 'تقویت', 'چرم', 'پریز', 'کباب', 'ابی', 'دماسنج', 'دمنوش', 'جاکلیدی', 'زباله', 'واکس', 'به', 'خشک\\u200cکن', 'گجت', 'دوربین\\u200cهای', 'فندکی', 'شستشو', 'آفتاب', 'دستگیره', 'افتابی', 'سرامیک', 'روتر', 'تقویم', 'شیرینی', 'تاخیری', '128', 'موم', 'کتابی', 'دهان', 'ups', 'کلاسیک', 'مباشی', 'شستشوی', 'ارز', 'آچار', 'قرص', 'بنزینی', 'پیرسینگ', 'وال', 'سقفی', 'ریسندگی', 'ادویه', 'فرنگی', 'زایکسل', '۶', 'واتر', 'وافل', 'انگشتی', 'فانتزی', 'النگو', 'دست', 'گیاهی', '.', 'زمینی', 'کادویی', 'خوشبو', 'یک', 'سوییچ', 'mi11', 'عکاسی', 'قلب', 'سبزی', 'rtx', 'آجیل', 'ویتامینه', 'ماهیگیری', 'اتصالات', 'چیپس', 'مسترتک', 'کاشی', 'چندراهی', 'جاروشارژی', 'ایرانسل', 'ردیاب', 'max', 'اسکراب', 'جواهرات', '۵', 'نرم', 'داهوا', 'غلات', 'طی', 's10', 'متفرقه', 'شور', 'آزمایشگاهی', 'نوت\\u200cبوک', 'فشارسنج', 'لاغری', 'مک\\u200cبوک', 'خون', 'گیره', '64', 'بالش', 'دسر', 'فیلم', 'نیم\\u200c', 'سرسیلندر', 'مجازی', 'یراق', 'سبد', 'کم', 'خراطین', 'a31', 'مخلوط', 'سیسمونی', 'آبگرمکن', '7', 'صنایع', 'honor', 'ضدعفونی', 'سرم', 'خام', 'یکبار', 'داکت', 'پیچ', 'اسکناس', 'سرسره', 'ویپ', 'خشکبار', 'پولوشرت', 'درایو', 'کفپوش', 'آبرسان', 'منزل', 'باربیکیو', 'کفشدوزکی', 'فیلمبرداری', 'زغالی', 's8', 'گانه', 'اعتباری', 'باربند', 'فراسو', 'کپی', 'گهواره', 'بلوز', 'پا', 'تفال', 'پارکت', 'جات', 'روغن\\u200cهای', 'ریمکس', 'بچگانه', 'پیرایش', 'شویی', 'ویوسونیک', '۳', 'پنجره', 'سینی', 'کمری', 'ضربان', '۲۶', 'در', 'کابین', 'اپیسر', 'فیبر', 'ماینینگ', 'a30', 'تست', 'هایک', 'کوسن', 'تندا', 'باطری', 'بلند', 'روبالشی', 'تحت', 'سوخت', 'اینه', 'فایل\\u200cهای', 'دانلودی', 'مونوپاد', 'شارپ', 'سمند', 'عنکبوتی', 'تزئینات', 'بنکیو', 'پدال', 'لش', 'دوچشمی', 'سشوار', 'ژیلت', 'شاسی', 'حلقه', 'series', 'y7p', 'تانک', 'ژاکت', 'پرنده', 'کول', 'جاشمعی', 'براش', 'هواکش', 'سادیتا', 'فرنچ', 'یوتل', 'دوز', 'استخر', 'تیغ', 'تم', 'پلیور', 'دیپ', 'عروس', 'جوشکاری', 'ضدسرقت', 'کف\\u200cکش', 'لجن\\u200cکش', 'سکه\\u200cای', 'کابینتی', 'پوینتر', 'رگال', 'شکر', 'لاک\\u200c', 'اسپورت', 'جوجه', 'رزین', 'فلاش', 'تردمیل', 'اف', 'پرایمر', 'وکس', 'پاک\\u200c', 'gtx', 'آدامس', 'redmi9', 'ضبط', 'تسمه', 's20fe', 'ساینا', 'موزر', 'نوزادی', 'مام', 'سری', 'تبر', 'سینه', 'میکروفن', 'کیت', 'رژ', '20', 'پرزنتر', 'الکترواستیل', 'جواهر', 'چمدان', 'کوپتر', 'گری', 'چکش', 'اندروید', 'اپیلاتور', 'پاسماوری', 'بن', 'پیکان', 'جبرا', 'پادری', 'لنت', 'گیفت', 'مربوط', 'زیورآلات', 'خودکار', 'ترانس', 'کاندوم', 'led', 'چند', 'تخریب', 'سیمان', 'عبادت', 'کود', 'کامل', 'nokia', 'نان', 'رنگی', 'پاپوش', 'آبچکان', 'لی', 'مرطوب\\u200cکننده', 'پفک', 'فارسی', 'دوربین\\u200cیاب', 'دلونگی', 'زهی', 'الجی', 'وکیوم', 'پوینت', 'عود', 'سایز', 'کپسول', 'لایه', 'مبدل', 'سردکن', 'دونفره', 'بارداری', 'اکسیدان', 'بتمن', 'پروتئینی', 'one', 'بیتس', 'گریل', 'مانیکور', 'استار', 'خرید', 'شو', 'سوز', 'شانه', 'c', 'دوش', 'وای', 'note8', 'اتاقی', 'چتر', 'بوت', 'ریموت', 'سفید', 'تب', 'دام', 'طیور', 'وزن', 'اسانس', 'مخزن', 'ترقه', 'بینی', 'دیوار', 'موزن', 'گاو', 'فلاکس', 'دسینی', 'بلبرینگ', '26', 'گینر', 'ادون', '9x', 'اماکن', 'فوم', 'کاشت', 'چاشنی', 'افزودنی', 'قفس', 'فلکه', 'کوادکوپتر', 'lte', '۲۰', 'گیتار', 'کوکر', 'سام', 'ipad', 'کورن', '256', 'مشکی', 'شیرالات', 'روان', 'a50', 'کمک', 'سموم', 'آبنبات', 'عسل', 'سم', 'دوشی', 'محصولات', 'دینام', 'عقب', 'پخش\\u200c', 'چندرسانه\\u200cای', 'آمپلی', 'غذاساز', 'دکوراتیو', 'هاب', 'ال\\u200c', '۲۴', 'مادربرد', 'لواشک', 'هدلایت', 'با', 'mp3', 'روشن', 'گیاه', 'a7', 'پلیس', 'کلمن', 'اکانت', 'تافی', 'مته', 'بار', 'سیستم', 'رژگونه', 'کانسیلر', 'دنده', 'فنر', 'پیانو', 'قانونی', 'شومینه', 'رشد', 'ضدلک', 'تنفسی', 'کوبه\\u200cای', 'ماشینی', 'شیشه', 'جنسی', 'جکوزی', 'vdsl', 'کنسرو', 'آبنما', 'فلر', 'وایر', 'آماده', 'گربه', 'لیفت', 'دلمونتی', 'ناخن\\u200cگیر', 'پدیکور', 'adsl', 'قبر', 'بری', 'نوشابه', 'فیجت', 'کلاچ', 'خارجی', 'شلف', 'گرامافون', 'واش', 'اسپلیت', 'ارایش', 'mi10', '32', 'توسن', '0', 'نخی', 'apple', 'نجات', 'y9s', 'گلاب', 'گچ', 'حبوبات', 'لباسی', 'الکل', 'وایرلس', 'بخاری٬', 'زنجیر', 'اسلش', 'سرقت', 'تیلر', 'موزاییک', 'بادکنک', 'شیلد', 'کاره', 'بیوتی', 'جاظرفی', 'سیلیکونی', 'تهویه', 'پارچه\\u200cای', 'موتورسیکلت', 'میگل', 'تعمیرگاهی', 'باسکول', 'قرنیز', 'اسپینر', 'انرجایزر', 'میسلار', 'زالو', 'متری', 'آجر', '24', 'علف', 'buds', 'air', 'نمک', 'note10', 'اتوماتیک', 'خرس', 'رولکس', 'ارتباطات', 'لمینت', 'شوفاژ', 'کوکتل', 'دیوالت', 'زعفران', 'متر', 'نبولایزر', 'تلمبه', 'کینگ', 'حیاطی', 'توری', 'انبر', 'الکترونیک', 'گلکسی', 'سرنشین', 'مسی', 'فکر', 'ارده', 'تثبیت', 'بانوان', 'نارگیل', 'تعمیر', 'نما', 'گوشتی', 'aux', 'استابلایزر', 'شکار', 'السا', 'lg', 'asus', 'سیگیت', 'هات', 'اگزوز', 'لمسی', 'ارزان', 'بافتنی', 'کرم٬', 'کوهستان', '۱۱', 'پنکیک', 'هایلو', 'ساندبار', 'الکتروموتور', 'منسوجات', 'تمیزکننده', 'رو', 'قلیان', 'شاه\\u200cنشین', 'چروک', 'چاپ', 'بخارپز', 'آرام\\u200cپز', 'هوا\\u200cپز', 'شیک', 'زیتون', 'سایه\\u200cبان', 'core', 'داشبورد', 'آهک', 'مانومتر', 'اوپو', 'قلاده', 'کابل\\u200cهای', 'چستر', 'فلورسنت', 'بغل', 'داخل', 'آرگان', 'اسمارت', 'پنجه', 'شانسی', 'موهای', 'پلستیشن', 'تاج', 'چاکلت', 'پاشنه', 'دروازه', 'ارایشی', 'میکروپگمنتیشن', 'زائد', 'فیس', 'میزی', 'بادکش', 'خیار', 'جوانه', 'جین', 'آرایشگری', 'کباب\\u200cپز', 'درماپن', '۴۰۵', 'نمد', 'تنقلات', 'کتابخانه', '9c', 'بکو', 'پاک\\u200cکننده', 'بلوک', 'سس', 'cpu', 'ماژول', 'cc', 'ماکروویو', 'بین', 'pocox3', 'لیف', 'جوانساز', 'میکروسکوپ', 'wifi', 'شربت', 'ویتامین', 'type', 'اکواریوم', 'کیک\\u200cپز', 'نان\\u200cپز', 'تی\\u200c', 'bb', 'زیگما', 'مارشمالو', 'a30s', 'مناسبتی', 'ویداس', 'گیگ', 'پنلی', 'تره', 'کفشی', 'عطاری', 'براق', 'ریلکسی', 'مجیک', 'اسپیلت', 'کشو', 'فلت', 'آنتیک', 'کافی', 'پلیر', 'میکرونیدلینگ', 'افزایش', 'المپیا', 'پینگ', 'سینمای', 'سویق', 'استوک', 'ps2', 'زد', 'کواد', 'تل', 'پایونر', 'ریلی', 'دراور', 'حلوا', 'شکری', 'dd', 'سبوس', 'گیربکس', 'مستر', 'تخت\\u200cخواب', 'دوربین\\u200c', '1650', 'مصرفی', 'خانواده', 'جان', 'تیپ', 'حجامت', 'هیتاچی', 'سابووفر', 'آمپلی\\u200c', 'بردار', 'ماشین\\u200cهای', 'طبقه', '۷', 'کپ', 'تعمیراتی', 'پاسور', 'گوسونیک', 'آتش', 'آفتابی', 'شاخه', 'اتوی', 'گردنبندی', 'کاپوت', 'otg', 'درمارولر', 'ماکارونی', 'ی', 'اکستنشن', 'ان', 'پرسپولیس', 'کلوچه', 'پنگ', 'مخازن', 'یونیفرم', 'کالاهای', 'اساسی', 'پولکی', 'پارکی', 'آیوا', 'lightning', 'کوکی', 'پیپ', 'ترمینال', 'هیدرودرم', 'ذخیره\\u200cسازی', 'اطلاعات', 'ترموستات', 'سپر', 'گرم', 'تصفیه\\u200c\\u200c', 'هایسنس', 'جی\\u200c', 'یاب', '۳۶۰', 'منظوره', 'هیدرولیک', 'گن', 'هترون', 'ترشک', 'استارت', 'بیسکویت', 'نبات', 'مک', 'پخش\\u200cکننده', 'mp4', 'ساحلی', 'نوتلا', 'روموس', 'بزرگسال', 'شماره', 'ترالی', 'بازویی', 'سلامت', '16', 'لبنیات', 'بخار', 'تردد', 'ترنسند', 'کالج', 'شرت', 'لیفتینگ', 'کارتریج', 'آرد', 'فیزیوتراپی', 'عایق', 'کینگستون', 'نوت8', 'ساکشن', 'هلی', 'شاخه\\u200cای', 'اسپلیتر', 'مرطوب', 'اولتراسونیک', 'کنترلر', 'شمار', 'وانیل', '۱', 'مرکبات\\u200cگیری', 'پلاس32', 'خطی', 'میگو', 'سرسیم', 'پروفیل\\u200cها', 'بالاست', 'میکرودرم', 'خنک\\u200c\\u200cکننده', 'کتانی', 'ریبون', 'آداپتور', 'پلوس', 'زمین', 'آمازون', 'تاپر', 'گرم\\u200cکن', 'فکس', 'مکان\\u200c', 'قبله', 'لیمو', 'علائم', 'دستورالعمل\\u200cها', 'سرشور', 'سوسک\\u200cکش', 'وازلین', 'شاور', 'بوگیر', 'ثابت', 'خانه', 'ترانکینگ', 'ارگ', 'سونا', 'میکس', 'شناور', 'ریلمی', 'هواپیما', 'پاکت', 'عرقیجات', 'پاستیل', 'گز', 'تخت\\u200cهای', 'دندانپزشکی', 'الکتریکی', 'جنیوس', 'ناهار', 'نویس', 'p30', 'ماکروفر', 'ویکومن', 'فوجیتسو', 'چاپی', 'سیلوراستون', 'لپتاب', 'اکسیمتر', 'زنبور', 'گرافیکی', 'اول', 'پاکشوما', 'کافه', 'عمانی', 'هنرهای', 'پیسوار', 'خرطومی', 'تمیز', 'y7', 'm21', 'دائمی', 'پایونیر', 'فشارشکن', 'دکوراسیون', 'معماری', 'ویفر', 'اسکاچ', 'تشخیص', 'بیل', 'پارچ', 'کریسمس', 'مخابراتی', 'سرور', 'بیکسولون', 'بنایی', 'ترولی', 'گرانیتی', 'پاستا', 'رشته', 'جوانسازی', 'هری', 'خرد', 'slim', 'بانکه', 'منقل', 'سایت', 'کویر', 'سرپلوس', 'نوقا', 'مراسم', 'کارگاه', 'انژکتور', 'جاباتری', 'حوله\\u200cای', 'مناسبت\\u200cهای', 'مذهبی', 'گیگاست', 'اصالت', 'مکس', 'پروتئین', 'هشت', 'جداره', 'رله', 'رب', 'هایلایتر', 'دی\\u200c\\u200cوی\\u200c\\u200cدی', 'بارکد', 'طول', 'سارافون', 'پرومکس', 'اسیاب', 'تبلیغات', 'وکام', 'ذره\\u200c', 'اپتما', 'ریکو', 'سنسور\\u200cهای', 'vga', 'کشوی', 'محفظه', 'کانتور', 'گرمی', 'سبزیجات', 'فلوتر', 'بوک', 'والیبال', 'a02s', 'ماکیتا', 'مرغ', 'پابجی', 'حشره', 'شیرینگ', 'کابلشو', 'ترمالتیک', 'ترانسفورماتور', 'وبینار', 'کلاس\\u200cهای', 'پاتر', 'اسمبل', 'ریدمکس', 'الکلی', 'هیالورون', 'تابستانه', 'پرژکتور', 'کمربند', '9s', 'کپچر', 'ماء', 'الشعیر', 'کفشور', 'مربا', 'ترشیجات', 'نزتک', 'هویت', 'تابه', 'سیروپ', 'اسکاج', 'بیمه', 'شیمیایی', 'دیسپنسر', 'هانر', 'کشاورزی', 'اینتل', 'راو', 'رسوب\\u200cگیر', 'مایه', 'بعد', 'تاپینگ', 'تری', 'موچین', 'نظافتی', 'کفکش', 'سرکه', 'سریال', 'هوکو', 'هولدر', 'realme', 'دکوری', 'شطرنج', 'pc', 'm51', 'پارکینگی', 'ضدیخ', 'گیت', 'گلخانه\\u200cای', 'شب', 'سرد', 'پیستون', 'چاشنی\\u200cها', 'رستوران', 'فرستنده', 'پستال', 'ماستک', 'فرانسوی', 'ذخیره\\u200cساز', 'نوشیدنی\\u200c', 'se', 'بانی', 'هنزفری', 's21ultra', 'not', 'نسپرسو', 'کتیبه', 'عروسی', 'چدن', '2019', 'سالنی', 'آرچلیک', 'سنهایزر', 'دی\\u200cلینک', 'بنر', 'اعلامیه', 'سبز', 'پیک', 'باتوم', 'rx', 'کنتاکتور', 'پلاتر', '2060', 'دچرخه', 'اسپرسوساز', 'gsm', 'هایلوک', 'پرزگیر', 'نیک', 'سرامیکی', 'پیستوله', 'نگهبان', 'نظامی', '105', 'پلیسی', '\\u200cمستر', 'اباژور', 'کنوود', 'تلسکوپ', 'تایر', 'تیر', 'اویز', 'مودم٬', 'اکسس\\u200c', 'اکسس', 'نایک', 'گرد', '3090', 'ایپد', 'پشت', 'کریستال', 'ظبط', 'انتن', 'tab', 'نیسان', 'قفلی', 'نوت۱۰', 'شیاعومی', 'macbook', 'کامیون', 'ساق', 'کارد', 'آ', 'عمود', 'هیمالیا', 'سوییچینگ', 'هنذفری', 'j5', 'روی', 'فیروزه', 'نوت10', 'هایتک', 'عقیق', '3070', 's9', 'a70', 'a21', 'لبتاپ', '۱۶', 'نت', '405', 'توکار', 'استقلال', 'شده', 'تریاک', 's6', '3060', 'چایی', 'پوکوx3', 'ram', 'تیله', 'لگ', 'صبا', 'قوزبند', 'm31', 'ارکوپال', 'شیکر', 'تخته', 'bts', 'شوخی', 'پروتیین', 'موکت', 'هفت', 'فردار', 'huawei', 'اصل', 'هلندی', 'j7', 'سیار', 'تنیس', 'کراتین', 'دیسکی', 'انر', 'یونیک', 'واقعی', 'سوکت', 'پولیش', 'کلاسوری', 'فرانسه', '۰', 'اسلیم', 'ps', 'آرکوپال', 'a80', 'برد', 'یو', 'tb', 'سنتی', 'بخاری', 'u', 'lenovo', 'legion', 'surface', 'چاقی', 'عروسکی', 'amazfit', '۳۲', 'black', 'لدورا', 'زود', 'مادر', 'اتومو', 'هاوایی', 'خرگوش', '18', 'فنجان', 'تابستانی', 'ti', 'تاتو', 'روفرشی', 'f3', 'شارک', 'هابلوت', 'kw66', 'تیکه', 'نوت۸', '1050', 'اسنک', 'هنس', 'super', 'تور', 'افتاب', 'گیوه', 'سگا', '+', 'پیاده', '55', 'y9', 'هلیکوپتر', 'a2', 'واکی', 'مدیریت', 'سرهمی', 'گوشکوب', 'فوتسال', 'راک', 'راپیدو', 'نقاب', 'موتوربرق', 'prime', 'ارتشی', 'کریر', '-', '2016', 'کراس', 'بارفیکس', 'سنتور', 'xs', 'لافارر', 'ryzen', 'شیلنگ', 'تار', 'سیتیزن', 'یوگا', '۶۴', 'گوشتکوب', 'تابا', '50', 'اتاری', 'tuf', 'حجم', 'بوتان', 'فای', '۱۲۸', 'ردمی۹', 'بابلیس', 'مافیا', 'پلاستیک', 'اور', 'رنده', 'فری', 'چرمی', 'nova', 'منگنه', 'اکتیو', 'دانش', 'سوپر', 'مایکروفر', 'حصیری', 'y8s', 'ابسردکن', 'جنرال', 'لانگ', '12pro', 'برنجی', 'تختی', 'خنک', 'm2', 'هندز', 'سلولزی', 'a5', 'ورق', 'shark', 'هوپ', 'مای', 'مردعنکبوتی', 'زنون', 'ساخت', 'پهپاد', 'pocom3', 'دایناسور', 'الکترو', 'آون', 'mini', 'تقطیر', 'p', 'دنا', '8پرو', 'سواری', 'شاک', '131', 'خرما', 'ادیداس', 'موتورلا', 'لاتکس', 'ا', 'ویندوز', 'پشه', 'پسته', '9a', 'سرفیس', 'کمان', 'm', 'لخت', 'بیبی', 'zenbook', 'gaming', 'تستر', 'قدی', 'موبر', 'راکر', '8961', 'باک', 'گوشیa12', 'عقربه', 'ابرسان', 'شاخ', 'مویی', 'اولترا', 'ادامس', 'پیکسل', 'note9', 'همه', 'پیشانی', 'فشار', 'استکان', 'کتی', 'poko', 'رقص', 'سیاه', '21', 'مگنتی', 'جلیقه', 'مدرسه', 'مهتابی', 'ایران', 'سامسونگa12', 'زرین', 'nfc', 'a3', 'اسیکس', 'ردمی9', 'جامدادی', 'بامبو', 'وات', 'کوتاه', 'دمنده', 'صلیب', 'اسکیچرز', '4k', 'الت', 'اروا', '7i', 'رودوشی', 'نودل', 'اسب', 'جدید', 'سردنده', 'msi', 'بالابر', 'laptop', 'دیزل', 'دینامی', 'ستونی', 'level', 'note8pro', '8pro', 's7', 'i5', 'y7a', 'محک', 'نی', 'مغار', 'f2', 'کالیمبا', 'gtr', 'بدون', 'الماس', 'سنباده', 'بشقاب', 'باز', 'پاف', 'خاردار', 'قایق', 'شعله', 'یونیکورن', 'شیرخشک', 'کنار', 'مجموعه', 'طلایی', 'تونیک', 'دخترونه', 'band6', 'ماکسی', 'اسکلت', 'پالاز', 'نینجا', 'قهرمان', 'مکانیکی', '۹پرو', 'عمودبر', 'پاپجی', 'گواش', '8a', 'نخ', 'وانت', 'دارت', 'gb', 'تسبیح', 'y5', 'a31s', 'امپلی', 'رادو', 'اخوان', 'دیوارپوش', 'سنگی', 'یاماها', 'رز', 'شیائمی', 'j', 'نظام', 'آبسردکن', 'جنگ', 'iphone12', 'نجاری', 'کاموا', 'گردو', 'مدرن', 'کلیدی', 'سفره', 'پوکا', 'کناف', 'سگهای', 'سامسونگa52', 'ولت', 'بازیps4', 'کج', 'بافت', 'کارتی', 'hope', 'jbl', 'ایر', 'روحی', 'کیلویی', 'چین', 'جوکر', 'sony', 'ترابایت', 'باب', 'اسفنجی', 'چایساز', 'مولینکس', 'q', 'قلو', 'ستارگان', 'جورابی', 'رژلب', 'qcy', '205', 'همستر', 'افرود', 'جنگی', 'کرون', 'تختخواب', 'a12s', 'شفاف', 'نانو', 'کرکماز', 'ریگ', 'پهباد', 'فوت', 'کارتخوان', '9پرو', '۱۰۵', 'جیمی', 'لایف', 'نوت۸پرو', 'تاکی', 'قابل', 'دستبافت', 'dca', 'pcp', 'rog', 'لجر', 'میخ', 'قلاب', 'شنی', 'ترک', 'ربا', 'زین', 'هیوندای', 'مات', 'گوی', 'a42', 'بیلیارد', 'برش', 'مه', 'الترا', 'a6', 'خودنویس', 'لیفان', 'عربی', 'انبردست', 'گردنی', 'تخم', 'برفاب', 'تریلی', 'ریدر', 'شیومی', 'مس', 'عشق', 'آهنی', 'دریایی', 'قرمز', 'کشویی', 'تنه', 'قلمو', 'دلر', 'پلنگی', 'شمشیر', 'تو', 'تایمر', 'نوت۹', 'ابکش', 'تایم', 'تاکتیکال', 'پروانه', 'بهران', 'mate', 'مغناطیسی', 'پارسیان', 'پرتابل', 'چاپستیک', 'فانکو', 'کاکتوس', 'آفرود', 'مکانیکال', 'میخکوب', 'کیلومتر', 'فانوس', 'آلن', 'تایپ', '52', 'میله', 'البوم', 'ابگرمکن', 'هالک', 'پلاک', '5700', 'یویو', 'حریر', 'ضربه', 'سامسنگ', 'تراکتور', 'اسکمی', 'موکاپات', 'وب', 'سالاد', 'اورال', '1660', 'هنسفری', 'جیب', 'کامان', '3080', 'قلاویز', 'اصلی', 'گوشي', 'کیو', 'بوم', 'i7', 'فشنگ', 'رامپر', 'نوت9', 'سوفله', 'ايفون', 'چکمه', 'شات', 'دیانا', 'گوشیa11', 'سماوری', 'پشم', 'مرکبات', 'میت', 'a01core', 'سرباز', '125', 'ترا', '72', 'بلدرچین', 'razer', 'اسکویشی', 'پالتویی', 'مار', 'لامپی', 'صورتی', 'گوشیa51', 'link', 'y6', 'شعبده', 'جادویی', 'نرمالو', 'اتود', 'i3', 'نوت8پرو', 'سامسونگa72', 'سیلور', 'روغنی', 'کاپیتان', 'موزیکال', 'گوش', '۸پرو', '65', 'اهنی', 'سولاردام', 'تشویقی', 'لیگ', 'داستان', 'ایسوز', 'پینک', 'نوکی', 'دومینو', 'میلواکی', 'tp', 'کراتینه', 'بنلی', 'طناب', 'فوتبالی', 'نرد', '۲۱', 'آبکش', 'live', 'سون', 'دخترکفشدوزکی', 'الن', '80d', 'rgb', 'جلد', 'آروا', 'من', 'نگین', 'book', 'سینگ', 'airpods', 'بکسل', 'xr', 'روروئک', 'کادو', 'oppo', 'اهن', '2017', 'شانژمان', 'مروارید', 'وقوری', '9pro', 'کبریت', 'طوطی', 'کیبرد', 'playstation', 'گاوصندوق', 'تول', 'لیتری', 'mi11lite', 'ضامن', 'موی', 'پاکن', '512', 'اموزی', 'پوکوm3', 'لگن', 'ملامین', 'اپوکسی', 'اوپال', 'قالپاق', 'فایو', '2020', 'سنسور', 'سرنگ', '90', 'مبایل', 'هامتو', 'smeg', 'اکوستیک', 'رانا', 'ساقدار', 'تراریوم', 'آتاری', 'گوشیa31', 'سیمکارتی', 'رکسونا', 'مولفیکس', 'عدالت', 'کیتی', 'حرفه', 'عصا', 'اسکارف', 'تیز', 'کاغذدیواری', 'مفصلی', 'adata', '6s', 'بال', 'سیگار', 'note9pro', 'موتر', 'راسان', 'المنت', 'امریکا', 'درجه', 'pods', 'ایزی', 'ایفونx', 'دوچرخه26', 'تنور', 'نیتندو', 'دفترچه', 'سیکس', '2018', 'a40', 'سافت', 'نود', 'هوندا', 'گیگابایت', 'دیزلی', 'مکسیدر', 'عیار', 'اکس', 'ملحفه', 'پالس', '۱۳۲', 'نشانی', 'نرف', 'گیج', 'p40', '۵۵', 'انیمه', 'نئون', '۷۱۸', 'متغیر', 'رانر', 'گوشیa10', 'ماشين', 'هدفن', 'کارتیر', 'پری', '30', 'قلک', 'سیدی', 'آبسال', 'm1', 'box', 'موتورشارژی', 'زرساب', 'نیوا', 'سررسید', 'i60', 'سرلاک', '۲۵۶', 'cat', 'tv', 'ار', 'xbox360', '207', 'mi9', 'اپیلیدی', 'oneplus', 'کرست', 't15', 'آبرنگ', 'smart', '132', '60', 'بیت', 'اسمایل', 'دوچرخه۲۶', 'گالانت', 'برنزی', 'سامسونگa51', 'بیلی', 'ایفون۱۲', 'تینت', 'اسید', 'آکواریومی', 'رومانسون', 'اسلحه', 'چیکو', 'هندفری', 'a۱۲', 'کوشن', 'کریستالی', 'ویولن', 'کوییک', 'نینجاگو', 'zephyrus', 'گلد', 'نرده', 'a8', 'حصیر', '106', 'پرچ', 'بنتن', 'بویا', 'چکشی', '\\u200fps۴', 'هیوندا', 'سوزنی', 'مدادی', 'hard', 'مارکت', 'پنس', 'آهن', 'gts', '۲۰۷', 'بوفالو', 'الکتریک', 'ماژیک', 'سولفات', 'اکو', 'بنفش', 'کاناپه', 'کهربا', 'شلواری', 'سورن', 'تایی', 'ویندوزی', 'هندا', 'a۱۰', 'چندکاره', 'not8', 'هواپز', 'گوشیa01', 'چک', 'چهارچرخ', 'هیلتی', 'انتیک', 'casio', 'آدیداس', 'm31s', 'روروک', 'player', 'b250', 'ریبن', 'میکسر', 'آلت', 'توفنگ', 'نواری', 'اسکات', 'برلیانس', 'باکوگان', 'دیمر', 'سکسی', 'لای', 'ترازلیزری', 'سوسماری', 'دانه', 'میکرو', 'آل', 'a۵۱', 'پیرکس', 'ویو', 'y6s', 'موقت', 'بونیتو', 'ماژیکی', 'ماینوکسیدیل', 'ابچکان', 'میشا', 'کبوتر', 'گامو', '۱۸', 'آموزی', 'سانسوریا', 'پرشیا', 'تعمیرات', 'آلبوم', 'k40', 'کیمی', 'ورتو', 'جاکارتی', 'تانکر', 'چراق', '130', 'htc', 'قرانی', 'طوسی', '14', 'x570', 'گرانیت', '500', 'سویچ', 'گوشیa02', 'پاستور', 'آیفون۱۲', 'کاترپیلار', 'ساپورت', '۱۰پرو', 'pubg', '۱۰۰', 'دسکش', 'وزنه', 'ps۴', 'اسبابازی', 'ddr4', 'فلیپس', 'سان', 'مشهد', 'nintendo', 'سال', 'صندوقی', 'فشفشه', 'فست', 'z', 'z390', 'رسیور', 'سامسونگa10', 'روبیک', 'mr100', 'redmi9c', 'ستاره', 'ویولت', 'بیمارستانی', 'شلنگی', 'بومرنگ', 'تورچ', 'active', 'q10', 'a41', 'gt1', 'روبالشتی', 'روکار', '۴۳', 'power', 'دکور', 'ارایشگاه', 'pocco', 'برج', 'باس', 'جاادویه', 'نانوسان', 'دکمه', 'گوشیa72', 'یقه', 'رکاب', 'بالشت', 'پایی', '43', 'مگان', 'کروم', 'وسط', 'party', '123', 'امام', 'جلوپنجره', 'کاتانا', 'کلیپسی', 'a4', 'فایل', 'y6p', 'صافکاری', 'دوزکی', 'z590', 'بهاره', 'قد', 'y', 'ویکتوریا', 'ترمومتر', 'حرز', 'هوم', 'کولرابی', 'not10', 'لیتیوم', 'شیاموی', 'سیمکارت', 'رویال', 'پلیستیشن', 'گیس', 'g14', 'سامسونگa71', 'قران', 'ادمک', 'پاکسازی', 'گردبر', 'آکوستیک', 'متابو', 'عقد', 'لنسر', 'تافت', 'سانی', 'کفی', 'بک', 'دودی', 'سوزن', 'p30lite', 'vgr', 'smok', 'ناهارخوری', 'fit', 'فروشگاه', 'شمعی', 'گاسونیک', 'توت', 'استین', 'کلبه', 'یاقوت', 'کاتر', 'اند', 'بیسوس', 'فریم', 'l90', 'ال90', 'نیلکین', '15', 'روپوش', 'ارایشگاهی', 'بان', 'ابرنگ', 'رویا', 'ال۹۰', 'گونه', 'اتش', 'گوشیa52', 'ایکس۳', '۵۰', 'شابلون', 'محلول', 'سامسونگs8', 'ایفن', 'سیگاری', 'هد', 'آریو', 'فابریک', 'موتوری', 'چوکر', 'ماشبن', 'خور', '7پلاس', '01', 'انابل', 'ایستکول', 'ویوا', 'کاری', 'ساندرو', 'پوز', 'نوت9پرو', 'fx516', 'پرنسلی', 'مارک', '۹۰', 'حالت', 'اسم', 'اوردینری', 'شیور', 'edge', 'فوری', 'آبخوری', 'ddr3', 'قطره', 'کیر', 'سین', 'برزنتی', 'داتیس', 'dots', 'سیکو', 'بادگیر', 'نورپردازی', 'اکتی', 'پور', 'گوشیa21s', 'از', 'میدرنج', 'تا', 'لولا', 'برگ', 'حدیده', 'gtr2', 'سکرت', 'ارام', 'کلیر', 'case', 'براون', 'اجنرال', 'دهنی', 'hdd', '8x', 'استرس', '580', 'کندو', 'کد', 'خراطی', 'سپراتور', 'ماس', 'قارچ', 'اکسی', 'جمع', 'میل', 'موکا', 'جواد', 'hp', 'هاتسان', 'پیوند', 'راسته', 'اسپریت', 'قلیون', 'لادن', '718', 'ایروپال', 'بلوور', 'دلیجان', 'بیوتین', 'گانودرما', 'مینیاتوری', 'دسبند', 'پهن', 'matebook', 'anker', 'm.2', '۲۷', 'جیدرولر', 'جانسون', 'آپ', 'play', 'دکتر', 'هوایی', '3310', 'خرگوشی', 'کندی', 'پرنسس', 'b460', 'تاتامی', 'اسبیکر', 'آستین', 'پوشال', 'برنز', 'سینجر', 'بیورر', 'فلوت', 'ایفون12', 'درما', 'هدی', 'ایکس\\u200cباکس', 'ساختنی', 'ایینه', 'اسمگ', 'کردی', 'كن', 'پمب', 'وایت', '12متری', 'گوشیm31', 'بارسلونا', 'رکابی', 'چاپگر', 'قطب', 'dvr', 'امگا', '10پرو', 'nike', 'قناری', 'سولاردوم', 'وشلوار', 'تریکو', 'my', 'gtx1650', 'دنپایی', 'قوطی', 'خفن', 'مایر', 'نمدی', 'تکه', 'رحل', 'ارایشگری', 'هندی', 'تنبک', 'بنسای', '150', 'گودال', 'زرد', 'البرز', 'منوپاد', 'پروفیل', 'اینکو', 'اردو', 'هوواوی', 'dvd', 'پنتن', 'b', 'هتفون', 'ابنما', 'متل', 'fx', 'سازی', 'گرمکن', 'ترمه', 'تیزکن', 'سراگزوز', 'ابسال', 'تمپر', 'ذغالی', 'آموزش', 'یکنفره', 'نوبل', 'پیت', 'کارچر', 'انا', '١٢', 'تیغه', 'بندانداز', 'پونی', 'کتان', 'کله', 'دروازبانی', 'شیردهی', 'ردمی8', 'پنج', '5600', 'شپش', 'لوبریکانت', 'ویدئو', 'پاکستانی', 'سامسونگa21s', '11lite', 'آمینو', 'اکلیلی', 'مانتویی', 'کدکس', 'سوپرمن', 'note10pro', 'خامه', 'پنیر', 'سرويس', 'تویز', 'بوتاکس', 'پیکنیک', 'لومینارک', 'زینک', 'فریدولین', '۱۴', 'صندوقچه', 'گوشیه', 'a90', 'مگنت', 'تیگو', '1more', 'چاقوی', 'زنجان', 'اموزشی', 'm50', 'بندی', 'پارک', 'هل', 'خیلی', '980', 'میزوصندلی', 'پنبه', 'baseus', 'مهره', 'لحیم', 'ترکیه', 'نهارخوری', 'pod', 'acer', 'ضدافتاب', 'تندر', 'آدمک', 'خلبانی', '۲۰۲۰', 'مانیتورینگ', 'کلمپی', 'پگاه', '۶۵', 'هالوژن', 'برگه', 'گوشیa70', 'کالاف', 'مکرومه', 'سامسونگa01', 'نیا', 'اتیلن', 'کلش', 'پاندا', 'شمعدان', 'کودکان', 'i9', 'ادیفایر', 'بدمینتون', 'استیک', 'پریم', 'l340', '\"', 'وچنگال', 'فواره', 'سماورگازی', 'گوشیa02s', 'خطر', 'پانچو', 'مزونی', 'وارمر', 'انبرقفلی', 'حدید', 'گربر', 'وفریزر', 'لودر', 'd', 'j6', 'امینو', 'پوتین', 'زیرتلویزیون', 'دیاگ', 'مادون', 'مشق', 'game', 'تیم', 'سیتی', '9متری', 'سرخکن', 'کسری', 'کفگیر', 'رژیمی', 'تیسوت', 'حامله', 'یزی', 'بادز', 'هیجان', 'پیکاپ', 'آیینه', 'رابط', 'monitor', 'ایلیش', 'خار', 'اسنپ', 'a۲۰', 'النگوطلا', 'قابa12', 'کلی', 'سامسونگa30s', 'روزمره', 'گندم', 'گو', 'ایفون6s', '9400f', '۳۱', 'لمه', 'قارتال', 'یخجال', 'هیومیک', 'ریشتراش', 'آ۵۲', 'مناسب', 'wd', '2080', 'آنا', 'فابر', 'پیش', 'سیب', 'اپارتمانی', 'استیشن۴', 'tcl', 'مدیریتی', 'استیشن۲', 'a60', 'پارکینگ', 'پنکک', 'پاد', 'دف', 'اونجرز', 'ولیوان', 'یدک', 'پارتی', 'ماسك', 'کولیس', 'کیوت', 'بست', 'ابسرد', 'xt', 'قرآنی', 'میکی', 'evo', 'پاچه', 'سالامون', 'اکریلیک', 'fx506', 'زنی', 'سردوز', 'هیرویت', 'کلنگ', 'دوزی', 'اینورتور', 'شوریکن', 'زیبا', 'تابی', '5310', 'مایو', 'nikon', 'اورجینال', 'پرچم', 'فرم', 'الومینیومی', 'batman', 'سانتی', 'تمام', 'سوپرمارکت', '2e', 'شهری', 'اسپيكر', 'شیش', '27', 'مهمان', 'دوجداره', 'زانتی', 'خورد', 'کویین', 'یکاد', 'زولبیا', '۱۲۵', 'جدول', 'نیکون', 'امرن', '۱۳', 'ارگان', 'جمجمه', 'گلیم', 'ممبران', 'کرپ', 'سنکور', 'سواچ', 'سالن', 'باکس360', 'osmo', 'دوم', 'پاشاباغچه', 'گوشیa20s', 'تبریز', 'ادب', 'bip', 'یخدان', 'چهره', 'فورس', 'اتوبوس', '10s', 'هلث', 'نوشن', 'i', 'ساچمهای', 'رایزر', 'bcaa', 'جراحی', 'انگور', 'نارنجک', 'بازو', 'قابa11', 'فیروز', 'موتوژن', '71', 'جردن', 'e', '۹c', 'لیمون', 'جاقاشقی', 'چیپ', 'hublot', 'قنداق', 'برشکا', 'آمریکا', 'جکs5', 'ساتن', 'درپوش', '100', 'بنز', 'چریکی', 'شاه', 'pes', '49', 'شونده', 'ضدآفتاب', 'سوپاپ', 'bmw', 'سقف', 'ورودی', '۳۰', 'کلاش', 'گوشى', 'of', 'سایبان', 'کاستل', 'پسر', 'زونکن', 'اسپایدرمن', 'فرکننده', 'سامسونگa11', 'بوهمیا', 'ایزوگام', 'پیرهن', 'mac', 't295', 'اولیه', 'سایا', 'زیرپوش', 'not9', '2.2', 'کرکره', 'm10', 'm11', 'k10', 'گازور', 'موبایلی', 'جنسینگ', 'شن', 'چراغدار', 'bt21', '٨پرو', 'روا', 'ایرانول', '200', 'شیارزن', 'ماهواره', 'کوچیک', 'rtx3090', 'روز', 'مقصود', 'پریل', 'گوشیa10s', 'مرکزی', 'دلستر', 'انسولین', 'سریتا', 'وچه', 'blue', 'k20', 'میدیا', 'بسکتبال', 'ماشا', 'اورفرز', 'سفالی', 'تویوتا', 'گین', 'مانتومجلسی', 'پستانک', 'تفنگی', 'گوشی5', 'بل', 'می11', 'اهنگری', 'انکور', 'h410', 'نکی', 'آپاچی', 'هایما', 's21اولترا', 'خرک', 'دانشجویی', 'p10', 'دوچرخه۲۴', 'اقایان', '315', 'rx580', 'لیدی', 'مخمل', 'هاون', 'فیری', 'منچستر', 'ماری', 'چهارپایه', 'مهندسی', 'انگلیسی', 'کلیک', 'mouse', 'کاتالیزور', 'آنابل', 'انرژی', 'کاندید', 'دوبیس', 'مکنده', 'کمانچه', 'the', '1200', 'شید', 'امرسان', 'فرچه', 'شش', 'نوردی', '۱۵۰', 'velvet', 'لوکس', 'کاستوم', 'مت', 'قصر', 'a۲۱', 'گوشیa20', 'flip', 'switch', 'رورویک', 'انگشترمردانه', 'تهران', 'external', 'کوچولو', 'تلويزيون', 'لعابی', 'جانماز', 'مارشال', '۵۰۰', 'باریک', 'گلنار', 'رمانتیک', 'واکر', 'نووا', 'باقالی', 'hatsan', 'آرژنین', 'کاندم', 'بوراکس', 'پالت', 'gt', 'کرافت', 'چرخشی', 'خمیده', 'هم', 'سشوارمسافرتی', 'سطلی', 'کمپینگ', 'انتظار', '۸۹۶۱', 'radeon', 'nova7i', 'حوض', 'گروه', 'هندسفری', 'مچبند', 'عصای', 'بوگاتی', '51', 'ساند', 'کویل', 'ببر', 'پردیس', 'مش', 'رزیدنت', 'اویل', 'باربکیو', 'دستهps4', 'ردمی۸', 'phone', 'پرایم', 'دیوتر', 'لوتوس', 'کارامبیت', 'باکس۳۶۰', 'جادستمال', 'ادامسی', 'تریل', 'بالم', 'a۰۱', 'ابریشم', 'جلوبندی', 'دکتری', 'نعلبکی', 'akg', 'سامسونگm31', 'شلاقی', 'ایفون6', 'دوچرخه۱۶', 'شیائونی', 'فیل', 'wahl', 'فلامینگو', 'گيمينگ', 'رام', 's3', 'تدی', 'مور', 'هزار', 'نوت۹پرو', 'هالتر', 'نفتی', 'لوبیا', 'ضرب', 'ماین', 'هنگان', 'شجر', 'بیرونی', '19', 'معجزه', 'کراوات', 'آره', 'اتریوم', 'براکت', 'دوچرخه24', 'fold', 'وایرشو', 'زنجیری', 'کلیپس', '۹تی', 'کرید', 'صدف', 'کوین', 'چرخدار', 'توتال', 'ردمی9c', 'پیلاتس', 'اسپلش', 'ماکسیما', 'زمرد', 'کانکس', 'فومی', 'mvm', 'همیلتون', 'گلدار', 'میزتلویزیون', 'بالا', 'airsoft', 'تفنک', 'تکلیف', 'كودك', 'الله', 'usb3', 'مورتال', 'دید', 'گلدن', 'اپ', 'چشمی', 'دکول', 'جامپینگ', 'dji', '۲۸', 'قلع', 'ram6', 'پيراهن', 'چادرمسافرتی', 'متحرک', 'مانتومشکی', 'هدرز', 'honor9x', 'فولد', 'اژدها', 'پشمک', 'm921', 't515', 'شکم', 'حیوانی', 'همبرگر', 'airpod', 'آپارتمانی', 'کنجد', 'a۱۱', '9400', 'ام۳', '31', 'هاسکی', 'y9a', 'نگه', 'دارنده', 'لانه', 'آيفون', 'اپو', 'لمونژ', 'یا', 'رایتر', '۵جی', 'نوتروژینا', 'غواصی', 'دوسر', 'فوما', '۱۵', 'ارمیچر', 'پریما', 'میناکاری', 'canon', '520', 'دم', 'ژاکارد', 'سنسوداین', 'آنکور', 'خونه', 'حیدری', 'کرنومتر', 'دوجرخه', 'وست', '۹t', 'علم', 'اندیس', 'حبابی', 'سامورایی', 'ax2', 'بتزی', 'پانچ', 'نهال', 'شکن', 'یادداشت', 'چربی', 'q&q', 'راهنما', 'شیار', 'نالینو', 'موبايل', '75', 'گوشب', 'مادرید', 'ولنتاین', '۱۳۱', 'ویبراتور', 'ronix', 'پرایدصبا', 'علی', 'redmi8', 'فلفل', 'بشکه', 'شگی', 'سوئیچ', 'جاسوییچی', 'پولی', 'گردان', 'کمر', 'سرمه', 'j5pro', 'فنس', 'پیشتاز', '40', 'سردوش', 'ipad8', 'sunny', 'استنلی', 'a۱۰s', 'آرمان', 'امریکایی', 'ایکس3', 'نخجیر', 'نوا۷', 'لورال', 'y5p', '12mini', 'پژوپارس', 'اسکین', 'تکواندو', 'بوستر', 'میخی', 'تکنو', 'عفونی', 'توربان', 'شودر', 'بنزین', 'a22', '29', 'اسبتب', 'ام3', 'a9', 'ایفون۶', 'helios', '2021', 'promax', 'کلاج', 'ظریف', 'میبلین', 'gigabyte', 'شترنج', 'چیما', 'ری', 'روژ', 'بدل', 'کی', 'استیشن2', 'تیبا۲', 'سلیمانی', 'مشتی', 'پیلار', 'ایتالیایی', 'هیوکی', 'درخت', 'نسکافه', 'کینوا', 'نو', '3.4', 'مدیا', 'اسیلوسکوپ', 'اکش', 'x50', 'ترینکس', 'زاویه', 'ddr2', 'rtx3070', 'پوما', 'پلی\\u200cاستیشن', 'کودکانه', 'resident', 'evil', '۱۲۳', 'c11', 'عنبربو', 'یوروپن', 'فانتوم', '140', 'onikuma', 'پتوس', 'بلور', 'ادوپرفیوم', 'اسکلاره', 'ترشی', 'motorola', 'لوپ', 'مانتودخترانه', 'خز', 'امپر', 'شادو', 'پتومسافرتی', 'فروزن', 'گود', 'شخم', '02', 'گریپ', 'واریس', '9960', 'فرمون', 'تیبا2', 'redmi10', 'بارنی', 'ray', 'gt3', 'بلو', 'پیوتر', 'بند۶', 'gf65', 'پراید۱۳۲', 'دایره', 'خیارشور', 'استخدامی', 'باسئوس', 'تمبر', 'بالفیکس', 'qv', 'ضدضربه', '۴۹', 'اسموتی', 'red', 'رولت', 'بونسای', 'مصور', 'rtx3060', 'شپخ', 'گردنبندنقره', 'سیلندر', 'کوشی', 'فیلور', 'خاب', 'باترفلای', 'عبایی', 'earbuds', 'آکروپال', 'اس4', 'گره', 'gps', 'کوکوپیت', 'چرب', 'تفتگ', 'دزدگیرخودرو', 'سیائومی', 'پژو۴۰۵', 'دریا', 'گریم', 'اموزش', 'اس۸', 'نه', 'زیپ', 'اپاچی', 's20plus', '۱۶۵۰', 'باغچه', 'iphon12', 'بدلیجات', 'افترون', 'light', 'دوچخه', 'سامسونگs20', 'آیلیش', 'زبرا', 'حسبی', 'نوت10پرو', 'green', 'بدنه', 'note9s', 'سمپاشی', 'کراش', '۶متری', 'هدبند', 'ورساچه', 'مدال', 'finish', 'y8', 'موج', 'گیپور', 'دیفیوزر', 'p30pro', 'نیوبالانس', '210', 'دایمی', 'ایکیا', 'اکروپال', 'الفا', '27.5', '10400', '۶۴گیگ', 'تایل', 'خوب', 'not9pro', 'سامسونگa50', 'پرگار', '1050ti', 'ساعتی', 'c20', 'کاسترول', 'سامسونگa10s', 'تنو', 'کاورگوشی', 'درل', 'مولاژ', 'پژو405', 's21plus', 'فله', 'bank', 'فروهر', 'افغان', 'j4', 'a100', 'd15', '۶s', 'لالیک', '۶۰', 'ولتاژ', 'fan', 'dead', 'دیزاین', 'station', 'کولرگری', 'گولر', 'آهنگری', 'روسی', 'جو', 'هدفدن', 'ایربگ', 'استیشن۳', 'سلیکونی', 'شمش', 'خوشخواب', 'پیشبند', 'چمنی', '5.11', 'تیوپ', 'note7', 'کاورm31', 'عمده', 'خشاب', 'موتورکولر', 'رابین', 'ژوراسیک', 'گوشیa30s', 'پیاز', 'digital', 'لجن', 'لانس', '175', 'بگ', 'j7pro', 'ملافه', 'کالباس', 'میزناهار', 'co2', '۱۲ولت', 'یوونتوس', 'بمب', 'بیزانس', 'zx', 'صد', 'ده', 'لند', 'سرافون', 'ps4pro', 'اردوخوری', 'b450', 'فاز', 'کوهی', 'مغز', 'رینگی', 'گیلان', 'وکتری', 'لبلسشویی', 'romanson', 'گرند', 'چراع', '*', '45', 'کمبت', 'elx', '۴۰', 'رفع', 'تختخوابشو', 'pad', 'دما', 'سیمی', 'حجاب', 'ارتودنسی', 'شنا', 'p1', 'td', 'ربع', 'قابa32', 'فوتبالدستی', '5600xt', 'xp', '11pro', 'آ۵۱', 'نیوی', 'گوسفند', 'ا10', 'دوچرخه۲۰', 'آلپسین', 's20ultra', 'سامسونت', 'توله', 'پر', 'کالیستا', 'j2', 'پیاله', 'کوهستانی', 'دسگاه', '۷۰', '۳بعدی', 'میزکامپیوتر', '10x', '431', '8c', 'رینک', '6.2', 'نوکیا210', 'مینرال', 'الارو', 'پیازی', 'ef7', 'پروتین', 'مسواکی', 'کلاژن', 'پاتریک', 'گردگیر', '141', 'پرندگان', '22', 'دوطبقه', 'ونوس', 'بامیه', 'نشین', 'لاکپشت', 'کشدار', 'ب', 'می۱۱', 'ذغال', 'تزیین', 'کا', 'اذین', 'چلسی', 'نوکیا105', 'لاکچری', 'سوت', 'پیچگوشتی', 'فابرکاستل', 'اونتوس', 'کولرآبی', 'الگانس', 'پسیو', 'فرشته', 'rolex', 'ايرپاد', 'زیردوشی', '2015', 'nokia105', 'سوپ', 'قنادی', 'گلدوزی', 'اسلایسر', 'پتوی', 'passport', 'اهرمی', 'کاوه', 'wink', 'optic', 'شیاوومی', 'هولوگرامی', 'xim', 'چایخوری', 'پارافین', 'redminote', 'buzzer', 'پرسی', '1650super', 'کفس', 'c.10', 'محبوب', 'زه', 'اسپیدی', 'والف', 'رولر', 'اتوپرس', 'ونوم', 'پاراکورد', 'رئال', 'مترلیزری', 'مارول', 'بیز', 'رومانتویی', 'قالیچه', 'سارافن', '570', 'کوه', 'چیا', 'سشواری', '8200', 'فیفا', 'pavilion', 'سامسونگa21', 'z490', 'اسبا', 'mdf', 'جینسینگ', 'گریت', 'منو', 'چرک', 'اساسین', 'گلوریا', 'توربو', 'دستبندمردانه', 'گلوکزامین', 'استیشن4', 'بالسا', 'منچ', '5700xt', 'ویلچر', 'آشپز', '۹۹۶۰', '۲۱۰', 'ت', 'آرم', 'hw12', 'پارسخزر', 'سپهر', 'وارداتی', 'سویا', 'فونیکس', 'e7', 'آ۱۲', 'افکن', 'بیواکوا', 'pink', '۵۰کیلویی', 'ماهیتابه', 'سمباده', 'شتر', 'اختاپوس', 'عددی', 'راندو', 'دورکن', 'rado', 'rx5700', 'هوسمند', 'لبه', 'پیله', 'آ۱۱', 'يخچال', 'سانتافه', 'f', 'رد', 'پره', 'اپونتیا', 'گوسفندی', 'هولی', 'مووی', 'تلویزین', 'پتک', 'گوشس', '۲۹', 'سینره', 'اشک', 'tsco', 'سازدهنی', 'اسلاین', 'اورینت', 'omthing', 'h320', 'کاسپین', 'گوشیa2', 'سرسوزن', 'یونی', 'راهی', 'طلق', '1030', 'نت۹', 'آسانسور', 'خرسی', 'پاسپورتی', 'نشیمن', 'س', 'شلوارجین', 'گوسنیک', '9100f', 'یووی', '12ولت', 'redmi8a', '600', 'ورسا', 'تأخیری', '1280', 'هندوانه', 'برقي', 'دکلره', 'j3', 'هاشمی', 'پایین', '7s', 'اوپن', 'ملی', 'صاف', 'کانکتور', 'honor7s', 'ایرسافت', 'r565', 'سیگنال', 'لژدار', 'فنری', 'mobile', 'سودو', 'پنتاکس', 'ادیفایس', 'نسوز', '28', 'پران', 'زبان', 's20fe5', 'سامسونگa', 'هسته', 'کانفی', 'پسرونه', 'داو', 'نوکیا۱۰۵', 'نظم\\u200cدهنده\\u200cچمدان', 'استریم', 'تشك', 's5', 'predator', 'شیامویی', 'مفاتیح', 'زا', 'هادرون', 'وشلوارک', 'هندزفري', 'آر', 'دربین', 'ملاقه', 'زانو', 'x10', 'قلطک', 'هیدن', 'بلید', 'شلوارمردانه', 'تافته', 'یاسا', 'گردنبندطلا', 'ماسالا', 'اسپیکرکامپیوتر', 'رنو', 'تامپون', 'جید', 'پنتی', 'تابلوفرش', 'فت', 'باسن', 'ساسون', '380', 'سفال', '٦', 'براشلس', 'n95', 'انکو', 'baterfly', 'lol', 'دینگ', 'داشتبورد', 'اتومات', 'b360', 'ارتش', 'بیست', 'زانتیا', 'چادرخودرو', 'مونو', '۲۰۵', 'mm', 'تسویه', 'جوندگان', 'ایفونxs', 'پاورمیکسر', 'شائومی', 'فرایدی', 'تاک', 'سونی۲', 'مرواریدی', 'دوربینه', '6a', '4.5', 'cla', 'a۷۰', '10lite', 'a۵۰', 'حنا', 'مزدا', 'mini5', 'پین', 'نوا7', 'شیاعمی', '4604', 'معلم', 'بلوط', 'آیفونx', 'مشعل', 'راه', 'man', 'میلی', 'شیردار', 'میکرولب', 'استیشن3', 'سروبس', 'مواج', 'آیفون۶', '۲۰۱۸', 'پرستاری', 'تایتان', 'iphone6s', 'پچ', 'honor8a', '1080', 'کوات', 'متور', 'نیجاگو', 'حباب', 'چاکرا', 'چوبدستی', 'بسترن', 'متوسط', 'k', '۲۰۱۶', 'توپاز', 'ران', 'کات', 'مایکل', 'خاتم', 'نکیا', 'رندرینگ', 'nord', 'دیپلمات', 'فنجون', 'trx', '6800', '8s', 'تلویزون', 'استپر', 'ایفل', 'امرون', 'سیفون', 'عمو', 'نیترو', 'سوزوکی', 'هرتز', 'دستباف', '۷پلاس', 'اینچی', '7plus', 'گردنبندرومانتویی', 'لانسون', 'اینتکس', 'citizen', 'کاپ', '۳۶', 'گوشیm51', 'مرکوریال', 'دنیا', '۱۴۰۰', 'اکسیمیتر', '۲۵', 'اسپیلیت', 'باندانا', 'gforce', '۵۱', 'پاریس', '5gگوشی', '\\u200cگازی', 'nokia106', 'm20', 'خاکستری', 'قوای', 'سولار', 'اردک', 'glass', 'یکس', 'صندوقدار', 'lcd', 'دختراته', 'کناره', 'نقابی', 'پلی۴', 'گاردa11', 'طرفه', 'ارزون', 'پلو', 'loptop', 'نیوشا', 'اسلاح', 'حلزونی', '870', 'اجیل', '۱۷', 'xperia', 'سنگین', 'فیلی', 'اكسترنال', 'شیایمی', 'a51s', 'فلاپ', 'بلندر', 'نوت۱۰پرو', 'كولر', 'دیوان', 'حافظ', 'مرمر', 'رولباسی', 'جی۵', 'moser', 'وایکیکی', 'سنجاق', 'نواربهداشتی', 'پلیمری', 'لن', 'پروتعین', 'شمشاد', 'امگا۳', 'تنی', 'خلال', '۱۴۱', 'پراید۱۳۱', 'مخمر', 'گونیا', 'کامپیتور', 'زیست', 'آبالون', 's2', 'طیفی', 'موتورکمپرسور', 'پلیسه', 'منحنی', 'مارسی', '25', 'چکان', 'استبیلا', 'پفی', 'یخ', '۱۴۰', 'yeezy', 'دولول', 'a۳۱', 'ریو', 'ویندوز۱۰', 'سمن', 'المان', 'ویکتور', '7500', '۳۱۵', 'کامپوتر', 'نسیم', 'جیلی', 'لینگ', 'افرا', 'کهکشانی', 'هونور', 'فایندر', 'آفتابگیر', 'صندلي', '3060ti', 'اریو', 'تفنگpcp', 'پلاز', 'سوخته', 'سینما', 'ژاپنی', 'maxeeder', 'تاس', 'فرمند', 'iphone6', 'مانیتورپشت', 'گالن', 'نیل', 'ریل', 'amd', 'آسیکس', 'a10اس', 'a۲۱s', 'rc', '750', 'عرق', 'دیفیوز', 'ایرپد', 'الیسا', 'آیفون12', 'بازیps5', 'کیف\\u200cدخترانه', 'b310', 'کافشن', 'اورژانس', 'ایک', 'ادو', '۶۲۰', 'دامنی', 'هواویy8p', 'السیدی', 'motherboard', 'اس5', 'وروسری', '۱۲پرو', 'کلفت', '310', 'درختی', 'موستلا', 'سیلتر', 'شمشیری', 's6lite', 'a1', 'ولوت', 'gtx1660', 'ایوا', 'آبگوشت', 'کاندوم\\u200c', 'فوروارد', 'note10lite', 'سامسونگa20', 'اداپتور', 'بتنکن', 'کمدلباس', 'بلکبری', 'جواهردوزی', 'bm1397b', 'stencil', 'استنسيل', 'اطلس', 'یاماها۱۰۰', 'الیاف', 'شیوامی', '2740', '62', 'gt5', 'گنز', 'گلامور', 'i9070', 'qt81', 'توسان', 'پلاسکو', 'درمالیفت', 'گاستروبک', 'دوچرخه26المپیا', 'mvvk2', 'iron', '6پرو', 'دوبنده', 'بلوتوسی', 'دوربین\\u200cمخفی', 'ماکروسافت', 'miband', 'پمپرز', 'ارپاد', 'اسبای', 'فورکی', 'اسمارا', 'رم6', 'حمله', 'uv', 'مویز', 'سامسونگa02', 'الیت', 'واقعیت', 'باری', 'redemption', 'وپتیکور', 'پورشه', 'سندان', 'ترکینگ', 'ارگون', '7200', 'نیتجا', 'انجلو', 'تازه', 'پیچر', 'میزناهارخوری', '4نفره', 'invectus', 'لندرور', 'دان', 'blackshark', 'arva', 'arkham', 'origins', 'برفی', 'جامع', 'haylo', 'بازیps1', 'خوشبوکننده', 'not20', 'شیما', '۶۳۰۳', 'رمان', 'پیام', 'اسلايم', '۳۵', 'harry', 'potter', 'لباش', 'استشن', 'p100ماسک۳m', '2013', 'مانتوزنانه', 'آ۶', 'ورکس', 'درمل', 'نوت۲۰', 'توسی', 'y7prime', 'پارکابی', 'باندماشین', '2070', 'فازمتر', 'مززی', 'سایونا', 'گریتک', 'پرسو', 'خوراک', 'جغجغه', 'v41', 'gig', 'galexy', 'دیپوینت', 'گلابگیر', 'پیکور', 'مینا', 'انگلیش', 'جریقه', 'ایلیا', 'رویه', 'ایفون5', 'نیدو', '۱۶×۲۱', 'لگوی', 't4', 'ایکسباکس', '10100f', 'صفر', 'ا20', 'بطری', 'یرویس', 'تفره', 'فضایی', 'g15', 'flash', 'راپونزل', 'ساوین', 'تودری', 'aeg', 'سوتین\\u200cدخترانه', 'کرال', 'پرایمg', '531', 'evo870', 'ظرفیت', 'شیاءومی', 'اجر', 'لامبادا', 'فرچیپس', 'apex', 'خربزه', 'شیاءمی', 'کراویا', 'گاردگوشی', 'چراغی', 'خاص', 'آرت', 'باغلاما', 'لیموزین', 'خمیردوقلو', 'دوچرخه\\u200cکویر', 'sdssde60', 'ميز', 'چهل', 'کردن', '480', 'درد', 'سیر', 'سالومون', 'منیزیم', 'متالیک', 'gta', '800', 'کاناله', 'کمیک', 'tf', '50اینچ', 'انعطاف', 'پذیر', 'محلی', 'کنته', 'تاروت', 'zen', 'ناروتو', 'یورو', 'ms771c', 'جلوپارس', 'سفیدی', 'کرونا', 'mhl', 'فولی', 'این', 'sy', 'زیرووات', 'کیلیو', 'جلوی', 'کورسی', '1070', 'وحشی', 'جت', 'شکلاتی', 'i12', 'سایلنسر', 'white', 'میکرومتر', 'فورد', 'لنووا', 'آکوا', 'کالا', 'لیتر', '۱۹', 'شیایومیm3', 'چهارسو', '5a', 'قابa10s', '۹x', 'سرعتی', 'فرفره', 'شنود', 'اسپیکرمکسیدر', 'ارکیده', 'گشاد', 'دیوتی', 'لامبورگینی', 'سامسنوگ', 'پوکه', 'خرچنگی', 'moto', 'تلسکوپی', 'كفش', 'شکل', 'wireless', 'اوجنرال', 'هانی', 'میزآرایش', 'افقی', 'skmei', 'k.doo', 'kgtel', 'rdmi', '10400f', 'نیتروژنا', 'گوشیj7', 'قوري', '1660s', 'امگا3', 'کیلو', 'بالای', 'ژانومه', 'سکس', 'partybox', 'گوشیa7', 'چسبی', 'وارکرافت', 'چدخه', 'd7500', 'المانی', 'دورکو', 'dxracer', 'ysl', 'r22', 'لرزان', 'تیماسین', 'کنتور', 'گوزن', 'tab3', 'واندر', 'هرمیون', 'آدامسی', 'سراتو', 'internal', 'پوشیده', 'حکاکی', 'الیمپ', 'بتکس', 'جلوباز', 'وکفش', 'ترمیم', '2720', 'هواووی', 'گالوانیزه', 'y5lite', '2.3', 'm12', 'باسوس', 'رودری', 'منگنز', '8012', 'اسپیکرbts205', 'پی8', 'اصفهان', 'تگ', 's7edge', 'مبله', 'محدوده', 'میدان', 'جمهوری', 'اتلتیکو', '۱۸۰', '10900k', 'ورا', 'بلوتوس', 'ideapad', 'دارایwifi', 'شلوا', 'آبميوه', 'هاشور', 'v8p', 'آپل', 'ابخوری', 'y7prim', '۲۱۶', 'سبدحصیری', 'هیزمی', 'دسه', 'وین', 'فان', 'می10تی', 'تیوتر', 'اینفینی', 'ترارو', 'کوئین', 'یاخما', 'ph1280', 'آیفن', 'zoom', '10pro', 'الماسی', 'غذاذخوری', 'دستهی', 'لیپ', 'سمندطرح', 'لبخند', 'mi11ultra', 'اهلی', 'کدنس', '505', 'هوپs3', 'دوفاز', '۲۵۰۰', 'r521', 'سوفیا', 'کلاسور۲۶', 'تلوزيون', 'قلعه', 'edon', 'زرشکی', 'stylus', 'lego', 'انگشترزنانه', 'یمنی', 'گیربکسی', 'انگشت', 'تسفیه', 'ترین', 'ملیله', 'eos', 'شبیه', 'فلش64گیگ', 'جاجیم', 'آیفون6', 'مینیون', 'طرحدار', 'نوكيا', '5500xt', 'پراهن', 'کالکشن', 'مدارک', '۱۱پرو', 'کنزاکس', '۹متری', 'پنوماتیک', 'a4tech', 'داماس', 'دکر', 'چرخیاطی', 'قهرمانان', 'هوداشپزخانه', 'سامسونگa5', 'پزنفتی', 'سولان', '34', 'arous', 'seagate', 'مخزندار', 'ورقه', 'دنس', 'هیر', 'بروسلی', 'a20016', 'sm', 't585', 'شیرفلکه', 'crown', 'جم', 'نوکیا106', '۱۰۶', 'minecraft', 'اسپرت206', 'فیوز', 'اسمورف', 'کولر\\u200cگری', 'دلسی', 'میزپینگ', 'پلار', 'روبین', 'گالاکسی', 'ring', '063', '۶۸۵', 'کلارینت', 'mma', 'fd', 'global', 'گابلمه', 'بادب', 'کاعذ', 'قابa02s', 'l1', 'موتوره', 'میزارایش', 'دخترلنه', 'دیگ', 'فا', 'نوش', 'گازطرح', 'دراگون', 'اورجينال', 'gun', 'سیلیکدنی', 'a۷۲', 'کمپوت', 'هوشمتد', 'basic', 'هلیومی', '9نفره', 'freebuds', 'گيري', 'گازکربنیک', 'تستو', 'قلوی', 'ps4پرو', 'تلوزیون۳۲', 'a340', 'کنتاکتور۴۰', 'معاینه', 'تپانچه', 'تبی', 'سامسونگینوت', 'لپ\\u200c', 'speaker', 'صافی', 'مردنکبوتی', 'ram8', '240', 'گوشیpoco', 'میکروفونی', 'ارایشمی', 'طلاه', 'atx', 'الماسه', 'ایی', 'بازوبند', 'اترود', 'کنکوریوم', 'زنبوری', 'تاویزیون', 'هدزفری', 'رومنس', '9970', 'ابمیوهگیری', 'ای4', 'دوچرخه20', 'pen', 'aircontact', 'rs232', 'ردمی8a', 'ls05', 'laser', 'اسکار', 'رژودرم', 'ظريف', 'شیراز', 'وکنسول', '16کری', 'ینفره', 'نوجوانه', 'فلش۶۴', 'ud', 'نایکی', 'سامسونگm21', 'البالو', 'نیکلین', 'نات', 'کنفی', 'فانتری', 'ریپیتر', 'دریچه', 'نوترژینا', 'گوشیj5', 'کتابخوان', 'آ۷۱', 'فشارخون', 'wm01', '3بعدی', 'ادونچر', 'جاسکو', '۶۵۰۰', 'خردلی', 'مورینگا', 'پستی', 'زوم', 'آنر10x', 'خلخال', 'مثل', 'جهان', 'پرنسسی', 'aspire', 'کنود', 'دیسینی', 'هوای', '۱۰تی', 'f4', 'qoq', 'آنر9a', 'ویترای', 'حیاط', 'موترولا', 'اکفیکس', 'روروعک', 'روونتا', 'فراری', 'یزد', 'vans', 'دفع', 'حشرات', 'mx150', 'vape', 'ژوپینگ', 'آبپاش', 'ناسا', 'کاجی', 'تیونینگ', 'سامسونک', 'استیشن۵', '24هزار', 'سردیس', 'بوردb450', 'xiami', 't5', '26المپیا', 'خمینی', '\\u200c', 'اسکورپین', '9اس', 'باراکا', 'شیایومی1', 'گوشیa50s', '500گیگابایت', 'سنگبری', 'پانح', 'نایف', 'بلوورتوسن', 'گوشیy9a', 'ne2', 'بند۵', 'بانکی', 'آلوچه', 'جلبک', 'zealot', 'رووکار', 'وارمردار', 'کاورa۱۰s', 'ردمی7', 'نظر', 'دری', '3031', 'مورتی', 'کینکa21', 'گوگل', 'فلنج', 'گلچین', '12به220', 'فون', 'قهرمانی', 'ls01', '۸a', 'بارز', 'یونیتی', 'g6', 'مسواک\\u200cبرقی', '1650s', 'قابلمه\\u200c', 'آیفونxs', 'تنظیم', 'نلاتون', 'دوجی', 'دوچرجه', 'سولاردم', 'دیود', 'کتونب', 'بدونه', 'پیکو', 'plm18zm', 'دارای', 'نیترات', 'پتاسیم', 'افتامات', 'کارترز', 'redminot10', 'ردمی10', 'یوتاب', 'شارژگاز', 'دوچرخه27.5', 'لنین', 'استیشن1', 'نردهبان', 'apn', '۲۴۷۰', 'گ', 'کتابخزان', 'طلابانگین', 'جیمی830', 'سلاح', 'محیط', 'هپا', 'جرم', 'پارت', 'پات', 'h470', 'آمیتیس', 'روغن\\u200cجامد', 'کون', 'برف', 'حیات', 'پلاسt10', 'پویا۵۵۰۰بالازن', 'راشل', 'انگاره', 'km66', 'دستکش\\u200cهای', '9کاور', 'تکی', 'کرشر', 'next', 'tvپایه', 'جاودان', 'پنرای', 'لومی', 'fidget', 'pop', 'it', 'ازدواج', '1660super', 'قفل\\u200cذوچرخه', 'پستوله', 'استخری', 'شنل', 'بند6', 'c7', 'تلویزیون4k', '۲۰۰۸', 'انجین', 'کابشن', 'وگربه', 'سیاه\\u200c', 'bm10', 'تیمچه', 'ژن', 'm30s', 'اسباببازی', '\\u200cپسرانه', 'آ۳۱', 'سیماران', 'کبود', '۲۱۵', 'بخورگرم', 'neckband', 'چیبو', 'آ12', '250', 'برداری', 'کپمرسور', 'شیلدر', 'ایسکول', '..', 'مغزی', 'اماده', 'سوالات', 'آزمون', 'دبیرستان', 'فرهنگ', 'کپتر', 'طلاالنگو', 'خالی', 'f512ja', '11اولترا', 'shiaomi', 'duty', 'رومی', 'dj', 'tag', 'مکسی', 'قسمت', 'دودزاه', 'اودمار', 'پیگه', 'مرمربر', '9شیائومی', 'پااش', 'ونس', 'هواویy3', 'پولدار', 'سرپیچ', 'خریدن', 'کاردستی', 'اقرب', 'زیرزنانه', '18650', 'محافظه', 'npk', 'آپدیت', 'انر9a', 'گوشیa71', 'یاندو', 'سردار', 'انگستی', 'فرش۹متری', 'بلوتوژی', 'پزیرایی', '225', 'ماسک\\u200c', 'مردونه', 'گوچی', 'پخچال', 'ترجمه', 'بهترین', 'protable', 'نوت۹s', 'لیر', 'استپ', 'زنونه', 'پیتزا', 'نتلا', 'blade', 'ویکیوم', 'گاج', 'کلاس', 'الين', 'وير', 'ابارا', 'اپن', '۵۵۰', 'نعوظ', 'قابa42', '215', 'اشپسخانه', '12promax256', 'مثبت', 'صکن', 'بیضی', 'پوشاکمانتو', 'ددخترانه', '5755', 'ارتفاع', 'برچسبps5', 'smart2019', 'a525', 'کاهیتابه', 'پستونک', 'fortnite', 'تکشاخ', 'عیلی', 'اپیلاسیون', 'قايق', 'نیمه', 'هایلی', 'کارتون', 'تلویزیو', 'شیامومی', 'emper', 'صصندلی', '\\u200fa۳۲', 'گیمین', 'beko', '640u', 'بوردگوشی', 'لمسر', 'لندن', 'گوشی\\u200c', 'آکواریون', 'گلستان', 'کردنبند', 'هندرفری', 'rtx1080', 'فیوژن', 'انکبوتی', 'بادبادک', 'last', 'us', 'نفر', 'وینکس', 'کیف\\u200cمدرسه\\u200cای\\u200cپسرانه', 'موبال', 'تخیری', 'بیول', 'مزوگان', 'سامسونگa6پلاس', 'مدادچشم', 'لوسترآشپزخانه', 'بيليارد', 'کنکورد', 'تلویزیون32', 'فیت', 'مضراب', 'ای۴۴مشکی', 'آنر8a', 'اجاق\\u200cگاز', 'g512lw', 'کمانی', '8.3', 'ماژل', 'استویا', 'v19', 'چشمه', '8poro', 'اسیشن', 'بامپر', 'هایلوکس', 'عرشیا', 'سیلکونی', 'ps6', 'الیکس', 'فینیش', 'تک\\u200cشاخ', 'قاپ', 'رادیویی', 'dewalt', 'x۳', 'محرم', '3موتوره', 'نت9', 'مد', 'ویش', 'پوینتری', 'a6400', 'هارداکسترنال', 'ناوی', 'صندلی206', 'برن', 'ایفون7', 'باكس', 'vttتاشو', 'تسكو', 'بلوبری', 'ساجمه', 'ولیبال', 'کارتن', '۳۳۱۰', 'پراید131', 'ژرمن', 'افتابگردان', 'چینه', 'آرتین', 'مرغی', 'سیلورکرست', 'هاردستون', '\\u200fa۷۲', 'گردمبند', 'آ۳۲', 'اشپز', 'اپل۶', 'میمون', 'هلیوم', 'پلاتینیوم', 'وصفحه', 'الکترود', 'آمریکایی', 'نت۸پرو', '108', 'استخربادی', 'p7', 'g13', 'گوظی', 'تکپوش', 'پروستات', 'city', 'force', 'ابری', 'nvidia', 'سرشیشه', 'اینهل', '5s', 'معصومی', 'دوریا', 'اس۵', 'ipjone', 'f50', '9کیلویی', '۳۷', 'ماشین۲۰۶', 'کمجا', '\\u200fa۲۰s', 'مبانی', 'خاطرات', 'دوچرخه16', '۲۳۰', 'پرینسلی', 'ساله', 'corsair', 'سوراخ', 'اس۴', 'اتولوله', 'fifa', 'x3nfc', 'poco3', 'اوکم', 'قیف', 'فريزر', 'یازدهم', 'بوبینی', 'تزینی', 'دویدن', 'باغی', 'ta800', 'ابروبادی', 'mask', 'گردسوز', 'اتوایستاده', 'تیتان', '110', 'متوری', 'شوید', 'النترا', 'سیکارتی', 'پونگ', 'گوشیa۳۱', 'نوت۱۰پلاس', 'آیفون7', 'haylou', 'قابm30s', 't8', 'شرق', 'جواهری', 'سایلنت', '970', 'ارم', 'هلوگرامی', 'موتورجوش', 'اساب', 'هاونگ', 'بله', 'برون', 'bm44', 'ابگوشت', 'خرچنگ', 'معموری', 'a۵۲', '500گیگ', '9lite', '1102', 'هنگ', 'gtx1050', 'تکنیک', 'alpha', 'رختخواب', 'کوئیک', 'امیزی', 'پایونییر', 'میزسنتور', 'کووادکوپتر', 'سمعک', 'فویلی', 'm21s', 'رنگین', 'توپی', 'h4', 'درین', 'درام', 'نارنجی', 'نخود', 'آ۱۰', 'بادیگردی', 'پیسوله', 'gree', 'western', 'ماندگار', 'چهارنظام', 'یه', 'اپگا', 'p10lite', 'تلخ', 'mgn63', 'اکسیمیر', '۵۱۲', 'd5300', 'nintindo', 'بغلی', 'بشقابی', 'تزیینات', 'merida', 'رم\\u200c', 'دوربين', 'اشتیل', 'الویه', 'k20pro', 'تلفزیون', 'c70', 'پنب', 'ایفوت', 'm۳۱', 'آیفون6s', 'data', '3d', 'آقایان', 'وسترو۱۰۱۵', 'کاملا', 'he05', 'دسشویی', 'خونساز', 'ordinary', '۶۴گیگبایت', 'کاورs21', 'جاسوسی', 'آلترا', 'سرویس\\u200c', 'پرفکتیل', 'ساغت', 'تیع', 'mi10pro', 'اینوتر', 'کلرگازی', 'ست\\u200cمیز', 'ال\\u200cای\\u200cدی', 'شاژر', 'انترامیل', 'سامسونگj7', 'کمربندی', 'اسكيت', 'nova2plus', 'اینورتردار', 'call', 'نورد', 'گلاس', 'سوپرتیپر', 'coolpad', 'مغازه', 'a2۱', 'نوکیاx2.00', 'سرویی', 'سنس', 'پوسته', 'ادفون', 'هیت', 'نورانی', 'فرشی', 'غول', 'تراکم', 'کشوی.پول', '۳۲٠', 'دوتار', 'پلی4', '195', 'هریپاتر', 'اثرمرکب', 's17', 'رسوب', 'کوی', '۲۲۵', 'fm', 'کنی', 'z5', 'سونیا', 'لباسهای', 'کنف', 'vita', 'بت', 'اپلواچ', 'رانینگ', 'k19', 'نا', 'هار', 'کلنز', 'ودامن', 'crrju', 'وکیف', 'f512', 'ja', 'خرم', 'درخشان', 'بلوتوزی', 'وسائل', 'ادیتا', 'فلورمار', 'پارکساید', '516', 'ریاضی', 'باپاسخنامه', 'گیمینک', 'اس10', 'tds', 'نورافکن', 'دوختی', 'آپتامیل', 'snowa', 'هیبربدی', 'لنزدارa20', '390', 'باندخانگی', 'کلور', 'fryzen', 'g512lv', 'شراب', 'اسمو', '230', 'ددپول', 'a91', 'نشانگر', 'maximus', 'پردارند', 'سل', 'شلوارچرم', 'تونفا', 'گچی', 'ابپاش', 'وسیله', 'چهارخونه', '۳۲اینچ', 'رينگ', 'د', 'اگشن', 'pluse', 'دریلگریتک', 'اسمال', 'استندگلدان', 'دوچزخه', 'اس۳', 'اینه۲۰۷', 'ترمولو', 'هاماتو', 'اکواریومی', 'لاستیک۱۹۵×۶۰', 'r۱۶', 'تابوره', 'بوقلمون', 'هایگلاس', 'هانتر', 'آندر', 'آرمور', 'سرویس\\u200cخواب', 'جیشی', 'دماوند', 'پگا', 'ستیشن', 'کامپوننت', 'اویدرم', '۶۹۷۵', 'وبرنجی', 'فریزرالترواستیل', '۲۳فوت', 'داماسک', 'هندذفری', 'بولو', 'توزی', 'کشکول', 'کلتc8', 'کلییر', 'diadora', 'شیایئمی', 'پاناسونیکts600mx', 'a022', '۲۲۰۰', 'لامبرگینی', 'تفنگ\\u200cبادی', 'x3pro', 'موتوراسباب', 'دوشاخه', 'سرعت', 'ژیل', 'بوته', 'tاچار', 'دئودورانت', 'شيائومي', '۷۲', 'اوسرین', 'قوی', '146', 'نرمینه', 'a72سامسونگ', 'mtp', '1183', 'قاسق', 'آناتومی', 'نتر', 'ریدمی', 'خزینه', 'مودمadsl', 'باغ', 'ودختر', 'کلملیا', 'بیسمارک', 'امروز', 'مربع', 'سیندرلا', 'هاوای', 'سلولوزی', 'ناصر', 'اپيلاتور', 'بازي', 'تابشی', '۳۰سیخ', 'دومتری', 'پارادوکس', 'شوکلات', 'r564jp', 'کلاف', 'سوناتا', 'شکرسفید', 'هوپیما', 'هانر8a', 'prime2019', 'تختوکمد', 'امسیگ', 'بتربی', '۱۲متری', 'داشپورت', 'دوجزیی', 'شیلنگی', 'باسیم', '0.5', 'باندل', 'باستر', 'گوشی\\u200cاسباب\\u200cبازی', 'ساچمی', '42', 'پلنر', 'گوه', 'کندانسور', 'اکیترنال', 'نیلپر', '23', 'ویلایی', '8پلاس', 'bm', 'گلسرخی', 'موبایلa31', 'پوستی', 'کیا', 'g2', 'فریزردوو', 'منگه', 'ngk', 'مدلska', 'قره', 'قروت', 'ماکس', 'نیوآ', 'fx502', 't7', 'دربازه', '3i', 'lalique', '3e', 'هیرانیک', 'تفنگبادی', 'hw22', 'طلاروس', 'شهید', 'فانتزیقاب', 'دستمالی', 'فلوک', '6900', 'کتر', 'کاغذکادو', 'سکنجبین', 'گلخانه', '۷۰۰', 'مکعب', 'قطعه', 'pointer', 'solar', 'پزی', 'سایزبزرگ', 'مسیحا', 'دوفازگلیس', 'رسید', 'بهتون', 'التون', 'فرود', '830', 'lab', 'tob', 's۱۰', 'فرزبوش', 'چیتا', '۵۵اینچ', 'modem', 'ايكس', 'اسپره', 'المنتی', 'گان', 'اسپورتیج', 'فگور', 'لجند', 'لاله', 'سرشعله', 'شخصیت', 'ماکاموشی', 'دختزانه', 'طبیعت', '۲۲', 'آ11', 'النگوی', 'نقره۹۲۵', 'راپید', 'آنر8آ', 'المک', 'اسپرینگ', 'فالزمدل', 'هیردولیک', 'ضعیف', 'قرآن', 'دوگانه', '550', 'es', 'ایساکو', '۱۲پرومکس', 'الستار', 'جدیدترین', 'گرل', 'دمپايي', 'قندان', 'اس۲۱الترا', 'mvm315', 'کلگی', 'ریسع', 'اسپزت', 'میزو', 'کاورnova7i', 'پیکارو', 'هوپk37', 'الترا۲۱', 'اینج', 'قاپa21s', 'نوکیا130', 'هواپیمای', 'مادربردکامپیوتر', 'خم', 'تیغی', 'گوشی\\u200cاپل', 'آریان', 'ما', 'چنگالsg', 'fx505', '5x', 'هواویy6', 'تبقه', 'ماله', 'انفجاری', 'ووفر', 'مانتونخی', 'وسرامیک', 'دنلکس', 'الاکلنگ', 'بیصدا', 'دراز', 'نشست', 'دابل', 'دوچرخه\\u200c۲۴', 'شیائنوت', 'ssb', 'بیسبالی', 'نیوپایپ', 'ببم', 'فیله', 'روستیک', '70', 'گالنزو', 'الجي', 'تیرو', 'آرایشگر', 'کلین', 'korg', 'bershka', 'ورساچ', 'iphone10', 'کومپرسوربادبی', 'headset', 'فاکس', 'توس', 'دیور', 'ایفون۱۰', 'ایروبیک', 'باله', 'خونگی', 'درسا', 'رویتالیفت', 'کوک', 'x16', 'cor', '7400', 'انگشترنقره', 'لگوادمک', 'برتا', 'ایزلن', 'ساسکین', 'ژنوبایوتیک', 'گپشی', 'طوق', 'دكوري', 'آرمیچر', 'منفصل', 'پرفیوم', 'موشکی', 'nt1150', 'ارمان', 'گوشیa42', 'zx200', 'یخچالفریزر', 'گلگیر', 'باجاج', 'مترسیکلت', '8پی', 'حسابداری', 'جی7', 'honor9', 'اس8', '۴پرو', 'بادودسته', '1400', 'گوشی\\u200cسامسونگ\\u200ca5', 'ضخامت', 'قرقره', 'چهارگانه', 'زامبی', 'مایکرویو', 'منبت', 'گاردوکاورگوشی', 'برنامه', 'ریزی', 'تجربی', 'شیکرrock', 'بعدي', 'پاس', 'ویشی', 'rexona', 'پورتابل', 'ردمی۷', 'کاورnova', 'خزدار', 'aorus', 'اینیوک', 'ریک', 'تلیویزیون', 'دهترانه', '١٥', 'تیوا3200', 'کمپروسور', 'باقلوا', 'آلورا', 'dszh', '115', 'a01s', 'پيستوله', 'm15', 'a01سامسونگ', 'دوازده', 'آ۰۱', 'x33', 'آلمانی', '۱۶۵', 'کاما', 'choice', '۴۳۱', 'سریv', 'برجسته', 'فیتنس', 'رم۲', 'پرلا', 'crew', 'duo', 'chromebook', 'علنگو', 'خش', 'tesco', 'گوشیmi', 'شومیززنانه', 'liteگلس', 'delisio', 'افترشیو', 'یفه', 'اکلیل', 'لیفان620', '24تایی', 'خورشتی', 'هایلایت', 'آ۲۱', 'پیرنتر', '185', 'xfx580', 'بیگ', 'عطرو', 'نوکیا3310', 'ارشد', 'هنر', 'نئودرم', 'لیفانx50', 'پرادی', 'ایرباد', 'بیوآکوا', '۱۲وات', 'بدمینگتون', 'شارژری', 'مستک', 'موتوربرقی', 'پرو2020', 'حوزوی', 'اشپزی', 'جوشان', 'body', 'pokox3', 'کمپرسورهوا', 'ژیتان', 'تنورک', 'huarachi', '۱۱pro', 'redni', 'resmi', 'دمیلو', 'رامون', 'کاج', 'گروپ', 'کارتونی', 'هوشمند42اینچ', '1151', 'پام', '۵۳۰', 'گاردa51', 'گوشز', 'ملنگو', 'ردمین', 'a51بنفش', 'تین', 'کلاینت', 'دیاموند', 'هارنس', 'اباسلباس', 'نیکان', 'الکس', 'animate', 'سامونگ', 'valvar', 'فوق', 'نوت8سامسونگ', 'هیتاشی', 'ایرون', 'm۳', 'اِسکیت', 'معرق', 'ge402', 'کونگ', 'air2', '10700', 'سامسونگ5100n', 'oximeter', 'نمازی', 'مجلسیمحجلسی', 'کنتری', 'ودمپایی', '۵۷۰۰', 'دوکس', 'سامسونگa3', 'استودیویی', 'سولزی', 'orod', 'ابلق', 'لیفانx60', '44', 'ایپرت', 'ایفون10', 'اکرلیک', 'تی\\u200cشرت', '۲۸۰۰', 'seiko', 'تولیدی', 'کییورد', 'هواییhonor', 'خترانه', 'motor', 'speed', 'کالاندولا', 'خبر', 'نگاری', 'a93', '10plus', 'جاجورابی', 'جاکاردی', 'پی\\u200cاس\\u200cفور', 'کلمبیا', 'بند5', 'کیمیا', 'دربازکن', 'bh', 'ماشین\\u200c', 'بتد', 'سازمیباشی', '2700', 'poro', 'وسای', 'روبینey20', 'تخمه', '۱۸۵', 'امودبر', 'هواویy7p', 'تیزیانا', 'ترنزی', 'کوپکی', 'تیونر', 'سورفیس', 'موتوربرقي', 'لویی', 'ویتون', 'شپزخانه', 'کانینتی', 'ایستکو', 'دشگ', 'بوق', 'پلاستیمی', '۲۴عددی', 'dslr', 'سوپرسافت', 'ویندز', 'inoben', 'زیپی', 'ماکوتا', 'tp_link', 'تورنادو', '۱۰w۴۰', '۲۴۰', 'a32سامسونگ', 'دیوارب', 'رزینی', 'گوشیa30', 'روميزي', 'شمعدانی', 'آور', 'خدرو', 'full', 'go', 'گيرى', 'مولينت', 'نوت7', 'w09', 'بلاک', 'نیو', 'اورانوس', 'هارمن', 'چادرکودک', 'یزدتار۲۰۵', 'se2', 'ترمزدوچرخه', 'سرعتي', 'آرایشگاه', 'گزمکن', 'سامسونگs', 'شولدرز', 'cnc', 'شارجر', 'موبابل', 'bluetooth', 'گرذنبند', 'dy4560mدرکرمان', 'ادابتور', 'همدان', 'کانال', 'خشککن', 'دلرشارژی', 'خفه', 'kx', 'عرقگیری', 'camelion', 'ایفون۵', 'گوزل', 'سرویس\\u200cآشپزخانه', 'وسابل', 'کامیپوتر', 'ناخن\\u200cمصنوعی', 'مانیتپر', 'هانکوک', 'للاس', 'چادرعربی', 'کوبتر', 'غذاسازفیلیپس', 'آ۷۲', 'درسام', 'نهم', 'airdots', 'پ', 'کتل', 'اکواریومیa30s', 'چیبس', 'ايکس', 'کیووی', 'امیر', 'ریسر', 'اسپند', 'تاپrtx', 'استرانگ', 'داشبور', '5سانتی', 'گردنبد', 'آفزامبی', 'کاسکه', 'آ۵۳', 'سیکو5', 'نوت20', 'نورث', 'ردمی7a', 'مونوهیدرات', 'سلاخی', '۶پلاس', 'رم۱۲', 'بیشعوری', 'فیلپس', 'men', 'کاورمگنتی', 'ماکارون', 'دريل', 'خياطي', 'ال\\u200cجی', 'olampia', '۴۵۲۰', 'ملودیکا', 'پودرفیکس', 'دهم', 'baby', 'cam', 'كامپوننت', 'فاریک', 'تیوولی', 'کنارمادر', 'کلارک', 'ارسی', 'آپولون', 'لباسشوئی', 'سرویس\\u200cپلاستیک', 'یوسکین', 'کاورa02', 'اپل7', 'کنکور', 'پايه', 'دریفت', 'ماشین\\u200cاصلاح', 'اسكوتر', 'اباسشویی', 'تریمر', 'كارت', 'دوقلوtcl', 'پروتکتیو', 'protective', 't10', 'نوت۹اس', 'شیائومیredmi', 'کارابین', 'گوسی', 'pes2021', 'غار', 'پاستل', 'اى', 'گوشیs20', 'ترئینی', 'پاپسوکت', 'روکس', 'alpecin', 'کلومن', 'کنتلری', 'اسنیکرز', 'sd', 'دیوانه', '۲۰۱۹', 'سامسونگs10', 'انار', 'amazefit', 'چهارنفره', 'امبولانس', 'پای', 'رگبار', '۱۱طرح', 'مدادنوکی', 'پلیاستیشن', 'سرپیک', 'اسکچرز', 'اسلایمذ', 'v9', 'زدا', 'zeenbook', 'سيم', 'دک', 'چری', 'موضر', 'دبه', 'نلبکی', 'شارژرباطری', 'سامسونگa70', 'آساهی', '100گرم', 'گوشیa2core', 'کاورa12', 'ارتا', 'hd710', 'نوت۱۰ردمی', 'یخچال7فوت', 'فانی', 'پیلینگ', 'کاورa10s', 'a72samsung', 'فندك', 't&g', 'دفالوسی', 'خالکوبی', 'کامبت', 'بیسیمی', 'captin', 'underpants', 'گوشیy8p', 'فولادی', 'سیمکش', 'nore', 'کازی', 'دستهps3', 'lga', 'ایرپاد۲', 'ارزانترین', 'فندگ', 'tu8', 'منور', 'زیلوت', 's32', 'کادوتولد', 'rpm', 'شکسته', 'ffp3', 'کوستیک', 'شلولر', 'g5', 'تلویزیون۳۲', 'انسان', 'گالکسی', 'قوتبال', 'اسپایدر', 'لبای', 'سواروسکی', 'میزاداری', 'طر', '700', 'دوازدهم', 'بانچمز', 'death', 'wish', 'گوشیm62', 'اسپيکر', 'شورلت', '۳۰۷۰', 'قابa52', 'گریمن', '2726', '۱۲۳۵', 'خیاطی۱۱۳۹', 'کارشده', '۵۲۰', 'دوچرخخ', 'باتري', 'داشبوردی', 'دیزنی', 'زیاد', 'مانیتور206', 'n11', 'مسنویی', 'درتهران', 'جاپیازی', 'آينه', '۱۲۱', 'سخنگو', 'گمری', 'عينک', '۴٫۴', 'تزعینات', 'سایز۲۰', 'اپل۱۲', 'rtx2060', 'کامپوتری', 'رنیکس', 'naviforce', 'سماوربرقی', 'گاردa31', 'یاعت', 'هوشی', 'گردبور', 'لاوان', 'ماساژر', 'xbax', 'سیگارت', 'تتون', 'iphone7', 'كيس', 'مکش', 'دشک', 'زوتی', 'آچارفرانسه', 'شناسی', '7پی', 'موستانگ', 'وکمد', '2گیگ', 'فلش64', 'زیره', 'ایرپاد2', 'برچسپ', 'bag', 'پروتیئن', 'دبالم', 'huaweu', 'پهلوی', 'شیایونی', 'tension', 'لمینیت', 'تردمیل\\u200c', 'rx560', 'دود', 'پارجه', 'ریزش', 'مگنوم', 'یون', 'قصه', 'شد', 'پانچی', 'پشمی', 'فوکس', 'یارقیه', 'پاببجی', 'اما', 'aladdin', 'درماهیل', 'ويديوپروژكتور', 'شبامی', 'فزهنگی', 'اتکلن', 'کرافیک', 'فوجی', 'bravo', 'رینبو', 'مانتوعقد', 'ویتا', 'غلاف', 'دیلایت', 'جنس', 'فرتوکار', 'وبرقی', 'مانیتور\\u200cپراید', 'cross', 'action', '۱۰لایت', 'کامپیتر', 'شون', 'هواویy9s', '12پرو', 'الوکس', 'الپسین', 'کاپوچینو', 'pioneer', 'محمدی', 'پاینر', 'لافار', 'ودستبند', 'همدزفری', 'كيسه', 'تلویزیون۵۰', 'قابa20', 'فروش', 'ضدریزش', 'موپک', 'پس', 'mi10tpro5', 'کاورnote', 'قلوه', 'hilti', 'اصول', 'چيني', 'کاورپاوربانک', 'inch', 'کفشدوزک', 'کاشان', 'پازل۲۰تیکهی', 'كتري', 'ظرفشويي', 'à72سامسونگ', '300', 'زنبیل', 'بیکینی', '12پرومکس', 'redmi9aدخترانه', 'کهنه', 'سونی۴', 'گوشیa', 'زردچوبه', 'سامسوگ', 'خدای', 'استخرتوپ', 'روغندان', 'وارنیش', 'میشلن', 'نوا5', 'یامسونگ', 'ذوب', 'کونسانگ', 'گازصفحه', 'وتاچ', 'آرامش', 'چویس', 'کولرسلولزی', 'کولر3500', 'باران', 'مانیتورماشین', 'پله', 'پروازی', '۶۲', 'سایدالجی', 'استون', 'سامسونگa30', 'm920', 'نوت9اس', 'p615', 'بیسم', 'intel', 'ارژنین', 'سامسونگa2', 'رول', 'رس', 'صحفه', 'بالنسیاگا', 'استوانه', 'پل', '۳۸', 'پرتقال', '\\u200fa۲۱', 'یونایتد', 'کتفی', 'سایز۲۶', 'ماينر', 'zte', 'تایتانیک', 'کاورa50', 'گی', 'نوازدی', 'edifice', 'ارت', '2800', 'فیریزر', 'فراگرنس', 'مانو', '212', 'mi9se', 'بروان', 'سامسونگa31', 'شیائومی۹', 'g402', 'جیت', '۰۰۵۰', 'پرسیل', '۵۲', 'نینی', 'شلوارراحتی', 'حیوان', 'z1', 'compact', '180', 'note9xiaomi', 'ردمی\\u200c', 'شیامئ', 'شیانومی', 'شباومی', 'م', 'دیو', 'دلبر', 'کشمش', 'gtx750', 'بابیلیس', '\\u200cاسپیکر', '5127', 'اینورترجوشکاری', 'لباسشويي', 'مایدیا', 'پرت', 'پروکسون', 'آمیزی', 'گلکسیj7prime', 'دن', 'کیشوت', 'شلوارکردی', 'xvision', 'مانیتورشیائومی', 'مدیتیشن', '۲نفره', 'pro7', 'آتشدان', 'دستپند', 'ec685', 'فلزیاب', 'اسنول', 'تریزا', 'مخلوت', 'محوطه', '36', 'چسبان', 'armor', 'a85', 'ترش', 'تیرکس', 'گوشیa022', 'ecm2015', 'مهاجر', 'برادران', 'اسکا', 'آروا3312', 'تقسیم', 'ابمبوه', 'fx506li', 'ناشین', 'mdy-11-ez', 'اکوا', 'mq', '5035', 'گوشیs', 'فودبال', 'اژرنین', 'کاپیوتر', 'ریز', 'پنتر', 'm۵۱', 'توان', 'fifa20', 'ایفون۱۲پرو', 'تنباکو', 'هوند', 'طاووس', 'بادیگاردی', 'مبدلmhl', 'خمیردندان', 'دادلیسان', 'ak33', 'h61', 'بازیفکری', 'سوسنی', 'ماشیم', 'ویواکیدز', 'دستدوزخانگی', 'ردمی۱۰', 'کنسولps5', '.p', 'a۲۰s', 'پونى', 'انسانى', 'converse', 'آرتا', 'ونوجوان', 'گوشیa21', 'ledبلوکی', 'ليزري', 'ویوا۲۶', 'ban', 'ساختن', 'آذین', 'بزرگسالان', 'کنسولpsp', 'خادار', 'گروهی', 'واقیت', 'ایفون۱۲پرومکس', 'اسکلتی', 'استارتی', 's10e', 'اسلامی', 'بلوثوث', 'دیزی', 'کوشتی', 'خوردو', 'پوکوایکس', 'ريش', 'ظرفیویی', 'هنفری', 'کالسه', 'مانع', 'کاسکت', 'ایرهاکی', 'ترکاز', 'کارتیه', '۲۴نفره', 'هدا', '۲٠۱۷', 'حاغطه', 'hd', 'benry', 'کاسترد', 'vivobook', 'm570', 'مزدا3', 'آیفول', 'تلوزین', 'سروالف', 'ترافل', 'ولکام', 'آنر9ایکس', 'sh254', 'مرسدس', 'كتاب', 'اسپرتکس', 'قطع', 'سامسونگm', 'هواویy7a', 'writer', 'team', 'group', 'delta', 'افزاینده', 'magic', 'harman', 'موجزه', 'جی5سامسونگ', 'وچنگ', 'حرارت', 'پولک', 'hz', 'اسپرسوسازنوا', 'بیتا', 'سماورزغالی', 'سرکار', 'هاپو', 'می10', 'mi11pro', 'اضافه', 'شامپوکلیر', 'قاشف', 'شيائومی', 'سرویس\\u200cآکروپال', '\\u200cقفسه', 'اونیکوما', 'قندخون', 'ايسوس', 'xiomi', 'کروزگازپژ۲۰۶', '\\u200cشامپو', 'فرشینه', 'ترحه', 'دوغزال', 'گلوتامین', 'پمپی', 'دیترون', 'دروازه\\u200cبانی', 'rx6800', 'چاقوژاپنی', 'دیچیتال', 'یمن', 'لاستيك', 'dc', 'پرقدرت', 'جلوسورن', 's8500', 'ژیا', 'دبواری', 'ابرقهرمان', 'z8', '4کاره', 'سپاهان', 'خدرشیدی', 'زامیفولیا', 'گوشیs21', 'اسکوت', 'گاردa71', 'ایفن۱۱طرح', 'ارشیا', 'ریس', '۱۴۴', 'شادیلون', 'بکهو', 'تایگر', 'آبرسانزردچوبه', 'گلکسیa51', 'وایفای', 'دبیلو', 'واژگان', 'تافل', 'البسه', 'یشمی', '3.2', 'وایب', 'می11اولترا', 'میدی', 'کورسیر', 'گوشیy7p', 'محلسی', 'شبک', 'اسنزیز', 'سونی۳۲', 'galacy', 'اسبابا', 'قصابی', 'پلستیشن4', 'بابرینگ', 'ملوس', 'متال', 'c5', 'jac', 'اعلانات', 'اچاربکس', 'زودپزtefal', 'شورتک', 'سینوهه', '850', 'چمپیونز', 'بتا', 'کیسه\\u200cای', 'پنچه', '10متری', 'فولیکا', 'جام', 'شلواراسلش', 'قابs6edge', 'ذارت', 'دستبندمسی', 'هيتر', 'سوبو', 'روتخنی', 'radmi', 'gplus', 'نوک', 'آچارهمه', 'شرکتی', 'hm', 'کفشیی', '30وات', 'میر', 'تومان', 'ملشین', 'stanley', 'شیائومی5', 'کولز', 'طلائی', 'تهریر', 'لیوانیخچال', 'تلویزیون۲۰', 'فانوسی', 'سامسون', 'آ۰۲اس', 'تفنگکلت', 'جینی', 'انجیر', 'گرافيك', 'گوپی', 'سنگ\\u200cرو', '۵g', 'swiss', 'army', 'فیزیک', 'هالیدی', 'h330', 'ترحیم', '۲۰۰', 'فاقد', 'پارابن', 'ponte', 'طبقاتی', 'poe', 'l', 'ولوم', 'کامییون', 'مدیسین', 'jebra', 'واقهی', 'اراک', 'پبپ', 'رم8است', 'مکانیک', 'سرکج', 'لاك', 'هارلی', 'آ۲۱اس', 'ویانا', 'استقلا', 'كوهنوردي', 'چیریک', 'چادی', 'کبک', 'دستیه', 'card', 'فارماتون', 'زانوبند', 'mr600', 'املا', 'هویج', 'هوود', 'ماسباب', 'جیشاک', 'فرتو', 'اخوانبرقی', '144hz', '۲تیکه', 'c1', 'جذب', 'یزدی', 'creed', 'ایفون۱۱', 'تصویه', 'اکوهمراه', 'دوتایی', 'نوشت', '6پلاس', 'اسکوپ', 'مچب', '۲۰کیلویی', 'فرداتیس', 'گلسی', 'سامسونگa8', 'آموس', 'احیل', 'خوکچل', 'پولوَشرت', 'کاربنی', '۹سی', 'مردان', 'cpe', 'وینستون', 'پستون', 'الجنان', 'گوشه', 'جشت', 'خوال', 'وسترمن', 'پارکورد', 'آی\\u200cپد', 'ساندوچ', 'تاللو', 'گاش', 'نازک', 'شاین', 'پودری', 'چاقوتیزکن', 'رزباکس', 'ساعت\\u200cهوشمند', 'مفصل', 'لوید', 'کرونوس', '۳۰۹۰', 'ـ۱۰', 'چی', 'پف', 'بالشتی', 'نووا7', 'bioaqua', 'uni', 'سار', 'تنگ', '33', 'بازکنی', 'ایرفون', 'جواربی', 'ماششین', 'كوله', 'یخچالدوقلو', 'داماد', 'cover', 'آشپزی', 'revolution', 'اکسو', 'مایستو', 'ادویل', 'شادی', 'لایو', 'شياومي', 'ماشیت', 'ویکتریا', 'اکولایزر', 'شیایومیredmi8a', 'ذوربین', 'تاریخ', 'دائمي', 'قفش', 's۹', 'يبوست', 'پیکاس', '5500', 'شومیزه', 'اربگ', 'اسپاتول', 'استاندارد', 'مدلa20s', 'پاریسمال', '۵۷۳۰', 'باقیمت', 'برچسل', 'tuscan', 'leather', 'neo', 'safari2', 'ازاک', 'فسیل', 'کونترلی', 'گوشیhtc', 'الشپرت', 'پرتابی', 'توتر', 'سیکر', 'فولر', 'مباشی۲۰۱۰', 'باجلیقس', 'سایز31', 'وگلدان', 'مانتوکوهنوردی', 'گران', 'القایی', 'دورخه', '208u', '703', 'ویلز', 'زودپزدوقلو', 'گوشی\\u200cنوکیا\\u200c۲۱۵', 'نوت۵', 'تراشکاری', 'ريزر', 'فتبال', 'a21sسامسونگ', 'کوبل', 'vortex', 'ii', 'لیراک', 'جنسیس', 'مدتربسته', 'او', 'آیپدپرو', 'اورلورد', 'سردری', 'رونالدو', 'تاپ13اینچی', 'دورپیچ', 'سامسونگa42', 'مزدا۳', 'ردد', 'leon', 'مرادنه', 'شنابا', 'دماغ', 'فول', 'icewatch', 'نارتب', 'تارو', 'گفش', 'دوکنتاکت', 'آلومینیومی', 'شلوارورزشی', 'انگشتر\\u200cشرف\\u200cشمس', 'هابusb', 'بولیز', 'آشپزخاته', 'قدي', 'صلاح', 'نیجا', 'ssd500', 'رومانس', 'بیبر', 'دریم', 'کچر', 'delmonti', '۵۷۴', 'افتابگیرپژو', 'پرژکتور100وات', 'مادام', 'کوکو', 'yf', 'kn95', '۷۱', 'نوارپرده', 'فولکس', 'تیسوس', 'fx506lu_hn141', '842', 'کیلس', 'هراس', 'عروسک\\u200cباربی', 'کمپرسورباد', 'متشین', 'کسرا', 'بخورپوست', '12v', '۸۰×۸۰', 'مگنا', 'ماست', 'چاق', 'پرژکتور۵۰', 'ساندر', 'گرانتی', 'راد', '20fe', 'هودي', 'ابdc', 'آنیل', 'a3300', 'پرادو', 'تفلون', 'کاپری', 'زرساپ', 'متوری۲۰', 'طلا.سنگ', 'لیگا', 'camery', 'شیائوکی', 'سریع', 'وخشن', 'at', 'گوشیs10', 'neutrogena', 'لول', 'طوقه', 'مانیتر', 'ps4اسلیم', 'کیمدی', 'کاوازاکی', 'وژن', 'z370', 'پست', 'موشواره', 'جامعه', 'کارمندی', 'ساسمونگ', '1967', 'ro', 's151', 'طبق۲۰۶', 'هویلی', 'g4400', 'کلسیم', 'غربیلک', 'ویلی', 'فیش', 'legion5', 'کریم', 'نوقره', 'بچهگانه', 'lavazza', 'هلیکپتر', 'واقیی', 'چشم\\u200cماژیکی', 'مقوا', 'ایپک', 'a۷', 'بورژوا', 'مایتابه', 'شهر', '۸۰', 'گازرومیزی', 'ریسینگ', 'silver', 'crest', 'هندزفذی', 'پداپیلاسیون', '۴۲۱۸', 'سامسونگa7', 'هیرو', 'آیفون۱۰', 'curren', 'pci', 'sata', 'port', '9ایکس', 'a21اس', 'ژاکاد', 'اباس', 'انر9x', 'شیاءومیmi10', 'a52سامسونگ', 'سوختی', 'هائوپن', 'شعاع', 'فدرالی', 'پرینتردار', 'طب', 'صنعت', 'شامپوی', 'رومادون', 'آپشن', 'اضافی', 'بچگونه', 'اپتیما', 'telionix', 'کملیون', 'rdmi9', '8802bt', 'ماشاژور', 'باژی', 'پودرچاقی', 'ultera', 'جیتیای', 'میعاد', 'مدیوم', '506', 'جرمگیر', 'واسه', 'nutella', 'ترسناک', 'میسانی', 'ساقادست', 'اکتیود', 'm71', 'اندرویید', 'nkte', 'وزنی', 'امپیلی', '۱۰۸', 'کاورماشین', 'پروفی', 'مايكروويو', 'شله', 'اتشنشانی', 'زو', 'لنزو', 'رونده', 'دستگوه', 'کوپا', 'رورورک', 's4', 'عبا', 'فروشی', 'malan', 'دحترانه', 'سجاده', '12bonite', 'فلیزی', '32اینچ', '\\u200cّوسایل\\u200cدوچرخه', 'باندپسیو', 'سواران', 'کوسونیک', 'iv', '۱۲pro', 'مدتور', 'کلوران', 'پاکش', 'ظرفشوئی', '\\u200c12', 'ظزفشویی', 'کاورy7a', 'کهعربا', 'گاستوربک', 'اغوشی', 'کیتکت', 'قوزک', 'اندیشه', '۴تایی', 'تبدیلhdmi', 'سامسوتگ', 'جوام', 'سرافن', 'ممنونم', 'a02اس', 'ريسه', 'تحلیل', 'تکنیکال', 'مورفی', 'فلکس', 'نماز', 'گاردpoco', 'm02s', 'میلیونی', '۳۰۰', 'امپراطور', 'dino', 'تلویزیون۶۵', 'بیک', 'رامپرپسرانه', 'که', 'ایپدمینی', 'atc', 'برایچبگرراستگرد', 'joyroom', 'جوئل', 'ضددرد', 'جیسون۲۰۱۵', 'دوج', 'سنپلاس', '11ultra', 'oral', 'توپ\\u200c', 'گلگسی', 'اکسل', 'کریتک', 'پوکس', 'شماق', 'مانیتور4k', 'puma', 'مدی', 'گينر', 'اندرویدباکس', 'سوکتa31', '3200', 'توپول', 'سونی4', 'کازئین', 'ابميوه', 'rtx3080', 'نوکیا۳۳۱۰', 'تترون', 'آمپیلی', 'دوخترکفشدوزکی', '3400', '\\u200cps4', 'تلویزیون49', 'تسبیح\\u200c', 'اوریاژ', 'flex', '۸ردمی', 'فلفلی', 'آرام', 'شرف', 'شويي', 'جامایع', 'کاموین', '5.5دوربین', 'پاوربانك', 'موایل', 'کمربمد', 'ساواج', 'کاورش', 'ep', 'بافندگی', 'jvc', 'نوییس', 'داغ', 'اپارتماني', 'ts', '1900', 'دوختر', 'آدنیوم', 'thrones', 'واترژل', 'نوتروجینا', 'باگوگان', 'آوا', 'الورا', 'earphones', 'رزرژمدادی', 'خت', 'تاکنو', 'سایز16', 'بزرگترین', 'الکتروژن', 'دخترانع', '10شیائومی', 'فتوشاپ', 'ایفون8', 'g9', 'فرگاز', 'دوچرخه\\u200c۱۶', 'ایفا', 'efr552', 'بانك', 'گنت', 'پرشرسوییچ', 'ولورین', 'اپیکر', 'چرخگوشت', 'گریس', 'سامسونگgalaxy', '6800xt', 'موبایلa01', 'قلبی', 'بندساعت', 'باربیکو', '۹s', 'ا۰۱', 'pmt', 'کولپد', 'کنترولی', 'خال', 'هوفون', 'کیف\\u200cزنانه', 'هیپ', 'کرسی', 'وچنگال،یونیک', 'روهمی', 'نیکو', 'واقییه', 'مردعنکبتی', 'آئورس', 'زخم', 'دوخترکفشگدوزکی', 'bbکرم', 'وانیا', 'سید', 'آ۵۰', '4در4', 'حرفه\\u200cای', 'تلومبه', 'رکنترلی', 'کدو', 'صینی', 'تنهایی', 'فیتو', 'فیک', 'فرزآهنگری', 'آرگون', 'کبریتی', 'کرج', 'گازي', 'عشوه', 'گلو', 'جاسیب', 'بالرین', 'نوپو', 'سینکهای', 'miner', 'النگویی', 'سیف', 'فضا', 'یار', 'تختی۲نفره', 'گوشیa22', 'طوفان', 'فرانسوا', 'انتقامجویان', 'اروسک', 'p66', 'ملون', 'آسمان', 'پستر', '\\u200fa۵۱', 'کمربند\\u200c', 'بارفبکی', 'ایکس۱۰', 'چگونه', 'avene', 'tap', 'سچمه', 'sports', 'استر', 'اکتیون', 'زکبارمصرف', 'sumsung', 'مردانهlaxemi', 'ممورب', 'یچخال', 'blazer', 'mid77', 'دوچرخهچرخ', 'فوندانت', 'سلز', 'له', 'levele', 'گاناسونیک', 'سارژی', 'کیف\\u200c', 'غذاسازfakir', 'پکج', 'دواری', 'لورج', 'اسبریت', 'honor9lite', 'هدر', 'نری', 'لاگوست', '\\u200fps۲', '5302', 'کمدنوزاد', 'استراتژیک', 'آدم', 'قابnote8', 'ههندزفری', 'ps1', '.processor', 'شاپ', 'ترلز', 'شیلئومی', 'شیاسومی', 'سریز', 'تشم', 'ساتور', 'تودوزی', 'پرورشی', 'عسباب', 'ساعته', 'استاین', 'گازوئیل', 'دوچرخه28', 'vertu', 'اسکرچر', 'ورنا', 'آیته', 'والتر', 'لگو۱۰۰', 'یلو', 'سايه', 'سینولکس', 'تعادل', 'xboxone', 'gt2', 'رده', 'سنی', 'تفنگشکاری', 'نگهدارنه', 'گاردگوشیa01طرح', 'قدیمی\\u200cتر', 'لنووe420', 'همزن\\u200cبرقی', 'موکاپ', 'p20پرو', 'کارینا', 'cintiq', 'مصنوعي', 'داد', 'اپل۱۱', 'سامسونگnot4', 'a51قاب', 'کروز', 'طبقع', 'پکو', 'کلا', '10870', '۲طبقه', 'جاروی', '950', 'دربل', 'سایوس', 'شلوار6', 'اکسیمترچویسمد', 'brother', 'ژلی', 'لوژنی', 'افراتاب', 'کنتل', 'گلیس', 'لاجیکت', 'گلوله', 'ظبت', 'تولیپس', 'طلا24عیار', 'redni9', '220', 'h3010', 'دهانشویه', 'اسپرتی', 'اتل', 'پورت', 'q6', 'جده', 'کاورpoco', 'ممولی', 'ماجراجویی', 'وای8', 'پرفکت', 'p205', 'g8s', 'زوپینی', 'xt91', '1800', 'استایلر', 'psp', '۱۸۶۵۰', '۱۶گیگ', 'w8961', 'لايت', 'دخترانه\\u200cسبک', 'تلکیزیون', 'پاپیونی', 'جادوگری', 'glx', 'نیشابور', 'walking', 'h1', '۱۹۵', 'لباسشیویی', 'چشم.بند', 'توتون', 'دراپ', 'گرند2', 'فروردین', 'پرايد', 'لاری', 'فرمیسک', 'پسرانه۹', 's9e', 'vaporesso', 'چادرنگین', 'سردست', 'pokom3', 'سوتين', '120', 'کلمپ', 'legend', 'ا30', 'سمسونگ', 'اکشگ', 'اسباب\\u200cبازی\\u200cدخترانه', 'کاورm31s', '۵۳۱۰', 'à52', 'ae-1300', 'مطبق', 'پیچک', 'windows', 'قطارفشنگ', '768', 'جیپ', 'ظبقه', 'عدد', 'نوت۴', 'b612', 'لاوازا', 'یونیت', 'سامسونگm51', 'قابگوشی', 'طبى', 'سامر', 'اشپورت', 'uhlsport', 'ligue', 'منزلی', 'گوددی', 'سروویس', 'دوالت', 'مونیتور', 'پلیموبیل', 'الوان', 'n3006', 'ارکو', 'سامسونگ.m', 'تفگ', 'تلوزیون۵۵', 'عاشقانه', 'طامسونگ', 'شیایوم', 'بوخور', 'پرزبلند', 'مگسک', 'a۳۰s', 'زمان', 'برگردان', 'نانوکسین', 'گاردa21s', 'پیور', 'فرانتا', 'ddr5', '1gig', 'صنام', 'شنلی', 'ابرقهرمانان', 'ناخدا', 'microsoft', 'تنوربرقی', 'چربیسوز', 'تشرت', 'باندپایونر', 'آئودی', 'سنتورقاب', 'مانطتور', 'عروشکی', 'پرایذ', 'لب\\u200cتاپ', 'گوشتnasa', 'آرنج', 'البو', '۶نفره', 'm11lite', 'blackberry', 'شایائومی', 'وپرده', 'می۱۰', 'ایرمکس720', 'پدنسوز', 'نابلو', '6aقاب', 'چادور', 'مزرعه', '۸۳۰', 'آبکی', 'وایزست', 'as20', 'میسماور', 'redmi۹', 'کن\\u200c', 'استی', 'لادر', 'اپتامیل', 'سلولزی۵', 'mi10lite5', 'ساچنه', 'گاردa21', 'آریشی', 'سلول', 'kw', '66', 'پادینا', 'مختلط', 'innsky', 'اودیه', 'ایگورا', 'هوشمنده', 'ایسام', '۱۹۸۴', 'gts2e', 'باند۷۱۸', 'کرگ', 'اسمان', 'کرازون', 'اسنیچرز', 'باسكول', 'سوارسکی', 'لیوانی', 'oltra', 'سندلی', 'بازی\\u200c\\u200cهای\\u200cایکس\\u200cباکس\\u200cوان', 'زنوتیک', 'آ۲۰', 'کونترولی', 'ترانسیلوانیا', 'آ۲۰اس', 'کیسبوکس', 'مدریتی', 'صندلی۲۰۶سفیدمشکی', 'نیکتا', 'سلسیوس', 'گوپرو', 'آدمیرال', 'jadra', 'شکشیر', 'فشارقوی', 'گلنودرما', 'grand', 'a11s', 'بارمان', 'رابل', 'مچ\\u200cبند', 'pelaz', 'مادربردddr3', 'پرودرما', 'x3کاور', 'ژِلاتین', 'ردمی۹c', 'نویزگیر', 'فروزش', 'نوت۹t', 'تلویزیونی', 'أشپزخلنه', 'سراکسوز', 'um425', 'نوکیا215', 'مرباخوری', 'لایتکس', 'نوت۹تی', 'سفت', 'بیو', 'ریگلاژی۲۰۶', 'تمکین', 'مالیاتی', 'َشارژی', 'وای۶', 'شیااومی', 'شمعدون', 'k556u', 'گوشی.a12', 'جی300', 'صندق', 'اینورتر1', 'hbs', '920', 'tone', 'infinim', 'ceration', 'مینی\\u200cکراس', 'اسلازم', 'اینوکتا', 'spalashاسپری', 'اسکیچیر', 'آیپد8', 'کنگر', 'diastar', 'automatic', 'تر', 'halo', 'lait', 'ساعت\\u200cمچی\\u200cدخترانه', 'g9پلاس', 'نوتی', 'کاتالوگ', 'شارج', 'ریمیکس', 'حلقه\\u200c', 'تبویزیون', 'ساات', 'آاگ', 'حالته', 'مستطیل', 'شهپر', 'قلمزنی', 'آروا2', 'شوما', 'disk', 'هشمند', 'ریسک', 'هیلی', 'میموری', 'هـواوی', 'gtr2e', 'کینکت', 'اسپیکرمیکروفون', 'ناکامیچی', 'lhg', 'اوجاق', 'بوسترترمز', 'رابیتس', 'king', 'ایمدین', '١٩٨٤', 'شیایچمی', 'سماورذغالی', 'آریا', 'ديجيتال', 'راتو', 'پولیشی', '۴۲', 'sp', 'اسپیکرtg', 'چهارکاره', 'گوشیسامسونگ', 'سولاریوم', 'یوزی', 'rebmi', 'غربلیک', 'اسپیگر', 'اینترنتل', 'سامسونگs7', 'حسن', 'یوسف', 'hol', 'u19', 'شیاومیmi10', 'دوچدخه', 'مسلسل', 'شیاُومی', 'پرسول2151', 'c۱', 'بوقلمو', 'تمبک', 'شیرانی', 'دهنه', 'عرض', 'چانگان', 'سفالگری', 'کرن', 'هایلوt15', 'بيل', 'کنتولي', 'جاکلید', 'باطوم', 'هواوویy7p', 'آرتلاک', 'هاردکامپیوتر', 'صبط', 'گوشیa50', 'y5perime2018', '\\u200cکامیون', 'more', 'nillkin', 'صفوی', '70d', 'miنوت', 'بیودرما', 'مايكروفر', 'ازبین', 'برنده', 'شلواک', 'ویتامینc', 'آپاژور', 'کاذب', 'انزو', 'شمال', '1تا2سال', 'fnaf', 'اسقلال', '۸سامسونگ', '×', 'هرمس', 'دنیای', 'اسپرت۲۰۶', 'ترح', 'deerma', 'خورو', 'آبارژور', 'گوشی.نوکیا', 'هوشممد', 'بتادین', 'دفیوزر', 'راهنمای', 'ضروری', 'كنسول', 'آرابشی', 'موانا', 'وخواب', 'طبق', 'فربهر', '۷۸', 'سشوارصنعتی', 'استدیو', 'ایفکن', 'ایفون7پلاس', 'فنیکس', 'پلای', 'عناب', 'ونزن', 'کیفمراسمی\\u200cدخترانه', 'شامپوهای', 'کفش\\u200cسالنی', 'جالوازم', 'یخچال\\u200c', 'zenfone', 'deluxe', '80', 'جك', 'ولوو', 'سامسونگa10خرگوشی', 'کیتو', 'a۲', 'ماکارف', 'بندآویز', 'جتک', 'ادیسونی', 'لمون', 'سوماتلین', 'جکر', 'انپیلی', 'اگسیژن', '۲متری', 'وای9s', 'شلوارکار', \"'\", 'مکبوک', '۲ترابایت', 'النگونقره', 'پرایویسی', 'موتورجاروبرقی', 'انسانی', 'vii', 'alton', 'حرم', 'فوراسلیم', 'تتلو', 'شیاوی', 'دیi9300', 'چراغوار', 'کیلیدی', 'barbie', 'دارث', 'ویدر', 'رینگ۲۰۷', 'لیبروکانت', 'جي', 'نوکیا3.4', 'پرینت', 'اینستاگرام', 'مکس۲۵۶', 'داشپرت', 'داروی', 'سايد', 'دمسیاه', 'استخوانی', 'زغدر', 'مبز', 'پیارم', 'a15', 'کابراتور', 'كالسكه', 'روکش\\u200cصندلی', 'کاورمبل', 'عصاي', 'میزعسلی', 'ram16', 's۲۰', 'steelseries', 'دابور', 'ماساژوربدن', 'هاتویلز', '1660ti', 'village', 'ایپچرت', 'کلاهک', 'zbook', 'xobx', 'زی', 'دربی', 'لچیک', 'بذرمیوه', '۲۰۶۰', 'خودرو۲۲۵', '۷۵r16', 'پدالی', 'ليزرى', 'سامسونگtab', 'دایناکورد', 'msata', 'رمینگتون', '2اینچ', 'نردانه', 'سروریس', '10700k', 'پنتل', 'شیائ', 'وهمزن', 'm2102j20sg', 'اس7', 'تافا', 'شیئومی', 'اسپرسوسازونیز', 'قاش', 'frequency', 'cosmetic', 'instrument', 'b9', 'عكس', 'چنهاست', 'تغنگ', 'دوچرحه', 'بوتوثی', 'k30', 'قاشوق', 'شيائومى', 'zyxel', 'اسفالت', 'میکروتیک', 'tech', 'استارباکس', 'کردنی', 'لولشک', 'هدفونgaming', '۱۳پارچه', 'سنیره', 'سفیدکننده', 'ویرپول', 'تلوریون', 'g4', 'معتمد', 'هللک', 'رند', '۶sپلاس', 'جعبهکادو', 'چادرماشین', 'نشگن', 'ظرفشوی', 'زوربای', 'یونانی', 'skullcandy', 'gf75', '340', 'دمپای', '۱۱۵', 'ایین', 'دادرسی', 'مدنی1', 'شئومی', 'نت8', 'کاپو', 'کاورmi10', 'مین', 'بندر', 'عباس', 'دستویی', '43اینچ', 'ddr3l', 'مضافتی', 'تلوزیون32', 'آ۷', 'پنچرگیری', 'paleyer', 'صبونخ', 'كيف', 'تارت', 'یوبه', 'کیورد', 'spigen', 'آگوستیک', 'مووی۲', 'ردیف', 'میرزا', 'عبد', 'قاشقچنگال', 'خزی', 'eastcool', 'اتد', 'نوکیا2.2', 'رفتار', 'تایلیور', 'شارژى', 'ـلباسشویی', 'جنگل', 'سری۶', 'دل5110', 'هوبه', 'کاردو', 'h2', '۴۳۳', 'ضرفشویی', 'شزم', 'اکواریون', '8شیائومی', 'm3دخترانه', 'وانs', 'قابa72', '5ولت', 'اسنیکلز', 'وسوتین', 'nokia150', 'نوره', 'فربزر', 'کیمینگ', 'المپیاد', 'a20sکاور\\u200cگوشی', '8xمدل', 'پیاسفور', 'salomon', 'کوالا', 'بلیارد', 'اندیکاتور', 'value', 'fpv', 'کلگیت', 'total', 'فلیپ', 'میگروفن', 'چسبدار', 'پاککن', 'تلویوزیون', 'سایز۲۴', 'ma', 'کوبی', 'بولوتوثی', 'اندرارمور', '20لیتری', 'ساسونگ', '8ردمی', 'مونوپد', 'messi', 'نرگس', 'انی', 'نوپ', 'اسلم', 'گیرین', 'ممری', 'وجوکر', 'مخملی', 'قابa31', 'گیمبال', 'مردانهِ', 'x540ma', 'گوشیredmi', 'شیاهومی', 'پاییmvm۱۱۰', 'لیزلیزک', 'کوبیده', 'ریباک', '۹۴۵۰', 'هتلی', 'plm09zm', 'لوازم\\u200cنظامی', 'نشرپرتقال', 'cd', 'کیوب', 'چاقوپروانه', 'خوشنویسی', 'كمد', 'دریلر', 'سنجد', 'شبو', 'کاورiphone', 'روآ', 'گوشیa۱۰', 'cooler', 'bosch', 'کلِور', 'گلکسیa20s', 'a7r', 'برسی', '1525bt', 'تافن', 'pocox3nfc', 'فریز', 'نضام', '۱۲۸۰', 'آلفا', 'tplink', 'gm', 'sencor', 'کاورa11', 'p20', 'hoblot', 'اس۸پلاس', 'تخفیف', 'مانیتور۲۴', 'تناب', 'کراسفیت', 'شورتمردانه', 'باشاسی', 'مینی\\u200cفرز', 'کیان', 'ملالعه', 'کاپشنمردانه', 'logitech', 'واید', 'هواویg730', 'سينك', 'باشگاه', 'سامسونگa۱۱', 'واقی', 'کتاب\\u200cمدیریت\\u200cزخم', 'مایلز', 'یونیور', 'dvr8', '٢', 'تلویزیون55', 'gliss', 'کرمی', 'قناسه', 'airpod2', 'a315', 'kilzone', 'بلیرینگ', 'تیگو۷', 'لباسسویی', 'باچ', 'airpad', 'رانی', '1s', 'تیرکمون', 'چپ', 'note4', 'متورسیکلت', 'keyboard', 'گریماس', 'سههارد', 'hohner', 'crossover', 'نولان', 's21+ultra', 'گلکسیs21', 'a31اس', 'ابلیمو', 'موبایله', 'اس۲۱', 'آییفون', 'آناناس', 'راف', 'چنگ', '۱۳۰', 'honor8x', 'طلقی', 'باردار', 'مادرلرد', 'قلمکار', 'nokia130', 'قاب\\u200ca11', 'هادر', 'پاوربانکlenyes', 'تامی', 'خرس۲متری', 'لاروس', 'خوشگل', 'سیبک', 'بوس', 'اتو\\u200cمو', 'بافی', 'توز', 'اسکوترپلاستیکی', 'شارژرباتری', '2060s', 'گرزی', 'نوکیا108', 'بادمجان', '!', 'ns200', 'شیتیومی', 'چایسازبوش', 'چدنی', 'کوتکس', 'ساعن', 'cem', 'شکوفه', 'سوییچی', 'سنبه', 'داشبرد', 'w8961n', 'پوستردیواری', 'خوریی', 'honor9a', 'زیردریایی', 'شوالیه', 'ماالشعیر', 'زنان', 'دجیتالی', '46', 'مزوتراپی', 'قیطران', 'لاستيك٢٠٥*١٦*٥٥', 'میزتحریر', 'هدفکن', 'ساندويچ', 'میزجلومبلی', 'النترل', '12promax', 'رانایی', 'هندزفزی', 'نک', '\\u200cلیزر', 'آگین', 'ایروکس', 'شهرزاد', 'میکدوفن', 'ملت', 'بازلایتر', 'دونار', 'y625دخترانه', 'فینش', 'کوانتم', 'فلاویل', 'رولوشن', '۷۵', 'prme', 'اکپیکر', '7.2', 'دیجتال', 's۸', 'گاندام', 'سونار', 'دورچشم', 'کفش\\u200cورزشی', 'مسافرتى', 'خروس', 'کامیپیوتر', 'می۱۱اولترا', 'گلدون', 'ماشین\\u200cظرفشویی', 'الم', 'وپیاز', 'پرایدی', 'بندپیاده', 'روباه', 'میزگیمینگ', 'ربکا', 'سنتری', 'لیتیومی', '3.7', 'ایکچرز', 'قابلمخ', 'اتصال', 'اکستنرال', 'کاسیوdw-5600', 'کاست', 'ضمانت', 'اسباز', 'پرشی', 'مجلسي', 'گیرپاناسونیک', 'mtp-1335d-2a2vdf', 'سوتیین', 'مکسید', 'دژ', 'رلوتوث', 'بكس', 'کپشن', 'بالماسکه', 'گرادرولکس', 'پتروس', 'جیتیا', '5017', 'سامسمنگ', 'سهان', '4چرخ', '۹اس', 'موبایب', 'فشارسمج', 'هوبلوت', 'bst', 'توسترنان', 'view', 'راددو', 'سشواربوش', 'شیامس', 'شانل', 'r9', 'enock', 'w06', 'مـونوپاد', 'داژنگ', 'مكس', 'ماسوره', 'شیردوش', 'شیا', '۳۴', 'هندفرى', 'فریزرصندوقی', 'میگروفون', 'dove', 'الشمس', 'لیوانچوبی', '0.3', 'الوچه', 'ogx', '۸پلاس', 'رووکارظرفشویی', 'ا۷۲', 'تراباند', 'مانتوی', 'نینتنتو', 'shock', 'سلنیوم', 'درصد', '6اس', 'فاب', 'سامیونگ', 'افشاری', 'مايكر', 'پیشدستی', 'تام', 'ترازودیجیتال', 'خوابدخترانه', 'یجچال', 'لايه', 'فیلا', 'off', 'گام', '\\u200fa۵۲', 'کارن', '1008', 'y9prime', 'لارا', 'ی\\u200c', 'میکرفن', 'یخچال\\u200cفریزر', 'وینکا', 'تلوزیو', 'بیسکوییت', 'السی', 'مانتوکتی', 'استدلر', 'مانتوبارداری', 'سماسونگ', 'وینتیج', 'ماشینکونترولی', '8plus', 'سایدlg', 'سه\\u200cبعدی', 'اسناپون', 'اباجور', 'لوکاتی', 'sorface', 'آ10', 'پکی', 'سارفون', 'ویگا', 'کاورa71', 'مدل58012', 'اسلایو', 'ووفر1500', 'عثب', 'ترانزیستور', 'هلدر', 'موتوراب', 'پمپ\\u200cاب', 'omen', 'گبود', 'بهشت', 'کاورپوکوm3', 'نایسر', 'دایسر', 'سبدنوزاد', 'مینگ', 'ارامپز', 'الکی', 'a10قاب', 'asud', 'گرینجر', 'مبین', 'وگاتی', 'کامپیدتر', 'بولگاری', 'آنر۹x', 'دزگیر', 'کلیپ', 'آدرس', 'دمپایه', 'کفکش۱', 'ips', 'فرهنگی', 'shang', 'مبایاn۱۰', '64گیگ', 'اسبایم', '۶لیتری', 'جووی', 'پوشه', 'برجسب', 'outlast', 'سمپاس', 'اینترتال', 'ساچی', 'هدقون', 'بیومیل', 'مجاسی', '3.2سیلیکون', 'انجیری', 'اسپیکرjbl', 'گوشیa۵۱', 'طي', '\\u200cpoco', 'پشمالو', 'سلیب', 'kodex', 'ویدیوپروژکتور', 'ماشین\\u200cبنز', 'ارد', 'سمولینا', 'سرویس۲۴', 'نفرهقاشق', 'نرپردازی', 'یورو4', 'a۳', 'تزعین', 'استخرشنا', 'استنت', 'فشن', 'ارزوم', 'نوس', 'پورو', 'لورینت', 'آسیکا', 'پرسپلیس', 'کوئل', 'اوه', 'تزینات', 'درختچه', 'میزسرو', 'اچمه', 'رم۶', 'آیفون۱۱', '۲۰۱۷', 'دزدگیرچیتا', 'نوا\\u200c۷', 'tv50', 'خر', 'a۷۱', 'مچى', 'کانت', 'خدا', 'اثر', 'شیامی\\u200cنوت', 'boمات', 'لنوا', '9900k', 'زولینگ', 'ماچا', 'موچی', 'کاچیران', 'کاورنوت', 'صلیان', 'k8', 'c9', 'بیمارستان', 'ایتالیا', '؟', 'غذایی', 'مرسا', 'adsl2', 'شامپاینی', 'شیامی۹', 'سایز۴', 'نوکیا۵', 'جوویروم', 'دیبا', 'مریم', 'جیمبی', 'فیردزه', 'ااسبابازی', 'headphone', 'اشنایدر', '5750', 'باکلاس', 'رونین', 'سامسونگa01core', 'ابر', 'سرخپوستی', 'اپلx', 'لباسمردعنکبوتی', 'ایفون۷', 'تسلایم', 'فلوئنس', 'رایشی', 'واتی', 'دمپاییحمام', 'آلتون', 'داتینگ', 'هواویy5', 'ecco', 'بایوشاک', 'ایسباکس', 'حرزامام', 'شیمی', 'میزنهارخوری', 'گوشیشیایومی', 's21fe', 'استتار', 'mario', 'بونیکورن', 'درماسیف', 'ژاپن', 'گیلاس', 'دوخترانه', 'ریدمی8a', 'کاکروویو', 'سگک', 'فرزهیتاچی', 'شامپوحیات', 'اتودی', 'kf94', 'دیتگاه', 'پلوپزتفال', 'لژ', 'آباژر', 'ترومام', 'verity', 'دریل0081', 'کاورj5', 'لاتی', 'gsr', 'میزکانپیوتر', 'ارگانیک', 'نوت9pro', 'تفنو', 'رباطیک', 'آیفون8', 'هاونک', 'نینتند', 'slx', 'توربوفن', 'بسیج', 'نوحوان', 'ماشینی۱۲متری', 'سینتندو', 'ایتیشن', '۲۰۸۰', 'دیوتیcp', 'جرخ', 'ننو', '۵.۱۱', 'جی۷', 'iphphone', 'تانگ', 'اگسترنال', 'نوزاددخترانه', 'خلی', 'آنر8x', 'گووشی', 'بلوتوز', '6412', 'اگوستیک', '9تی', 'مدادطراحی', 'لگونینجا\\u200cسبز', 'ps4slim', 'محکم', 'وای۵', 'گوشیx3', 'soskin', 'enchen', 'کولرپنجره', 'کوس', '1ترابایت', 'سلایم', 'مانيتور', 'موتوربچه', 'موتورمینی', 'لاستیگ', 'جلوپراید۱۴۱', 'ps۳', 'تنپوش', 'سامسونگa2s', 'وای6', 'گاوسندوق', 'nioh', 'لمس', 'میزکنسول', '۲۵۰', 'نینتدو', 'سامسونگa022', '1۲', 'بازیxbox', 'مسابقه', '8110', 'شلوارپارچه', 'آلو', 'نوزد', '4کیلویی', 'ضلعی', '710', 'جغد', 'پنکهusb', 'note10plus', 'اسپرسو\\u200cنوا', 'آیفون۱۲پرو', 'شیپوری', 'مقنعه', 'کربن', 'بایواکوا', 'marvel', 'react', 'موتور۲۰۰', '10پلاس', 'کانتر', 'دیلی', 'کننود', 'مویک', 'دخترامه', 'تقویتی', 'نفنگ', '۲۰۲۴bg', '10تی', 'لبان', 'ذکر', 'چاقوضامن', 'نیکونp1', 'شکرگزاری', 'راندابرن', '۱ترا', 'فولیک', 'پیکسر', 'دوچرخه۲۷', 'میزچوبی', 'ماشاژ', 'گلسj6plus', 'دخترتنه', '۱۰\\u200cپرو', 'قابلامه', '75اینچی', 'نایس', 'new', 'balance', 'x22', 'معکوس', 'پروگرامر', 'میکروکنترلر', 'ابزاررونیکس', 'سومو', 'شوبی', 'jordan', 'تلویزیون\\u200c', 'نت۱۰', 'بسیم', 'شیاو', 'خاطره', 'نیکس', 'کالر', 'بادى', 'لیفان۶۲۰', 'حججی', 'goot', 'شیائومیnote', 'اتا', 'honor10lite', '506iv', 'لایتر', 'ویتنامی', 'چگش', 'nova3e', 'اسنس', 'بیمکث', '2200', 'دکلر', 'ا۳۱', 'ژنیران', 'دیباگر', 'پی30', 'اپال', 'اصلایم', 'ایریدیوم', '9aشیائومی', 'یخچال۵فوت', 'موبایل5', 'سامسونگz', 'اسلایمشفاف', 'بایو', 'رنیگ', 'چمدون', 'فورتنایت', '۵فوت', 'قابلمع', 'حافظه128', 'لوارم', 'فیکس', 'نیلوفر', '8p', 'دلخواه', 'modir', '۴کاره', 'موبایلa51', 'شل', 'النگوهای', 'چمدانی', 'کاردی', 'هانر9', 'iphon', 'کاورگوشیa7', 'گوشیایفون', 'پروتين', 'النگو\\u200cطلا', 'پژو206', 'v', '1100', 'gt1xr', '50وات', 'لوح', 'دوربیت', '3130', 'دوقلودوو', 'a7c', 'سوپکس', 'فردوس', 'عینگ', 'کاورلبایشویی', 'تزازو', 'miband6', 'استودیو', 'وسایل\\u200cورزشی', 'آشپزخونه', 'شیامویy', '6700', 'ترغزو', 'شیام', 'دکوراتویو', 'گوشیm31s', 'rx6700xt', 'آیپدmini5', 'شاپو', 'آفلاین', 'بتدی', 'elf', 'مهدی', 'ايفون١٢', 'کاترپیلا', 'لگونینجاگو', '\\u200cاصل', 'گيوه', 'باکیفیت', '2در', 'تامپکس', 'compak', 'بتنی', 'lee', 'coopper', 'الویز', 'تشکچه', 'امینیوم', 'فسفات', 'نئونی', 'کاورشیایومی', 'رلی', 'ماتر', 'میت10', 'گبازی', 'دیکس', 'فستینا', 'مدلa01s', 'گاوی', 'spiderman', 'دودو', 'روس', 'nova3i', 'چنجه', 'بخچال', 'گرافیکrx570', 'very', 'sexy', 'جک\\u200c', 'مارال', 'عروسکجوجه', 'الکلترواستیل', 'مودی', 'لامپl', 'لوازم\\u200c', 'آیسس', 'فارما', 'پیتازژ', 't500', 'ددربین', 'پهواد', 'j700', 'آبشار', 'ایج', 'نوجاون', 'تاچ\\u200c', 'فيليپس', 'گارد۱۲پرومکس', 'tomb', 'rider', 'دوفره', 'باربب', 'آروا۲۵۰آمپر', 'طلا۱۸', 'شیامو', 'کفش\\u200cکودک', 'wing', 'redmii', 's145', 'موبایلa11', 'oceanus', 'وارز', 'برجی', 'مدادشمعی', '107', 'نصویری', 'بچگان', 'خاور', 'روبلید', '7a', 'مانتوواداری', 'زیرکابینتی', 'نوکیا150', 'سوم', 'زنانهازان', 'ه\\u200dشت', 'ام۳۱', 'بولوز', 'دروازهبانی', 'samsyng', 'دزدگیربوستر', 'گوشیm3', 'شیائوم', '۶اس', 'ورسای', '۷p', 'می۱۰تی', 'هاردadata', 'a10موبایل', 'وای7', 'گلکسیm31', 'انگشتذ', 'w', 'مموری۳۲', 'مونت', 'بلانک', '7ا', 'crazy', 'suv', 'ویدوزی', 'گازبچه', 'ماکسیمایی', '149', 'پایا', 'هوش', 'ورنی', 'گازس', '٣', 'کامپیوتریredded2', '5.3', 'گلرگازی', 'بلتوثی', 'سشوارجانسون', 'نزام', 'چايي', 'سد', 'حاره', '3170', 'کاتریچa305', 'تحیر', 'koluman', '165', 'ماتیکی', 'گتزی', 'سختی', 'لواز', 'لوازم\\u200cالتحریر', 'تراست', 'تفمگ', 'استایکس', 'شعر', '۹فوت', 'ultta', 'ریکوردر', 'بلیز', 'پاناسونبک', 'سیگارپیچ', 'skechers', 'دمپائی', 'اسکیمر', 'قشق', 'چتگال', 'ناحیه', 'مقدسه', 'هنسوری', 'بنلی250', 'سنا', 'کمربندبدنسازی', 'شارژر\\u200cاصلی\\u200cسامسونگ\\u200c2آمپر', 'اسلاگترا', 'رکوپال', 'وسفت', 'نمگیر', 'مز', 'گوساله', 'بخارسان', 'xaomi', 'ضامندار', 'and', 'دستکس', 'hr2713', 'ترمو', 'سوییچتا', 'اسبابب', 'مهسان', 'شامبو', 'سريتا', 'فلش۳۲سفید', 'سشواررکسون', 'ناین', 'ردمی9a', 'پنتک', 'تیلا', 'پیا', 'بتری', 'اومرون', 'll', '۱۲نفره', 'مهاجمان', 'دریای', 'بونسایی', 'عینک\\u200cآفتابی', '۱۹۷۶', 'آباژدر', 'توسکانی', 'ميكروسکوپ', 'اچینو', 'پوت', 'هومتو', 'کفش\\u200cکار', 'جی5', 'قتب', 'hvlpقیمت', 'زیبای', 'آباژوار', 'سرپیس', 'تریبولوس', 'اسکيت', 'گوشیساده', 'ااستیشن', 'ak66', 'ساذه', 'مانتواسپورت', 'فلستیشن', 'برتر', 'کاستون', 'وسه', 'مرداته', 'ایفون11', 'ميکروفون', 'amzifit', 'mjsxj05', 'cm', 'سایز14', 'ترتشی', 'نوت2', 'دوال', 'شوک', 'نوکیا۱۲۵', 'استیتش', 'دودین', 'balding', 'a52قاب', 'نوکیا۲', 'applewatch', 'بلوچی', 'نیدلینگ', 'هنشفری', 'جهانی', 'دانلود', 'onor', 'دمکنی', 'لگوصفحه', 'سایز۴۰', 'سانتریفیوژ', 'honor8', 'انگری', 'بردز', 'دانالو', 'فیلتردار', 'مبرد', 'میزونسول', 'اينه', 'توسترنوبل', '1077ti', 's7aege', 'باسیوس', '۹۷', 'north', 'face', 'لطفاموجود', 'باشد', 'گذافیک', 'روتنبرگر', 'کانودرما', 'shima', 'rapoo', 'چراغقوه', 'گلوکو', 'تسترباطری', 'ریجن', '3ps4', 'دومنو', 'كولرگازى', 'انکشتر', 'خشن', '\\u200cوبکم', 'موشک', '400', 'شیاومیnote9', 'گازو', 'لوفرا', '19تکه', 'سامسونگj500f', 'روباز', 'باندمیدرنج', 'هنذرفری', 'وذزشی', 'x¹0', '۳۱۰', 'note6pro', 'پرایوسی', 'لیکس', 'گزدنبند', 'النگوهندی', 'زومرود', 'کرشز', 'کاکائو', 'سلبریت', 'اسکاچی', 'نوکیا۱۰۶', 'قاب\\u200cگوشی', 't12', 'پودرحالت', 'opoo', 'ماكروويو', 'شوزبگ', 'محسولات', 'یووتوس', 'goodday', 'ldnoشارژر', 'ختنه', 'بادفندکی', 'باریی', 'دوقلودیپوینت', 'ماشینهای', 'پنجشیر', 'خوشرنگ', 'سان۵', 'wacom', 'سانسیلک', 'کنندل', 'cx', 'نازل', '861', 'چاقوسنتی', 'اس۲۰اف', 'بادیر', 'fe5', 'ارابه', '\\u200cps', 'كترى', 'قورى', 'سایز40', 'اکواریم', 'لاواتزا', 'band4', 'آفترون', '4gd6-gaming', 'نمایشنامه', 'میکرفون', 'پلوپزپارس', 'پراید141', 'کوشتکوب', 'کرب', 'استشین', 'پیرعلی', 'پاسپورت', 'ماشین\\u200cکنترلی', 'گیف', 'کارتps5', 'فلزى', 'پدسنباده', 'ا۱۰اس', 'یاتاقان', 'تایوانی۲۰۷', 'هندثفری', 'افرودl212', 'شوارک', 'هوشمنو', 'اسپرت۱۳۲', 'boise', 'assassin', \"'s\", 'خانوادگی', 'hoco', 'کیفps5', 'قابلمە', '144', '\\u200cجا', 'ترکمتر', 'g5400', 'جن', 'شیاومیmi', 'دونات', 'هنظفری', '۵،۵', 'پوکوف', 'ایفون۸', 'پیشرو', 'سبمی', 'آ32', 'کیچن', 'سبزه', 'سایونگ', 'اکسون', 'تفنگ\\u200cبادی\\u200cدیانا', 'ufc', 'پوکوx3پرو', 'یکساله', '7pro', 'slice', 'toaster', 'ککدک', 'بانگه', 'شیائومدو', 'مینوت', 'شیايومی', 'کتری\\u200cقوری', 'جکدار', '3رم', '۶سینی', 'جادونی', 'سامسکنگ', 'پنگیک', 'ماتمازل', 'ذره', 'اسکوبی', '\\u200fusb', '…', 'دوربسن', 'pes5', 'راسانناا', 'lady', 'کاورa70', 'شاعومی', 'بلوتوق', 'g5420', 'gm1', 'جیمیلای', 'فتدک', 'شاسخین', 'میزارن', 'سلعت', 'هوشمندهواوی', 'رعال', 'نوت۱۰pro', 'سکیت', 'کایلاس', 'چسبونک', 'اچارفرانسه', 'فنجتن', '۸گیگ', 'pa700', 'سکسن', '771', 'استنلي', 'رم۱۶', 'ردمی9کاور', '۱۰۸۰', '۸ترابایت', 'نصب', 'مبارز', 'phab', 'هوشمندsolar', 'شلوارنخی', 'jbl1', 'همتاز125', 'ایلا', '.پازل', 'غرز', 'vr', 'پاترول', 'لیسه', 'غوز', 'sport', 'استرانگ۱۱کیلویی', 'سوپرزنون', 'انتقام', 'جویان', 'رباط', 'سفیدطلایی', '6متری', 'ل', 'اکنه', 'دوربین6d', 'ویوا26', 'اسپیکرجیبی', 'جاكفشي', 'شیرعسل', 'اسکروگان', 'microphone', 'جوتور', 'لامپ\\u200cچراغ\\u200cقوه', 'گماشین', 'p39', 'اسکوشی', 'سامسونگ\\u200c', 'eee', 'شلواراسپرت', 'شگر', 'شاژی', 'bs_b12', 'الوازم', 'دورببن', 'پیج', 'میچا', 'دستگا', 'جامد5کیلویی', 'ایربادز', 'قربیلک', 'قالمه', 'زنگدار', 'دیفرانسیل', 'شیوآمی', 'سلف', '2se', 'پرپشت', '۱۰۰وات', 'گلسار', 'اونتوستر', 'بهشتیان', 'omeronm', 'kraken', '521', 'وسال', 'دورگردنی', 'a8plus', 'خوردکن', 'مانومترارگون', 'مولفکیس', 'ultea', 'lcdتبلت', 'تب3', 'بستنیساز', 'فیلیبس', 'برسادیس', 'ایفن۶', 'كم', 'چاقوحیدری', '۳۰۱', 'تسپیکر', 'ایفونse256', 'کویرتایر', 'دندانی', 'hadron', 'گردنبندو', 'گوشوارطلا', 'استرنال', 'گوشوره', '3050', 'بخارشوي', 'بلوتوتی', 'کومتای', 'eplan', 'رطب', 'بم', 'یخساز', 'گازب', '۱۲۰۰', 'مانتوشلوار', 'زوتر', 'وسایا', 'یخچال\\u200cکوچک', 'شاستی', 'x33نیو', 'دیوپنت', 'فبجت', 'رسم', 'سانویچ', 'ساحای', 'اکبر', 'عادی', '۳لایه', 'ایمیوه', 'پیتاژ', 'دوربن', 'سینگل', 'مستطیلی', 'لوزی', '۹۹۷۰', 'ایتچ', 'فرگازسینجر', 'قشنگ', 'شیامیی', 'عقربها', 'لباسشویب', 'a2core', 'مانیتور۲۰۶', 'نتروژینا', 'گـوسفند', 'تیرگی', 'کارنی', 'مبوه', 'qx', 'کمربندوکیف', 'ریکورد', 'novav', 'nubia', 'الاستار', '١١', 'باربيكيو', '\\u200cکن', 'کولرابی3500', 'محافظa12', 'شیائومی9', 'صندلی\\u200cگیمینگ', 'هلویی', 'شوميز', 'امگراند', 'سنعتی', 'پرک', 'حزر', 'شيامي', 'کمدتک', 'اسموک', 'ليف', 'یونولیت', 'پتوشویی', 'زایمان', 'ماژولار', 'نوبیا', 'ریبوک', 'hw16', 'ولچ', 'پیراهم', 'ببیسیم', 'zhihviwa', 'sg7', 'ریالی', 'مغناتیسی', '۱۰پلاس', 'میزاتو', 'صندلی۳۱۵', '۲ترا', 'ثور', 'داییناسور', 'دایناسر', 'شاعت', 'زینب', 'صفره', 'یکبارمصرف', 'تساب', 'قدرتمند', 'سم\\u200cپاش', 'خایلو', 'لوزم', 'html', 'css', 'فرگازی', 'فیکور', 'سگها', 'aoc', 'امکو', 'تورابیکا', 'پرادا', 'پيک', 'مرداهنی', 'رنجرر', 'غدای', 'پییس', '\\u200fxbox', 'تلویزیون۵۵', 'رومانسن', 'بلوپز', 'شلواردوچرخه', 'تلیوزیون', 'تيشرت', 'مانتوهای', 'دپوینت', 'prim', 'کلیددار', 'پلاسa10', 'آیفون7پلاس', 'هزارکاره', 'گوشیy7prime2018', 'امپیتر', 'لب.تاب', 'یخچتل', 'ام\\u200cپی', 'زنده', 'اینورمتر', 'اناکو', '4لیتری', 'اکوتر', 'nvr', 'hyper', 'fury', 'سوگا', 'فیریزبی', 'شیراللت', 'وای7p', 'ranger', 'راحتیمبل', 'چلنچ', 'اسوالت', 'شاخدار', 'دریلdca', 'آفتتب', 's20اولترا', 'پلت', 'جارد', 'سیم\\u200cکارت', '405توسن', 'خصیری', 'سوزپرایداصل', 'خریدبازی', 'هوامکانیکی', 'ابروسریتا', 'ایy8s', 'دارین', 'فابریانو', 'الر', 'سالمون', 'کوپترکنترولی', 'مدلwt', 'bonk', 'دستیند', 'کینتیکس', 'pvc', 'پیکابدار', '750ti', '\\u200cکارت', 'نت7', 'نم', 'ِکیت', 'کنند', '2110', 'پراژکتور', 'جاسوئیچی', 'تبلت8اینچ', 'honorplay', '۸پرو۱۲۸', 'هواوب', 'ویتاپی', 'geneve', 'اس۲۱سامسونگ', 'zf', 'نیمکت', 'م۳', 'شیرا', '۲۱اولترا', 'پراژاتور', 'هاسگی', 'آبگرم', 'لب\\u200cتاب\\u200cاپل', 'پستن', 'فلش۱۲۸', 'دکورایتو', 'مدل۵۲۰', 'دختران', 'باشکلات', 'ومیوی', 'پاورویندوز', 'honir', 'ترکبند', 'سامسونگs21', 'g630', 'واسلش', 'کنز', 'dw', 'ایربک', 'اتومسافرتی', 'گولرابی', 'اسپرت۴۰۵', 'asics', 'رمزدار', 'فیوگر', 'پنجره۴۰۵', 'iphome', 'جرثقیل', 'مانیتورacer', 'ایهون', 'طبيعي', 'مجسمه\\u200cهای', 'اردی', 'ryzan', '٢٦', 'موبایلs20ultra', 'بادکنکی', 'آنی', 'پرتاب', 'سامسونگm20', 'فلش128', '👗', 'nacon', '4بادودسته', 'زناننه', 'پیراشکی', 'ترنسفورمرز', 'استوپر', 'کنندال', 'سرهم', 'باباقوری', 'المینیوم', 'عمق', 'نوکیا7پلاس', 'پوشك', 'زینگو', '۶۰لیتری', 'تنورگازی', 'مارپله', 'v6', '10th', 'ویتامینd', 'نوکیا۱۵۰', 'گوشتگوب', 'نوکیل', 'گیلدا', 'شیائومیx3', 'ویرا', '۷۵۰', 'دخچرخه', 'a21sرم۶', '\\u200cdvr', 'اکلینی', 'v15', 'شیاومب', '#', 'جعجغه', 'آ۲', 'سعمک', 'نوت8pro', 'انترنال', 'زفیروس', 'تیروکمان', 'ول', 'n', 'viforce', 'برقی۱', 'بانداکتیو', 'رباطی', 'کاورلباسشویی', 'سامستک', 'ایj5', 'خودنیس', 'myd92', 'z2', 'رامپردخترانه', 'نهج', 'البلاغه', 'کولراسپیلت', 'هزارگری', 'وایولس', 'جوارب', 'لب\\u200cتاب', 's90', 'ایپیکر', 'کنترول', 'قلمکاری', 'گرمسار۳۵۰۰', 'دوچرچه', 'هارمونی', 'خود', 'ایستا', 'wonder', 'مـودم', '۷۱۰', 'مانتوچرم', 'star', 'اس۲', 'جعهبه', 'بیسکوئیت', 'شیدا', 'واکسن', 'pa', 'unique', 'اپل12', 'پرینتر1320', 'درهم', 'داینامین', 'پیشرفته', 'جهزیه', 'جایگزین', '12pro256', 'پارینه', 'هوشمن', 'ادم', 'silicone', 'شلواردم', 'چاقومیوه', 'shark3', 'برالیت', 'سونی۱', 'کاتیا', 'روما', 'ردراگون', 'اوره', 'بلکش', 'ایرپادسامسونگ', 'گوشیhuawei', 'فانکوپاپ', 'تاشو26', 'رود', 'سفیده', 'فتح', 'كتوني', '240hz', '۴رکاره', 'dvdرایترlg', 'ipohne', 'باربی\\u200cحامله', 'ودستگیره', 'دستى', 'لصلاح', 'اسراب', 'شییامی', 'طالعه', 'الیا', 'تلویزیون49اینچ', 'گرافیک3070', 'نوکس', 'بخواب', 'بازیps۵', 'آبچكان', 'گل\\u200cمصنوعی', 'هودب', 'strix', 'g512lv_p', 'gt1pro', 'يخ', 'گرافیک1650super', 'بایرن', 'پایدال', 'دندی', 'باطریs3', 'مامپیوتر', 'گت', 'omron', 'لاممپ', 'گلسa51', 'سایدسامسونگ', 'ایرمکس270', 'nintedo', 'پگ', 'رینک۱۴', 'ردمی\\u200cنوت', 'ùps', 'شیشه\\u200cای', 'نشاسته', 'چاغ', 'ددچرخه', 'طراح', 'پارویی', 'colors', 'هلوکیتی', 'mrw-200h', 'بدبینتون', 'starbucks', 'ساندیچ', 'آساک', 'کحریر', 'j۷2016عروسکی', 'تاپی', 'كباب', 'لاستک', 'جوهررنگ', 'سافلون', 'سامسنگs20', 'کنارسینک', 'pars', 'شمشیر\\u200cنینجا', 'حنذفری', 'پیرآهن', 'وشلوالک', 'ماوژل', 'شلوارزنانه', 'ایa70', 'اتیکت', 'گانودرنا', 'اسلابم', 'پاورباتک', 'لباس\\u200cزیر', 'شیت', 'hoawei', 'بخاد', 'عرقگیر', 'میکاسا', 'دستما', 'ماشه', 'رنجر', 'geforce', '\\u200cکتونی', 'خوام', 'bf', 'teronz', 'اسپروساز', 'lite5', 'ذرت', 'ادکلنo', 'میزناخن', 'ترمکوپل', 'نامزدی', 'پهباددوربین', 'هندیفری', 'بلوتوصی', 'دوقولو', 'گاوصندق', 'گوری', 'مکتور', 'مغنعه', 'pro9', 'بربینینگ', 'وکاسه', 'آیرپاد', 'مترچهار', 's+8', 'شیپور', 'هواداری', 'مرمری', 'لانجیز', 'ضریف', 'مپاربسته', 'اهرم', 'دبلیو', 'اسکلتون', 'آکواجوی', 'ld300', 'تبلتتبلت', 'پرينتر', 'دیتور', 'سرب', 'رختی', 'گوشی.a10', 'اسپیکزر', 'ویتارا', 'خودت', 'باش', 'سلوین', '۴۴۳۱', 'emp', 'گیمنینگ', 'موبایلa12', 'موکن', 'تیرکمان', 'لباشویی', 'لگوجنگ', 'irancell', 'playstation4', 'سوبشرت', 'کودگ', 'سوپرفلای', '۱۷۱', 'کامدوم', 'فاشیون', 'اینورتررونیکس', 'خزر1600', 'سادع', 'هاووایی', '12s', 'اسکوتز', 'اسکمی۱۴۰۰', 'بازیps3', 'آوران', 'رصب', 'مسافرتز', 'ok', 'e6plus', '۳۰۸۰', 'اورست', 'سورنتو', 'تایردوچرخه', '7.5', 'فزیزر', 'سبک', 'عمل', 'ستیزن', 'اسپروت', '5لایه', 'مدل808', 'tosan', 'زیرسیگاری', 'کازیین', 'فلاسك', 'stl_s100h_1avdf', 'شاخک', 'xdox', 'شکلری', '۵t', 'آ۱۰۰', 'kingstar', 'کافذ', 'عبای', 'تابستان', '9700k', 'گوشی\\u200ca7', '\\u200credmi7', 'یکسره', 'سابلیمیشن', 'سکه\\u200c', '٦٤', 'پتاس', 'واي', 'فاي', 'a۱۲s', 'تیلور', 'اپلاتور', 'صوفله', 'سانت', 'کننترلی', 'ییائومی', 'سرویس\\u200cخواب\\u200cنوجوان\\u200c', 'استادرم', 'کواد\\u200cکوبتر', 'نقرخ', 'wwe2k20', '650', 'کوادکوپر', 'y7praim2019', 'بولوتوث', 'وسایل\\u200cدوچرخه', 'zenwatch2', 'وصندلی', 'سامسونگa2core', '6d', 'a01کور', 'tefal', 'بلوتویی', 'g512lu', 'a5۲', 'لگودخترانه', 'گانهر', 'استچرز', 'seroes', 'لتیتود', '6996', '\\u200ca12', 'ادوکلان', 'wach', 'بازل', 'پاددی', 'دخترانخ', 'کایت', 'ویبره', 'نام', 'امیرحسین', 'چسپونکی', 'آتا', 'میزصندلی', 'اسنوکر', 'اریزو', 'لافاور', 'j7پرایم', 'کواترو', 'بارفیلکس', 'بازیایکس', 'دمپتیی', 'فروارد', 'بهتام', 'ادويه', 'اي', 'سقفی۱۵۰', 'چراغ\\u200cاسپرت\\u200cسمند', 'متورولا', 'آب۱۲', 'هولگرامی', 'y7pکاور', 'سامسگ', 'باچس', 'سوار', 'ریواطلایی', 'سامسونگs9', 'گوشوارا', 'آمپر', 'مضنوعی', 'چاهار', 'خردل', 'آ۳۱اس', 'پریموس', 'y8پی', 'سامزونگ', 'سفینه', 'جامدادي', 'صتعتی', 'شیوروال', '.a10', 'اسپیکز', 'شومیزمجلسی', 'مردعنكبوتي', 'اتوماساژور', 'دومیزی', 'x9', '8گیگ', 'وافلساز', 'شیائومي', 'مانتواسپرت', 'سامسونگتبلت', 'جی۳پرو', 'اپل۱۲مینی', 'اوکستیک', 'زست', 'cori', '٨a', 'سرویش', 'billie', 'eilish', 'wx92چندقیمته', 'وسوزن', 'اينورتر', '4125', 'خودکاری', 'باربیلیس', 'ba-294', 'گردنبندکارتیر', 'c10', 'یونیکرون', '265', 'آکستیک', 'هوزینگ', 'بوكس', 'آویزانی', 'التراسونیک', 'ساجمی', 'ویتانینc', 'بانکroom', 'رونیکسrp', 'ميكروفن', 'دورس', 'خشم', 'پیستیشن', 'تاگ', 'کوکاکولا', 'مادربردz490', 'rxracer', 'انر۸a', 'دورفرمان', 'باتیر', 'r545', 'نمره', 'چنکال', 'دولچه', 'گوستو', 'رازک', 'کالاسکه', 'پلاس3', 'پتونوزادی', 'پرورده', 'پرو13', '1846', 'سااعت', 'سامسونگ.a7', 'واکاکو', '3xl', 'ایقون', 'ماشمالو', 'گوشــواره', 'شمع۱۴', 'شیائومیwerbuds', 'a12sm', 'پربنتر', 'ماربل', 'شترمرغ', '۵۱۳۰', 'نجیر', 'm7', 'جاکتابی', 'سیگ', 'ساور', 'نوت9تی', 'چرح', 'وانتو', 'زیرتلوزیون', 'صنعتى', 'جگر', 'شاتون', 'سیکلت125', 'حسیری', 'کفش\\u200cاستوک', 'ونقشه', 'پنجم', 'کاخن', 'r810', 'مامنتو', 'طح', 'شلوار\\u200cجین\\u200cزنانه', 'گذیرایی', 'امانو', 'سایز12', 'کتري', '2972', 'سبری', 'nivea', 'فازمتردیجیتال', 'دوچرخه14', 'جوشكاري', 'کولراسپلیت', 'تسترنان', 'قالین', 'دانلوپ', 'چها', 'کاورa31', 'پرابد', 'اکتیپور', 'سشوهارفیلیپس', 'پاچنه', 'ینورتر', 'کوب۲۷سانتی', 'النپیا', 'mi9lite', 'سندرلا', 'صاره', 'مالت', 'هووای', 'سوتینp', 'شیایومیpoco', 'تراکتورسازی', 'فراسنه', 'مانیتور۲۷', 'ledفیلیپس', 'victoria', 'secret', 'kwc', 'peo', 'پارکور', 'pto', 'فرش12متری', 'رستگار', 'ونیل', 'ویژه', 'شیایومی۱۰', 'کرنوگراف', 'شيامى', 'نسل', 'لباس\\u200cنظامی', 'hub', 'پولیفت', 'ساعتef554', 'پودرپرسیل', 'کفپکش', 'کابل۳', 'خودنويس', 'یاقدار', 'اویر', 'unigue', 'چننگال', 'شفلرا', 'webcam', 'رادیانتور', '۲۰۲۱', 'gtx750ti', '43lj512v', '323', 'واتری', 'تخريب', 'زوبر', 'غضروف', 'نوکسا', 'پرتاپی', 'میبند۴', 'تیکی', 'گردنبنداستقلال', 'نوجوانان', 'shop', 'ممور', 'tnm', 'پشتي', 'کمپرس', 'چکس', 'طروف', 'pdr', 'se2020', 'افق', 'ردمی۹تی', 't.', 'شیاومیredmi9', 'آیفن11', 'ایفون11pro', 'گوشیy5', 'روفروشی', 'مسنوعی', '3500', 'شیایومی5', 'ریکای', 'لمصی', 'فيجت', 'لوسترکریستالی', 'بالنسیگا', 'دیفن', 'باخیا', 'بندموبایل', 'ضدزنگ', 'وهمراه', 'جامایعی', 'رمانیک', 'مونوکریستال', 'ذخترانه', 'اسپیکرخودرو', 'ارتباط', 'وکمان', '10لایت', 'گوشی\\u200cساده', 'بابجی', 'حسین', 'شیویامی', 'کاربراتور', 'ضدآب', 'مخصوصa71', 'گوشوارها', 'کد120', 'toy4', 'اویزچوبی', 'گلگلی', 'ویلا', 'اسپیکرمیکروفن', 'وستذن', 'تعخیری', 'کنسور', 'مادربرد\\u200c', 'شلوارسندبادی', 'نلویزیون', 'فلامنکو', 'تبلتt295', 'مرگ', 'موش', 'pixel', 'لیفه', '256گیگ', 'pixma', 'mg2440', 'کست', 'کبربت', 'امامی', 'ژلاتین', 'بوگا', 'میکروفنی', 'نقطه', 'کوتون', 'دستمزدطلا', 'اردون', 'گرانتیت', 'اكستنشن', 'انگشتز', 'آدمی', 'اسیدی', 'هشتa', 'لولاک', 'والن', 'لیزرتگ', 'ودختری', 'آلمان', 'دستکاه', 'شما', '۳۲۳', 'سباب', 'rx5600', 'روچرخه', 'آچارch', 'ریچارد', '۱۲۰۰شانه', 'پیجگوشتی', 'جوش۲۰۰آمپر', 'کمبربند', 'ابگرم', 'جنگستارگان', 'ماهارخوری', 'جا\\u200cکفشی', 'شمرون', 'سوتبن', 'کاورa30s', 'هنصفری', 'دولونگی', 'دزد', 'farcry5', 'ناهرخوری', 'رادیال', 'وکسون', 'ماشینپژو', 'کاکایو', 'شلوار\\u200c\\u200cلی', 'ahd', 'مگا', 'گیتاربچه', 'جلوپرتید', 'سیمjbl', 'قابj6پلاس', 'مترفلزی', 'هایپ', 'tu', 'شادژی', 'کپترلی', 'اینتی', 'لندکروز', 'لیو', 'لبنانی', 'دوچرخا', '4tra', 'آهن\\u200c', 'کاورصندلی', '9سی', '۷اینچ', 'سرخپوستي', 'فزیم', 'كاشي', 'نوترژينا', 'تب۳', 'تلويزیون', '۴۹اینچ', 'والنتینو', 'پزوطرح', 'قدیم', 'ساکونی', 'مانتوجلو', 'زمستانی', 'استیش', 'ارجینال', 'ایفو', 'ضداب', 'ودستشوئی', 'aventus', 'دوماهی', '\\u200cگل', 'چاقویی', 'حضور', 'غیاب', 'f1', 'bas', 'ضندلی', 'آیرون', 'توهیکا', 'چاقودار', 'آمونیاک', 'هسلایم', 'ماسوژوربرقی', 'شیامی9تی', 'ورژ', 'کارکرده', 'o4g6d', 'واستارت', 'دخترانهی', 'redmi9a', 'ا50', 'g83', 'فلاشتانک', 'صو', 'سامسونگnote', 'هموتو', 'بازیxbox360', 'چککش', 'کچوا', 'y9perim', 'ایفون6پلاس', 'تقنگ', '۳فاز', 'مـوتور', 'روغنی206تیپ2', 'داس', 'کبکاب', 'کااه', 'گپ', 'رینگ.لایت', 'زارا', 'چابهار', 'ترابایتی', 'فلشتانک', 'داربوکا', 'کمپرسود', 'هدفوح', 'اکسنت', 'پزاید', 'رویایی', 'پللاس', 'مایکوفر', 'gtc', 'لاستیک\\u200cپیکان', '515', 'رودستون', 'میکروسوئیچ', 'مایکرو', 'تبدییل', 'باتره', 'قعل', 'خودکاربیک', 'لوازم۲۰۶', 'دختزونه', 'مامتو', 'buck', 'زوپز', 'jacsaf', 'ماینیتور', 'giuo', 'مایک', 'قطهات', 'تخت\\u200cخاب', 'کمپرسوریخچال', 'نوجوانی', 'تردميل', 'حعبه', 'مورب', 'صفحع', 'اتوتفال', 'تایلامی', 'النگوه', 'jbl680', 'ماساژورسر', 'کاب', 'دیکراتیو', 'قوهپلیسp', '1650tuf', 'دسبتد', 'فاطمه', 'الکترود6010', 'چزخه', 'لنزسونی', 'كلور', 'دکچرخه', 'سرویط', 'ماووس', 'ی۷سال', 'إصلاح', 'میزتاشو', 'بوکسینگ', 'دانلکس', 'واترلس', 'کلاسنو', 'لنگر', 'a۷1', '۲۴۰هرتز', '۱۷اینچی', 'ultr', 'متنومتر', 'استپس', 'کارتور', 'نظلم', 'وینیل', 'رایکا', 'بلن', 'مگروفن', 'ترکی', 'ساعت\\u200c', '۴نفره', 'nokia5.3گارد', 'ماینکرافت', 'نزامی', 'اژران', 'acr38t', 'تنفگ', 'کرمچ', 'گاردشیائومی', 'عمران', 'چنکاره', 'کمدپارچه', 'ردمی۹a', 'کروماکی', 'میلگرد', 'قابa۱۰', 'doobis', 'جوان', 'کلاهگیس', 'ماسازور', 'درسی', 'کیبوزد', 'بي', 'مخکوب', 'کلیومترسه', 'کلیبسی', 'کده', 'ومانتو', '27سانتیمتر', 'تردمیا', 'فضانورد', '۱۹۱۹', 'لنزlenovo', '730', 'gnpower', 'شوينده', 'آلکوژن', 'هشک', 'اکسیتنشن', 'he-05', 'fossil', 'گلیسولید', 'سورنا', 'کتهب', 'سبدیخچال', 'امواج', 'اینترلود', 'ساپرت', 'چراغ\\u200cقوه', 'ماژول\\u200c', 'ls02', 'اكسيژن', 'لورریکات', 'invins', '\\u200cکیف', '۴۴', 'دیویست', 'شیاائومی', 'بون', 'کتابهای', 'جورج', 'اورل', 'a2019', 'اتمی', 'ا۱۱', 'شول', 'خروگوشیر', 'دوچرخهد', 'a۵', 'شلوارساسون', 'دارمردانه', 'خمیربازی', 'تومنی', 'الپیا', 'hp4520', 'ا10اس', 'انکر1271', '\\u200fa۷۱', 'قابsamsung', 'آنکر', 'گوشی\\u200cسامسونگ\\u200c', 'گلکسیa52', 'مردعنبوتی', 'ميوه', 'کانورس', '10.2', 'ا70', 'هرزگرد', 'ا52', 'آبیموه', 'شست', 'فيگور', 'اینویکتا', '31s', 'سعیدی', '460', 'qposket', 'نوکیا6.2', 'خنجری', 'دوتفره', 'دختدانه', 'هدلایتh1', 'سلمسونگ', 'دامپزشکی', 'فریمی', 'و\\u200cکنسول', 'نجوم', 'کروی', 'lx', 'ایرداتس', 'اکواریومsobo', 'استنسیل', 'ایسوزو', 'پیادهروی', 'آاک', 'شامپورنگ', 'ژاک', 'اندرل', 'کولررابی', 'آبي', 'x3قاب', 'کفش\\u200cاسپرت', 'پیژامه', 'ابي', 'tv107', 'دستبند\\u200c\\u200cدخترانه\\u200cچرم', 'رادیات', 'لوسترکودک', 'براوون', 'باطریcr2', 'سبکلت', 'صفرزن', 'anc', 'هوندای', 'جاینت', 'xtc', 'یونجه', 'استایلوس', 'سلفون', 'گیمر', '98پارچه', 'موناکو', 'مدل541', 'دینا', 'دستهxbox360', 'کلداماریس', 'بابیکیو', 'سدمسپنگ', 'air2se', 'آدیو', 'تحریب', 'ساطور', 'جلوپراید', 'زیورالات', 'کاورmi9', 'car', 'سروو', 'فااسکچای', 'kimiso', 'شروار', 'شورتی', 'یشم', 'سرتینا', 'کلاهدار', 'gto125', 'بتن\\u200c', 'کارگر', 'سادهلباس', 'نوته', 'دراسنا', 'ریشه', 'جلوبسته', 'ادرس', 'بوشهر', 'استندارایشی', 'روغت', 'میشن', 'اسپري', 'تاخيري', 'ويگا', 'لابورن', 'هودرو', 'فصل', '\\u200ca51', 'و\\u200cکاور', 'وود', 'لایک', 'سرمع', 'دودول', 'دلتیس', 'گربکس', 'هیماایا', '1۶', 'موبایلa02s', 'a۰۲', '10600', 'مارچوبه', 'لاستیک205', 'تروز', '۱۳سال', 'کنتورولی', 'صبابون', 'فریزردوو1077', 'سامسونگj', 'عقب۲۰۶', '۱۲۰هرتزی', 'تصويري', 'opo', '۲۶المپیا', 'ترزمه', 'مهرناخن', 'کفش.چرم.کلارک', 'a8133', 'میلکا', 'مماری', 'لاسنیک', 'تخایری', 'ip330', '8gram', '1tb', 'گوسونک', 'کاورa10', 'واليبال', 'جاکیلدی', 'نت10پلاس', '.دوچرخه', 'واقیعت', 'تلویزیون65', 'لاباسه', 'آچاربکس', 'فینگور', 'لکسوسی', 'قاشقی', '۵۵سونی', 'هلو', 'میبند5', 'leve', '۳۸۰', 'بخوروتصفیه', 'بی.وی.کی', 'استرخ', 'کانپیرتر', 'نفخ', 's10plus', 'فلش16', '15-ec1010nia', 'میبند', 'کَره', 'steam', 'فنیش', 'کوانتوم', '6x', 'الساوآنا', 'آبمبوه', 'پیار', 'زیوآلات', 'watch6', 'edifier', 'برزیلی', 'گیبرد', 'هلگرامیکفکفش', 'جاقلمی', 'مگنگ', 'یخچالی', '350', 'g+', 'لاک\\u200cپشت', 'حسنا', '۹۱۵', 'سيني', 'چاي', 'گیک', '.لباس', 'وریش', 'سریوس', '\\u200cمی\\u200cنوت10', 'پروژکتور۱۲وات', 'spider', 'تکسو', 'لیموناد', 'کمپوست', '2.5', 'شمهدان', 'لیاس', 'd9', 'مولنیکس', 'بارونی', 'noet', 'nutellw', 'هارد۱', 'ویلر', 'نوت10پلاس', 'تابستونی', 'dehs1052ub', 'باریکو', 'تیکن', 'پسه', 'ماه', 'apnمدلdr13', 'عروسکbaby', 'گوشیlg', 'فستول', '۱۸پازچه', 'مفرا', 'سیخ', 'لگویی', 'ابچک', 'شارژربرقی', '866', 'قابله', 'بلوزشلوار', 'سایهبان', 'کنترلین', 'چراقوه', 'شارژمان', 'ملانژ', 'کغش', 'kld', 'مانیتورخودرو', 'دسشوی', 'ديواري', 'p8lite', 'انگشنر', 'کاکایویی', 'لومینار', '۳کاره', 'جادوئی', 'زنبورک', 'dsl224', 'فریمن', 'آرکوپال۲۶پارچه', 'میزانو', 'بخارگر', 'بایترون', 'شارژسونی', 'چابکی', 'سلیمان', 'شومیزی', 'nm6509ll1ga81', 'پاپکو', 'ls', 'کنزا', 'کیبئرد', 'ابزلر', 'ترازو5', 'چاقوgerber', 'وموس', 'پاییونر', 'سونی5', 'خیابانی', 'دسری', 'گیممینگ', 'اکسیمتری', 'هواوي', '10اسب', 'پرفکس', 'j7prim', 'دوپلی', 'سونی2', 'استریو', 'شیلمی', 'سنبادی', 'ويكتوريا', 'سكرت', 'خلیجی', 'چدم', 'nokia210', 'وپذیرایی', 'هلال', 'هلقه', 'بلوئر', 'اوامجی', 'ونگر', 'بوغلمون', 'مجیستا', 'مانیتورشیاومی', 'تابلودکوراتیک', 'بارز205', 'کاتuv', 'type_c', 'm28w', 'باکسچ', 'مازراتی', 'کتریوقوری', 'کلیدایران', '۲۰۶تیپ۲', 'دایکو', 'آرژانتین', 'شلگیر', 'سمندسورن', 'بندنوزاد', 'میتسوبیشی', 'یلوز', 'ساج', 'دستگا\\u200cتتو', 'ام110', '۲۰\\u200c', '\\u200cپلاستیکی', 'تابستونه', 'کفشدورکی', 'نانیآا', 'نوروا', 'جقجقه', 'توفنگه', 'دمولنتی', 'نیود', 'نهنگ', 'نوکیا6.1', '2933', 'mhz', '۵۸۰', 'مردانع', 'ریتگ', 'اطلاح', 'مفتول', 'پلیااستیشن', 'barcelona', 'ومیزعسلی', '2210', '.m21', 'چینو', 'فلورا', 'افتابگیر', 'خودرواردی', 'نهار', 'وفکری', 'سیزلر', 'kemei', 'مايع', 'حرارتیا', 'کابینت320', '1040', 'زنگوله', 'آبنمای', 'money', 'heist', 'فنری10', 'سابت', 'سازه', '۱۷۰', 'منیون', 'هتفن', 'rolx', 'تیزی', 'كرم', 'بخورسرد', 'انتشارات', 'captain', 'america', 'لافرر', 'گرانولا', '٥', 'هودle', 'گژنپین', 'پرفیل', 'کولرگازی\\u200cال\\u200cجی', 'عالی', 'نسب', 'کولسی', 'سپرجلواس', 'بذرخیار', '775', 'هدلون', 'گرافیک۵۸۰', 'پرواز', 'سرامیکبر', 'کلویی', 'امپری', 'اوردر', '١۰', 'تاجگذاری', 'لگونظامی\\u200cبامسلسل\\u200cمقلوی', 'طرف', 'وارمریظرف', 'gts2', 'تکنفره', 'ظرفشیویی', 'چکشیه', 'تاویزیون\\u200cال\\u200cجی', 'لباسزیر', 'اینترنت', 'آریشگری', 'لاین', 'ش', 'اسپیینر', 'کرد', 'فرغون', 'تخلیه', 'victorinox', 'درپیچبند', 'لامپ۲۸وات', 'هریس', 'بذرخشخاش', 'محافض', 'تابلونئون', 'ونیم', 'هوشمندارو', 'دیسپانسر', 'مترپروسکیتmt-2018', 'amozfit', 'تابلومدرن', 'gift', 'کراست', '5فوت', 'sn', '10w', 'جنبی', 'رکوردر', 'چاقوتیز', 'سوسیس', 'ژورنال', 'کرده', 'دوخترونه', 'کیف\\u200cمدرسه', 'بلبرنگ', 'فرتوکارسینجر', 'پیستولت', 'شكر', 'سورمه', 'سریse', 'قابa50', 'ببند', 'ناربن', 'سویتچ', 'آیفون5', 'ایفون12فیک', 'کامپیوترشیائومی', '8قاب', 'علمی', 'هاندی', 'cololight', 'ایکی', ']', 'آ20اس', 'a51طرح', 'چهرخونه', 'فنجت', 'خواهر', 'برادی', 'آ01', 'کمپر', 'کاردوچنگال', 'لرنج', 'پسرانه۱', 'مدادابرو', 'آ20', 'هانر9x', 'گاردمخصوص', 'آبفون', 'e5577', '12\\u200c', 'ابیموه', 'فردولین', 'apple12', '12پرومکس256', '۴۵لیتری', 'vivo', 'x540', 'mb', 'فوتبار', 'مولپد', 'سفیدو', 'ا71', 'شیر\\u200cآلات', 'آبمیوه\\u200cگیری', '\\u200cایکس', 'کیلپس', 'کامناوا', 'iphobe', 'شئایومی9', '۱۳وانت', 'رکاب405', 'رُبات', 'ice', 'انیل', 'آيفون١٢', '۱۰۲', 'earphone', 'mop', 'کومکس', 'intense', '۹\\u200cپرو', 'ایستیشن', 'فاکوم', 'اشتوتزن', 'روشويي', 'دوطرفه', 'دوسه', 'بخاردار', 'فیگر', 'آزراپمپ', 'ایربراش', 'میناگاری', 'اشکی', 'دوقلوی', 'میزبرنجی', 'گوشی۳۳۱۰', 'کولیوس', 'هویندای', '4900', 'میکرومترqlr', 'a6پلاس', 'کمپلکس', 'ماریو', 'مارانتا', 'غوزبند', 'زنون۴۰۵', 'لوسیدوم', 'آ72', 'اآمبولانس', 'رابزر', 'مگنتا', 'کرچر', 'قاب360j5', 'بیدار', 'هدمیک', 'پلاسx10', 'نءون', 'لامپuv', 'اسنووا', 'کاورk20', 'ژارشی', 'ساختاسلایم', '۰۲', 'a13', 'میکرو\\u200cکنترلر', 'توکاربرقی', 'موبیال', 'بچہ', 'هیبریدی', 'فارسالی', 'مکانیزم', '۵کیلویی', 'امریکن', 'توریست', 'طولی', 'فلوردو', 'کابینتشیر', 'ربانی', 'موبایلa02', 'تزئیناتی', 'box100', 'جغدی', 'ryzen5', 'اتگشتی', 'وصندل', 'یوموش', 'لوسترشاخه', 'کن\\u200cبرقی', 'لوازمات', 'چراغ۲۰۶', 'بلوم', '93', 'نقاشى', 'شفت', 'اکوارسوم', 'درماگور', 'e190', 'کمپرسر', 'اسلایم1کیلویی', 'گیم\\u200cدستی', 'پاذل', 'ناپ', 'قلاذه', 'ps4دسته', '\\u200c۲۴', '۶۰×۶۰', 'دینار', 'سویچی', 'ددگیر', 'آ21', 'کاراجا', 'تراهی', 'سینکگ', 'c5pro', 'حشر', 'گوشی.شیایومی', 'شا', 'رژی', 'فلش8', 'a2s', 'نونو', 'گوشیa21سامسونگ', 'میکروفن\\u200cبیسیم\\u200c', 'وشرت', 'banf', 'گوي', 'موزيکال', 'مانتویقه', 'مینی5', 'جیپاس', 'جغجه', 'بابسفنجی', 'r134', 'دستكش', 'درمشهد', 'هیالورونیک', 'پرنیان', '۱۲۱۲', 'ازارو', 'دوگره', '11promax', 'np', 'l17', '3.7v', 'li', 'ion', 'a6plus', 'فاکتور', 'شوامی', 'mi11x', 'کاورxz', 'وصنعت', 'نایلونی', 'ربایی', 'b30', 'اویزدراتاق', 'استندجواهرات', 'avestin', 'لک', 'اوستین', 'مهرآسا', 'شارشی', 'روبات', 'دکراتیو', 'بجگانه', 'فیگورهای', 'فیکساتور', 'میستار', 'note8proکیف', 'تزییناتی', 'تتوموقت', 'مپایی', 'آداک', 'قصری', 'رفلکتور', 'وسکات', 'والکویست', 'اسپرسوسازنوآ', 'مچتور', 'آرخام', 'نایت', 'گولد', 'کاربراتوری', '99', 'لاشه', 'سوسک', 'تراحی', 'ستشن', 'شدن', 'کمراقایان', 'playstation2', 'رولی', 'gtx1070', 'مکمکل', 'اولتر', 'j1', '۱۸۰۰', 'گوگرد', 'معدنی', 'بخوا', 'یوکا', 'لباس\\u200cمرد\\u200cعنکبوتی\\u200c', 'فقط', 'rays', 'وشورت', 'ipega', 'چادربازی', '\\u200cباربی', 'گوشی\\u200cشیامی', 'هاردن', 'لباس\\u200c\\u200cنظامی', 'نوکیا۳', 'ملکی', 'بند۴', 'فلیتر', 'موبایلa10s', '860', 'وپدال', 'یوفی', 'caterpillar', 'مانتوبهاره', 'ایکوتر', 'موتو', 'ابزارصافکاری', 'دوسوپاپ', 'رویی', 'آ۰۲', 'محکrdm1301b3', 'قاب\\u200cموبایل\\u200cسامسونگa51دخترانه', 'اسنایپر', 'بیلچه', 'عمودی', 'برنچی', 'شیرجوش', 'دستع', 'چمدونی', 'e6پلاس', 'کاستر', 'میزکودک', 'گدشی', 'کارمن', 'سندیگو', 'ben', 'چیکونوزاد', 'فلاشر', 'موزرآلمانی', 'وکیم', 'شانتون', 'آریل', 'گرانیتا', 'کهدو', 'rrdmi', 'محضری', 'واکسون', 'ا۵۲', 'یوروویتال', 'evet', '32گیگ', 'sandisk', 'تالبوت', 'وای۸پی', 'iphone7plus', 'وای8پی', 'ققالپاق', 'واتسون', 'مونوپولی', 'asrock', 'چارو', 'elite', 'سامسنگa10s', 'اکواروم', 'شلوارراحتی\\u200cزنانه', 'یخی', 'لیزرحرارتی', 'پتزل', 'پیراهن\\u200cمردانه', 'میکر', 'سینتی', 'سایزر', 'چهارخانه', 'خوپرو', 'گلدکیش', 'تقدیر', 'molfix', 'بونیتو۱۲', 'اسکیل', 'کوآد', 'اینگل', 'میترنج', 'sb', 'medieval', 'کاورs8', 'زنیت', '\\u200cچراغ\\u200cدوچرخه', '6.1', 'دستیزنانه', '۳۵۷۰', 'شیاعویی', 'ساعت.کاسیو', 'باباپارت', 'شيايومى', 'mebashi', 'امیوه', 'پرچسب', '26پارچه', 'بایودرما', 'اسپبکر', 'ترمومدلq2n', 'رئیس', 'چخچال', 'بزق', '60266', 'هوشمنداپل\\u200cواچ\\u200c', 'جهار', 'dsl124', 'بارلند', 'پنير', 'ترازوشیایومی', 'american', 'english', 'file', 'محصولا', 'دیاق', 'خیاری', 'نیتروژینا', 'کامپزوتر', 'e2', 'سربا', 'فرتوکارگازوبرق', 'پبچ', 'ماکرو', 'ترازومحک', 'حوخون', 'بوکش', 'مال', 'زیرمردانه', 'سامسونگ71', 'هیلو', 'راگ', 'دوک', 'apoll', 'گرانیکی', 'دخترانه۳۸', 'ریال', 'زامن', 'اسپگیر', 'پاورپوینت', 'ووکس', 'مکت', 'vapormax', 'هیرتامین', 'بنز2015', 'ترازویه', 'ریمگ', 'فالوده', '6975', 'انیمیشن', 'كارواش', 'صنعتي', 'پرتقالی', 'اینونتور', 'w26', 'توکرکی', 'لنزایفون', 'جنسیگ', 'پیچگوشتی7عددی', 'سونی3', 'لایتنر', 'فیلیپ', 'عنگشتر', 'liesel', 'آژیر', 'وپیشدستی', 'ایمیدین', 'pocox۳', 'toskani', 'cosmetics', 'ویفرر', 'دعوت', 'mgs', 'oakley', 'استنشن', 'انگشترگربه', 'صورتvgr', 'axe', 'کینگاستار', '۱۰۰میلی', 'جلومبلی', 'gtx1050ti', 'ار۱۳۴', 'کوکالو', 'دیجیتالusb', 'b50', 'گوزبند', 'اینورار', 'invorter', 'fp362', 'صمند', 'eviderm', 'چیز', 'دوچین', 'بنکه', 'surker', 'میزکامپوتر', 'dwk-8140', '620', 'رولز', 'رویس', 'اتوپارس', 'سشواررزین', 'نوا128', 'جامپر', 'ding', 'ling', 'موتوریرق', 'gopro', '9se', '64گيگ', 'لئو', 'تند', 'xboz', 'فشرده', 'پمپ\\u200cآب', 'استابیلو', 'واسہ', 'bi', 'دایناسو', 'کنتراست', 'کوروش', 'نیننتندو', 'ایموشن', 'ککنده', 'لورنزا', 'تینتندو', 'اسکوتذ', 'قالی', 'نینتیدو', 'رومانتیک', 'vico', 'میزسه', 'airbuds', 'کیفزنانه', 'دونفوه', 'گرمی150اسلایم', 'عسکیت', 'a70s', 'cvvt', 'هیچ', 't۵۱', 'کلکسیون', 'تيلر', 'نئوپرن', 'sq', 'high', 'هارددیسک', 'لوستراشپزخانه', 'رومانزو', 'رنگساژ', 'الکتروپیک', '996', 'مدلa12', 'لایع', '۴چرخ', '۹۸', 'اشپزخونه', 'سایه\\u200cپاش', 'گوشیnote8pro', 'فلتسك', '۱۶۰۰', 'شیبا', 'دمپر', 'diesel', '8سامسونگ', 'لا', 'لیک', 'مشگی', 'نویر', 'ماندوم', 'پیراهننخی', 'ایسوسr521jb', 'ej160', 'هاردhp', 'موتورسیکلتns200', 'ماستژ', 'سوئیچی', 'ماشیین', 'پنجاه', 'کاندون', 'افغانی', 'سایز۱۶', 'فیلپیس', 'آفر', 'وتخت', 'سپیکر', 'نوکبا', 'آلاات', 'ak10', 'موودم', 'i8', 'لارن', 'درساینا', 'دختراگه', 'ژیله', 'زعفرانی', 'هاور', 'هاکی', 'فریزری', 'اابرز5959', 'هولدرتبلت', 'پولوشی', 'سلامتی', 'جدیددفکری', 'بکس۲۴پارچه', 'xxfake', 'xxfake', 'xxfake', 'xxfake', 'xxfake'],[False, True]]"
            ]
          },
          "metadata": {},
          "execution_count": 6
        }
      ]
    },
    {
      "cell_type": "markdown",
      "metadata": {
        "id": "uAnsN1C1eFIJ"
      },
      "source": [
        "## nlp trasnforms pipeline"
      ]
    },
    {
      "cell_type": "code",
      "metadata": {
        "id": "t6DGASyJl8Yp"
      },
      "source": [
        "class nlp_pipeline:\n",
        "    def __init__(self, vocab,):\n",
        "        self.vocab = vocab\n",
        "        self.tok = SpacyTokenizer(lang='fa')\n",
        "        self.num = Numericalize(vocab=self.vocab)\n",
        "\n",
        "    def encode(self,x):\n",
        "        x = utils._normalize_text(x)\n",
        "        x = tokenize1(x, self.tok)\n",
        "        x = self.num.encodes(x)\n",
        "        return x\n",
        "\n",
        "    def decode(self,x):\n",
        "        x = self.num.decodes(x)\n",
        "        x = \" \".join(x)\n",
        "        return x"
      ],
      "execution_count": null,
      "outputs": []
    },
    {
      "cell_type": "code",
      "metadata": {
        "id": "xaM1KxBB3fT5"
      },
      "source": [
        "drop_cols =[\"Unnamed: 0\",\n",
        "            \"product_showed\",\n",
        "            \"DAY(datetime)\",\n",
        "            \"HOUR(datetime)\",\n",
        "            \"IS_WEEKEND(datetime)\",\n",
        "            \"MINUTE(datetime)\",\n",
        "            \"MONTH(datetime)\",\n",
        "            \"WEEKDAY(datetime)\",\n",
        "            \"YEAR(datetime)\",\n",
        "            \"_id\"]\n",
        "\n",
        "cont_cols = [\"rank\",\n",
        "             \"NUM_WORDS(raw_query)\",\n",
        "             \"page\",\n",
        "             \"products.sellers_count\",\n",
        "             \"products.availabilty_ratio\",\n",
        "             \"products.mean_all_price\",\n",
        "             \"products.max_all_price\",\n",
        "             \"products.min_all_price\",\n",
        "             \"products.std_all_price\",\n",
        "             \"products.skew_all_price\",\n",
        "             \"products.mean_available_price\",\n",
        "             \"products.max_available_price\",\n",
        "             \"products.min_available_price\",\n",
        "             \"products.std_available_price\",\n",
        "             \"products.skew_available_price\",\n",
        "             \"products.COUNT(clicked_merged)\",\n",
        "             \"products.PERCENT_TRUE(clicked_merged.is_clicked)\",\n",
        "             \"products.NUM_WORDS(product_name_normalized)\"]\n",
        "\n",
        "cat_cols = ['products.DAY(first_added_date)',\n",
        "            'products.DAY(last_added_date)',\n",
        "            'products.HOUR(first_added_date)',\n",
        "            'products.HOUR(last_added_date)',\n",
        "            'products.IS_WEEKEND(first_added_date)',\n",
        "            'products.IS_WEEKEND(last_added_date)',\n",
        "            'products.MINUTE(first_added_date)',\n",
        "            'products.MINUTE(last_added_date)',\n",
        "            'products.MONTH(first_added_date)',\n",
        "            'products.MONTH(last_added_date)',\n",
        "            'products.WEEKDAY(first_added_date)',\n",
        "            'products.WEEKDAY(last_added_date)',\n",
        "            'products.YEAR(first_added_date)',\n",
        "            'products.YEAR(last_added_date)']\n",
        "\n",
        "text_col = ['raw_query',\n",
        "            'products.category_name',\n",
        "            'products.product_name_normalized',]\n",
        "\n",
        "target = 'is_clicked'"
      ],
      "execution_count": null,
      "outputs": []
    },
    {
      "cell_type": "code",
      "metadata": {
        "colab": {
          "base_uri": "https://localhost:8080/",
          "height": 588
        },
        "id": "2xPVyDgoEQOS",
        "outputId": "34b15342-b934-46f6-b317-f2ff5ba4e465"
      },
      "source": [
        "df = cdf.drop(drop_cols,axis=1).compute()\n",
        "df"
      ],
      "execution_count": null,
      "outputs": [
        {
          "output_type": "execute_result",
          "data": {
            "text/html": [
              "<div>\n",
              "<style scoped>\n",
              "    .dataframe tbody tr th:only-of-type {\n",
              "        vertical-align: middle;\n",
              "    }\n",
              "\n",
              "    .dataframe tbody tr th {\n",
              "        vertical-align: top;\n",
              "    }\n",
              "\n",
              "    .dataframe thead th {\n",
              "        text-align: right;\n",
              "    }\n",
              "</style>\n",
              "<table border=\"1\" class=\"dataframe\">\n",
              "  <thead>\n",
              "    <tr style=\"text-align: right;\">\n",
              "      <th></th>\n",
              "      <th>rank</th>\n",
              "      <th>raw_query</th>\n",
              "      <th>page</th>\n",
              "      <th>is_clicked</th>\n",
              "      <th>NUM_WORDS(raw_query)</th>\n",
              "      <th>products.category_name</th>\n",
              "      <th>products.product_name_normalized</th>\n",
              "      <th>products.sellers_count</th>\n",
              "      <th>products.availabilty_ratio</th>\n",
              "      <th>products.mean_all_price</th>\n",
              "      <th>products.max_all_price</th>\n",
              "      <th>products.min_all_price</th>\n",
              "      <th>products.std_all_price</th>\n",
              "      <th>products.skew_all_price</th>\n",
              "      <th>products.mean_available_price</th>\n",
              "      <th>products.max_available_price</th>\n",
              "      <th>products.min_available_price</th>\n",
              "      <th>products.std_available_price</th>\n",
              "      <th>products.skew_available_price</th>\n",
              "      <th>products.COUNT(clicked_merged)</th>\n",
              "      <th>products.PERCENT_TRUE(clicked_merged.is_clicked)</th>\n",
              "      <th>products.DAY(first_added_date)</th>\n",
              "      <th>products.DAY(last_added_date)</th>\n",
              "      <th>products.HOUR(first_added_date)</th>\n",
              "      <th>products.HOUR(last_added_date)</th>\n",
              "      <th>products.IS_WEEKEND(first_added_date)</th>\n",
              "      <th>products.IS_WEEKEND(last_added_date)</th>\n",
              "      <th>products.MINUTE(first_added_date)</th>\n",
              "      <th>products.MINUTE(last_added_date)</th>\n",
              "      <th>products.MONTH(first_added_date)</th>\n",
              "      <th>products.MONTH(last_added_date)</th>\n",
              "      <th>products.NUM_WORDS(product_name_normalized)</th>\n",
              "      <th>products.WEEKDAY(first_added_date)</th>\n",
              "      <th>products.WEEKDAY(last_added_date)</th>\n",
              "      <th>products.YEAR(first_added_date)</th>\n",
              "      <th>products.YEAR(last_added_date)</th>\n",
              "    </tr>\n",
              "  </thead>\n",
              "  <tbody>\n",
              "    <tr>\n",
              "      <th>0</th>\n",
              "      <td>0</td>\n",
              "      <td>ماشین پژو پارس</td>\n",
              "      <td>0</td>\n",
              "      <td>False</td>\n",
              "      <td>3</td>\n",
              "      <td>سایر لوازم تزئینی خودرو</td>\n",
              "      <td>پارس جلو پهن پژو اکورد طرح نیون چراغ اسپرت بلوری</td>\n",
              "      <td>1</td>\n",
              "      <td>1.000000</td>\n",
              "      <td>8.100000e+05</td>\n",
              "      <td>810000.0</td>\n",
              "      <td>810000.0</td>\n",
              "      <td>0.000000e+00</td>\n",
              "      <td>0.000000</td>\n",
              "      <td>8.100000e+05</td>\n",
              "      <td>810000.0</td>\n",
              "      <td>810000.0</td>\n",
              "      <td>0.000000</td>\n",
              "      <td>0.000000</td>\n",
              "      <td>31</td>\n",
              "      <td>0.032258</td>\n",
              "      <td>20</td>\n",
              "      <td>20</td>\n",
              "      <td>3</td>\n",
              "      <td>3</td>\n",
              "      <td>False</td>\n",
              "      <td>False</td>\n",
              "      <td>57</td>\n",
              "      <td>57</td>\n",
              "      <td>11</td>\n",
              "      <td>11</td>\n",
              "      <td>10</td>\n",
              "      <td>2</td>\n",
              "      <td>2</td>\n",
              "      <td>2019</td>\n",
              "      <td>2019</td>\n",
              "    </tr>\n",
              "    <tr>\n",
              "      <th>1</th>\n",
              "      <td>49</td>\n",
              "      <td>دامن شلواری</td>\n",
              "      <td>2</td>\n",
              "      <td>False</td>\n",
              "      <td>2</td>\n",
              "      <td>شلوار و دامن زنانه</td>\n",
              "      <td>شلواری دامن راحت</td>\n",
              "      <td>1</td>\n",
              "      <td>0.000000</td>\n",
              "      <td>5.990000e+05</td>\n",
              "      <td>599000.0</td>\n",
              "      <td>599000.0</td>\n",
              "      <td>0.000000e+00</td>\n",
              "      <td>0.000000</td>\n",
              "      <td>NaN</td>\n",
              "      <td>NaN</td>\n",
              "      <td>NaN</td>\n",
              "      <td>NaN</td>\n",
              "      <td>NaN</td>\n",
              "      <td>1</td>\n",
              "      <td>0.000000</td>\n",
              "      <td>5</td>\n",
              "      <td>5</td>\n",
              "      <td>19</td>\n",
              "      <td>19</td>\n",
              "      <td>False</td>\n",
              "      <td>False</td>\n",
              "      <td>38</td>\n",
              "      <td>38</td>\n",
              "      <td>1</td>\n",
              "      <td>1</td>\n",
              "      <td>3</td>\n",
              "      <td>1</td>\n",
              "      <td>1</td>\n",
              "      <td>2021</td>\n",
              "      <td>2021</td>\n",
              "    </tr>\n",
              "    <tr>\n",
              "      <th>2</th>\n",
              "      <td>42</td>\n",
              "      <td>کفش چرم زنانه</td>\n",
              "      <td>1</td>\n",
              "      <td>False</td>\n",
              "      <td>3</td>\n",
              "      <td>کفش و صندل زنانه</td>\n",
              "      <td>کفش چرم طبی کد 428 معراج زنانه</td>\n",
              "      <td>1</td>\n",
              "      <td>1.000000</td>\n",
              "      <td>4.700000e+05</td>\n",
              "      <td>470000.0</td>\n",
              "      <td>470000.0</td>\n",
              "      <td>0.000000e+00</td>\n",
              "      <td>0.000000</td>\n",
              "      <td>4.700000e+05</td>\n",
              "      <td>470000.0</td>\n",
              "      <td>470000.0</td>\n",
              "      <td>0.000000</td>\n",
              "      <td>0.000000</td>\n",
              "      <td>4</td>\n",
              "      <td>0.000000</td>\n",
              "      <td>27</td>\n",
              "      <td>27</td>\n",
              "      <td>21</td>\n",
              "      <td>21</td>\n",
              "      <td>True</td>\n",
              "      <td>True</td>\n",
              "      <td>3</td>\n",
              "      <td>3</td>\n",
              "      <td>2</td>\n",
              "      <td>2</td>\n",
              "      <td>7</td>\n",
              "      <td>5</td>\n",
              "      <td>5</td>\n",
              "      <td>2021</td>\n",
              "      <td>2021</td>\n",
              "    </tr>\n",
              "    <tr>\n",
              "      <th>3</th>\n",
              "      <td>22</td>\n",
              "      <td>وافل ساز</td>\n",
              "      <td>2</td>\n",
              "      <td>False</td>\n",
              "      <td>2</td>\n",
              "      <td>ساندویچ ساز و وافل ساز</td>\n",
              "      <td>صنعتی تخم ساز مرغی بست pfy 2 وافل</td>\n",
              "      <td>1</td>\n",
              "      <td>1.000000</td>\n",
              "      <td>3.500000e+06</td>\n",
              "      <td>3500000.0</td>\n",
              "      <td>3500000.0</td>\n",
              "      <td>0.000000e+00</td>\n",
              "      <td>0.000000</td>\n",
              "      <td>3.500000e+06</td>\n",
              "      <td>3500000.0</td>\n",
              "      <td>3500000.0</td>\n",
              "      <td>0.000000</td>\n",
              "      <td>0.000000</td>\n",
              "      <td>12</td>\n",
              "      <td>0.083333</td>\n",
              "      <td>2</td>\n",
              "      <td>2</td>\n",
              "      <td>10</td>\n",
              "      <td>10</td>\n",
              "      <td>True</td>\n",
              "      <td>True</td>\n",
              "      <td>26</td>\n",
              "      <td>26</td>\n",
              "      <td>1</td>\n",
              "      <td>1</td>\n",
              "      <td>8</td>\n",
              "      <td>5</td>\n",
              "      <td>5</td>\n",
              "      <td>2021</td>\n",
              "      <td>2021</td>\n",
              "    </tr>\n",
              "    <tr>\n",
              "      <th>4</th>\n",
              "      <td>22</td>\n",
              "      <td>وافل ساز</td>\n",
              "      <td>2</td>\n",
              "      <td>False</td>\n",
              "      <td>2</td>\n",
              "      <td>ساندویچ ساز و وافل ساز</td>\n",
              "      <td>صنعتی تخم ساز مرغی بست pfy 2 وافل</td>\n",
              "      <td>1</td>\n",
              "      <td>1.000000</td>\n",
              "      <td>3.500000e+06</td>\n",
              "      <td>3500000.0</td>\n",
              "      <td>3500000.0</td>\n",
              "      <td>0.000000e+00</td>\n",
              "      <td>0.000000</td>\n",
              "      <td>3.500000e+06</td>\n",
              "      <td>3500000.0</td>\n",
              "      <td>3500000.0</td>\n",
              "      <td>0.000000</td>\n",
              "      <td>0.000000</td>\n",
              "      <td>12</td>\n",
              "      <td>0.083333</td>\n",
              "      <td>2</td>\n",
              "      <td>2</td>\n",
              "      <td>10</td>\n",
              "      <td>10</td>\n",
              "      <td>True</td>\n",
              "      <td>True</td>\n",
              "      <td>26</td>\n",
              "      <td>26</td>\n",
              "      <td>1</td>\n",
              "      <td>1</td>\n",
              "      <td>8</td>\n",
              "      <td>5</td>\n",
              "      <td>5</td>\n",
              "      <td>2021</td>\n",
              "      <td>2021</td>\n",
              "    </tr>\n",
              "    <tr>\n",
              "      <th>...</th>\n",
              "      <td>...</td>\n",
              "      <td>...</td>\n",
              "      <td>...</td>\n",
              "      <td>...</td>\n",
              "      <td>...</td>\n",
              "      <td>...</td>\n",
              "      <td>...</td>\n",
              "      <td>...</td>\n",
              "      <td>...</td>\n",
              "      <td>...</td>\n",
              "      <td>...</td>\n",
              "      <td>...</td>\n",
              "      <td>...</td>\n",
              "      <td>...</td>\n",
              "      <td>...</td>\n",
              "      <td>...</td>\n",
              "      <td>...</td>\n",
              "      <td>...</td>\n",
              "      <td>...</td>\n",
              "      <td>...</td>\n",
              "      <td>...</td>\n",
              "      <td>...</td>\n",
              "      <td>...</td>\n",
              "      <td>...</td>\n",
              "      <td>...</td>\n",
              "      <td>...</td>\n",
              "      <td>...</td>\n",
              "      <td>...</td>\n",
              "      <td>...</td>\n",
              "      <td>...</td>\n",
              "      <td>...</td>\n",
              "      <td>...</td>\n",
              "      <td>...</td>\n",
              "      <td>...</td>\n",
              "      <td>...</td>\n",
              "      <td>...</td>\n",
              "    </tr>\n",
              "    <tr>\n",
              "      <th>53668</th>\n",
              "      <td>49</td>\n",
              "      <td>کتونی دخترانه</td>\n",
              "      <td>4</td>\n",
              "      <td>False</td>\n",
              "      <td>2</td>\n",
              "      <td>کفش و صندل زنانه</td>\n",
              "      <td>دخترانه جذاب کتونی</td>\n",
              "      <td>1</td>\n",
              "      <td>0.000000</td>\n",
              "      <td>1.550000e+05</td>\n",
              "      <td>155000.0</td>\n",
              "      <td>155000.0</td>\n",
              "      <td>0.000000e+00</td>\n",
              "      <td>0.000000</td>\n",
              "      <td>NaN</td>\n",
              "      <td>NaN</td>\n",
              "      <td>NaN</td>\n",
              "      <td>NaN</td>\n",
              "      <td>NaN</td>\n",
              "      <td>2</td>\n",
              "      <td>0.000000</td>\n",
              "      <td>6</td>\n",
              "      <td>6</td>\n",
              "      <td>13</td>\n",
              "      <td>13</td>\n",
              "      <td>False</td>\n",
              "      <td>False</td>\n",
              "      <td>50</td>\n",
              "      <td>50</td>\n",
              "      <td>1</td>\n",
              "      <td>1</td>\n",
              "      <td>3</td>\n",
              "      <td>2</td>\n",
              "      <td>2</td>\n",
              "      <td>2021</td>\n",
              "      <td>2021</td>\n",
              "    </tr>\n",
              "    <tr>\n",
              "      <th>53669</th>\n",
              "      <td>2</td>\n",
              "      <td>تلویزیون ایکس ویژن</td>\n",
              "      <td>0</td>\n",
              "      <td>False</td>\n",
              "      <td>3</td>\n",
              "      <td>تلویزیون ایکس ویژن</td>\n",
              "      <td>49 49 size x vision xvision tv 49 اینچ ال xk 570 xvision 49 xk 570 کیفیت inch 49 xk 570 تلویزیون ایکس با full inches ویژن تلویزیون hd 49 xk 570 اچ ای ایکسویژن full tv دی مدل ایکس fhd فول ایکس سایز تصویر هوشمند led led 49 xk 570 اینچ ویژن</td>\n",
              "      <td>42</td>\n",
              "      <td>0.142857</td>\n",
              "      <td>7.232385e+06</td>\n",
              "      <td>38950000.0</td>\n",
              "      <td>0.0</td>\n",
              "      <td>5.809454e+06</td>\n",
              "      <td>3.610436</td>\n",
              "      <td>9.135833e+06</td>\n",
              "      <td>9685000.0</td>\n",
              "      <td>8800000.0</td>\n",
              "      <td>361344.902951</td>\n",
              "      <td>0.681049</td>\n",
              "      <td>92</td>\n",
              "      <td>0.108696</td>\n",
              "      <td>18</td>\n",
              "      <td>24</td>\n",
              "      <td>0</td>\n",
              "      <td>12</td>\n",
              "      <td>False</td>\n",
              "      <td>True</td>\n",
              "      <td>21</td>\n",
              "      <td>42</td>\n",
              "      <td>2</td>\n",
              "      <td>4</td>\n",
              "      <td>53</td>\n",
              "      <td>0</td>\n",
              "      <td>5</td>\n",
              "      <td>2019</td>\n",
              "      <td>2021</td>\n",
              "    </tr>\n",
              "    <tr>\n",
              "      <th>53670</th>\n",
              "      <td>9</td>\n",
              "      <td>ویدئو پروژکتور</td>\n",
              "      <td>0</td>\n",
              "      <td>False</td>\n",
              "      <td>2</td>\n",
              "      <td>سایر برندهای ویدیو پروژکتور</td>\n",
              "      <td>video ویدیو k 18 پرژکتور projector</td>\n",
              "      <td>1</td>\n",
              "      <td>1.000000</td>\n",
              "      <td>3.540000e+06</td>\n",
              "      <td>3540000.0</td>\n",
              "      <td>3540000.0</td>\n",
              "      <td>0.000000e+00</td>\n",
              "      <td>0.000000</td>\n",
              "      <td>3.540000e+06</td>\n",
              "      <td>3540000.0</td>\n",
              "      <td>3540000.0</td>\n",
              "      <td>0.000000</td>\n",
              "      <td>0.000000</td>\n",
              "      <td>96</td>\n",
              "      <td>0.031250</td>\n",
              "      <td>29</td>\n",
              "      <td>29</td>\n",
              "      <td>9</td>\n",
              "      <td>9</td>\n",
              "      <td>False</td>\n",
              "      <td>False</td>\n",
              "      <td>3</td>\n",
              "      <td>3</td>\n",
              "      <td>3</td>\n",
              "      <td>3</td>\n",
              "      <td>6</td>\n",
              "      <td>0</td>\n",
              "      <td>0</td>\n",
              "      <td>2021</td>\n",
              "      <td>2021</td>\n",
              "    </tr>\n",
              "    <tr>\n",
              "      <th>53671</th>\n",
              "      <td>9</td>\n",
              "      <td>ویدئو پروژکتور</td>\n",
              "      <td>0</td>\n",
              "      <td>False</td>\n",
              "      <td>2</td>\n",
              "      <td>سایر برندهای ویدیو پروژکتور</td>\n",
              "      <td>video ویدیو k 18 پرژکتور projector</td>\n",
              "      <td>1</td>\n",
              "      <td>1.000000</td>\n",
              "      <td>3.540000e+06</td>\n",
              "      <td>3540000.0</td>\n",
              "      <td>3540000.0</td>\n",
              "      <td>0.000000e+00</td>\n",
              "      <td>0.000000</td>\n",
              "      <td>3.540000e+06</td>\n",
              "      <td>3540000.0</td>\n",
              "      <td>3540000.0</td>\n",
              "      <td>0.000000</td>\n",
              "      <td>0.000000</td>\n",
              "      <td>96</td>\n",
              "      <td>0.031250</td>\n",
              "      <td>29</td>\n",
              "      <td>29</td>\n",
              "      <td>9</td>\n",
              "      <td>9</td>\n",
              "      <td>False</td>\n",
              "      <td>False</td>\n",
              "      <td>3</td>\n",
              "      <td>3</td>\n",
              "      <td>3</td>\n",
              "      <td>3</td>\n",
              "      <td>6</td>\n",
              "      <td>0</td>\n",
              "      <td>0</td>\n",
              "      <td>2021</td>\n",
              "      <td>2021</td>\n",
              "    </tr>\n",
              "    <tr>\n",
              "      <th>53672</th>\n",
              "      <td>16</td>\n",
              "      <td>بازی ایکس باکس 360</td>\n",
              "      <td>1</td>\n",
              "      <td>False</td>\n",
              "      <td>4</td>\n",
              "      <td>بازی های رایانه و کنسول</td>\n",
              "      <td>edge ایکس بازی 360 باکس اورجیناال mirrors</td>\n",
              "      <td>1</td>\n",
              "      <td>1.000000</td>\n",
              "      <td>1.850000e+05</td>\n",
              "      <td>185000.0</td>\n",
              "      <td>185000.0</td>\n",
              "      <td>0.000000e+00</td>\n",
              "      <td>0.000000</td>\n",
              "      <td>1.850000e+05</td>\n",
              "      <td>185000.0</td>\n",
              "      <td>185000.0</td>\n",
              "      <td>0.000000</td>\n",
              "      <td>0.000000</td>\n",
              "      <td>7</td>\n",
              "      <td>0.000000</td>\n",
              "      <td>9</td>\n",
              "      <td>9</td>\n",
              "      <td>18</td>\n",
              "      <td>18</td>\n",
              "      <td>True</td>\n",
              "      <td>True</td>\n",
              "      <td>4</td>\n",
              "      <td>4</td>\n",
              "      <td>5</td>\n",
              "      <td>5</td>\n",
              "      <td>7</td>\n",
              "      <td>6</td>\n",
              "      <td>6</td>\n",
              "      <td>2021</td>\n",
              "      <td>2021</td>\n",
              "    </tr>\n",
              "  </tbody>\n",
              "</table>\n",
              "<p>3284191 rows × 36 columns</p>\n",
              "</div>"
            ],
            "text/plain": [
              "       rank  ... products.YEAR(last_added_date)\n",
              "0         0  ...                           2019\n",
              "1        49  ...                           2021\n",
              "2        42  ...                           2021\n",
              "3        22  ...                           2021\n",
              "4        22  ...                           2021\n",
              "...     ...  ...                            ...\n",
              "53668    49  ...                           2021\n",
              "53669     2  ...                           2021\n",
              "53670     9  ...                           2021\n",
              "53671     9  ...                           2021\n",
              "53672    16  ...                           2021\n",
              "\n",
              "[3284191 rows x 36 columns]"
            ]
          },
          "metadata": {},
          "execution_count": 9
        }
      ]
    },
    {
      "cell_type": "code",
      "metadata": {
        "id": "v8V09HKDP_fU"
      },
      "source": [
        ""
      ],
      "execution_count": null,
      "outputs": []
    },
    {
      "cell_type": "code",
      "metadata": {
        "id": "eTZH06_U410F"
      },
      "source": [
        "class MixDataSet(Dataset):\n",
        "    def __init__(self, df, cat_col_names, cont_col_names, query_col_name, category_col_name, product_col_name, vocab,target_col_name=None, test=False,normalize=True,):\n",
        "        self.df = df.reset_index(drop=True).copy()\n",
        "        self.cat_col_names = cat_col_names\n",
        "        self.cont_col_names = cont_col_names\n",
        "        self.query_col_name = query_col_name\n",
        "        self.category_col_name = category_col_name\n",
        "        self.product_col_name = product_col_name\n",
        "        self.target_col_name = target_col_name\n",
        "\n",
        "\n",
        "        self.test = test\n",
        "\n",
        "        self.normalize = normalize\n",
        "\n",
        "        self.vocab = vocab\n",
        "        self.nlp_pipeline = nlp_pipeline(vocab=self.vocab)\n",
        "\n",
        "        if self.test == False:\n",
        "            self.target_col_name = target_col_name\n",
        "\n",
        "\n",
        "    def __len__(self):\n",
        "        return self.df.shape[0]\n",
        "    \n",
        "    def __getitem__(self, i):\n",
        "        ndf = self.df.iloc[i]\n",
        "        ndf = ndf.fillna(0.0,inplace=False)\n",
        "\n",
        "        if self.normalize == True:\n",
        "            if type(ndf) == pd.core.series.Series:\n",
        "             for col in ndf.index:\n",
        "                if \"price\" in col:\n",
        "                    ndf[col] = np.log10(ndf[col]/1000 + 1)\n",
        "                elif \"NUM\" in col or \"COUNT\" in col:\n",
        "                    ndf[col] = np.log10(ndf[col] + 1)\n",
        "           \n",
        "            elif type(ndf) == pd.core.frame.DataFrame:\n",
        "             for col in ndf.columns:\n",
        "                if \"price\" in col:\n",
        "                    ndf[col] = np.log10(ndf[col]/1000 + 1)\n",
        "                elif \"NUM\" in col or \"COUNT\" in col:\n",
        "                    ndf[col] = np.log10(ndf[col] + 1)\n",
        "\n",
        "        for col in self.cat_col_names:\n",
        "            if \"YEAR\" in col:\n",
        "                ndf[col] = ndf[col] - 2017\n",
        "\n",
        "            \n",
        "        cat = ndf[self.cat_col_names].values\n",
        "\n",
        "        cont = ndf[self.cont_col_names].values\n",
        "\n",
        "        query = self.nlp_pipeline.encode(ndf[self.query_col_name])\n",
        "        category = self.nlp_pipeline.encode(ndf[self.category_col_name])\n",
        "        product = self.nlp_pipeline.encode(ndf[self.product_col_name])\n",
        "        \n",
        "        if self.test == False:\n",
        "            target = ndf[self.target_col_name]\n",
        "            return (T.tensor(cat.astype(np.int32)),T.tensor(cont.astype(np.float32)),query,category,product), T.tensor(target)\n",
        "        else:\n",
        "            return (T.tensor(cat.astype(np.int32)),T.tensor(cont.astype(np.float32)),query,category,product)\n"
      ],
      "execution_count": null,
      "outputs": []
    },
    {
      "cell_type": "code",
      "metadata": {
        "id": "Zw9I_xpufAGF"
      },
      "source": [
        "stratified_df = pd.concat([df[df[\"is_clicked\"] == True].reset_index(drop=True)[0:10000],\n",
        "                           df[df[\"is_clicked\"] == False].reset_index(drop=True)[0:10000]]).reset_index(drop=True).sample(frac=1)"
      ],
      "execution_count": null,
      "outputs": []
    },
    {
      "cell_type": "code",
      "metadata": {
        "colab": {
          "base_uri": "https://localhost:8080/",
          "height": 162
        },
        "id": "8z6cIOiZfdP7",
        "outputId": "c80e2e9c-2f37-4b81-f4ae-e72df9ad1a23"
      },
      "source": [
        "stratified_df.groupby(by=\"is_clicked\").count()"
      ],
      "execution_count": null,
      "outputs": [
        {
          "output_type": "execute_result",
          "data": {
            "text/html": [
              "<div>\n",
              "<style scoped>\n",
              "    .dataframe tbody tr th:only-of-type {\n",
              "        vertical-align: middle;\n",
              "    }\n",
              "\n",
              "    .dataframe tbody tr th {\n",
              "        vertical-align: top;\n",
              "    }\n",
              "\n",
              "    .dataframe thead th {\n",
              "        text-align: right;\n",
              "    }\n",
              "</style>\n",
              "<table border=\"1\" class=\"dataframe\">\n",
              "  <thead>\n",
              "    <tr style=\"text-align: right;\">\n",
              "      <th></th>\n",
              "      <th>rank</th>\n",
              "      <th>raw_query</th>\n",
              "      <th>page</th>\n",
              "      <th>NUM_WORDS(raw_query)</th>\n",
              "      <th>products.category_name</th>\n",
              "      <th>products.product_name_normalized</th>\n",
              "      <th>products.sellers_count</th>\n",
              "      <th>products.availabilty_ratio</th>\n",
              "      <th>products.mean_all_price</th>\n",
              "      <th>products.max_all_price</th>\n",
              "      <th>products.min_all_price</th>\n",
              "      <th>products.std_all_price</th>\n",
              "      <th>products.skew_all_price</th>\n",
              "      <th>products.mean_available_price</th>\n",
              "      <th>products.max_available_price</th>\n",
              "      <th>products.min_available_price</th>\n",
              "      <th>products.std_available_price</th>\n",
              "      <th>products.skew_available_price</th>\n",
              "      <th>products.COUNT(clicked_merged)</th>\n",
              "      <th>products.PERCENT_TRUE(clicked_merged.is_clicked)</th>\n",
              "      <th>products.DAY(first_added_date)</th>\n",
              "      <th>products.DAY(last_added_date)</th>\n",
              "      <th>products.HOUR(first_added_date)</th>\n",
              "      <th>products.HOUR(last_added_date)</th>\n",
              "      <th>products.IS_WEEKEND(first_added_date)</th>\n",
              "      <th>products.IS_WEEKEND(last_added_date)</th>\n",
              "      <th>products.MINUTE(first_added_date)</th>\n",
              "      <th>products.MINUTE(last_added_date)</th>\n",
              "      <th>products.MONTH(first_added_date)</th>\n",
              "      <th>products.MONTH(last_added_date)</th>\n",
              "      <th>products.NUM_WORDS(product_name_normalized)</th>\n",
              "      <th>products.WEEKDAY(first_added_date)</th>\n",
              "      <th>products.WEEKDAY(last_added_date)</th>\n",
              "      <th>products.YEAR(first_added_date)</th>\n",
              "      <th>products.YEAR(last_added_date)</th>\n",
              "    </tr>\n",
              "    <tr>\n",
              "      <th>is_clicked</th>\n",
              "      <th></th>\n",
              "      <th></th>\n",
              "      <th></th>\n",
              "      <th></th>\n",
              "      <th></th>\n",
              "      <th></th>\n",
              "      <th></th>\n",
              "      <th></th>\n",
              "      <th></th>\n",
              "      <th></th>\n",
              "      <th></th>\n",
              "      <th></th>\n",
              "      <th></th>\n",
              "      <th></th>\n",
              "      <th></th>\n",
              "      <th></th>\n",
              "      <th></th>\n",
              "      <th></th>\n",
              "      <th></th>\n",
              "      <th></th>\n",
              "      <th></th>\n",
              "      <th></th>\n",
              "      <th></th>\n",
              "      <th></th>\n",
              "      <th></th>\n",
              "      <th></th>\n",
              "      <th></th>\n",
              "      <th></th>\n",
              "      <th></th>\n",
              "      <th></th>\n",
              "      <th></th>\n",
              "      <th></th>\n",
              "      <th></th>\n",
              "      <th></th>\n",
              "      <th></th>\n",
              "    </tr>\n",
              "  </thead>\n",
              "  <tbody>\n",
              "    <tr>\n",
              "      <th>False</th>\n",
              "      <td>10000</td>\n",
              "      <td>10000</td>\n",
              "      <td>10000</td>\n",
              "      <td>10000</td>\n",
              "      <td>10000</td>\n",
              "      <td>10000</td>\n",
              "      <td>10000</td>\n",
              "      <td>10000</td>\n",
              "      <td>10000</td>\n",
              "      <td>10000</td>\n",
              "      <td>10000</td>\n",
              "      <td>10000</td>\n",
              "      <td>10000</td>\n",
              "      <td>9223</td>\n",
              "      <td>9223</td>\n",
              "      <td>9223</td>\n",
              "      <td>9223</td>\n",
              "      <td>9223</td>\n",
              "      <td>10000</td>\n",
              "      <td>10000</td>\n",
              "      <td>10000</td>\n",
              "      <td>10000</td>\n",
              "      <td>10000</td>\n",
              "      <td>10000</td>\n",
              "      <td>10000</td>\n",
              "      <td>10000</td>\n",
              "      <td>10000</td>\n",
              "      <td>10000</td>\n",
              "      <td>10000</td>\n",
              "      <td>10000</td>\n",
              "      <td>10000</td>\n",
              "      <td>10000</td>\n",
              "      <td>10000</td>\n",
              "      <td>10000</td>\n",
              "      <td>10000</td>\n",
              "    </tr>\n",
              "    <tr>\n",
              "      <th>True</th>\n",
              "      <td>10000</td>\n",
              "      <td>10000</td>\n",
              "      <td>10000</td>\n",
              "      <td>10000</td>\n",
              "      <td>10000</td>\n",
              "      <td>10000</td>\n",
              "      <td>10000</td>\n",
              "      <td>10000</td>\n",
              "      <td>10000</td>\n",
              "      <td>10000</td>\n",
              "      <td>10000</td>\n",
              "      <td>10000</td>\n",
              "      <td>10000</td>\n",
              "      <td>9112</td>\n",
              "      <td>9112</td>\n",
              "      <td>9112</td>\n",
              "      <td>9112</td>\n",
              "      <td>9112</td>\n",
              "      <td>10000</td>\n",
              "      <td>10000</td>\n",
              "      <td>10000</td>\n",
              "      <td>10000</td>\n",
              "      <td>10000</td>\n",
              "      <td>10000</td>\n",
              "      <td>10000</td>\n",
              "      <td>10000</td>\n",
              "      <td>10000</td>\n",
              "      <td>10000</td>\n",
              "      <td>10000</td>\n",
              "      <td>10000</td>\n",
              "      <td>10000</td>\n",
              "      <td>10000</td>\n",
              "      <td>10000</td>\n",
              "      <td>10000</td>\n",
              "      <td>10000</td>\n",
              "    </tr>\n",
              "  </tbody>\n",
              "</table>\n",
              "</div>"
            ],
            "text/plain": [
              "             rank  ...  products.YEAR(last_added_date)\n",
              "is_clicked         ...                                \n",
              "False       10000  ...                           10000\n",
              "True        10000  ...                           10000\n",
              "\n",
              "[2 rows x 35 columns]"
            ]
          },
          "metadata": {},
          "execution_count": 12
        }
      ]
    },
    {
      "cell_type": "code",
      "metadata": {
        "id": "TmG4Vxjk3k6I"
      },
      "source": [
        "b = MixDataSet(stratified_df,cat_cols,cont_cols,\"raw_query\",\"products.category_name\",\"products.product_name_normalized\",target_col_name=\"is_clicked\",vocab=vocab[0])"
      ],
      "execution_count": null,
      "outputs": []
    },
    {
      "cell_type": "code",
      "metadata": {
        "id": "pTXR4a8jFFCH"
      },
      "source": [
        "b[0:10]"
      ],
      "execution_count": null,
      "outputs": []
    },
    {
      "cell_type": "code",
      "metadata": {
        "colab": {
          "base_uri": "https://localhost:8080/"
        },
        "id": "TEaBGUDImLhU",
        "outputId": "ab5a1dbc-a1ff-4f59-87f1-82267db6827f"
      },
      "source": [
        "len(b)"
      ],
      "execution_count": null,
      "outputs": [
        {
          "output_type": "execute_result",
          "data": {
            "text/plain": [
              "20000"
            ]
          },
          "metadata": {},
          "execution_count": 15
        }
      ]
    },
    {
      "cell_type": "code",
      "metadata": {
        "id": "liAezjwJJheH"
      },
      "source": [
        "stratified_df[\"is_valid\"] = False\n",
        "stratified_df[\"is_valid\"] = stratified_df[\"is_valid\"].apply(lambda x: True if random.random() < 0.08 else False)"
      ],
      "execution_count": null,
      "outputs": []
    },
    {
      "cell_type": "code",
      "metadata": {
        "id": "zUUmHBlrr85Q"
      },
      "source": [
        "def my_collate(batch):\n",
        "    b = list(zip(*batch))\n",
        "    x,y = b\n",
        "    x1,x2,x3,x4,x5 = list(zip(*x))\n",
        "\n",
        "    return (T.stack(x1),T.stack(x2), nn.utils.rnn.pad_sequence(x3).T, nn.utils.rnn.pad_sequence(x4).T, nn.utils.rnn.pad_sequence(x5).T), T.stack(y).to(T.long)"
      ],
      "execution_count": null,
      "outputs": []
    },
    {
      "cell_type": "code",
      "metadata": {
        "id": "T-3JndSev0rp"
      },
      "source": [
        "train_ds = MixDataSet(stratified_df[stratified_df[\"is_valid\"]==False],\n",
        "                      cat_cols,\n",
        "                      cont_cols,\n",
        "                      \"raw_query\",\n",
        "                      \"products.category_name\",\n",
        "                      \"products.product_name_normalized\",\n",
        "                      target_col_name=\"is_clicked\",\n",
        "                      vocab=vocab[0])\n",
        "\n",
        "valid_ds = MixDataSet(stratified_df[stratified_df[\"is_valid\"]==True],\n",
        "                      cat_cols,\n",
        "                      cont_cols,\n",
        "                      \"raw_query\",\n",
        "                      \"products.category_name\",\n",
        "                      \"products.product_name_normalized\",\n",
        "                      target_col_name=\"is_clicked\",\n",
        "                      vocab = vocab[0])"
      ],
      "execution_count": null,
      "outputs": []
    },
    {
      "cell_type": "code",
      "metadata": {
        "colab": {
          "base_uri": "https://localhost:8080/"
        },
        "id": "Jp0ASVZKwOxU",
        "outputId": "7bf92acc-f524-4765-bc6e-46b90a69ae4e"
      },
      "source": [
        "len(train_ds), len(valid_ds)"
      ],
      "execution_count": null,
      "outputs": [
        {
          "output_type": "execute_result",
          "data": {
            "text/plain": [
              "(18398, 1602)"
            ]
          },
          "metadata": {},
          "execution_count": 19
        }
      ]
    },
    {
      "cell_type": "code",
      "metadata": {
        "id": "rHjtsnchxnXU"
      },
      "source": [
        "train_dl = DataLoader(dataset=train_ds, batch_size=150, shuffle=True, collate_fn=my_collate)\n",
        "valid_dl = DataLoader(dataset=valid_ds, batch_size=150, shuffle=True, collate_fn=my_collate)"
      ],
      "execution_count": null,
      "outputs": []
    },
    {
      "cell_type": "code",
      "metadata": {
        "id": "EXRxf9HMx4yp",
        "colab": {
          "base_uri": "https://localhost:8080/"
        },
        "outputId": "d237fe46-8d07-4036-fefd-0f2b74b02547"
      },
      "source": [
        "next(iter(train_dl))"
      ],
      "execution_count": null,
      "outputs": [
        {
          "output_type": "execute_result",
          "data": {
            "text/plain": [
              "((tensor([[22, 22, 21,  ...,  2,  2,  2],\n",
              "          [14, 12, 10,  ...,  2,  4,  4],\n",
              "          [24, 12, 16,  ...,  2,  3,  4],\n",
              "          ...,\n",
              "          [17,  6,  7,  ...,  3,  3,  4],\n",
              "          [ 1, 17,  1,  ...,  0,  3,  4],\n",
              "          [ 9,  9, 21,  ...,  1,  4,  4]], dtype=torch.int32),\n",
              "  tensor([[8.0000e+00, 3.0103e-01, 0.0000e+00,  ..., 1.8451e+00, 1.0145e-01,\n",
              "           7.7815e-01],\n",
              "          [0.0000e+00, 4.7712e-01, 0.0000e+00,  ..., 3.2060e+00, 8.9664e-02,\n",
              "           1.4150e+00],\n",
              "          [2.0000e+00, 3.0103e-01, 0.0000e+00,  ..., 2.9996e+00, 1.3527e-01,\n",
              "           2.1875e+00],\n",
              "          ...,\n",
              "          [2.6000e+01, 4.7712e-01, 1.0000e+00,  ..., 2.0569e+00, 4.4248e-02,\n",
              "           1.4914e+00],\n",
              "          [2.0000e+00, 7.7815e-01, 0.0000e+00,  ..., 3.5145e+00, 1.3001e-01,\n",
              "           2.2355e+00],\n",
              "          [1.2500e+02, 6.9897e-01, 5.0000e+00,  ..., 6.9897e-01, 2.5000e-01,\n",
              "           1.3979e+00]]),\n",
              "  TensorText([[   2,  100,    0,  ...,    0,    0,    0],\n",
              "          [   2,   27,   49,  ...,    0,    0,    0],\n",
              "          [   2,  328,    0,  ...,    0,    0,    0],\n",
              "          ...,\n",
              "          [   2,  143,   40,  ...,    0,    0,    0],\n",
              "          [   2,  135,   93,  ...,   97, 1162,    0],\n",
              "          [   2,   45,   18,  ...,  755,   93,  428]]),\n",
              "  TensorText([[  2, 100, 473,  ...,  17, 240,   0],\n",
              "          [  2,  27,  17,  ...,   0,   0,   0],\n",
              "          [  2,  18, 328,  ...,   0,   0,   0],\n",
              "          ...,\n",
              "          [  2,  19,  37,  ...,   0,   0,   0],\n",
              "          [  2,  18, 197,  ...,   0,   0,   0],\n",
              "          [  2,  30,  17,  ...,  35,   0,   0]]),\n",
              "  TensorText([[   2, 2216, 7050,  ...,    0,    0,    0],\n",
              "          [   2,  635, 2041,  ...,    0,    0,    0],\n",
              "          [   2,  843,  925,  ...,    0,    0,    0],\n",
              "          ...,\n",
              "          [   2,    0,    0,  ...,    0,    0,    0],\n",
              "          [   2,  843,  563,  ...,    0,    0,    0],\n",
              "          [   2,   62,  348,  ...,    0,    0,    0]])),\n",
              " tensor([1, 1, 1, 1, 1, 0, 0, 0, 1, 1, 0, 0, 1, 0, 0, 0, 0, 1, 0, 1, 0, 1, 0, 1,\n",
              "         0, 1, 1, 1, 0, 1, 1, 0, 0, 1, 0, 0, 1, 1, 1, 1, 0, 1, 1, 0, 0, 1, 0, 0,\n",
              "         0, 0, 0, 0, 0, 1, 0, 1, 1, 0, 0, 1, 1, 1, 0, 0, 1, 1, 0, 0, 0, 0, 1, 0,\n",
              "         0, 1, 1, 1, 0, 1, 0, 1, 1, 0, 0, 0, 0, 1, 1, 1, 0, 0, 0, 1, 0, 0, 1, 0,\n",
              "         0, 1, 0, 0, 1, 1, 1, 1, 1, 0, 1, 0, 0, 1, 0, 1, 0, 0, 1, 1, 1, 1, 1, 1,\n",
              "         0, 0, 1, 1, 0, 1, 0, 0, 1, 1, 0, 0, 1, 1, 0, 0, 1, 1, 1, 1, 0, 0, 0, 0,\n",
              "         0, 1, 0, 1, 1, 0]))"
            ]
          },
          "metadata": {},
          "execution_count": 21
        }
      ]
    },
    {
      "cell_type": "code",
      "metadata": {
        "id": "O4Z1wsGcpLPg",
        "colab": {
          "base_uri": "https://localhost:8080/"
        },
        "outputId": "24827505-1e66-4266-c6ab-1246fba50fa1"
      },
      "source": [
        "next(iter(valid_dl))"
      ],
      "execution_count": null,
      "outputs": [
        {
          "output_type": "execute_result",
          "data": {
            "text/plain": [
              "((tensor([[27,  9,  3,  ...,  5,  1,  4],\n",
              "          [10, 10,  7,  ...,  0,  1,  1],\n",
              "          [12,  1, 23,  ...,  5,  3,  4],\n",
              "          ...,\n",
              "          [ 3,  3, 18,  ...,  3,  3,  3],\n",
              "          [25,  6, 11,  ...,  3,  2,  4],\n",
              "          [24, 13, 14,  ...,  5,  3,  4]], dtype=torch.int32),\n",
              "  tensor([[1.0000e+00, 4.7712e-01, 0.0000e+00,  ..., 1.6128e+00, 1.0000e-01,\n",
              "           1.3979e+00],\n",
              "          [2.7000e+01, 6.0206e-01, 1.0000e+00,  ..., 8.4510e-01, 0.0000e+00,\n",
              "           9.5424e-01],\n",
              "          [8.4200e+02, 6.9897e-01, 8.4000e+01,  ..., 9.0309e-01, 0.0000e+00,\n",
              "           1.2304e+00],\n",
              "          ...,\n",
              "          [3.9000e+01, 3.0103e-01, 1.0000e+00,  ..., 4.7712e-01, 0.0000e+00,\n",
              "           8.4510e-01],\n",
              "          [0.0000e+00, 4.7712e-01, 0.0000e+00,  ..., 2.9096e+00, 6.5351e-02,\n",
              "           1.9191e+00],\n",
              "          [6.0000e+00, 4.7712e-01, 0.0000e+00,  ..., 2.9232e+00, 8.0048e-02,\n",
              "           1.3222e+00]]),\n",
              "  TensorText([[   2,  343,  138,  ...,    0,    0,    0],\n",
              "          [   2,  367, 2474,  ...,    0,    0,    0],\n",
              "          [   2,   28,    0,  ...,    0,    0,    0],\n",
              "          ...,\n",
              "          [   2, 6670,    0,  ...,    0,    0,    0],\n",
              "          [   2, 2314,  675,  ...,    0,    0,    0],\n",
              "          [   2,   47,  420,  ...,    0,    0,    0]]),\n",
              "  TensorText([[  2, 343,   0,  ...,   0,   0,   0],\n",
              "          [  2,  59, 367,  ...,   0,   0,   0],\n",
              "          [  2,  28, 107,  ...,   0,   0,   0],\n",
              "          ...,\n",
              "          [  2, 381,  17,  ...,   0,   0,   0],\n",
              "          [  2,  46, 185,  ...,   0,   0,   0],\n",
              "          [  2,  28, 103,  ...,   0,   0,   0]]),\n",
              "  TensorText([[   2, 3230, 3572,  ...,    0,    0,    0],\n",
              "          [   2,    0, 2474,  ...,    0,    0,    0],\n",
              "          [   2,    0,  324,  ...,    0,    0,    0],\n",
              "          ...,\n",
              "          [   2, 3521,  195,  ...,    0,    0,    0],\n",
              "          [   2, 1354, 1940,  ...,    0,    0,    0],\n",
              "          [   2,  380,  420,  ...,    0,    0,    0]])),\n",
              " tensor([0, 0, 0, 0, 1, 0, 1, 0, 1, 0, 1, 0, 1, 1, 0, 0, 0, 1, 0, 1, 0, 1, 1, 0,\n",
              "         1, 1, 0, 1, 1, 0, 1, 0, 0, 0, 1, 0, 0, 0, 1, 0, 0, 0, 1, 0, 1, 1, 0, 0,\n",
              "         1, 0, 0, 0, 1, 0, 0, 0, 1, 1, 0, 0, 1, 1, 1, 0, 1, 1, 0, 1, 1, 1, 1, 0,\n",
              "         1, 0, 1, 1, 0, 1, 1, 0, 1, 1, 1, 0, 1, 0, 1, 1, 0, 1, 1, 0, 1, 0, 1, 0,\n",
              "         1, 0, 0, 0, 0, 1, 1, 1, 0, 0, 0, 0, 0, 0, 1, 1, 0, 0, 0, 0, 1, 0, 1, 0,\n",
              "         0, 1, 0, 1, 1, 1, 0, 0, 1, 0, 1, 1, 0, 0, 1, 1, 0, 1, 1, 1, 1, 1, 0, 1,\n",
              "         0, 1, 0, 0, 0, 1]))"
            ]
          },
          "metadata": {},
          "execution_count": 22
        }
      ]
    },
    {
      "cell_type": "code",
      "metadata": {
        "id": "fo4iI_bhaCx1"
      },
      "source": [
        "class MixModel(nn.Module):\n",
        "    def __init__(self, embed_sz, n_cont, layers, awd_config, vocab_sz, lin_ftrs,joint_layers):\n",
        "        super(MixModel, self).__init__()\n",
        "\n",
        "        self.embed_sz  = embed_sz\n",
        "        self.n_cont = n_cont\n",
        "        self.layers = layers\n",
        "        self.awd_config = awd_config\n",
        "        self.joint_layers = joint_layers\n",
        "\n",
        "        self.tab_model = TabularModel(emb_szs=self.embed_sz, n_cont=n_cont, out_sz=2,layers=layers,)\n",
        "        self.tab_model.layers = self.tab_model.layers[:-1]\n",
        "\n",
        "        self.awd1 = get_text_classifier(AWD_LSTM,vocab_sz=vocab_sz, n_class=2, config=awd_config,lin_ftrs=lin_ftrs)\n",
        "        self.awd1[-1].layers = self.awd1[-1].layers[:-1]\n",
        "\n",
        "        self.awd2 = get_text_classifier(AWD_LSTM,vocab_sz=vocab_sz, n_class=2, config=awd_config,lin_ftrs=lin_ftrs)\n",
        "        self.awd2[-1].layers = self.awd2[-1].layers[:-1]\n",
        "\n",
        "        self.awd3 = get_text_classifier(AWD_LSTM,vocab_sz=vocab_sz, n_class=2, config=awd_config,lin_ftrs=lin_ftrs)\n",
        "        self.awd3[-1].layers = self.awd3[-1].layers[:-1]\n",
        "\n",
        "        self.joint_layers = [lin_ftrs[-1]*3 + layers[-1]] + joint_layers + [2]\n",
        "        linBins = []\n",
        "        for i in range(0,len(self.joint_layers)-1):\n",
        "            linBins.append(LinBnDrop(self.joint_layers[i],self.joint_layers[i+1]))\n",
        "\n",
        "        self.LinBins = nn.Sequential(*linBins)\n",
        "        self.Softmax = nn.Softmax(dim=1)\n",
        "\n",
        "    def forward(self, x):\n",
        "        xtab = self.tab_model(x[0],x[1])\n",
        "        xnlp1 = self.awd1(x[2])[0]\n",
        "        xnlp2 = self.awd2(x[3])[0]\n",
        "        xnlp3 = self.awd3(x[4])[0]\n",
        "\n",
        "        X = T.cat([xtab, xnlp1, xnlp2, xnlp3],dim=1)\n",
        "        X = self.LinBins(X)\n",
        "        return self.Softmax(X)\n",
        "\n",
        "    def reset(self):\n",
        "        self.awd1.reset()\n",
        "        self.awd2.reset()\n",
        "        self.awd3.reset()"
      ],
      "execution_count": null,
      "outputs": []
    },
    {
      "cell_type": "code",
      "metadata": {
        "colab": {
          "base_uri": "https://localhost:8080/"
        },
        "id": "qqEVRkXhgGIH",
        "outputId": "7c25520d-c89f-4626-9871-883b2c3f135e"
      },
      "source": [
        "for col in cat_cols:\n",
        "    print(col,\"-->\", df[col].nunique())"
      ],
      "execution_count": null,
      "outputs": [
        {
          "output_type": "stream",
          "text": [
            "products.DAY(first_added_date) --> 31\n",
            "products.DAY(last_added_date) --> 31\n",
            "products.HOUR(first_added_date) --> 24\n",
            "products.HOUR(last_added_date) --> 24\n",
            "products.IS_WEEKEND(first_added_date) --> 2\n",
            "products.IS_WEEKEND(last_added_date) --> 2\n",
            "products.MINUTE(first_added_date) --> 60\n",
            "products.MINUTE(last_added_date) --> 60\n",
            "products.MONTH(first_added_date) --> 12\n",
            "products.MONTH(last_added_date) --> 12\n",
            "products.WEEKDAY(first_added_date) --> 7\n",
            "products.WEEKDAY(last_added_date) --> 7\n",
            "products.YEAR(first_added_date) --> 5\n",
            "products.YEAR(last_added_date) --> 5\n"
          ],
          "name": "stdout"
        }
      ]
    },
    {
      "cell_type": "code",
      "metadata": {
        "colab": {
          "base_uri": "https://localhost:8080/"
        },
        "id": "Jd06jNxDhbHn",
        "outputId": "7ed32e7e-e3db-4448-d904-0d4cbd6ded7b"
      },
      "source": [
        "len(cont_cols)"
      ],
      "execution_count": null,
      "outputs": [
        {
          "output_type": "execute_result",
          "data": {
            "text/plain": [
              "18"
            ]
          },
          "metadata": {},
          "execution_count": 25
        }
      ]
    },
    {
      "cell_type": "code",
      "metadata": {
        "id": "kTwdJFeUgSim"
      },
      "source": [
        "emb_sz = [\n",
        "          (32, 20),\n",
        "          (32, 20),\n",
        "          (24, 20),\n",
        "          (24, 20),\n",
        "          (3, 10),\n",
        "          (3, 10),\n",
        "          (61, 30),\n",
        "          (61, 30),\n",
        "          (13, 10),\n",
        "          (13, 10),\n",
        "          (8, 10),\n",
        "          (8, 10),\n",
        "          (6, 20),\n",
        "          (6, 20)\n",
        "]"
      ],
      "execution_count": null,
      "outputs": []
    },
    {
      "cell_type": "code",
      "metadata": {
        "id": "BPUivAv-hsIL"
      },
      "source": [
        "awd_conf = {'bidir': True,\n",
        "            'emb_sz': 1000,\n",
        "            'embed_p': 0.05,\n",
        "            'hidden_p': 0.3,\n",
        "            'input_p': 0.4,\n",
        "            'n_hid': 1000,\n",
        "            'n_layers': 3,\n",
        "            'output_p': 0.4,\n",
        "            'pad_token': 1,\n",
        "            'weight_p': 0.5}"
      ],
      "execution_count": null,
      "outputs": []
    },
    {
      "cell_type": "code",
      "metadata": {
        "id": "0jSojc2nhG_J"
      },
      "source": [
        "mix_model = MixModel(embed_sz = emb_sz, n_cont= len(cont_cols), layers=[200], awd_config=awd_conf, vocab_sz=len(vocab[0]), lin_ftrs=[500],joint_layers=[500])"
      ],
      "execution_count": null,
      "outputs": []
    },
    {
      "cell_type": "code",
      "metadata": {
        "colab": {
          "base_uri": "https://localhost:8080/"
        },
        "id": "1KULwIkep_z4",
        "outputId": "6f303fc1-7dbc-4c85-fd97-a8269cd47542"
      },
      "source": [
        "state_dict = T.load(open(os.path.join(mix_model_path,\"models\",\"mix_model.pth\"),'rb'))\n",
        "mix_model.load_state_dict(state_dict)"
      ],
      "execution_count": null,
      "outputs": [
        {
          "output_type": "execute_result",
          "data": {
            "text/plain": [
              "<All keys matched successfully>"
            ]
          },
          "metadata": {},
          "execution_count": 30
        }
      ]
    },
    {
      "cell_type": "code",
      "metadata": {
        "id": "j2mpUZepiADd"
      },
      "source": [
        "mix_model"
      ],
      "execution_count": null,
      "outputs": []
    },
    {
      "cell_type": "code",
      "metadata": {
        "colab": {
          "base_uri": "https://localhost:8080/"
        },
        "id": "5hO7h9M2-bSp",
        "outputId": "6d39251f-448a-4eda-8b0a-1fe06e1b432b"
      },
      "source": [
        "sum(p.numel() for p in mix_model.parameters())"
      ],
      "execution_count": null,
      "outputs": [
        {
          "output_type": "execute_result",
          "data": {
            "text/plain": [
              "93584056"
            ]
          },
          "metadata": {},
          "execution_count": 32
        }
      ]
    },
    {
      "cell_type": "code",
      "metadata": {
        "id": "SZ7c6APDjYjI"
      },
      "source": [
        "a = next(iter(train_dl))"
      ],
      "execution_count": null,
      "outputs": []
    },
    {
      "cell_type": "code",
      "metadata": {
        "colab": {
          "base_uri": "https://localhost:8080/"
        },
        "id": "lVctQ6wTiS-i",
        "outputId": "8fb91b64-07a4-4d29-838d-688c44bea060"
      },
      "source": [
        "tab = mix_model.tab_model(a[0][0],a[0][1])\n",
        "nlp1 = mix_model.awd1(a[0][2])\n",
        "nlp2 = mix_model.awd2(a[0][3])\n",
        "nlp3 = mix_model.awd3(a[0][4])\n",
        "\n",
        "print(tab.shape, nlp1[0].shape, nlp2[0].shape, nlp3[0].shape)"
      ],
      "execution_count": null,
      "outputs": [
        {
          "output_type": "stream",
          "text": [
            "torch.Size([30, 200]) torch.Size([30, 500]) torch.Size([30, 500]) torch.Size([30, 500])\n"
          ],
          "name": "stdout"
        }
      ]
    },
    {
      "cell_type": "code",
      "metadata": {
        "colab": {
          "base_uri": "https://localhost:8080/"
        },
        "id": "UIomDvR-xEwV",
        "outputId": "5f0c706c-ead1-4cdf-f375-b244389b6dab"
      },
      "source": [
        "mix_model(a[0])"
      ],
      "execution_count": null,
      "outputs": [
        {
          "output_type": "execute_result",
          "data": {
            "text/plain": [
              "tensor([[0.7601, 0.2399],\n",
              "        [0.3067, 0.6933],\n",
              "        [0.4844, 0.5156],\n",
              "        [0.5187, 0.4813],\n",
              "        [0.5678, 0.4322],\n",
              "        [0.3312, 0.6688],\n",
              "        [0.4830, 0.5170],\n",
              "        [0.3881, 0.6119],\n",
              "        [0.3877, 0.6123],\n",
              "        [0.2758, 0.7242],\n",
              "        [0.3732, 0.6268],\n",
              "        [0.1953, 0.8047],\n",
              "        [0.2441, 0.7559],\n",
              "        [0.7051, 0.2949],\n",
              "        [0.4071, 0.5929],\n",
              "        [0.6885, 0.3115],\n",
              "        [0.3878, 0.6122],\n",
              "        [0.7209, 0.2791],\n",
              "        [0.4953, 0.5047],\n",
              "        [0.3952, 0.6048],\n",
              "        [0.3305, 0.6695],\n",
              "        [0.2922, 0.7078],\n",
              "        [0.2933, 0.7067],\n",
              "        [0.5104, 0.4896],\n",
              "        [0.4875, 0.5125],\n",
              "        [0.7499, 0.2501],\n",
              "        [0.8187, 0.1813],\n",
              "        [0.8454, 0.1546],\n",
              "        [0.8230, 0.1770],\n",
              "        [0.5975, 0.4025]], grad_fn=<SoftmaxBackward>)"
            ]
          },
          "metadata": {},
          "execution_count": 32
        }
      ]
    },
    {
      "cell_type": "code",
      "metadata": {
        "id": "K0tA9L0ozFcj"
      },
      "source": [
        "fast_mix_dl = DataLoaders(train_dl,valid_dl)"
      ],
      "execution_count": null,
      "outputs": []
    },
    {
      "cell_type": "code",
      "metadata": {
        "id": "mPMNXWQ5AkOO"
      },
      "source": [
        "loss_func = nn.CrossEntropyLoss()\n",
        "\n",
        "learn = Learner(fast_mix_dl,\n",
        "                mix_model,\n",
        "                loss_func = loss_func,\n",
        "                path = mix_model_path,\n",
        "                metrics=[accuracy,error_rate,Recall(),Precision(),F1Score()]).to_fp16()\n"
      ],
      "execution_count": null,
      "outputs": []
    },
    {
      "cell_type": "code",
      "metadata": {
        "colab": {
          "base_uri": "https://localhost:8080/"
        },
        "id": "hRXRVaRnAvgH",
        "outputId": "102b2624-7385-4ef9-a94c-97f6b127cfc0"
      },
      "source": [
        "grp = ShowGraphCallback\n",
        "svm = SaveModelCallback(at_end=False,every_epoch=False,reset_on_fit=False,monitor='f1_score',fname=\"mix_model\",)\n",
        "esc = EarlyStoppingCallback(patience=3)\n",
        "rlr = ReduceLROnPlateau(monitor=\"valid_loss\",patience=2,factor=10,)\n",
        "learn.add_cbs([grp,svm,esc,rlr,ModelResetter])\n",
        "learn.cbs"
      ],
      "execution_count": null,
      "outputs": [
        {
          "output_type": "execute_result",
          "data": {
            "text/plain": [
              "(#9) [TrainEvalCallback,Recorder,ProgressCallback,MixedPrecision,ShowGraphCallback,SaveModelCallback,EarlyStoppingCallback,ReduceLROnPlateau,ModelResetter]"
            ]
          },
          "metadata": {},
          "execution_count": 35
        }
      ]
    },
    {
      "cell_type": "code",
      "metadata": {
        "colab": {
          "base_uri": "https://localhost:8080/",
          "height": 301
        },
        "id": "tH73qikuA0kL",
        "outputId": "8469cb0e-2785-4070-f9dc-ad92f8210db2"
      },
      "source": [
        "learn.lr_find()"
      ],
      "execution_count": null,
      "outputs": [
        {
          "output_type": "display_data",
          "data": {
            "text/html": [
              ""
            ],
            "text/plain": [
              "<IPython.core.display.HTML object>"
            ]
          },
          "metadata": {}
        },
        {
          "output_type": "execute_result",
          "data": {
            "text/plain": [
              "SuggestedLRs(valley=0.010964781977236271)"
            ]
          },
          "metadata": {},
          "execution_count": 69
        },
        {
          "output_type": "display_data",
          "data": {
            "image/png": "[encoded data removed]",
            "text/plain": [
              "<Figure size 432x288 with 1 Axes>"
            ]
          },
          "metadata": {
            "needs_background": "light"
          }
        }
      ]
    },
    {
      "cell_type": "code",
      "metadata": {
        "colab": {
          "base_uri": "https://localhost:8080/",
          "height": 1000
        },
        "id": "xIqo40SLA2U9",
        "outputId": "70f95e4b-492c-41a2-ecef-7f7ea829a930"
      },
      "source": [
        "learn.fine_tune(10,1e-04,10)"
      ],
      "execution_count": null,
      "outputs": [
        {
          "output_type": "display_data",
          "data": {
            "text/html": [
              "<table border=\"1\" class=\"dataframe\">\n",
              "  <thead>\n",
              "    <tr style=\"text-align: left;\">\n",
              "      <th>epoch</th>\n",
              "      <th>train_loss</th>\n",
              "      <th>valid_loss</th>\n",
              "      <th>accuracy</th>\n",
              "      <th>error_rate</th>\n",
              "      <th>recall_score</th>\n",
              "      <th>precision_score</th>\n",
              "      <th>f1_score</th>\n",
              "      <th>time</th>\n",
              "    </tr>\n",
              "  </thead>\n",
              "  <tbody>\n",
              "    <tr>\n",
              "      <td>0</td>\n",
              "      <td>0.529531</td>\n",
              "      <td>0.519559</td>\n",
              "      <td>0.787141</td>\n",
              "      <td>0.212859</td>\n",
              "      <td>0.699080</td>\n",
              "      <td>0.826087</td>\n",
              "      <td>0.757295</td>\n",
              "      <td>03:09</td>\n",
              "    </tr>\n",
              "    <tr>\n",
              "      <td>1</td>\n",
              "      <td>0.518012</td>\n",
              "      <td>0.508882</td>\n",
              "      <td>0.799001</td>\n",
              "      <td>0.200999</td>\n",
              "      <td>0.741130</td>\n",
              "      <td>0.818578</td>\n",
              "      <td>0.777931</td>\n",
              "      <td>03:15</td>\n",
              "    </tr>\n",
              "    <tr>\n",
              "      <td>2</td>\n",
              "      <td>0.508473</td>\n",
              "      <td>0.503645</td>\n",
              "      <td>0.796504</td>\n",
              "      <td>0.203496</td>\n",
              "      <td>0.743758</td>\n",
              "      <td>0.812052</td>\n",
              "      <td>0.776406</td>\n",
              "      <td>03:17</td>\n",
              "    </tr>\n",
              "    <tr>\n",
              "      <td>3</td>\n",
              "      <td>0.488769</td>\n",
              "      <td>0.491422</td>\n",
              "      <td>0.817104</td>\n",
              "      <td>0.182896</td>\n",
              "      <td>0.745072</td>\n",
              "      <td>0.851351</td>\n",
              "      <td>0.794674</td>\n",
              "      <td>03:15</td>\n",
              "    </tr>\n",
              "    <tr>\n",
              "      <td>4</td>\n",
              "      <td>0.477839</td>\n",
              "      <td>0.480401</td>\n",
              "      <td>0.832085</td>\n",
              "      <td>0.167915</td>\n",
              "      <td>0.745072</td>\n",
              "      <td>0.883178</td>\n",
              "      <td>0.808268</td>\n",
              "      <td>03:14</td>\n",
              "    </tr>\n",
              "    <tr>\n",
              "      <td>5</td>\n",
              "      <td>0.467437</td>\n",
              "      <td>0.478027</td>\n",
              "      <td>0.831461</td>\n",
              "      <td>0.168539</td>\n",
              "      <td>0.726675</td>\n",
              "      <td>0.899187</td>\n",
              "      <td>0.803779</td>\n",
              "      <td>03:14</td>\n",
              "    </tr>\n",
              "    <tr>\n",
              "      <td>6</td>\n",
              "      <td>0.454248</td>\n",
              "      <td>0.465370</td>\n",
              "      <td>0.844569</td>\n",
              "      <td>0.155431</td>\n",
              "      <td>0.751643</td>\n",
              "      <td>0.905063</td>\n",
              "      <td>0.821249</td>\n",
              "      <td>03:13</td>\n",
              "    </tr>\n",
              "    <tr>\n",
              "      <td>7</td>\n",
              "      <td>0.444745</td>\n",
              "      <td>0.449540</td>\n",
              "      <td>0.857054</td>\n",
              "      <td>0.142946</td>\n",
              "      <td>0.789750</td>\n",
              "      <td>0.897015</td>\n",
              "      <td>0.839972</td>\n",
              "      <td>03:14</td>\n",
              "    </tr>\n",
              "    <tr>\n",
              "      <td>8</td>\n",
              "      <td>0.434894</td>\n",
              "      <td>0.438770</td>\n",
              "      <td>0.872035</td>\n",
              "      <td>0.127965</td>\n",
              "      <td>0.810775</td>\n",
              "      <td>0.910029</td>\n",
              "      <td>0.857540</td>\n",
              "      <td>03:15</td>\n",
              "    </tr>\n",
              "    <tr>\n",
              "      <td>9</td>\n",
              "      <td>0.432139</td>\n",
              "      <td>0.434121</td>\n",
              "      <td>0.878277</td>\n",
              "      <td>0.121723</td>\n",
              "      <td>0.830486</td>\n",
              "      <td>0.905444</td>\n",
              "      <td>0.866347</td>\n",
              "      <td>03:14</td>\n",
              "    </tr>\n",
              "  </tbody>\n",
              "</table>"
            ],
            "text/plain": [
              "<IPython.core.display.HTML object>"
            ]
          },
          "metadata": {}
        },
        {
          "output_type": "stream",
          "text": [
            "Better model found at epoch 0 with f1_score value: 0.7572953736654805.\n"
          ],
          "name": "stdout"
        },
        {
          "output_type": "display_data",
          "data": {
            "image/png": "[encoded data removed]",
            "text/plain": [
              "<Figure size 432x288 with 1 Axes>"
            ]
          },
          "metadata": {}
        },
        {
          "output_type": "stream",
          "text": [
            "Better model found at epoch 1 with f1_score value: 0.7779310344827587.\n",
            "Better model found at epoch 3 with f1_score value: 0.7946741415557113.\n",
            "Better model found at epoch 4 with f1_score value: 0.8082679971489666.\n",
            "Better model found at epoch 6 with f1_score value: 0.8212491026561378.\n",
            "Better model found at epoch 7 with f1_score value: 0.8399720475192174.\n",
            "Better model found at epoch 8 with f1_score value: 0.857539958304378.\n",
            "Better model found at epoch 9 with f1_score value: 0.866346812885538.\n"
          ],
          "name": "stdout"
        },
        {
          "output_type": "display_data",
          "data": {
            "text/html": [
              "<table border=\"1\" class=\"dataframe\">\n",
              "  <thead>\n",
              "    <tr style=\"text-align: left;\">\n",
              "      <th>epoch</th>\n",
              "      <th>train_loss</th>\n",
              "      <th>valid_loss</th>\n",
              "      <th>accuracy</th>\n",
              "      <th>error_rate</th>\n",
              "      <th>recall_score</th>\n",
              "      <th>precision_score</th>\n",
              "      <th>f1_score</th>\n",
              "      <th>time</th>\n",
              "    </tr>\n",
              "  </thead>\n",
              "  <tbody>\n",
              "    <tr>\n",
              "      <td>0</td>\n",
              "      <td>0.423304</td>\n",
              "      <td>0.434888</td>\n",
              "      <td>0.877653</td>\n",
              "      <td>0.122347</td>\n",
              "      <td>0.823916</td>\n",
              "      <td>0.910015</td>\n",
              "      <td>0.864828</td>\n",
              "      <td>03:11</td>\n",
              "    </tr>\n",
              "    <tr>\n",
              "      <td>1</td>\n",
              "      <td>0.424256</td>\n",
              "      <td>0.434753</td>\n",
              "      <td>0.876405</td>\n",
              "      <td>0.123595</td>\n",
              "      <td>0.817346</td>\n",
              "      <td>0.913363</td>\n",
              "      <td>0.862691</td>\n",
              "      <td>03:08</td>\n",
              "    </tr>\n",
              "    <tr>\n",
              "      <td>2</td>\n",
              "      <td>0.419584</td>\n",
              "      <td>0.431756</td>\n",
              "      <td>0.879526</td>\n",
              "      <td>0.120474</td>\n",
              "      <td>0.823916</td>\n",
              "      <td>0.913994</td>\n",
              "      <td>0.866621</td>\n",
              "      <td>03:07</td>\n",
              "    </tr>\n",
              "    <tr>\n",
              "      <td>3</td>\n",
              "      <td>0.417439</td>\n",
              "      <td>0.434840</td>\n",
              "      <td>0.876405</td>\n",
              "      <td>0.123595</td>\n",
              "      <td>0.816032</td>\n",
              "      <td>0.914580</td>\n",
              "      <td>0.862500</td>\n",
              "      <td>03:08</td>\n",
              "    </tr>\n",
              "    <tr>\n",
              "      <td>4</td>\n",
              "      <td>0.419822</td>\n",
              "      <td>0.433249</td>\n",
              "      <td>0.877653</td>\n",
              "      <td>0.122347</td>\n",
              "      <td>0.818660</td>\n",
              "      <td>0.914831</td>\n",
              "      <td>0.864078</td>\n",
              "      <td>03:08</td>\n",
              "    </tr>\n",
              "    <tr>\n",
              "      <td>5</td>\n",
              "      <td>0.418009</td>\n",
              "      <td>0.430538</td>\n",
              "      <td>0.882023</td>\n",
              "      <td>0.117978</td>\n",
              "      <td>0.827858</td>\n",
              "      <td>0.915698</td>\n",
              "      <td>0.869565</td>\n",
              "      <td>03:08</td>\n",
              "    </tr>\n",
              "    <tr>\n",
              "      <td>6</td>\n",
              "      <td>0.414277</td>\n",
              "      <td>0.430755</td>\n",
              "      <td>0.880150</td>\n",
              "      <td>0.119850</td>\n",
              "      <td>0.822602</td>\n",
              "      <td>0.916545</td>\n",
              "      <td>0.867036</td>\n",
              "      <td>03:08</td>\n",
              "    </tr>\n",
              "    <tr>\n",
              "      <td>7</td>\n",
              "      <td>0.413112</td>\n",
              "      <td>0.432779</td>\n",
              "      <td>0.878277</td>\n",
              "      <td>0.121723</td>\n",
              "      <td>0.819974</td>\n",
              "      <td>0.914956</td>\n",
              "      <td>0.864865</td>\n",
              "      <td>03:07</td>\n",
              "    </tr>\n",
              "    <tr>\n",
              "      <td>8</td>\n",
              "      <td>0.413503</td>\n",
              "      <td>0.433768</td>\n",
              "      <td>0.878277</td>\n",
              "      <td>0.121723</td>\n",
              "      <td>0.816032</td>\n",
              "      <td>0.918639</td>\n",
              "      <td>0.864301</td>\n",
              "      <td>03:09</td>\n",
              "    </tr>\n",
              "  </tbody>\n",
              "</table>"
            ],
            "text/plain": [
              "<IPython.core.display.HTML object>"
            ]
          },
          "metadata": {}
        },
        {
          "output_type": "display_data",
          "data": {
            "image/png": "[encoded data removed]",
            "text/plain": [
              "<Figure size 432x288 with 1 Axes>"
            ]
          },
          "metadata": {}
        },
        {
          "output_type": "stream",
          "text": [
            "Better model found at epoch 2 with f1_score value: 0.8666205943331029.\n",
            "Epoch 4: reducing lr to 4.065855285558782e-06\n",
            "Better model found at epoch 5 with f1_score value: 0.8695652173913043.\n",
            "Epoch 7: reducing lr to 9.484581765546326e-07\n",
            "No improvement since epoch 5: early stopping\n"
          ],
          "name": "stdout"
        }
      ]
    },
    {
      "cell_type": "code",
      "metadata": {
        "colab": {
          "base_uri": "https://localhost:8080/"
        },
        "id": "6sUA4jqquHob",
        "outputId": "5cd40798-7667-45ce-9d4e-4e5e968f8c09"
      },
      "source": [
        "stratified_df = pd.concat([df[df[\"is_clicked\"] == True].reset_index(drop=True)[0:30000],\n",
        "                           df[df[\"is_clicked\"] == False].reset_index(drop=True)[0:30000]]).reset_index(drop=True).sample(frac=1)\n",
        "\n",
        "stratified_df[\"is_valid\"] = False\n",
        "stratified_df[\"is_valid\"] = stratified_df[\"is_valid\"].apply(lambda x: True if random.random() < 0.08 else False)\n",
        "\n",
        "\n",
        "train_ds1 = MixDataSet(stratified_df[stratified_df[\"is_valid\"]==False],\n",
        "                      cat_cols,\n",
        "                      cont_cols,\n",
        "                      \"raw_query\",\n",
        "                      \"products.category_name\",\n",
        "                      \"products.product_name_normalized\",\n",
        "                      target_col_name=\"is_clicked\",\n",
        "                      vocab=vocab[0])\n",
        "\n",
        "valid_ds1 = MixDataSet(stratified_df[stratified_df[\"is_valid\"]==True],\n",
        "                      cat_cols,\n",
        "                      cont_cols,\n",
        "                      \"raw_query\",\n",
        "                      \"products.category_name\",\n",
        "                      \"products.product_name_normalized\",\n",
        "                      target_col_name=\"is_clicked\",\n",
        "                      vocab = vocab[0])\n",
        "\n",
        "train_dl1 = DataLoader(dataset=train_ds1, batch_size=200, shuffle=True, collate_fn=my_collate)\n",
        "valid_dl1 = DataLoader(dataset=valid_ds1, batch_size=200, shuffle=True, collate_fn=my_collate)\n",
        "\n",
        "\n",
        "fast_mix_dl1 = DataLoaders(train_dl1,valid_dl1)\n",
        "\n",
        "loss_func = nn.CrossEntropyLoss()\n",
        "\n",
        "learn = Learner(fast_mix_dl1,\n",
        "                mix_model,\n",
        "                loss_func = loss_func,\n",
        "                path = mix_model_path,\n",
        "                metrics=[accuracy,error_rate,Recall(),Precision(),F1Score()]).to_fp16()\n",
        "\n",
        "grp = ShowGraphCallback\n",
        "svm = SaveModelCallback(at_end=False,every_epoch=False,reset_on_fit=False,monitor='f1_score',fname=\"mix_model\",)\n",
        "esc = EarlyStoppingCallback(patience=3)\n",
        "rlr = ReduceLROnPlateau(monitor=\"valid_loss\",patience=2,factor=10,)\n",
        "learn.add_cbs([grp,svm,esc,rlr,ModelResetter])\n",
        "learn.cbs"
      ],
      "execution_count": null,
      "outputs": [
        {
          "output_type": "execute_result",
          "data": {
            "text/plain": [
              "(#9) [TrainEvalCallback,Recorder,ProgressCallback,MixedPrecision,ShowGraphCallback,SaveModelCallback,EarlyStoppingCallback,ReduceLROnPlateau,ModelResetter]"
            ]
          },
          "metadata": {},
          "execution_count": 39
        }
      ]
    },
    {
      "cell_type": "code",
      "metadata": {
        "id": "29ZWC8bmDdxR",
        "colab": {
          "base_uri": "https://localhost:8080/",
          "height": 1000
        },
        "outputId": "d7c56306-3819-48c3-eeea-66f0fe2b9764"
      },
      "source": [
        "learn.fine_tune(10,1e-04,10)"
      ],
      "execution_count": null,
      "outputs": [
        {
          "data": {
            "text/html": [
              "\n",
              "    <div>\n",
              "        <style>\n",
              "            /* Turns off some styling */\n",
              "            progress {\n",
              "                /* gets rid of default border in Firefox and Opera. */\n",
              "                border: none;\n",
              "                /* Needs to be in here for Safari polyfill so background images work as expected. */\n",
              "                background-size: auto;\n",
              "            }\n",
              "            .progress-bar-interrupted, .progress-bar-interrupted::-webkit-progress-bar {\n",
              "                background: #F44336;\n",
              "            }\n",
              "        </style>\n",
              "      <progress value='3' class='' max='10' style='width:300px; height:20px; vertical-align: middle;'></progress>\n",
              "      30.00% [3/10 31:47<1:14:10]\n",
              "    </div>\n",
              "    \n",
              "<table border=\"1\" class=\"dataframe\">\n",
              "  <thead>\n",
              "    <tr style=\"text-align: left;\">\n",
              "      <th>epoch</th>\n",
              "      <th>train_loss</th>\n",
              "      <th>valid_loss</th>\n",
              "      <th>accuracy</th>\n",
              "      <th>error_rate</th>\n",
              "      <th>recall_score</th>\n",
              "      <th>precision_score</th>\n",
              "      <th>f1_score</th>\n",
              "      <th>time</th>\n",
              "    </tr>\n",
              "  </thead>\n",
              "  <tbody>\n",
              "    <tr>\n",
              "      <td>0</td>\n",
              "      <td>0.514854</td>\n",
              "      <td>0.509429</td>\n",
              "      <td>0.794348</td>\n",
              "      <td>0.205652</td>\n",
              "      <td>0.836692</td>\n",
              "      <td>0.766244</td>\n",
              "      <td>0.799920</td>\n",
              "      <td>10:32</td>\n",
              "    </tr>\n",
              "    <tr>\n",
              "      <td>1</td>\n",
              "      <td>0.504958</td>\n",
              "      <td>0.488789</td>\n",
              "      <td>0.817863</td>\n",
              "      <td>0.182137</td>\n",
              "      <td>0.855584</td>\n",
              "      <td>0.790842</td>\n",
              "      <td>0.821940</td>\n",
              "      <td>10:36</td>\n",
              "    </tr>\n",
              "    <tr>\n",
              "      <td>2</td>\n",
              "      <td>0.486483</td>\n",
              "      <td>0.476250</td>\n",
              "      <td>0.830652</td>\n",
              "      <td>0.169348</td>\n",
              "      <td>0.850966</td>\n",
              "      <td>0.813077</td>\n",
              "      <td>0.831590</td>\n",
              "      <td>10:33</td>\n",
              "    </tr>\n",
              "  </tbody>\n",
              "</table><p>\n",
              "\n",
              "    <div>\n",
              "        <style>\n",
              "            /* Turns off some styling */\n",
              "            progress {\n",
              "                /* gets rid of default border in Firefox and Opera. */\n",
              "                border: none;\n",
              "                /* Needs to be in here for Safari polyfill so background images work as expected. */\n",
              "                background-size: auto;\n",
              "            }\n",
              "            .progress-bar-interrupted, .progress-bar-interrupted::-webkit-progress-bar {\n",
              "                background: #F44336;\n",
              "            }\n",
              "        </style>\n",
              "      <progress value='251' class='' max='276' style='width:300px; height:20px; vertical-align: middle;'></progress>\n",
              "      90.94% [251/276 09:09<00:54 0.4788]\n",
              "    </div>\n",
              "    "
            ],
            "text/plain": [
              "<IPython.core.display.HTML object>"
            ]
          },
          "metadata": {},
          "output_type": "display_data"
        },
        {
          "metadata": {
            "tags": null
          },
          "name": "stdout",
          "output_type": "stream",
          "text": [
            "Better model found at epoch 0 with f1_score value: 0.799919727072045.\n"
          ]
        },
        {
          "data": {
            "image/png": "[encoded data removed]",
            "text/plain": [
              "<Figure size 432x288 with 1 Axes>"
            ]
          },
          "metadata": {},
          "output_type": "display_data"
        },
        {
          "metadata": {
            "tags": null
          },
          "name": "stdout",
          "output_type": "stream",
          "text": [
            "Better model found at epoch 1 with f1_score value: 0.8219399072393628.\n",
            "Better model found at epoch 2 with f1_score value: 0.8315897435897436.\n"
          ]
        },
        {
          "output_type": "display_data",
          "data": {
            "text/html": [
              "<table border=\"1\" class=\"dataframe\">\n",
              "  <thead>\n",
              "    <tr style=\"text-align: left;\">\n",
              "      <th>epoch</th>\n",
              "      <th>train_loss</th>\n",
              "      <th>valid_loss</th>\n",
              "      <th>accuracy</th>\n",
              "      <th>error_rate</th>\n",
              "      <th>recall_score</th>\n",
              "      <th>precision_score</th>\n",
              "      <th>f1_score</th>\n",
              "      <th>time</th>\n",
              "    </tr>\n",
              "  </thead>\n",
              "  <tbody>\n",
              "    <tr>\n",
              "      <td>0</td>\n",
              "      <td>0.514854</td>\n",
              "      <td>0.509429</td>\n",
              "      <td>0.794348</td>\n",
              "      <td>0.205652</td>\n",
              "      <td>0.836692</td>\n",
              "      <td>0.766244</td>\n",
              "      <td>0.799920</td>\n",
              "      <td>10:32</td>\n",
              "    </tr>\n",
              "    <tr>\n",
              "      <td>1</td>\n",
              "      <td>0.504958</td>\n",
              "      <td>0.488789</td>\n",
              "      <td>0.817863</td>\n",
              "      <td>0.182137</td>\n",
              "      <td>0.855584</td>\n",
              "      <td>0.790842</td>\n",
              "      <td>0.821940</td>\n",
              "      <td>10:36</td>\n",
              "    </tr>\n",
              "    <tr>\n",
              "      <td>2</td>\n",
              "      <td>0.486483</td>\n",
              "      <td>0.476250</td>\n",
              "      <td>0.830652</td>\n",
              "      <td>0.169348</td>\n",
              "      <td>0.850966</td>\n",
              "      <td>0.813077</td>\n",
              "      <td>0.831590</td>\n",
              "      <td>10:33</td>\n",
              "    </tr>\n",
              "    <tr>\n",
              "      <td>3</td>\n",
              "      <td>0.482583</td>\n",
              "      <td>0.465288</td>\n",
              "      <td>0.845916</td>\n",
              "      <td>0.154084</td>\n",
              "      <td>0.879933</td>\n",
              "      <td>0.819711</td>\n",
              "      <td>0.848755</td>\n",
              "      <td>10:35</td>\n",
              "    </tr>\n",
              "    <tr>\n",
              "      <td>4</td>\n",
              "      <td>0.469866</td>\n",
              "      <td>0.457942</td>\n",
              "      <td>0.852104</td>\n",
              "      <td>0.147896</td>\n",
              "      <td>0.869857</td>\n",
              "      <td>0.835821</td>\n",
              "      <td>0.852499</td>\n",
              "      <td>10:44</td>\n",
              "    </tr>\n",
              "    <tr>\n",
              "      <td>5</td>\n",
              "      <td>0.461240</td>\n",
              "      <td>0.448700</td>\n",
              "      <td>0.862211</td>\n",
              "      <td>0.137789</td>\n",
              "      <td>0.866499</td>\n",
              "      <td>0.855012</td>\n",
              "      <td>0.860717</td>\n",
              "      <td>10:56</td>\n",
              "    </tr>\n",
              "    <tr>\n",
              "      <td>6</td>\n",
              "      <td>0.452145</td>\n",
              "      <td>0.441798</td>\n",
              "      <td>0.870668</td>\n",
              "      <td>0.129332</td>\n",
              "      <td>0.890008</td>\n",
              "      <td>0.853119</td>\n",
              "      <td>0.871173</td>\n",
              "      <td>10:56</td>\n",
              "    </tr>\n",
              "    <tr>\n",
              "      <td>7</td>\n",
              "      <td>0.446972</td>\n",
              "      <td>0.439227</td>\n",
              "      <td>0.872319</td>\n",
              "      <td>0.127682</td>\n",
              "      <td>0.869018</td>\n",
              "      <td>0.870846</td>\n",
              "      <td>0.869931</td>\n",
              "      <td>10:53</td>\n",
              "    </tr>\n",
              "    <tr>\n",
              "      <td>8</td>\n",
              "      <td>0.442604</td>\n",
              "      <td>0.436000</td>\n",
              "      <td>0.875619</td>\n",
              "      <td>0.124381</td>\n",
              "      <td>0.873216</td>\n",
              "      <td>0.873583</td>\n",
              "      <td>0.873399</td>\n",
              "      <td>10:45</td>\n",
              "    </tr>\n",
              "    <tr>\n",
              "      <td>9</td>\n",
              "      <td>0.436599</td>\n",
              "      <td>0.432439</td>\n",
              "      <td>0.878300</td>\n",
              "      <td>0.121700</td>\n",
              "      <td>0.871537</td>\n",
              "      <td>0.879661</td>\n",
              "      <td>0.875580</td>\n",
              "      <td>10:51</td>\n",
              "    </tr>\n",
              "  </tbody>\n",
              "</table>"
            ],
            "text/plain": [
              "<IPython.core.display.HTML object>"
            ]
          },
          "metadata": {}
        },
        {
          "output_type": "stream",
          "text": [
            "Better model found at epoch 3 with f1_score value: 0.8487548086657218.\n"
          ],
          "name": "stdout"
        },
        {
          "output_type": "display_data",
          "data": {
            "image/png": "[encoded data removed]",
            "text/plain": [
              "<Figure size 432x288 with 1 Axes>"
            ]
          },
          "metadata": {}
        },
        {
          "output_type": "stream",
          "text": [
            "Better model found at epoch 4 with f1_score value: 0.8524994857025302.\n",
            "Better model found at epoch 5 with f1_score value: 0.860717264386989.\n",
            "Better model found at epoch 6 with f1_score value: 0.8711732073145675.\n",
            "Better model found at epoch 8 with f1_score value: 0.8733991182028134.\n",
            "Better model found at epoch 9 with f1_score value: 0.8755799240826655.\n"
          ],
          "name": "stdout"
        },
        {
          "output_type": "display_data",
          "data": {
            "text/html": [
              "\n",
              "    <div>\n",
              "        <style>\n",
              "            /* Turns off some styling */\n",
              "            progress {\n",
              "                /* gets rid of default border in Firefox and Opera. */\n",
              "                border: none;\n",
              "                /* Needs to be in here for Safari polyfill so background images work as expected. */\n",
              "                background-size: auto;\n",
              "            }\n",
              "            .progress-bar-interrupted, .progress-bar-interrupted::-webkit-progress-bar {\n",
              "                background: #F44336;\n",
              "            }\n",
              "        </style>\n",
              "      <progress value='2' class='' max='10' style='width:300px; height:20px; vertical-align: middle;'></progress>\n",
              "      20.00% [2/10 21:47<1:27:09]\n",
              "    </div>\n",
              "    \n",
              "<table border=\"1\" class=\"dataframe\">\n",
              "  <thead>\n",
              "    <tr style=\"text-align: left;\">\n",
              "      <th>epoch</th>\n",
              "      <th>train_loss</th>\n",
              "      <th>valid_loss</th>\n",
              "      <th>accuracy</th>\n",
              "      <th>error_rate</th>\n",
              "      <th>recall_score</th>\n",
              "      <th>precision_score</th>\n",
              "      <th>f1_score</th>\n",
              "      <th>time</th>\n",
              "    </tr>\n",
              "  </thead>\n",
              "  <tbody>\n",
              "    <tr>\n",
              "      <td>0</td>\n",
              "      <td>0.428294</td>\n",
              "      <td>0.430306</td>\n",
              "      <td>0.881394</td>\n",
              "      <td>0.118606</td>\n",
              "      <td>0.873216</td>\n",
              "      <td>0.883978</td>\n",
              "      <td>0.878564</td>\n",
              "      <td>10:50</td>\n",
              "    </tr>\n",
              "    <tr>\n",
              "      <td>1</td>\n",
              "      <td>0.429551</td>\n",
              "      <td>0.429422</td>\n",
              "      <td>0.882426</td>\n",
              "      <td>0.117574</td>\n",
              "      <td>0.868598</td>\n",
              "      <td>0.889510</td>\n",
              "      <td>0.878929</td>\n",
              "      <td>10:53</td>\n",
              "    </tr>\n",
              "  </tbody>\n",
              "</table><p>\n",
              "\n",
              "    <div>\n",
              "        <style>\n",
              "            /* Turns off some styling */\n",
              "            progress {\n",
              "                /* gets rid of default border in Firefox and Opera. */\n",
              "                border: none;\n",
              "                /* Needs to be in here for Safari polyfill so background images work as expected. */\n",
              "                background-size: auto;\n",
              "            }\n",
              "            .progress-bar-interrupted, .progress-bar-interrupted::-webkit-progress-bar {\n",
              "                background: #F44336;\n",
              "            }\n",
              "        </style>\n",
              "      <progress value='10' class='' max='276' style='width:300px; height:20px; vertical-align: middle;'></progress>\n",
              "      3.62% [10/276 00:23<10:14 0.4274]\n",
              "    </div>\n",
              "    "
            ],
            "text/plain": [
              "<IPython.core.display.HTML object>"
            ]
          },
          "metadata": {}
        },
        {
          "output_type": "stream",
          "text": [
            "Better model found at epoch 0 with f1_score value: 0.8785638859556494.\n"
          ],
          "name": "stdout"
        },
        {
          "output_type": "display_data",
          "data": {
            "image/png": "[encoded data removed]",
            "text/plain": [
              "<Figure size 432x288 with 1 Axes>"
            ]
          },
          "metadata": {}
        },
        {
          "output_type": "stream",
          "text": [
            "Better model found at epoch 1 with f1_score value: 0.87892948173322.\n"
          ],
          "name": "stdout"
        }
      ]
    },
    {
      "cell_type": "code",
      "metadata": {
        "id": "Zv-r5gQo7rrH"
      },
      "source": [
        ""
      ],
      "execution_count": null,
      "outputs": []
    }
  ]
}